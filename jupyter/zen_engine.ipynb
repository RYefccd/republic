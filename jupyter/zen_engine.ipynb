{
 "cells": [
  {
   "cell_type": "code",
   "execution_count": 1,
   "id": "64cd3183-d160-4183-bf27-69af7d6d37cf",
   "metadata": {},
   "outputs": [
    {
     "name": "stdout",
     "output_type": "stream",
     "text": [
      "Collecting zen-engine\n",
      "  Downloading zen_engine-0.26.0-cp39-cp39-manylinux_2_28_x86_64.whl (3.1 MB)\n",
      "\u001b[2K     \u001b[90m━━━━━━━━━━━━━━━━━━━━━━━━━━━━━━━━━━━━━━━━\u001b[0m \u001b[32m3.1/3.1 MB\u001b[0m \u001b[31m74.0 kB/s\u001b[0m eta \u001b[36m0:00:00\u001b[0m00:01\u001b[0m00:02\u001b[0m\n",
      "\u001b[?25hInstalling collected packages: zen-engine\n",
      "Successfully installed zen-engine-0.26.0\n",
      "\u001b[33mWARNING: There was an error checking the latest version of pip.\u001b[0m\u001b[33m\n",
      "\u001b[0m"
     ]
    }
   ],
   "source": [
    "!pip install zen-engine\n"
   ]
  },
  {
   "cell_type": "code",
   "execution_count": 2,
   "id": "d799d97f-4b9b-4726-8286-998a53100bf9",
   "metadata": {},
   "outputs": [
    {
     "name": "stdout",
     "output_type": "stream",
     "text": [
      "Name: zen-engine\n",
      "Version: 0.26.0\n",
      "Summary: Open-Source Business Rules Engine\n",
      "Home-page: \n",
      "Author: \n",
      "Author-email: GoRules Team <hi@gorules.io>\n",
      "License: MIT\n",
      "Location: /opt/conda/lib/python3.9/site-packages\n",
      "Requires: \n",
      "Required-by: \n"
     ]
    }
   ],
   "source": [
    "!pip show zen-engine"
   ]
  },
  {
   "cell_type": "code",
   "execution_count": 8,
   "id": "6a29e580-fcb6-4e9d-878e-7f6a762a1b8b",
   "metadata": {},
   "outputs": [
    {
     "data": {
      "text/plain": [
       "['ZenDecision',\n",
       " 'ZenEngine',\n",
       " '__all__',\n",
       " '__builtins__',\n",
       " '__cached__',\n",
       " '__doc__',\n",
       " '__file__',\n",
       " '__loader__',\n",
       " '__name__',\n",
       " '__package__',\n",
       " '__path__',\n",
       " '__spec__',\n",
       " 'evaluate_expression',\n",
       " 'evaluate_unary_expression',\n",
       " 'render_template',\n",
       " 'zen']"
      ]
     },
     "execution_count": 8,
     "metadata": {},
     "output_type": "execute_result"
    }
   ],
   "source": [
    "import zen\n",
    "dir(zen)"
   ]
  },
  {
   "cell_type": "code",
   "execution_count": 7,
   "id": "cc6b2eb0-f335-4e48-8f99-79800b2cd9a0",
   "metadata": {},
   "outputs": [
    {
     "data": {
      "text/plain": [
       "'13'"
      ]
     },
     "execution_count": 7,
     "metadata": {},
     "output_type": "execute_result"
    }
   ],
   "source": []
  },
  {
   "cell_type": "markdown",
   "id": "ad68cd68-8f0d-40de-ab8e-f4b78bec23c4",
   "metadata": {},
   "source": [
    "## zen expression"
   ]
  },
  {
   "cell_type": "code",
   "execution_count": 45,
   "id": "1f46e78f-eb78-418e-85a6-a7da7c0bbcd0",
   "metadata": {},
   "outputs": [
    {
     "data": {
      "text/plain": [
       "30"
      ]
     },
     "execution_count": 45,
     "metadata": {},
     "output_type": "execute_result"
    }
   ],
   "source": [
    "zen.evaluate_expression(\"a+b\", { \"a\": 10, \"b\": 20 })"
   ]
  },
  {
   "cell_type": "code",
   "execution_count": 21,
   "id": "cc59314e-a0b6-46e8-a270-ef07449957fb",
   "metadata": {},
   "outputs": [
    {
     "data": {
      "text/plain": [
       "31"
      ]
     },
     "execution_count": 21,
     "metadata": {},
     "output_type": "execute_result"
    }
   ],
   "source": [
    "zen.evaluate_expression(\"a+b\", { \"a\": 10.0000001, \"b\": 20.9999999 })"
   ]
  },
  {
   "cell_type": "code",
   "execution_count": 22,
   "id": "2e80180a-927d-4b7c-b616-5d7fa6168deb",
   "metadata": {},
   "outputs": [
    {
     "data": {
      "text/plain": [
       "10"
      ]
     },
     "execution_count": 22,
     "metadata": {},
     "output_type": "execute_result"
    }
   ],
   "source": [
    "zen.evaluate_expression(\"sum(a)\", { \"a\": [1, 2, 3, 4] })"
   ]
  },
  {
   "cell_type": "code",
   "execution_count": 25,
   "id": "7daff70d-7d9c-4354-9da3-d2cbd1a44212",
   "metadata": {},
   "outputs": [
    {
     "data": {
      "text/plain": [
       "13"
      ]
     },
     "execution_count": 25,
     "metadata": {},
     "output_type": "execute_result"
    }
   ],
   "source": [
    "zen.evaluate_expression(\"3 + sum(a)\", { \"a\": [1, 2, 3, 4] })"
   ]
  },
  {
   "cell_type": "code",
   "execution_count": null,
   "id": "ca89d5d1-db3d-4446-8f81-768658d35b65",
   "metadata": {},
   "outputs": [],
   "source": []
  },
  {
   "cell_type": "markdown",
   "id": "abfb1f6b-37c1-4bc0-9e11-826ab12bf9da",
   "metadata": {},
   "source": [
    "## zen unary expression"
   ]
  },
  {
   "cell_type": "code",
   "execution_count": 18,
   "id": "5097b6ae-21ce-4119-b1da-deeca67bf31c",
   "metadata": {},
   "outputs": [
    {
     "data": {
      "text/plain": [
       "False"
      ]
     },
     "execution_count": 18,
     "metadata": {},
     "output_type": "execute_result"
    }
   ],
   "source": [
    "zen.evaluate_unary_expression(\"> 10\", { \"$\": 5 }) # false "
   ]
  },
  {
   "cell_type": "code",
   "execution_count": 19,
   "id": "b2d295bf-1aa5-4dd2-9d60-af6be40fa7e8",
   "metadata": {},
   "outputs": [
    {
     "data": {
      "text/plain": [
       "True"
      ]
     },
     "execution_count": 19,
     "metadata": {},
     "output_type": "execute_result"
    }
   ],
   "source": [
    "zen.evaluate_unary_expression(\"> 10\", { \"$\": 15 }) # true "
   ]
  },
  {
   "cell_type": "markdown",
   "id": "a53796c9-28f5-47b5-8e1a-cf4ac85c849f",
   "metadata": {},
   "source": [
    "## zen template"
   ]
  },
  {
   "cell_type": "code",
   "execution_count": 10,
   "id": "0d4eea66-c2ea-48ac-902e-5ec2034b66a6",
   "metadata": {},
   "outputs": [
    {
     "data": {
      "text/plain": [
       "30"
      ]
     },
     "execution_count": 10,
     "metadata": {},
     "output_type": "execute_result"
    }
   ],
   "source": [
    "zen.render_template(\"{{ a + b }}\", { \"a\": 10, \"b\": 20 })\n"
   ]
  },
  {
   "cell_type": "code",
   "execution_count": 11,
   "id": "dd1ae3a7-e538-4a80-86e2-4613a686ce80",
   "metadata": {},
   "outputs": [
    {
     "data": {
      "text/plain": [
       "'33330'"
      ]
     },
     "execution_count": 11,
     "metadata": {},
     "output_type": "execute_result"
    }
   ],
   "source": [
    "zen.render_template(\"333{{ a + b }}\", { \"a\": 10, \"b\": 20 })"
   ]
  },
  {
   "cell_type": "code",
   "execution_count": 13,
   "id": "2d7f0ef7-2caa-4dcd-b604-c4eb81b6485a",
   "metadata": {},
   "outputs": [
    {
     "data": {
      "text/plain": [
       "'30:333'"
      ]
     },
     "execution_count": 13,
     "metadata": {},
     "output_type": "execute_result"
    }
   ],
   "source": [
    "zen.render_template(\"{{ a + b }}:333\", { \"a\": 10, \"b\": 20 })"
   ]
  },
  {
   "cell_type": "code",
   "execution_count": 14,
   "id": "bf0934f6-20de-4baa-8e1c-b64dd82f6d91",
   "metadata": {},
   "outputs": [
    {
     "data": {
      "text/plain": [
       "'1020'"
      ]
     },
     "execution_count": 14,
     "metadata": {},
     "output_type": "execute_result"
    }
   ],
   "source": [
    "zen.render_template(\"   {{ a + b }}    \", { \"a\": \"10\", \"b\": \"20\" })"
   ]
  },
  {
   "cell_type": "code",
   "execution_count": 15,
   "id": "d44edb4a-cb28-4d40-bd24-31d12501263b",
   "metadata": {},
   "outputs": [
    {
     "data": {
      "text/plain": [
       "'a   9'"
      ]
     },
     "execution_count": 15,
     "metadata": {},
     "output_type": "execute_result"
    }
   ],
   "source": [
    "zen.render_template(\"   a   {{ 3 + 6 }}    \", { \"a\": 10, \"b\": 20 })"
   ]
  },
  {
   "cell_type": "code",
   "execution_count": 16,
   "id": "2fdd7af2-d5dd-4f2a-a1a0-04d8aa7e7f19",
   "metadata": {},
   "outputs": [
    {
     "data": {
      "text/plain": [
       "'a   30'"
      ]
     },
     "execution_count": 16,
     "metadata": {},
     "output_type": "execute_result"
    }
   ],
   "source": [
    "zen.render_template(\"   a   {{ a + b }}    \", { \"a\": 10, \"b\": 20 })"
   ]
  },
  {
   "cell_type": "code",
   "execution_count": 17,
   "id": "21c904bf-acd9-4fac-a3f0-da1428e5ddd8",
   "metadata": {},
   "outputs": [
    {
     "data": {
      "text/plain": [
       "30"
      ]
     },
     "execution_count": 17,
     "metadata": {},
     "output_type": "execute_result"
    }
   ],
   "source": []
  },
  {
   "cell_type": "markdown",
   "id": "d4239f65-a288-4ff7-9fd5-2a8e13018d99",
   "metadata": {
    "tags": []
   },
   "source": [
    "## zen-expression application\n",
    "### captcha_token dynamic key/values"
   ]
  },
  {
   "cell_type": "code",
   "execution_count": 26,
   "id": "f02c24b9-6894-4806-a8b0-b8605c0c8930",
   "metadata": {},
   "outputs": [
    {
     "data": {
      "text/plain": [
       "'13'"
      ]
     },
     "execution_count": 26,
     "metadata": {},
     "output_type": "execute_result"
    }
   ],
   "source": []
  },
  {
   "cell_type": "code",
   "execution_count": 28,
   "id": "be78897f-f950-4aa7-b4b0-90fbc1aadf7a",
   "metadata": {},
   "outputs": [],
   "source": [
    "import os\n"
   ]
  },
  {
   "cell_type": "code",
   "execution_count": 34,
   "id": "24a8f0c8-7376-41ab-885a-5e5ec64eaac2",
   "metadata": {},
   "outputs": [],
   "source": [
    "lot_number_=os.urandom(16)"
   ]
  },
  {
   "cell_type": "code",
   "execution_count": 35,
   "id": "38607ee1-ad0b-49e5-9f39-e48f857a727e",
   "metadata": {},
   "outputs": [
    {
     "data": {
      "text/plain": [
       "b' \\x92\\x1eA\\x01\\x8e\\x14*\\xc0[\\x04\\xbeq\\x87\\x92\\xc4'"
      ]
     },
     "execution_count": 35,
     "metadata": {},
     "output_type": "execute_result"
    }
   ],
   "source": [
    "lot_number_"
   ]
  },
  {
   "cell_type": "code",
   "execution_count": 36,
   "id": "ad13d11c-7427-44b3-88ce-02806d4260a9",
   "metadata": {},
   "outputs": [],
   "source": [
    "lot_number=lot_number_.hex()"
   ]
  },
  {
   "cell_type": "code",
   "execution_count": 37,
   "id": "cdb0341a-9ff9-4bd1-a951-bb3398cbb9ca",
   "metadata": {},
   "outputs": [
    {
     "data": {
      "text/plain": [
       "'20921e41018e142ac05b04be718792c4'"
      ]
     },
     "execution_count": 37,
     "metadata": {},
     "output_type": "execute_result"
    }
   ],
   "source": [
    "lot_number"
   ]
  },
  {
   "cell_type": "code",
   "execution_count": 38,
   "id": "648378a0-5a4d-41e1-ad95-1457ac6f3b95",
   "metadata": {},
   "outputs": [
    {
     "data": {
      "text/plain": [
       "['2',\n",
       " '0',\n",
       " '9',\n",
       " '2',\n",
       " '1',\n",
       " 'e',\n",
       " '4',\n",
       " '1',\n",
       " '0',\n",
       " '1',\n",
       " '8',\n",
       " 'e',\n",
       " '1',\n",
       " '4',\n",
       " '2',\n",
       " 'a',\n",
       " 'c',\n",
       " '0',\n",
       " '5',\n",
       " 'b',\n",
       " '0',\n",
       " '4',\n",
       " 'b',\n",
       " 'e',\n",
       " '7',\n",
       " '1',\n",
       " '8',\n",
       " '7',\n",
       " '9',\n",
       " '2',\n",
       " 'c',\n",
       " '4']"
      ]
     },
     "execution_count": 38,
     "metadata": {},
     "output_type": "execute_result"
    }
   ],
   "source": [
    "list(map(lambda x: x, lot_number))"
   ]
  },
  {
   "cell_type": "code",
   "execution_count": 39,
   "id": "061023c3-7afc-415b-b272-ed46312aa8e1",
   "metadata": {},
   "outputs": [
    {
     "data": {
      "text/plain": [
       "'29'"
      ]
     },
     "execution_count": 39,
     "metadata": {},
     "output_type": "execute_result"
    }
   ],
   "source": [
    "zen.evaluate_expression(\"seqs[0]+seqs[2]\", {\"ip\": \"1.2.3.4\", \"user\":\"u1\", \"seqs\":list(map(lambda x: x, lot_number))})"
   ]
  },
  {
   "cell_type": "code",
   "execution_count": 40,
   "id": "171c83ec-a89e-4042-88f0-a3a45f307666",
   "metadata": {},
   "outputs": [
    {
     "data": {
      "text/plain": [
       "'20921e41018e142ac05b04be718792c4'"
      ]
     },
     "execution_count": 40,
     "metadata": {},
     "output_type": "execute_result"
    }
   ],
   "source": [
    "lot_number"
   ]
  },
  {
   "cell_type": "code",
   "execution_count": 41,
   "id": "01f526a6-128d-456a-80c2-d68dc803df39",
   "metadata": {},
   "outputs": [],
   "source": [
    "def gen_and_check_ct(expr, args):\n",
    "    v = zen.evaluate_expression(expr, args)\n",
    "    return v"
   ]
  },
  {
   "cell_type": "code",
   "execution_count": 42,
   "id": "23443f9f-fbd9-4557-89bd-8a84e806c972",
   "metadata": {},
   "outputs": [],
   "source": [
    "args={\"ip\": \"1.2.3.4\", \"user\":\"u1\", \"seqs\":list(map(lambda x: x, lot_number))}"
   ]
  },
  {
   "cell_type": "code",
   "execution_count": 43,
   "id": "15f9f8ee-4017-4aa2-ac8f-d28d8ade9e28",
   "metadata": {},
   "outputs": [
    {
     "data": {
      "text/plain": [
       "{'ip': '1.2.3.4',\n",
       " 'user': 'u1',\n",
       " 'seqs': ['2',\n",
       "  '0',\n",
       "  '9',\n",
       "  '2',\n",
       "  '1',\n",
       "  'e',\n",
       "  '4',\n",
       "  '1',\n",
       "  '0',\n",
       "  '1',\n",
       "  '8',\n",
       "  'e',\n",
       "  '1',\n",
       "  '4',\n",
       "  '2',\n",
       "  'a',\n",
       "  'c',\n",
       "  '0',\n",
       "  '5',\n",
       "  'b',\n",
       "  '0',\n",
       "  '4',\n",
       "  'b',\n",
       "  'e',\n",
       "  '7',\n",
       "  '1',\n",
       "  '8',\n",
       "  '7',\n",
       "  '9',\n",
       "  '2',\n",
       "  'c',\n",
       "  '4']}"
      ]
     },
     "execution_count": 43,
     "metadata": {},
     "output_type": "execute_result"
    }
   ],
   "source": [
    "args"
   ]
  },
  {
   "cell_type": "code",
   "execution_count": 44,
   "id": "0712606f-bdfe-433d-a0fb-19149830248f",
   "metadata": {},
   "outputs": [
    {
     "data": {
      "text/plain": [
       "'29'"
      ]
     },
     "execution_count": 44,
     "metadata": {},
     "output_type": "execute_result"
    }
   ],
   "source": [
    "gen_and_check_ct(\"seqs[0]+seqs[2]\",args)"
   ]
  },
  {
   "cell_type": "code",
   "execution_count": null,
   "id": "56249972-998a-4bd0-8088-3711596e9b86",
   "metadata": {},
   "outputs": [],
   "source": []
  },
  {
   "cell_type": "markdown",
   "id": "3608ca27-f76f-49e6-b9e6-dc2cc7a07c9e",
   "metadata": {},
   "source": [
    "### 手机环境检测"
   ]
  },
  {
   "cell_type": "code",
   "execution_count": null,
   "id": "8767dd47-1f0f-4f7f-95ca-eff6348c24e7",
   "metadata": {},
   "outputs": [],
   "source": [
    "{      \n",
    "    \"ip\": {\n",
    "        \"wlan0/ipv6\": \"2409:8a55:201c:e520:682f:67df:6fb3:121e\",\n",
    "        \"rmnet_data3/ipv6\": \"240e:47e:2020:32e:565e:dc00:fb2:9099\",\n",
    "        \"rmnet_data1/ipv6\": \"240e:57c:20d0:e6d:70a6:185f:c758:31c5\",\n",
    "        \"rmnet_data0/ipv6\": \"fe80::db30:ffbb:dc53:ce19\",\n",
    "        \"wlan0\": \"192.168.1.5\",\n",
    "        \"rmnet_data3\": \"10.2.28.48\"\n",
    "      }\n",
    "      \n",
    "      }\n",
    "a=_\n",
    "dddd=a\n",
    "zen.evaluate_expression(\"'ip'\", {\"ip\": list(dddd[\"ip\"].items())})\n",
    "%hist?\n",
    "%hist\n",
    "zen.evaluate_expression(\"ip\", {\"ip\": list(dddd[\"ip\"].items())})\n",
    "1"
   ]
  },
  {
   "cell_type": "code",
   "execution_count": 49,
   "id": "d7c42838-d8e1-4538-a7b0-4865202b7f5a",
   "metadata": {},
   "outputs": [],
   "source": [
    "env_ips = {'ip': \n",
    "           {\n",
    "            'wlan0/ipv6': '2409:8a55:201c:e520:682f:67df:6fb3:121e',\n",
    "            'rmnet_data3/ipv6': '240e:47e:2020:32e:565e:dc00:fb2:9099',\n",
    "            'rmnet_data1/ipv6': '240e:57c:20d0:e6d:70a6:185f:c758:31c5',\n",
    "            'rmnet_data0/ipv6': 'fe80::db30:ffbb:dc53:ce19',\n",
    "            'wlan0': '192.168.1.5',\n",
    "            'rmnet_data3': '10.2.28.48'}}"
   ]
  },
  {
   "cell_type": "code",
   "execution_count": 47,
   "id": "73c6855a-a8b4-4797-a251-e915dfd29e2c",
   "metadata": {},
   "outputs": [
    {
     "data": {
      "text/plain": [
       "{'ip': {'wlan0/ipv6': '2409:8a55:201c:e520:682f:67df:6fb3:121e',\n",
       "  'rmnet_data3/ipv6': '240e:47e:2020:32e:565e:dc00:fb2:9099',\n",
       "  'rmnet_data1/ipv6': '240e:57c:20d0:e6d:70a6:185f:c758:31c5',\n",
       "  'rmnet_data0/ipv6': 'fe80::db30:ffbb:dc53:ce19',\n",
       "  'wlan0': '192.168.1.5',\n",
       "  'rmnet_data3': '10.2.28.48'}}"
      ]
     },
     "execution_count": 47,
     "metadata": {},
     "output_type": "execute_result"
    }
   ],
   "source": [
    "env_ips"
   ]
  },
  {
   "cell_type": "code",
   "execution_count": 55,
   "id": "9954302f-b34a-498b-98e1-5de8bfc0c96f",
   "metadata": {},
   "outputs": [
    {
     "ename": "RuntimeError",
     "evalue": "{\"type\":\"vmError\",\"source\":\"Unsupported opcode type\"}",
     "output_type": "error",
     "traceback": [
      "\u001b[0;31m---------------------------------------------------------------------------\u001b[0m",
      "\u001b[0;31mRuntimeError\u001b[0m                              Traceback (most recent call last)",
      "Input \u001b[0;32mIn [55]\u001b[0m, in \u001b[0;36m<cell line: 1>\u001b[0;34m()\u001b[0m\n\u001b[0;32m----> 1\u001b[0m \u001b[43mzen\u001b[49m\u001b[38;5;241;43m.\u001b[39;49m\u001b[43mevaluate_expression\u001b[49m\u001b[43m(\u001b[49m\u001b[38;5;124;43m\"\u001b[39;49m\u001b[38;5;124;43mflatten(ip)\u001b[39;49m\u001b[38;5;124;43m\"\u001b[39;49m\u001b[43m,\u001b[49m\u001b[43m \u001b[49m\u001b[43menv_ips\u001b[49m\u001b[43m)\u001b[49m\n",
      "\u001b[0;31mRuntimeError\u001b[0m: {\"type\":\"vmError\",\"source\":\"Unsupported opcode type\"}"
     ]
    }
   ],
   "source": [
    "zen.evaluate_expression(\"flatten(ip)\", env_ips)"
   ]
  },
  {
   "cell_type": "code",
   "execution_count": 51,
   "id": "7ad8619f-486b-4706-b170-f7a1573ec9dc",
   "metadata": {},
   "outputs": [
    {
     "data": {
      "text/plain": [
       "[['wlan0/ipv6', '2409:8a55:201c:e520:682f:67df:6fb3:121e'],\n",
       " ['rmnet_data3/ipv6', '240e:47e:2020:32e:565e:dc00:fb2:9099'],\n",
       " ['rmnet_data1/ipv6', '240e:57c:20d0:e6d:70a6:185f:c758:31c5'],\n",
       " ['rmnet_data0/ipv6', 'fe80::db30:ffbb:dc53:ce19'],\n",
       " ['wlan0', '192.168.1.5'],\n",
       " ['rmnet_data3', '10.2.28.48']]"
      ]
     },
     "execution_count": 51,
     "metadata": {},
     "output_type": "execute_result"
    }
   ],
   "source": [
    "zen.evaluate_expression(\"ip\", {\"ip\": list(env_ips[\"ip\"].items())})"
   ]
  },
  {
   "cell_type": "code",
   "execution_count": null,
   "id": "9335169a-4574-46cb-84d7-99504addb868",
   "metadata": {},
   "outputs": [],
   "source": []
  },
  {
   "cell_type": "code",
   "execution_count": 52,
   "id": "34d87c42-b297-4ede-91a7-ff82e2b3808f",
   "metadata": {},
   "outputs": [
    {
     "data": {
      "text/plain": [
       "['wlan0/ipv6',\n",
       " '2409:8a55:201c:e520:682f:67df:6fb3:121e',\n",
       " 'rmnet_data3/ipv6',\n",
       " '240e:47e:2020:32e:565e:dc00:fb2:9099',\n",
       " 'rmnet_data1/ipv6',\n",
       " '240e:57c:20d0:e6d:70a6:185f:c758:31c5',\n",
       " 'rmnet_data0/ipv6',\n",
       " 'fe80::db30:ffbb:dc53:ce19',\n",
       " 'wlan0',\n",
       " '192.168.1.5',\n",
       " 'rmnet_data3',\n",
       " '10.2.28.48']"
      ]
     },
     "execution_count": 52,
     "metadata": {},
     "output_type": "execute_result"
    }
   ],
   "source": [
    "zen.evaluate_expression(\"flatten(ip)\", {\"ip\": list(env_ips[\"ip\"].items())})"
   ]
  },
  {
   "cell_type": "code",
   "execution_count": 54,
   "id": "b3193669-9617-41ab-a0a8-1ba97027b6ed",
   "metadata": {},
   "outputs": [
    {
     "ename": "RuntimeError",
     "evalue": "{\"type\":\"vmError\",\"source\":\"Unsupported opcode type\"}",
     "output_type": "error",
     "traceback": [
      "\u001b[0;31m---------------------------------------------------------------------------\u001b[0m",
      "\u001b[0;31mRuntimeError\u001b[0m                              Traceback (most recent call last)",
      "Input \u001b[0;32mIn [54]\u001b[0m, in \u001b[0;36m<cell line: 1>\u001b[0;34m()\u001b[0m\n\u001b[0;32m----> 1\u001b[0m \u001b[43mzen\u001b[49m\u001b[38;5;241;43m.\u001b[39;49m\u001b[43mevaluate_expression\u001b[49m\u001b[43m(\u001b[49m\u001b[38;5;124;43m\"\u001b[39;49m\u001b[38;5;124;43mflatten(ip)\u001b[39;49m\u001b[38;5;124;43m\"\u001b[39;49m\u001b[43m,\u001b[49m\u001b[43m \u001b[49m\u001b[43menv_ips\u001b[49m\u001b[43m)\u001b[49m\n",
      "\u001b[0;31mRuntimeError\u001b[0m: {\"type\":\"vmError\",\"source\":\"Unsupported opcode type\"}"
     ]
    }
   ],
   "source": [
    "zen.evaluate_expression(\"flatten(ip)\", env_ips)"
   ]
  },
  {
   "cell_type": "code",
   "execution_count": null,
   "id": "77bf92e2-4cfc-4d8e-b11f-b73ca56ee98e",
   "metadata": {},
   "outputs": [],
   "source": []
  }
 ],
 "metadata": {
  "kernelspec": {
   "display_name": "Python 3 (ipykernel)",
   "language": "python",
   "name": "python3"
  },
  "language_info": {
   "codemirror_mode": {
    "name": "ipython",
    "version": 3
   },
   "file_extension": ".py",
   "mimetype": "text/x-python",
   "name": "python",
   "nbconvert_exporter": "python",
   "pygments_lexer": "ipython3",
   "version": "3.9.12"
  }
 },
 "nbformat": 4,
 "nbformat_minor": 5
}
