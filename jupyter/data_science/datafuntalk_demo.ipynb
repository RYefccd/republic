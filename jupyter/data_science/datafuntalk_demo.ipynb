{
 "cells": [
  {
   "cell_type": "code",
   "execution_count": 75,
   "id": "15d396e0-a8ae-4bcb-b3c1-95cf59fc652d",
   "metadata": {},
   "outputs": [],
   "source": [
    "import requests\n",
    "import time"
   ]
  },
  {
   "cell_type": "code",
   "execution_count": 76,
   "id": "67402def-4155-4544-b92c-eb7ce573aa1c",
   "metadata": {},
   "outputs": [],
   "source": [
    "import itertools"
   ]
  },
  {
   "cell_type": "markdown",
   "id": "ba86dee1-af11-47b3-87e6-a2bb865c5400",
   "metadata": {},
   "source": [
    "# group_distinct"
   ]
  },
  {
   "cell_type": "code",
   "execution_count": 77,
   "id": "5e973932-9940-4c00-8e90-7bd6daf61daf",
   "metadata": {},
   "outputs": [],
   "source": [
    "ips = [\"192.168.0.34\", \"192.168.0.56\"]"
   ]
  },
  {
   "cell_type": "code",
   "execution_count": 78,
   "id": "a475b886-5570-4122-b4f5-b9bca19c6661",
   "metadata": {},
   "outputs": [],
   "source": [
    "phones = [\"13478646759\", \"15298411056\",\"17706523791\"]"
   ]
  },
  {
   "cell_type": "code",
   "execution_count": 79,
   "id": "7db37d7a-46a6-42cc-9250-7f765bcf656c",
   "metadata": {},
   "outputs": [],
   "source": [
    "register_records = [r for r in itertools.product(ips, phones)]"
   ]
  },
  {
   "cell_type": "code",
   "execution_count": 80,
   "id": "a9a1e007-262a-4c58-a1c0-a89f3113daa5",
   "metadata": {},
   "outputs": [
    {
     "data": {
      "text/plain": [
       "[('192.168.0.34', '13478646759'),\n",
       " ('192.168.0.34', '15298411056'),\n",
       " ('192.168.0.34', '17706523791'),\n",
       " ('192.168.0.56', '13478646759'),\n",
       " ('192.168.0.56', '15298411056'),\n",
       " ('192.168.0.56', '17706523791')]"
      ]
     },
     "execution_count": 80,
     "metadata": {},
     "output_type": "execute_result"
    }
   ],
   "source": [
    "register_records"
   ]
  },
  {
   "cell_type": "code",
   "execution_count": 81,
   "id": "a51f8989-d972-4e07-b15f-9592cb5679cf",
   "metadata": {},
   "outputs": [],
   "source": [
    "import random"
   ]
  },
  {
   "cell_type": "code",
   "execution_count": 82,
   "id": "55ea68eb-62fe-421a-a3f5-b17421320057",
   "metadata": {},
   "outputs": [
    {
     "data": {
      "text/plain": [
       "('192.168.0.34', '13478646759')"
      ]
     },
     "execution_count": 82,
     "metadata": {},
     "output_type": "execute_result"
    }
   ],
   "source": [
    "random.choice(register_records)"
   ]
  },
  {
   "cell_type": "code",
   "execution_count": 83,
   "id": "25e8ef64-618d-4f52-8aa9-a88901974dad",
   "metadata": {},
   "outputs": [
    {
     "data": {
      "text/plain": [
       "0.268020783997564"
      ]
     },
     "execution_count": 83,
     "metadata": {},
     "output_type": "execute_result"
    }
   ],
   "source": [
    "random.random()"
   ]
  },
  {
   "cell_type": "code",
   "execution_count": 84,
   "id": "a66cd42d-3bcb-4ad4-a63e-70a138ab0649",
   "metadata": {},
   "outputs": [
    {
     "data": {
      "text/plain": [
       "{'group': '192.168.0.56', 'v': '13478646759'}"
      ]
     },
     "execution_count": 84,
     "metadata": {},
     "output_type": "execute_result"
    }
   ],
   "source": [
    "dict(zip([\"group\", \"v\"], random.choice(register_records)))"
   ]
  },
  {
   "cell_type": "code",
   "execution_count": 85,
   "id": "83717fd5-ac2e-4061-a767-4d3786f32480",
   "metadata": {},
   "outputs": [],
   "source": [
    "results = []\n",
    "url = \"http://150.158.144.155:88/group_distinct_1m\"\n",
    "for i in range(20):\n",
    "    data = dict(zip([\"group\", \"v\"], random.choice(register_records)))\n",
    "    r = requests.post(url, params = data)\n",
    "    res = r.json()\n",
    "    # print(res)\n",
    "    results.append(res)\n",
    "    time.sleep(random.random() * 5)"
   ]
  },
  {
   "cell_type": "code",
   "execution_count": 86,
   "id": "31e690b1-b8b3-43e7-b3d3-40e23cde1175",
   "metadata": {},
   "outputs": [
    {
     "data": {
      "text/plain": [
       "[('gpv', 1),\n",
       " ('pv', 1),\n",
       " ('uv', 1),\n",
       " ('gidle', 0),\n",
       " ('vidle', 0),\n",
       " ('group', '192.168.0.34'),\n",
       " ('v', '15298411056'),\n",
       " ('ttl', 0),\n",
       " ('date', '2024-12-16T05:02:56+0000'),\n",
       " ('timestamp', '1734325376'),\n",
       " ('ip', '119.147.71.133'),\n",
       " ('port', 38296)]"
      ]
     },
     "execution_count": 86,
     "metadata": {},
     "output_type": "execute_result"
    }
   ],
   "source": [
    "[(k,v) for k,v in results[0].items()]"
   ]
  },
  {
   "cell_type": "code",
   "execution_count": 87,
   "id": "addb2a93-92ab-43fe-bd5d-168e91eb2c51",
   "metadata": {},
   "outputs": [
    {
     "data": {
      "text/plain": [
       "dict_keys(['gpv', 'pv', 'uv', 'gidle', 'vidle', 'group', 'v', 'ttl', 'date', 'timestamp', 'ip', 'port'])"
      ]
     },
     "execution_count": 87,
     "metadata": {},
     "output_type": "execute_result"
    }
   ],
   "source": [
    "results[0].keys()"
   ]
  },
  {
   "cell_type": "code",
   "execution_count": 88,
   "id": "98887557-e94e-4875-bb3f-9662088fe4ed",
   "metadata": {},
   "outputs": [
    {
     "data": {
      "text/plain": [
       "dict_values([1, 1, 1, 0, 0, '192.168.0.34', '15298411056', 0, '2024-12-16T05:02:56+0000', '1734325376', '119.147.71.133', 38296])"
      ]
     },
     "execution_count": 88,
     "metadata": {},
     "output_type": "execute_result"
    }
   ],
   "source": [
    "results[0].values()"
   ]
  },
  {
   "cell_type": "code",
   "execution_count": null,
   "id": "694e615a-ce34-4e29-b52b-e51a875fd474",
   "metadata": {},
   "outputs": [],
   "source": [
    "[d.items() for d in results]"
   ]
  },
  {
   "cell_type": "code",
   "execution_count": 90,
   "id": "f9e20ac7-4110-41f3-ac69-4d00a3159467",
   "metadata": {},
   "outputs": [],
   "source": [
    "from prettytable import PrettyTable\n",
    "table = PrettyTable()"
   ]
  },
  {
   "cell_type": "code",
   "execution_count": 91,
   "id": "8c07df0b-2f50-4544-b3ab-0c0ba5e845e5",
   "metadata": {},
   "outputs": [],
   "source": [
    "table.field_names = results[0].keys()\n",
    "table.add_rows([d.values() for d in results])"
   ]
  },
  {
   "cell_type": "code",
   "execution_count": 92,
   "id": "1602c145-6624-4052-b4f3-122a79c80db7",
   "metadata": {},
   "outputs": [],
   "source": [
    "from IPython.display import display,HTML"
   ]
  },
  {
   "cell_type": "code",
   "execution_count": 93,
   "id": "4194a846-2810-43b4-9d25-a62a727c079f",
   "metadata": {},
   "outputs": [
    {
     "data": {
      "text/html": [
       "<table>\n",
       "    <thead>\n",
       "        <tr>\n",
       "            <th>gpv</th>\n",
       "            <th>pv</th>\n",
       "            <th>uv</th>\n",
       "            <th>gidle</th>\n",
       "            <th>vidle</th>\n",
       "            <th>group</th>\n",
       "            <th>v</th>\n",
       "            <th>ttl</th>\n",
       "            <th>date</th>\n",
       "            <th>timestamp</th>\n",
       "            <th>ip</th>\n",
       "            <th>port</th>\n",
       "        </tr>\n",
       "    </thead>\n",
       "    <tbody>\n",
       "        <tr>\n",
       "            <td>1</td>\n",
       "            <td>1</td>\n",
       "            <td>1</td>\n",
       "            <td>0</td>\n",
       "            <td>0</td>\n",
       "            <td>192.168.0.34</td>\n",
       "            <td>15298411056</td>\n",
       "            <td>0</td>\n",
       "            <td>2024-12-16T05:02:56+0000</td>\n",
       "            <td>1734325376</td>\n",
       "            <td>119.147.71.133</td>\n",
       "            <td>38296</td>\n",
       "        </tr>\n",
       "        <tr>\n",
       "            <td>1</td>\n",
       "            <td>1</td>\n",
       "            <td>1</td>\n",
       "            <td>0</td>\n",
       "            <td>0</td>\n",
       "            <td>192.168.0.56</td>\n",
       "            <td>17706523791</td>\n",
       "            <td>0</td>\n",
       "            <td>2024-12-16T05:02:59+0000</td>\n",
       "            <td>1734325379</td>\n",
       "            <td>119.147.71.133</td>\n",
       "            <td>39100</td>\n",
       "        </tr>\n",
       "        <tr>\n",
       "            <td>2</td>\n",
       "            <td>2</td>\n",
       "            <td>1</td>\n",
       "            <td>258</td>\n",
       "            <td>258</td>\n",
       "            <td>192.168.0.56</td>\n",
       "            <td>17706523791</td>\n",
       "            <td>59742</td>\n",
       "            <td>2024-12-16T05:02:59+0000</td>\n",
       "            <td>1734325379</td>\n",
       "            <td>119.147.71.133</td>\n",
       "            <td>39168</td>\n",
       "        </tr>\n",
       "        <tr>\n",
       "            <td>3</td>\n",
       "            <td>1</td>\n",
       "            <td>2</td>\n",
       "            <td>3891</td>\n",
       "            <td>0</td>\n",
       "            <td>192.168.0.56</td>\n",
       "            <td>15298411056</td>\n",
       "            <td>56109</td>\n",
       "            <td>2024-12-16T05:03:03+0000</td>\n",
       "            <td>1734325383</td>\n",
       "            <td>119.147.71.133</td>\n",
       "            <td>40178</td>\n",
       "        </tr>\n",
       "        <tr>\n",
       "            <td>4</td>\n",
       "            <td>2</td>\n",
       "            <td>2</td>\n",
       "            <td>3620</td>\n",
       "            <td>3620</td>\n",
       "            <td>192.168.0.56</td>\n",
       "            <td>15298411056</td>\n",
       "            <td>56380</td>\n",
       "            <td>2024-12-16T05:03:07+0000</td>\n",
       "            <td>1734325387</td>\n",
       "            <td>119.147.71.133</td>\n",
       "            <td>41120</td>\n",
       "        </tr>\n",
       "        <tr>\n",
       "            <td>2</td>\n",
       "            <td>1</td>\n",
       "            <td>2</td>\n",
       "            <td>12013</td>\n",
       "            <td>0</td>\n",
       "            <td>192.168.0.34</td>\n",
       "            <td>13478646759</td>\n",
       "            <td>47987</td>\n",
       "            <td>2024-12-16T05:03:08+0000</td>\n",
       "            <td>1734325388</td>\n",
       "            <td>119.147.71.133</td>\n",
       "            <td>41420</td>\n",
       "        </tr>\n",
       "        <tr>\n",
       "            <td>3</td>\n",
       "            <td>2</td>\n",
       "            <td>2</td>\n",
       "            <td>2184</td>\n",
       "            <td>2184</td>\n",
       "            <td>192.168.0.34</td>\n",
       "            <td>13478646759</td>\n",
       "            <td>57816</td>\n",
       "            <td>2024-12-16T05:03:10+0000</td>\n",
       "            <td>1734325390</td>\n",
       "            <td>119.147.71.133</td>\n",
       "            <td>41984</td>\n",
       "        </tr>\n",
       "        <tr>\n",
       "            <td>4</td>\n",
       "            <td>2</td>\n",
       "            <td>2</td>\n",
       "            <td>2285</td>\n",
       "            <td>16482</td>\n",
       "            <td>192.168.0.34</td>\n",
       "            <td>15298411056</td>\n",
       "            <td>57715</td>\n",
       "            <td>2024-12-16T05:03:12+0000</td>\n",
       "            <td>1734325392</td>\n",
       "            <td>119.147.71.133</td>\n",
       "            <td>42566</td>\n",
       "        </tr>\n",
       "        <tr>\n",
       "            <td>5</td>\n",
       "            <td>3</td>\n",
       "            <td>2</td>\n",
       "            <td>1654</td>\n",
       "            <td>1654</td>\n",
       "            <td>192.168.0.34</td>\n",
       "            <td>15298411056</td>\n",
       "            <td>58346</td>\n",
       "            <td>2024-12-16T05:03:14+0000</td>\n",
       "            <td>1734325394</td>\n",
       "            <td>119.147.71.133</td>\n",
       "            <td>42996</td>\n",
       "        </tr>\n",
       "        <tr>\n",
       "            <td>5</td>\n",
       "            <td>3</td>\n",
       "            <td>2</td>\n",
       "            <td>11764</td>\n",
       "            <td>19275</td>\n",
       "            <td>192.168.0.56</td>\n",
       "            <td>17706523791</td>\n",
       "            <td>48236</td>\n",
       "            <td>2024-12-16T05:03:19+0000</td>\n",
       "            <td>1734325399</td>\n",
       "            <td>119.147.71.133</td>\n",
       "            <td>44180</td>\n",
       "        </tr>\n",
       "        <tr>\n",
       "            <td>6</td>\n",
       "            <td>3</td>\n",
       "            <td>2</td>\n",
       "            <td>3259</td>\n",
       "            <td>15023</td>\n",
       "            <td>192.168.0.56</td>\n",
       "            <td>15298411056</td>\n",
       "            <td>56741</td>\n",
       "            <td>2024-12-16T05:03:22+0000</td>\n",
       "            <td>1734325402</td>\n",
       "            <td>119.147.71.133</td>\n",
       "            <td>45030</td>\n",
       "        </tr>\n",
       "        <tr>\n",
       "            <td>7</td>\n",
       "            <td>1</td>\n",
       "            <td>3</td>\n",
       "            <td>986</td>\n",
       "            <td>0</td>\n",
       "            <td>192.168.0.56</td>\n",
       "            <td>13478646759</td>\n",
       "            <td>59014</td>\n",
       "            <td>2024-12-16T05:03:23+0000</td>\n",
       "            <td>1734325403</td>\n",
       "            <td>119.147.71.133</td>\n",
       "            <td>45292</td>\n",
       "        </tr>\n",
       "        <tr>\n",
       "            <td>6</td>\n",
       "            <td>1</td>\n",
       "            <td>3</td>\n",
       "            <td>9685</td>\n",
       "            <td>0</td>\n",
       "            <td>192.168.0.34</td>\n",
       "            <td>17706523791</td>\n",
       "            <td>50315</td>\n",
       "            <td>2024-12-16T05:03:24+0000</td>\n",
       "            <td>1734325404</td>\n",
       "            <td>119.147.71.133</td>\n",
       "            <td>45530</td>\n",
       "        </tr>\n",
       "        <tr>\n",
       "            <td>8</td>\n",
       "            <td>4</td>\n",
       "            <td>3</td>\n",
       "            <td>2907</td>\n",
       "            <td>7152</td>\n",
       "            <td>192.168.0.56</td>\n",
       "            <td>17706523791</td>\n",
       "            <td>57093</td>\n",
       "            <td>2024-12-16T05:03:26+0000</td>\n",
       "            <td>1734325406</td>\n",
       "            <td>119.147.71.133</td>\n",
       "            <td>46046</td>\n",
       "        </tr>\n",
       "        <tr>\n",
       "            <td>7</td>\n",
       "            <td>2</td>\n",
       "            <td>3</td>\n",
       "            <td>2331</td>\n",
       "            <td>2331</td>\n",
       "            <td>192.168.0.34</td>\n",
       "            <td>17706523791</td>\n",
       "            <td>57669</td>\n",
       "            <td>2024-12-16T05:03:26+0000</td>\n",
       "            <td>1734325406</td>\n",
       "            <td>119.147.71.133</td>\n",
       "            <td>46146</td>\n",
       "        </tr>\n",
       "        <tr>\n",
       "            <td>8</td>\n",
       "            <td>3</td>\n",
       "            <td>3</td>\n",
       "            <td>338</td>\n",
       "            <td>338</td>\n",
       "            <td>192.168.0.34</td>\n",
       "            <td>17706523791</td>\n",
       "            <td>59662</td>\n",
       "            <td>2024-12-16T05:03:26+0000</td>\n",
       "            <td>1734325406</td>\n",
       "            <td>119.147.71.133</td>\n",
       "            <td>46224</td>\n",
       "        </tr>\n",
       "        <tr>\n",
       "            <td>9</td>\n",
       "            <td>5</td>\n",
       "            <td>3</td>\n",
       "            <td>1517</td>\n",
       "            <td>1517</td>\n",
       "            <td>192.168.0.56</td>\n",
       "            <td>17706523791</td>\n",
       "            <td>58483</td>\n",
       "            <td>2024-12-16T05:03:27+0000</td>\n",
       "            <td>1734325407</td>\n",
       "            <td>119.147.71.133</td>\n",
       "            <td>46436</td>\n",
       "        </tr>\n",
       "        <tr>\n",
       "            <td>9</td>\n",
       "            <td>4</td>\n",
       "            <td>3</td>\n",
       "            <td>2751</td>\n",
       "            <td>15105</td>\n",
       "            <td>192.168.0.34</td>\n",
       "            <td>15298411056</td>\n",
       "            <td>57249</td>\n",
       "            <td>2024-12-16T05:03:29+0000</td>\n",
       "            <td>1734325409</td>\n",
       "            <td>119.147.71.133</td>\n",
       "            <td>46938</td>\n",
       "        </tr>\n",
       "        <tr>\n",
       "            <td>10</td>\n",
       "            <td>6</td>\n",
       "            <td>3</td>\n",
       "            <td>6862</td>\n",
       "            <td>6862</td>\n",
       "            <td>192.168.0.56</td>\n",
       "            <td>17706523791</td>\n",
       "            <td>53138</td>\n",
       "            <td>2024-12-16T05:03:34+0000</td>\n",
       "            <td>1734325414</td>\n",
       "            <td>119.147.71.133</td>\n",
       "            <td>48234</td>\n",
       "        </tr>\n",
       "        <tr>\n",
       "            <td>11</td>\n",
       "            <td>7</td>\n",
       "            <td>3</td>\n",
       "            <td>479</td>\n",
       "            <td>479</td>\n",
       "            <td>192.168.0.56</td>\n",
       "            <td>17706523791</td>\n",
       "            <td>59521</td>\n",
       "            <td>2024-12-16T05:03:35+0000</td>\n",
       "            <td>1734325415</td>\n",
       "            <td>119.147.71.133</td>\n",
       "            <td>48366</td>\n",
       "        </tr>\n",
       "    </tbody>\n",
       "</table>"
      ],
      "text/plain": [
       "<IPython.core.display.HTML object>"
      ]
     },
     "metadata": {},
     "output_type": "display_data"
    }
   ],
   "source": [
    "display(HTML(table.get_formatted_string(\"html\")))"
   ]
  },
  {
   "cell_type": "code",
   "execution_count": 54,
   "id": "4fa19e73-96fc-454e-9ec0-c515009aa76d",
   "metadata": {},
   "outputs": [],
   "source": [
    "table.del_column(\"ip\")"
   ]
  },
  {
   "cell_type": "code",
   "execution_count": 55,
   "id": "e316db17-6e02-4c98-9789-23ae84d33b32",
   "metadata": {},
   "outputs": [],
   "source": [
    "table.del_column(\"port\")"
   ]
  },
  {
   "cell_type": "code",
   "execution_count": 56,
   "id": "a64470bc-bfe6-4d62-9732-2d57e8abd52e",
   "metadata": {},
   "outputs": [
    {
     "data": {
      "text/html": [
       "<table>\n",
       "    <thead>\n",
       "        <tr>\n",
       "            <th>gpv</th>\n",
       "            <th>pv</th>\n",
       "            <th>uv</th>\n",
       "            <th>gidle</th>\n",
       "            <th>vidle</th>\n",
       "            <th>group</th>\n",
       "            <th>v</th>\n",
       "            <th>ttl</th>\n",
       "            <th>date</th>\n",
       "            <th>timestamp</th>\n",
       "        </tr>\n",
       "    </thead>\n",
       "    <tbody>\n",
       "        <tr>\n",
       "            <td>1</td>\n",
       "            <td>1</td>\n",
       "            <td>1</td>\n",
       "            <td>0</td>\n",
       "            <td>0</td>\n",
       "            <td>192.168.0.39</td>\n",
       "            <td>17707115955</td>\n",
       "            <td>0</td>\n",
       "            <td>2024-12-15T07:06:43+0000</td>\n",
       "            <td>1734246403</td>\n",
       "        </tr>\n",
       "        <tr>\n",
       "            <td>1</td>\n",
       "            <td>1</td>\n",
       "            <td>1</td>\n",
       "            <td>0</td>\n",
       "            <td>0</td>\n",
       "            <td>192.168.0.56</td>\n",
       "            <td>13309671584</td>\n",
       "            <td>0</td>\n",
       "            <td>2024-12-15T07:06:47+0000</td>\n",
       "            <td>1734246407</td>\n",
       "        </tr>\n",
       "        <tr>\n",
       "            <td>2</td>\n",
       "            <td>1</td>\n",
       "            <td>2</td>\n",
       "            <td>9110</td>\n",
       "            <td>0</td>\n",
       "            <td>192.168.0.39</td>\n",
       "            <td>13309671584</td>\n",
       "            <td>50890</td>\n",
       "            <td>2024-12-15T07:06:52+0000</td>\n",
       "            <td>1734246412</td>\n",
       "        </tr>\n",
       "        <tr>\n",
       "            <td>2</td>\n",
       "            <td>1</td>\n",
       "            <td>2</td>\n",
       "            <td>7677</td>\n",
       "            <td>0</td>\n",
       "            <td>192.168.0.56</td>\n",
       "            <td>13625643658</td>\n",
       "            <td>52323</td>\n",
       "            <td>2024-12-15T07:06:55+0000</td>\n",
       "            <td>1734246415</td>\n",
       "        </tr>\n",
       "        <tr>\n",
       "            <td>3</td>\n",
       "            <td>1</td>\n",
       "            <td>3</td>\n",
       "            <td>6943</td>\n",
       "            <td>0</td>\n",
       "            <td>192.168.0.39</td>\n",
       "            <td>13625643658</td>\n",
       "            <td>53057</td>\n",
       "            <td>2024-12-15T07:06:59+0000</td>\n",
       "            <td>1734246419</td>\n",
       "        </tr>\n",
       "        <tr>\n",
       "            <td>4</td>\n",
       "            <td>2</td>\n",
       "            <td>3</td>\n",
       "            <td>1691</td>\n",
       "            <td>8634</td>\n",
       "            <td>192.168.0.39</td>\n",
       "            <td>13309671584</td>\n",
       "            <td>58309</td>\n",
       "            <td>2024-12-15T07:07:01+0000</td>\n",
       "            <td>1734246421</td>\n",
       "        </tr>\n",
       "        <tr>\n",
       "            <td>3</td>\n",
       "            <td>1</td>\n",
       "            <td>3</td>\n",
       "            <td>6673</td>\n",
       "            <td>0</td>\n",
       "            <td>192.168.0.56</td>\n",
       "            <td>17707115955</td>\n",
       "            <td>53327</td>\n",
       "            <td>2024-12-15T07:07:01+0000</td>\n",
       "            <td>1734246421</td>\n",
       "        </tr>\n",
       "        <tr>\n",
       "            <td>5</td>\n",
       "            <td>2</td>\n",
       "            <td>3</td>\n",
       "            <td>1822</td>\n",
       "            <td>3513</td>\n",
       "            <td>192.168.0.39</td>\n",
       "            <td>13625643658</td>\n",
       "            <td>58178</td>\n",
       "            <td>2024-12-15T07:07:02+0000</td>\n",
       "            <td>1734246422</td>\n",
       "        </tr>\n",
       "        <tr>\n",
       "            <td>1</td>\n",
       "            <td>1</td>\n",
       "            <td>1</td>\n",
       "            <td>0</td>\n",
       "            <td>0</td>\n",
       "            <td>192.168.0.1</td>\n",
       "            <td>13309671584</td>\n",
       "            <td>0</td>\n",
       "            <td>2024-12-15T07:07:06+0000</td>\n",
       "            <td>1734246426</td>\n",
       "        </tr>\n",
       "        <tr>\n",
       "            <td>2</td>\n",
       "            <td>1</td>\n",
       "            <td>2</td>\n",
       "            <td>2848</td>\n",
       "            <td>0</td>\n",
       "            <td>192.168.0.1</td>\n",
       "            <td>17707115955</td>\n",
       "            <td>57152</td>\n",
       "            <td>2024-12-15T07:07:09+0000</td>\n",
       "            <td>1734246429</td>\n",
       "        </tr>\n",
       "        <tr>\n",
       "            <td>6</td>\n",
       "            <td>2</td>\n",
       "            <td>3</td>\n",
       "            <td>8087</td>\n",
       "            <td>27653</td>\n",
       "            <td>192.168.0.39</td>\n",
       "            <td>17707115955</td>\n",
       "            <td>51913</td>\n",
       "            <td>2024-12-15T07:07:11+0000</td>\n",
       "            <td>1734246431</td>\n",
       "        </tr>\n",
       "        <tr>\n",
       "            <td>3</td>\n",
       "            <td>1</td>\n",
       "            <td>3</td>\n",
       "            <td>2399</td>\n",
       "            <td>0</td>\n",
       "            <td>192.168.0.1</td>\n",
       "            <td>13625643658</td>\n",
       "            <td>57601</td>\n",
       "            <td>2024-12-15T07:07:11+0000</td>\n",
       "            <td>1734246431</td>\n",
       "        </tr>\n",
       "        <tr>\n",
       "            <td>4</td>\n",
       "            <td>2</td>\n",
       "            <td>3</td>\n",
       "            <td>13958</td>\n",
       "            <td>20631</td>\n",
       "            <td>192.168.0.56</td>\n",
       "            <td>13625643658</td>\n",
       "            <td>46042</td>\n",
       "            <td>2024-12-15T07:07:15+0000</td>\n",
       "            <td>1734246435</td>\n",
       "        </tr>\n",
       "        <tr>\n",
       "            <td>5</td>\n",
       "            <td>3</td>\n",
       "            <td>3</td>\n",
       "            <td>762</td>\n",
       "            <td>762</td>\n",
       "            <td>192.168.0.56</td>\n",
       "            <td>13625643658</td>\n",
       "            <td>59238</td>\n",
       "            <td>2024-12-15T07:07:16+0000</td>\n",
       "            <td>1734246436</td>\n",
       "        </tr>\n",
       "        <tr>\n",
       "            <td>4</td>\n",
       "            <td>2</td>\n",
       "            <td>3</td>\n",
       "            <td>8451</td>\n",
       "            <td>10850</td>\n",
       "            <td>192.168.0.1</td>\n",
       "            <td>17707115955</td>\n",
       "            <td>51549</td>\n",
       "            <td>2024-12-15T07:07:19+0000</td>\n",
       "            <td>1734246439</td>\n",
       "        </tr>\n",
       "        <tr>\n",
       "            <td>7</td>\n",
       "            <td>3</td>\n",
       "            <td>3</td>\n",
       "            <td>12818</td>\n",
       "            <td>22727</td>\n",
       "            <td>192.168.0.39</td>\n",
       "            <td>13309671584</td>\n",
       "            <td>47182</td>\n",
       "            <td>2024-12-15T07:07:23+0000</td>\n",
       "            <td>1734246443</td>\n",
       "        </tr>\n",
       "        <tr>\n",
       "            <td>5</td>\n",
       "            <td>2</td>\n",
       "            <td>3</td>\n",
       "            <td>4105</td>\n",
       "            <td>17803</td>\n",
       "            <td>192.168.0.1</td>\n",
       "            <td>13309671584</td>\n",
       "            <td>55895</td>\n",
       "            <td>2024-12-15T07:07:24+0000</td>\n",
       "            <td>1734246444</td>\n",
       "        </tr>\n",
       "        <tr>\n",
       "            <td>8</td>\n",
       "            <td>3</td>\n",
       "            <td>3</td>\n",
       "            <td>4548</td>\n",
       "            <td>17366</td>\n",
       "            <td>192.168.0.39</td>\n",
       "            <td>17707115955</td>\n",
       "            <td>55452</td>\n",
       "            <td>2024-12-15T07:07:28+0000</td>\n",
       "            <td>1734246448</td>\n",
       "        </tr>\n",
       "        <tr>\n",
       "            <td>6</td>\n",
       "            <td>2</td>\n",
       "            <td>3</td>\n",
       "            <td>16199</td>\n",
       "            <td>30919</td>\n",
       "            <td>192.168.0.56</td>\n",
       "            <td>17707115955</td>\n",
       "            <td>43801</td>\n",
       "            <td>2024-12-15T07:07:32+0000</td>\n",
       "            <td>1734246452</td>\n",
       "        </tr>\n",
       "        <tr>\n",
       "            <td>6</td>\n",
       "            <td>3</td>\n",
       "            <td>3</td>\n",
       "            <td>13191</td>\n",
       "            <td>17296</td>\n",
       "            <td>192.168.0.1</td>\n",
       "            <td>17707115955</td>\n",
       "            <td>46809</td>\n",
       "            <td>2024-12-15T07:07:37+0000</td>\n",
       "            <td>1734246457</td>\n",
       "        </tr>\n",
       "    </tbody>\n",
       "</table>"
      ],
      "text/plain": [
       "<IPython.core.display.HTML object>"
      ]
     },
     "metadata": {},
     "output_type": "display_data"
    }
   ],
   "source": [
    "display(HTML(table.get_formatted_string(\"html\")))"
   ]
  },
  {
   "cell_type": "markdown",
   "id": "a6268533-534e-4f0a-b2f7-0486359687dd",
   "metadata": {},
   "source": [
    "# 注册示例"
   ]
  },
  {
   "cell_type": "code",
   "execution_count": 167,
   "id": "b90a8cc9-f3ae-4592-a61c-013ad2fc7295",
   "metadata": {},
   "outputs": [],
   "source": [
    "import requests\n",
    "from pprint import pprint\n",
    "import time\n",
    "import random\n",
    "import json"
   ]
  },
  {
   "cell_type": "code",
   "execution_count": 168,
   "id": "d3e021ec-e922-4ac9-b255-fc29b4faf0c2",
   "metadata": {},
   "outputs": [],
   "source": [
    "session = requests.session()"
   ]
  },
  {
   "cell_type": "code",
   "execution_count": 169,
   "id": "984a7312-6dd0-44c8-9797-774c22995963",
   "metadata": {},
   "outputs": [],
   "source": [
    "\n",
    "\n",
    "headers = {\n",
    "    'accept': 'application/json',\n",
    "    'Content-Type': 'application/json',\n",
    "}\n",
    "\n",
    "params = {\n",
    "    'user_id': 'fb417c920bb142eabd6016a3520663b3',\n",
    "    'user_key': 'a5737c292dab487a95e6cc31cd8c4d0b',\n",
    "    'proj_id': 'proj_16e452c56cde4b98',\n",
    "}\n",
    "# Note: json_data will not be serialized by requests\n",
    "# exactly as it was in the original request.\n",
    "#data = '{\"ip\":\"119.147.71.133\",\"user\":\"17707115566\"}'\n",
    "#response = requests.post('https://brdeapi.geetest.com/geerule/run', params=params, headers=headers, data=data)\n"
   ]
  },
  {
   "cell_type": "code",
   "execution_count": 170,
   "id": "5c9774cb-813f-464a-9a16-a7777aff84fb",
   "metadata": {},
   "outputs": [],
   "source": [
    "ips = [\"192.168.0.1\", \"192.168.0.39\", \"192.168.0.56\"]\n",
    "phones = [\"17707115955\", \"13625643658\",\"13309671584\"]\n",
    "register_records = [r for r in itertools.product(ips, phones)]"
   ]
  },
  {
   "cell_type": "code",
   "execution_count": 202,
   "id": "2f945fe1-b90f-4663-8689-94edca53dbfc",
   "metadata": {},
   "outputs": [
    {
     "name": "stdout",
     "output_type": "stream",
     "text": [
      "{'data': {'nodeId': '8899d5e3-46ff-4b94-b707-d2a13b83aeda',\n",
      "          'source': \"AttributeError: 'NoneType' object has no attribute \"\n",
      "                    \"'search'\",\n",
      "          'type': 'NodeError'},\n",
      " 'message': \"AttributeError: 'NoneType' object has no attribute 'search'\",\n",
      " 'status': -1}\n"
     ]
    }
   ],
   "source": [
    "# json_data = {\n",
    "#     'ip': '119.147.71.133',\n",
    "#     'user': '17707115566',\n",
    "# }\n",
    "\n",
    "json_data = dict(zip([\"ip\", \"user\"], random.choice(register_records)))\n",
    "response = session.post('https://brdeapi.geetest.com/geerule/run', params=params, headers=headers, json=json_data)\n",
    "if response.status_code == 200:\n",
    "    pprint(response.json())"
   ]
  },
  {
   "cell_type": "code",
   "execution_count": 173,
   "id": "decca654-1ce3-43b6-a46f-5f3de9cbfaae",
   "metadata": {},
   "outputs": [],
   "source": [
    "data_list = []\n",
    "for i in range(2):\n",
    "    # time.sleep(random.choice(range(1, 10)))\n",
    "    json_data = dict(zip([\"ip\", \"user\"], random.choice(register_records)))\n",
    "    res = session.post('https://brdeapi.geetest.com/geerule/run', params=params, headers=headers, json=json_data)\n",
    "    if res.status_code == 200:\n",
    "        res_dict = res.json()\n",
    "        # data_list.append(res_dict['data']['result']['ip_user_ucnt'])\n",
    "        data_list.append(res_dict)"
   ]
  },
  {
   "cell_type": "code",
   "execution_count": null,
   "id": "72d3a8ee-80d8-4475-a066-f5cd1088a0eb",
   "metadata": {},
   "outputs": [],
   "source": [
    "pprint(data_list)"
   ]
  },
  {
   "cell_type": "code",
   "execution_count": 187,
   "id": "e73bd7af-cb67-4c00-8543-473c1b74a48b",
   "metadata": {},
   "outputs": [],
   "source": [
    "with open('./data.json', 'a') as file:\n",
    "    for item in data_list:\n",
    "        file.write(json.dumps(item)+\"\\n\")\n",
    "    # json.dump(data_list, file, indent=4)\n",
    "    "
   ]
  },
  {
   "cell_type": "code",
   "execution_count": null,
   "id": "f280c757-4758-41e4-938c-cc49dbffdabe",
   "metadata": {},
   "outputs": [],
   "source": [
    "!cat data.json"
   ]
  },
  {
   "cell_type": "code",
   "execution_count": 189,
   "id": "f9786e75-6cc2-4d9c-ac3b-ae5457f8db55",
   "metadata": {},
   "outputs": [],
   "source": [
    "import duckdb\n",
    "res =duckdb.sql('SELECT * from read_json(\"./data.json\");')"
   ]
  },
  {
   "cell_type": "code",
   "execution_count": 190,
   "id": "c95d38ee-de23-49db-800e-a54f87947a25",
   "metadata": {},
   "outputs": [
    {
     "data": {
      "text/plain": [
       "┌────────┬───────────────────────────────────────────────────────────────────────────────────────────────┬─────────────┐\n",
       "│ status │                                             data                                              │   message   │\n",
       "│ int64  │ struct(rule_id varchar, rule_name varchar, performance varchar, result struct(ip_user_ucnt …  │   varchar   │\n",
       "├────────┼───────────────────────────────────────────────────────────────────────────────────────────────┼─────────────┤\n",
       "│      0 │ {'rule_id': rule_ce53aadda8d241cc, 'rule_name': 注册示例, 'performance': 4.31992ms, 'result…  │ version 1.0 │\n",
       "│      0 │ {'rule_id': rule_ce53aadda8d241cc, 'rule_name': 注册示例, 'performance': 4.054361ms, 'resul…  │ version 1.0 │\n",
       "│      0 │ {'rule_id': rule_ce53aadda8d241cc, 'rule_name': 注册示例, 'performance': 4.31992ms, 'result…  │ version 1.0 │\n",
       "│      0 │ {'rule_id': rule_ce53aadda8d241cc, 'rule_name': 注册示例, 'performance': 4.054361ms, 'resul…  │ version 1.0 │\n",
       "└────────┴───────────────────────────────────────────────────────────────────────────────────────────────┴─────────────┘"
      ]
     },
     "execution_count": 190,
     "metadata": {},
     "output_type": "execute_result"
    }
   ],
   "source": [
    "res"
   ]
  },
  {
   "cell_type": "code",
   "execution_count": 119,
   "id": "19e1050a-5641-4671-9dae-358f6197f547",
   "metadata": {},
   "outputs": [],
   "source": [
    "ips = [\"192.168.0.39\", \"192.168.0.56\"]\n",
    "phones = [\"17707115955\", \"13625643658\",\"13309671584\"]\n",
    "register_records = [r for r in itertools.product(ips, phones)]\n",
    "data_list = []\n",
    "for i in range(20):\n",
    "    time.sleep(random.choice(range(1, 10)))\n",
    "    json_data = dict(zip([\"ip\", \"user\"], random.choice(register_records)))\n",
    "    res = session.post(\"http://150.158.144.155:88/group_distinct_1m\", params=params)\n",
    "    if res.status_code == 200:\n",
    "        data = res.json()\n",
    "        data_list.append(data)\n"
   ]
  },
  {
   "cell_type": "code",
   "execution_count": 191,
   "id": "9e31159a-3a3f-455f-9c7c-b4d2c512fce9",
   "metadata": {},
   "outputs": [
    {
     "name": "stdout",
     "output_type": "stream",
     "text": [
      "The sql extension is already loaded. To reload it, use:\n",
      "  %reload_ext sql\n"
     ]
    },
    {
     "data": {
      "text/html": [
       "<span style=\"None\">Connecting to &#x27;datafun&#x27;</span>"
      ],
      "text/plain": [
       "Connecting to 'datafun'"
      ]
     },
     "metadata": {},
     "output_type": "display_data"
    }
   ],
   "source": [
    "%load_ext sql\n",
    "%sql duckdb:///:memory: --alias datafun"
   ]
  },
  {
   "cell_type": "code",
   "execution_count": 192,
   "id": "008ab09d-d779-49d0-85a1-80542be9884c",
   "metadata": {},
   "outputs": [
    {
     "data": {
      "text/html": [
       "<span style=\"None\">Running query in &#x27;datafun&#x27;</span>"
      ],
      "text/plain": [
       "Running query in 'datafun'"
      ]
     },
     "metadata": {},
     "output_type": "display_data"
    },
    {
     "data": {
      "text/html": [
       "<table>\n",
       "    <thead>\n",
       "        <tr>\n",
       "            <th>(\"data\" ->> 'result')</th>\n",
       "            <th>ip</th>\n",
       "            <th>user</th>\n",
       "        </tr>\n",
       "    </thead>\n",
       "    <tbody>\n",
       "        <tr>\n",
       "            <td>{\"ip_user_ucnt\":{\"ttl\":2672949,\"pv\":1,\"group\":\"192.168.0.56\",\"gpv\":2,\"uv\":2,\"distinct\":\"13309671584\"},\"white_list\":{\"result\":false},\"user\":\"13309671584\",\"ipcnt\":{\"ttl\":2672949,\"counter\":2,\"mykey\":\"192.168.0.56\"},\"black_list\":{\"result\":false},\"ip\":\"192.168.0.56\"}</td>\n",
       "            <td>192.168.0.56</td>\n",
       "            <td>13309671584</td>\n",
       "        </tr>\n",
       "        <tr>\n",
       "            <td>{\"ip_user_ucnt\":{\"ttl\":2689038,\"pv\":2,\"group\":\"192.168.0.39\",\"gpv\":2,\"uv\":1,\"distinct\":\"17707115955\"},\"white_list\":{\"result\":false},\"user\":\"17707115955\",\"ipcnt\":{\"ttl\":2689039,\"counter\":2,\"mykey\":\"192.168.0.39\"},\"black_list\":{\"result\":false},\"ip\":\"192.168.0.39\"}</td>\n",
       "            <td>192.168.0.39</td>\n",
       "            <td>17707115955</td>\n",
       "        </tr>\n",
       "        <tr>\n",
       "            <td>{\"ip_user_ucnt\":{\"ttl\":2672949,\"pv\":1,\"group\":\"192.168.0.56\",\"gpv\":2,\"uv\":2,\"distinct\":\"13309671584\"},\"white_list\":{\"result\":false},\"user\":\"13309671584\",\"ipcnt\":{\"ttl\":2672949,\"counter\":2,\"mykey\":\"192.168.0.56\"},\"black_list\":{\"result\":false},\"ip\":\"192.168.0.56\"}</td>\n",
       "            <td>192.168.0.56</td>\n",
       "            <td>13309671584</td>\n",
       "        </tr>\n",
       "        <tr>\n",
       "            <td>{\"ip_user_ucnt\":{\"ttl\":2689038,\"pv\":2,\"group\":\"192.168.0.39\",\"gpv\":2,\"uv\":1,\"distinct\":\"17707115955\"},\"white_list\":{\"result\":false},\"user\":\"17707115955\",\"ipcnt\":{\"ttl\":2689039,\"counter\":2,\"mykey\":\"192.168.0.39\"},\"black_list\":{\"result\":false},\"ip\":\"192.168.0.39\"}</td>\n",
       "            <td>192.168.0.39</td>\n",
       "            <td>17707115955</td>\n",
       "        </tr>\n",
       "    </tbody>\n",
       "</table>"
      ],
      "text/plain": [
       "+------------------------------------------------------------------------------------------------------------------------------------------------------------------------------------------------------------------------------------------------------------------------+--------------+-------------+\n",
       "|                                                                                                                         (\"data\" ->> 'result')                                                                                                                          |      ip      |     user    |\n",
       "+------------------------------------------------------------------------------------------------------------------------------------------------------------------------------------------------------------------------------------------------------------------------+--------------+-------------+\n",
       "| {\"ip_user_ucnt\":{\"ttl\":2672949,\"pv\":1,\"group\":\"192.168.0.56\",\"gpv\":2,\"uv\":2,\"distinct\":\"13309671584\"},\"white_list\":{\"result\":false},\"user\":\"13309671584\",\"ipcnt\":{\"ttl\":2672949,\"counter\":2,\"mykey\":\"192.168.0.56\"},\"black_list\":{\"result\":false},\"ip\":\"192.168.0.56\"} | 192.168.0.56 | 13309671584 |\n",
       "| {\"ip_user_ucnt\":{\"ttl\":2689038,\"pv\":2,\"group\":\"192.168.0.39\",\"gpv\":2,\"uv\":1,\"distinct\":\"17707115955\"},\"white_list\":{\"result\":false},\"user\":\"17707115955\",\"ipcnt\":{\"ttl\":2689039,\"counter\":2,\"mykey\":\"192.168.0.39\"},\"black_list\":{\"result\":false},\"ip\":\"192.168.0.39\"} | 192.168.0.39 | 17707115955 |\n",
       "| {\"ip_user_ucnt\":{\"ttl\":2672949,\"pv\":1,\"group\":\"192.168.0.56\",\"gpv\":2,\"uv\":2,\"distinct\":\"13309671584\"},\"white_list\":{\"result\":false},\"user\":\"13309671584\",\"ipcnt\":{\"ttl\":2672949,\"counter\":2,\"mykey\":\"192.168.0.56\"},\"black_list\":{\"result\":false},\"ip\":\"192.168.0.56\"} | 192.168.0.56 | 13309671584 |\n",
       "| {\"ip_user_ucnt\":{\"ttl\":2689038,\"pv\":2,\"group\":\"192.168.0.39\",\"gpv\":2,\"uv\":1,\"distinct\":\"17707115955\"},\"white_list\":{\"result\":false},\"user\":\"17707115955\",\"ipcnt\":{\"ttl\":2689039,\"counter\":2,\"mykey\":\"192.168.0.39\"},\"black_list\":{\"result\":false},\"ip\":\"192.168.0.39\"} | 192.168.0.39 | 17707115955 |\n",
       "+------------------------------------------------------------------------------------------------------------------------------------------------------------------------------------------------------------------------------------------------------------------------+--------------+-------------+"
      ]
     },
     "execution_count": 192,
     "metadata": {},
     "output_type": "execute_result"
    }
   ],
   "source": [
    "%sql  SELECT data->>'result',data->>'$.result.ip'as ip,data->>'$.result.user'as user from read_json(\"./data.json\")"
   ]
  },
  {
   "cell_type": "markdown",
   "id": "c88af93b-f3dd-4ae2-92c3-7056a6ec2e7e",
   "metadata": {},
   "source": [
    "### 注册规则数据离线分析demo"
   ]
  },
  {
   "cell_type": "code",
   "execution_count": 398,
   "id": "3fac46ed-cc45-4b6a-8b25-714949c981ee",
   "metadata": {},
   "outputs": [],
   "source": [
    "import requests\n",
    "from pprint import pprint\n",
    "import time\n",
    "import random\n",
    "import json"
   ]
  },
  {
   "cell_type": "code",
   "execution_count": 399,
   "id": "d7aa9c75-367c-4832-b244-7bc504de6720",
   "metadata": {},
   "outputs": [],
   "source": [
    "session = requests.session()\n",
    "headers = {\n",
    "    'accept': 'application/json',\n",
    "    'Content-Type': 'application/json',\n",
    "}\n",
    "\n",
    "params = {\n",
    "    'user_id': 'fb417c920bb142eabd6016a3520663b3',\n",
    "    'user_key': 'a5737c292dab487a95e6cc31cd8c4d0b',\n",
    "    'proj_id': 'proj_16e452c56cde4b98',\n",
    "}"
   ]
  },
  {
   "cell_type": "code",
   "execution_count": 400,
   "id": "ea5b0ec8-edba-472a-8130-d0fccdd994ba",
   "metadata": {},
   "outputs": [],
   "source": [
    "ips = [\"119.147.71.133\", \"111.85.210.139\"]\n",
    "phones = [\"17707115955\", \"13625643658\",\"13309671584\"]\n",
    "register_records = [r for r in itertools.product(ips, phones)]"
   ]
  },
  {
   "cell_type": "code",
   "execution_count": 370,
   "id": "95d4b6c1-9014-41c9-ade4-a07f0f6e581b",
   "metadata": {},
   "outputs": [
    {
     "name": "stdout",
     "output_type": "stream",
     "text": [
      "{'status': 0, 'data': {'rule_id': 'rule_ce53aadda8d241cc', 'rule_name': '注册示例', 'performance': '5.528042ms', 'result': {'user_ip_ucnt': {'gidle': 0, 'timestamp': '1734430862', 'gpv': 1, 'uv': 1, 'vidle': 0, 'group': '17707115955', 'pv': 1, 'v': '111.85.210.139'}, 'ipcnt': {'v': '111.85.210.139', 'idle': 0, 'timestamp': '1734430862', 'counter': 1}, 'black_list': {'result': False}, 'ip_user_ucnt': {'vidle': 0, 'uv': 1, 'gpv': 1, 'gidle': 0, 'pv': 1, 'timestamp': '1734430862', 'group': '111.85.210.139', 'v': '17707115955'}, 'register_result': [], 'ip': '111.85.210.139', 'user': '17707115955', 'white_list': {'result': False}}, 'trace_id': '1efbc609e2d56458bd354b3ffa8601fb'}, 'message': 'version 1.0'}\n"
     ]
    }
   ],
   "source": [
    "json_data = dict(zip([\"ip\", \"user\"], random.choice(register_records)))\n",
    "res = session.post('https://brdeapi.geetest.com/geerule/run', params=params, headers=headers, json=json_data)\n",
    "print(res.json())"
   ]
  },
  {
   "cell_type": "code",
   "execution_count": 401,
   "id": "37833e5d-930a-4bf2-9608-29006e620aee",
   "metadata": {},
   "outputs": [],
   "source": [
    "data_list = []\n",
    "for i in range(20):\n",
    "    time.sleep(random.choice(range(1, 10)))\n",
    "    json_data = dict(zip([\"ip\", \"user\"], random.choice(register_records)))\n",
    "    res = session.post('https://brdeapi.geetest.com/geerule/run', params=params, headers=headers, json=json_data)\n",
    "    if res.status_code == 200:\n",
    "        res_dict = res.json()\n",
    "        data_list.append(res_dict)"
   ]
  },
  {
   "cell_type": "code",
   "execution_count": 374,
   "id": "ad794ad4-fd7c-42ae-b2dc-905c1fc13fc4",
   "metadata": {},
   "outputs": [],
   "source": [
    "with open('./register_rule_data.json', 'w') as file:\n",
    "    for item in data_list:\n",
    "        file.write(json.dumps(item)+\"\\n\")"
   ]
  },
  {
   "cell_type": "code",
   "execution_count": null,
   "id": "df78498b-dd85-4b56-a9ad-c4ab6c64593b",
   "metadata": {},
   "outputs": [],
   "source": [
    "!cat register_rule_data.json"
   ]
  },
  {
   "cell_type": "code",
   "execution_count": 376,
   "id": "7ed74032-7094-41f1-8d8c-f907895775c0",
   "metadata": {},
   "outputs": [
    {
     "name": "stdout",
     "output_type": "stream",
     "text": [
      "The sql extension is already loaded. To reload it, use:\n",
      "  %reload_ext sql\n"
     ]
    },
    {
     "data": {
      "text/html": [
       "<span style=\"None\">Connecting and switching to connection &#x27;data_alys&#x27;</span>"
      ],
      "text/plain": [
       "Connecting and switching to connection 'data_alys'"
      ]
     },
     "metadata": {},
     "output_type": "display_data"
    }
   ],
   "source": [
    "%load_ext sql\n",
    "%sql duckdb:///:memory: --alias data_alys"
   ]
  },
  {
   "cell_type": "code",
   "execution_count": null,
   "id": "59314d37-9b1e-4176-a4e5-f6bb91802a56",
   "metadata": {},
   "outputs": [],
   "source": []
  },
  {
   "cell_type": "code",
   "execution_count": 387,
   "id": "7177ed44-7070-4bf8-975a-fac59e71e0f5",
   "metadata": {},
   "outputs": [
    {
     "data": {
      "text/html": [
       "<span style=\"None\">Running query in &#x27;data_alys&#x27;</span>"
      ],
      "text/plain": [
       "Running query in 'data_alys'"
      ]
     },
     "metadata": {},
     "output_type": "display_data"
    },
    {
     "data": {
      "text/html": [
       "<table>\n",
       "    <thead>\n",
       "        <tr>\n",
       "            <th>result</th>\n",
       "            <th>ip</th>\n",
       "            <th>user</th>\n",
       "        </tr>\n",
       "    </thead>\n",
       "    <tbody>\n",
       "        <tr>\n",
       "            <td>{\"ip_user_ucnt\":{\"group\":\"111.85.210.139\",\"uv\":2,\"pv\":1,\"gpv\":2,\"timestamp\":\"1734430876\",\"v\":\"13625643658\",\"vidle\":0,\"gidle\":13409},\"white_list\":{\"result\":false},\"black_list\":{\"result\":false},\"user_ip_ucnt\":{\"gpv\":1,\"gidle\":0,\"group\":\"13625643658\",\"timestamp\":\"1734430876\",\"uv\":1,\"v\":\"111.85.210.139\",\"vidle\":0,\"pv\":1},\"register_result\":[\"注册ip变更\",\"单一ip下多个用户注册\"],\"ip\":\"111.85.210.139\",\"user\":\"13625643658\",\"ipcnt\":{\"counter\":2,\"timestamp\":\"1734430876\",\"idle\":13409,\"v\":\"111.85.210.139\"},\"send_email\":null}</td>\n",
       "            <td>111.85.210.139</td>\n",
       "            <td>13625643658</td>\n",
       "        </tr>\n",
       "        <tr>\n",
       "            <td>{\"ip_user_ucnt\":{\"group\":\"111.85.210.139\",\"uv\":2,\"pv\":2,\"gpv\":3,\"timestamp\":\"1734430879\",\"v\":\"13625643658\",\"vidle\":3081,\"gidle\":3081},\"white_list\":{\"result\":false},\"black_list\":{\"result\":false},\"user_ip_ucnt\":{\"gpv\":2,\"gidle\":3081,\"group\":\"13625643658\",\"timestamp\":\"1734430879\",\"uv\":1,\"v\":\"111.85.210.139\",\"vidle\":3081,\"pv\":2},\"register_result\":[\"注册ip变更\",\"单一ip下多个用户注册\"],\"ip\":\"111.85.210.139\",\"user\":\"13625643658\",\"ipcnt\":{\"counter\":3,\"timestamp\":\"1734430879\",\"idle\":3081,\"v\":\"111.85.210.139\"},\"send_email\":null}</td>\n",
       "            <td>111.85.210.139</td>\n",
       "            <td>13625643658</td>\n",
       "        </tr>\n",
       "        <tr>\n",
       "            <td>{\"ip_user_ucnt\":{\"group\":\"119.147.71.133\",\"uv\":1,\"pv\":1,\"gpv\":1,\"timestamp\":\"1734430884\",\"v\":\"17707115955\",\"vidle\":0,\"gidle\":0},\"white_list\":{\"result\":false},\"black_list\":{\"result\":false},\"user_ip_ucnt\":{\"gpv\":2,\"gidle\":21569,\"group\":\"17707115955\",\"timestamp\":\"1734430884\",\"uv\":2,\"v\":\"119.147.71.133\",\"vidle\":0,\"pv\":1},\"register_result\":[\"单一用户下多个ip注册\"],\"ip\":\"119.147.71.133\",\"user\":\"17707115955\",\"ipcnt\":{\"counter\":1,\"timestamp\":\"1734430884\",\"idle\":0,\"v\":\"119.147.71.133\"},\"send_email\":null}</td>\n",
       "            <td>119.147.71.133</td>\n",
       "            <td>17707115955</td>\n",
       "        </tr>\n",
       "        <tr>\n",
       "            <td>{\"ip_user_ucnt\":{\"group\":\"111.85.210.139\",\"uv\":2,\"pv\":2,\"gpv\":4,\"timestamp\":\"1734430893\",\"v\":\"17707115955\",\"vidle\":30644,\"gidle\":14154},\"white_list\":{\"result\":false},\"black_list\":{\"result\":false},\"user_ip_ucnt\":{\"gpv\":3,\"gidle\":9075,\"group\":\"17707115955\",\"timestamp\":\"1734430893\",\"uv\":2,\"v\":\"111.85.210.139\",\"vidle\":30644,\"pv\":2},\"register_result\":[\"注册ip变更\",\"单一ip下多个用户注册\",\"单一用户下多个ip注册\"],\"ip\":\"111.85.210.139\",\"user\":\"17707115955\",\"ipcnt\":{\"counter\":4,\"timestamp\":\"1734430893\",\"idle\":14154,\"v\":\"111.85.210.139\"},\"send_email\":null}</td>\n",
       "            <td>111.85.210.139</td>\n",
       "            <td>17707115955</td>\n",
       "        </tr>\n",
       "        <tr>\n",
       "            <td>{\"ip_user_ucnt\":{\"group\":\"119.147.71.133\",\"uv\":2,\"pv\":1,\"gpv\":2,\"timestamp\":\"1734430902\",\"v\":\"13309671584\",\"vidle\":0,\"gidle\":18152},\"white_list\":{\"result\":false},\"black_list\":{\"result\":false},\"user_ip_ucnt\":{\"gpv\":1,\"gidle\":0,\"group\":\"13309671584\",\"timestamp\":\"1734430902\",\"uv\":1,\"v\":\"119.147.71.133\",\"vidle\":0,\"pv\":1},\"register_result\":[\"注册ip变更\",\"单一ip下多个用户注册\"],\"ip\":\"119.147.71.133\",\"user\":\"13309671584\",\"ipcnt\":{\"counter\":2,\"timestamp\":\"1734430902\",\"idle\":18152,\"v\":\"119.147.71.133\"},\"send_email\":null}</td>\n",
       "            <td>119.147.71.133</td>\n",
       "            <td>13309671584</td>\n",
       "        </tr>\n",
       "        <tr>\n",
       "            <td>{\"ip_user_ucnt\":{\"group\":\"111.85.210.139\",\"uv\":2,\"pv\":3,\"gpv\":5,\"timestamp\":\"1734430904\",\"v\":\"13625643658\",\"vidle\":25310,\"gidle\":11156},\"white_list\":{\"result\":false},\"black_list\":{\"result\":false},\"user_ip_ucnt\":{\"gpv\":3,\"gidle\":25310,\"group\":\"13625643658\",\"timestamp\":\"1734430904\",\"uv\":1,\"v\":\"111.85.210.139\",\"vidle\":25310,\"pv\":3},\"register_result\":[\"注册ip变更\",\"单一ip下多个用户注册\"],\"ip\":\"111.85.210.139\",\"user\":\"13625643658\",\"ipcnt\":{\"counter\":5,\"timestamp\":\"1734430904\",\"idle\":11156,\"v\":\"111.85.210.139\"},\"send_email\":null}</td>\n",
       "            <td>111.85.210.139</td>\n",
       "            <td>13625643658</td>\n",
       "        </tr>\n",
       "        <tr>\n",
       "            <td>{\"ip_user_ucnt\":{\"group\":\"119.147.71.133\",\"uv\":2,\"pv\":2,\"gpv\":3,\"timestamp\":\"1734430911\",\"v\":\"13309671584\",\"vidle\":9159,\"gidle\":9159},\"white_list\":{\"result\":false},\"black_list\":{\"result\":false},\"user_ip_ucnt\":{\"gpv\":2,\"gidle\":9159,\"group\":\"13309671584\",\"timestamp\":\"1734430911\",\"uv\":1,\"v\":\"119.147.71.133\",\"vidle\":9159,\"pv\":2},\"register_result\":[\"注册ip变更\",\"单一ip下多个用户注册\"],\"ip\":\"119.147.71.133\",\"user\":\"13309671584\",\"ipcnt\":{\"counter\":3,\"timestamp\":\"1734430911\",\"idle\":9159,\"v\":\"119.147.71.133\"},\"send_email\":null}</td>\n",
       "            <td>119.147.71.133</td>\n",
       "            <td>13309671584</td>\n",
       "        </tr>\n",
       "        <tr>\n",
       "            <td>{\"ip_user_ucnt\":{\"group\":\"119.147.71.133\",\"uv\":2,\"pv\":2,\"gpv\":4,\"timestamp\":\"1734430913\",\"v\":\"17707115955\",\"vidle\":29390,\"gidle\":2079},\"white_list\":{\"result\":false},\"black_list\":{\"result\":false},\"user_ip_ucnt\":{\"gpv\":4,\"gidle\":20315,\"group\":\"17707115955\",\"timestamp\":\"1734430913\",\"uv\":2,\"v\":\"119.147.71.133\",\"vidle\":29390,\"pv\":2},\"register_result\":[\"注册ip变更\",\"单一ip下多个用户注册\",\"单一用户下多个ip注册\"],\"ip\":\"119.147.71.133\",\"user\":\"17707115955\",\"ipcnt\":{\"counter\":4,\"timestamp\":\"1734430913\",\"idle\":2079,\"v\":\"119.147.71.133\"},\"send_email\":null}</td>\n",
       "            <td>119.147.71.133</td>\n",
       "            <td>17707115955</td>\n",
       "        </tr>\n",
       "        <tr>\n",
       "            <td>{\"ip_user_ucnt\":{\"group\":\"119.147.71.133\",\"uv\":3,\"pv\":1,\"gpv\":5,\"timestamp\":\"1734430922\",\"v\":\"13625643658\",\"vidle\":0,\"gidle\":9085},\"white_list\":{\"result\":false},\"black_list\":{\"result\":false},\"user_ip_ucnt\":{\"gpv\":4,\"gidle\":18244,\"group\":\"13625643658\",\"timestamp\":\"1734430922\",\"uv\":2,\"v\":\"119.147.71.133\",\"vidle\":0,\"pv\":1},\"register_result\":[\"注册ip变更\",\"单一ip下多个用户注册\",\"单一用户下多个ip注册\"],\"ip\":\"119.147.71.133\",\"user\":\"13625643658\",\"ipcnt\":{\"counter\":5,\"timestamp\":\"1734430922\",\"idle\":9085,\"v\":\"119.147.71.133\"},\"send_email\":null}</td>\n",
       "            <td>119.147.71.133</td>\n",
       "            <td>13625643658</td>\n",
       "        </tr>\n",
       "        <tr>\n",
       "            <td>{\"ip_user_ucnt\":{\"group\":\"111.85.210.139\",\"uv\":1,\"pv\":4,\"gpv\":5,\"timestamp\":\"1734430931\",\"v\":\"13625643658\",\"vidle\":27326,\"gidle\":27326},\"white_list\":{\"result\":false},\"black_list\":{\"result\":false},\"user_ip_ucnt\":{\"gpv\":5,\"gidle\":9082,\"group\":\"13625643658\",\"timestamp\":\"1734430931\",\"uv\":2,\"v\":\"111.85.210.139\",\"vidle\":27326,\"pv\":4},\"register_result\":[\"注册ip变更\",\"单一用户下多个ip注册\"],\"ip\":\"111.85.210.139\",\"user\":\"13625643658\",\"ipcnt\":{\"counter\":6,\"timestamp\":\"1734430931\",\"idle\":27326,\"v\":\"111.85.210.139\"},\"send_email\":null}</td>\n",
       "            <td>111.85.210.139</td>\n",
       "            <td>13625643658</td>\n",
       "        </tr>\n",
       "        <tr>\n",
       "            <td>{\"ip_user_ucnt\":{\"group\":\"111.85.210.139\",\"uv\":2,\"pv\":1,\"gpv\":6,\"timestamp\":\"1734430933\",\"v\":\"13309671584\",\"vidle\":0,\"gidle\":1073},\"white_list\":{\"result\":false},\"black_list\":{\"result\":false},\"user_ip_ucnt\":{\"gpv\":3,\"gidle\":21319,\"group\":\"13309671584\",\"timestamp\":\"1734430933\",\"uv\":2,\"v\":\"111.85.210.139\",\"vidle\":0,\"pv\":1},\"register_result\":[\"注册ip变更\",\"单一ip下多个用户注册\",\"单一用户下多个ip注册\"],\"ip\":\"111.85.210.139\",\"user\":\"13309671584\",\"ipcnt\":{\"counter\":7,\"timestamp\":\"1734430933\",\"idle\":1074,\"v\":\"111.85.210.139\"},\"send_email\":null}</td>\n",
       "            <td>111.85.210.139</td>\n",
       "            <td>13309671584</td>\n",
       "        </tr>\n",
       "        <tr>\n",
       "            <td>{\"ip_user_ucnt\":{\"group\":\"119.147.71.133\",\"uv\":3,\"pv\":3,\"gpv\":6,\"timestamp\":\"1734430935\",\"v\":\"13309671584\",\"vidle\":23395,\"gidle\":12231},\"white_list\":{\"result\":false},\"black_list\":{\"result\":false},\"user_ip_ucnt\":{\"gpv\":4,\"gidle\":2076,\"group\":\"13309671584\",\"timestamp\":\"1734430935\",\"uv\":2,\"v\":\"119.147.71.133\",\"vidle\":23395,\"pv\":3},\"register_result\":[\"注册ip变更\",\"单一ip下多个用户注册\",\"单一用户下多个ip注册\"],\"ip\":\"119.147.71.133\",\"user\":\"13309671584\",\"ipcnt\":{\"counter\":6,\"timestamp\":\"1734430935\",\"idle\":12231,\"v\":\"119.147.71.133\"},\"send_email\":null}</td>\n",
       "            <td>119.147.71.133</td>\n",
       "            <td>13309671584</td>\n",
       "        </tr>\n",
       "        <tr>\n",
       "            <td>{\"ip_user_ucnt\":{\"group\":\"119.147.71.133\",\"uv\":3,\"pv\":4,\"gpv\":7,\"timestamp\":\"1734430941\",\"v\":\"13309671584\",\"vidle\":6073,\"gidle\":6073},\"white_list\":{\"result\":false},\"black_list\":{\"result\":false},\"user_ip_ucnt\":{\"gpv\":5,\"gidle\":6073,\"group\":\"13309671584\",\"timestamp\":\"1734430941\",\"uv\":2,\"v\":\"119.147.71.133\",\"vidle\":6073,\"pv\":4},\"register_result\":[\"注册ip变更\",\"单一ip下多个用户注册\",\"单一用户下多个ip注册\"],\"ip\":\"119.147.71.133\",\"user\":\"13309671584\",\"ipcnt\":{\"counter\":7,\"timestamp\":\"1734430941\",\"idle\":6073,\"v\":\"119.147.71.133\"},\"send_email\":null}</td>\n",
       "            <td>119.147.71.133</td>\n",
       "            <td>13309671584</td>\n",
       "        </tr>\n",
       "        <tr>\n",
       "            <td>{\"ip_user_ucnt\":{\"group\":\"119.147.71.133\",\"uv\":3,\"pv\":3,\"gpv\":8,\"timestamp\":\"1734430944\",\"v\":\"17707115955\",\"vidle\":30472,\"gidle\":3083},\"white_list\":{\"result\":false},\"black_list\":{\"result\":false},\"user_ip_ucnt\":{\"gpv\":3,\"gidle\":30471,\"group\":\"17707115955\",\"timestamp\":\"1734430944\",\"uv\":1,\"v\":\"119.147.71.133\",\"vidle\":30471,\"pv\":3},\"register_result\":[\"注册ip变更\",\"单一ip下多个用户注册\"],\"ip\":\"119.147.71.133\",\"user\":\"17707115955\",\"ipcnt\":{\"counter\":8,\"timestamp\":\"1734430944\",\"idle\":3082,\"v\":\"119.147.71.133\"},\"send_email\":null}</td>\n",
       "            <td>119.147.71.133</td>\n",
       "            <td>17707115955</td>\n",
       "        </tr>\n",
       "        <tr>\n",
       "            <td>{\"ip_user_ucnt\":{\"group\":\"111.85.210.139\",\"uv\":2,\"pv\":3,\"gpv\":5,\"timestamp\":\"1734430951\",\"v\":\"13625643658\",\"vidle\":19388,\"gidle\":18315},\"white_list\":{\"result\":false},\"black_list\":{\"result\":false},\"user_ip_ucnt\":{\"gpv\":4,\"gidle\":19388,\"group\":\"13625643658\",\"timestamp\":\"1734430951\",\"uv\":1,\"v\":\"111.85.210.139\",\"vidle\":19388,\"pv\":3},\"register_result\":[\"注册ip变更\",\"单一ip下多个用户注册\"],\"ip\":\"111.85.210.139\",\"user\":\"13625643658\",\"ipcnt\":{\"counter\":8,\"timestamp\":\"1734430951\",\"idle\":18314,\"v\":\"111.85.210.139\"},\"send_email\":null}</td>\n",
       "            <td>111.85.210.139</td>\n",
       "            <td>13625643658</td>\n",
       "        </tr>\n",
       "        <tr>\n",
       "            <td>{\"ip_user_ucnt\":{\"group\":\"111.85.210.139\",\"uv\":1,\"pv\":4,\"gpv\":6,\"timestamp\":\"1734430955\",\"v\":\"13625643658\",\"vidle\":4079,\"gidle\":4079},\"white_list\":{\"result\":false},\"black_list\":{\"result\":false},\"user_ip_ucnt\":{\"gpv\":5,\"gidle\":4079,\"group\":\"13625643658\",\"timestamp\":\"1734430955\",\"uv\":1,\"v\":\"111.85.210.139\",\"vidle\":4079,\"pv\":4},\"register_result\":[\"注册ip变更\"],\"ip\":\"111.85.210.139\",\"user\":\"13625643658\",\"ipcnt\":{\"counter\":9,\"timestamp\":\"1734430955\",\"idle\":4079,\"v\":\"111.85.210.139\"},\"send_email\":null}</td>\n",
       "            <td>111.85.210.139</td>\n",
       "            <td>13625643658</td>\n",
       "        </tr>\n",
       "        <tr>\n",
       "            <td>{\"ip_user_ucnt\":{\"group\":\"111.85.210.139\",\"uv\":1,\"pv\":2,\"gpv\":6,\"timestamp\":\"1734430961\",\"v\":\"13309671584\",\"vidle\":28473,\"gidle\":6079},\"white_list\":{\"result\":false},\"black_list\":{\"result\":false},\"user_ip_ucnt\":{\"gpv\":6,\"gidle\":20324,\"group\":\"13309671584\",\"timestamp\":\"1734430961\",\"uv\":2,\"v\":\"111.85.210.139\",\"vidle\":28473,\"pv\":2},\"register_result\":[\"注册ip变更\",\"单一用户下多个ip注册\"],\"ip\":\"111.85.210.139\",\"user\":\"13309671584\",\"ipcnt\":{\"counter\":10,\"timestamp\":\"1734430961\",\"idle\":6079,\"v\":\"111.85.210.139\"},\"send_email\":null}</td>\n",
       "            <td>111.85.210.139</td>\n",
       "            <td>13309671584</td>\n",
       "        </tr>\n",
       "        <tr>\n",
       "            <td>{\"ip_user_ucnt\":{\"group\":\"111.85.210.139\",\"uv\":2,\"pv\":1,\"gpv\":7,\"timestamp\":\"1734430970\",\"v\":\"17707115955\",\"vidle\":0,\"gidle\":9072},\"white_list\":{\"result\":false},\"black_list\":{\"result\":false},\"user_ip_ucnt\":{\"gpv\":2,\"gidle\":26314,\"group\":\"17707115955\",\"timestamp\":\"1734430970\",\"uv\":1,\"v\":\"111.85.210.139\",\"vidle\":0,\"pv\":1},\"register_result\":[\"注册ip变更\",\"单一ip下多个用户注册\"],\"ip\":\"111.85.210.139\",\"user\":\"17707115955\",\"ipcnt\":{\"counter\":11,\"timestamp\":\"1734430970\",\"idle\":9072,\"v\":\"111.85.210.139\"},\"send_email\":{\"message\":\"success\"}}</td>\n",
       "            <td>111.85.210.139</td>\n",
       "            <td>17707115955</td>\n",
       "        </tr>\n",
       "        <tr>\n",
       "            <td>{\"ip_user_ucnt\":{\"group\":\"119.147.71.133\",\"uv\":1,\"pv\":4,\"gpv\":5,\"timestamp\":\"1734430971\",\"v\":\"13309671584\",\"vidle\":30606,\"gidle\":27523},\"white_list\":{\"result\":false},\"black_list\":{\"result\":false},\"user_ip_ucnt\":{\"gpv\":6,\"gidle\":10282,\"group\":\"13309671584\",\"timestamp\":\"1734430971\",\"uv\":1,\"v\":\"119.147.71.133\",\"vidle\":30606,\"pv\":4},\"register_result\":[\"注册ip变更\"],\"ip\":\"119.147.71.133\",\"user\":\"13309671584\",\"ipcnt\":{\"counter\":9,\"timestamp\":\"1734430971\",\"idle\":27525,\"v\":\"119.147.71.133\"},\"send_email\":null}</td>\n",
       "            <td>119.147.71.133</td>\n",
       "            <td>13309671584</td>\n",
       "        </tr>\n",
       "        <tr>\n",
       "            <td>{\"ip_user_ucnt\":{\"group\":\"111.85.210.139\",\"uv\":2,\"pv\":2,\"gpv\":7,\"timestamp\":\"1734430976\",\"v\":\"17707115955\",\"vidle\":6286,\"gidle\":6286},\"white_list\":{\"result\":false},\"black_list\":{\"result\":false},\"user_ip_ucnt\":{\"gpv\":3,\"gidle\":6286,\"group\":\"17707115955\",\"timestamp\":\"1734430976\",\"uv\":1,\"v\":\"111.85.210.139\",\"vidle\":6286,\"pv\":2},\"register_result\":[\"注册ip变更\",\"单一ip下多个用户注册\"],\"ip\":\"111.85.210.139\",\"user\":\"17707115955\",\"ipcnt\":{\"counter\":12,\"timestamp\":\"1734430976\",\"idle\":6286,\"v\":\"111.85.210.139\"},\"send_email\":{\"message\":\"success\"}}</td>\n",
       "            <td>111.85.210.139</td>\n",
       "            <td>17707115955</td>\n",
       "        </tr>\n",
       "    </tbody>\n",
       "</table>"
      ],
      "text/plain": [
       "+-------------------------------------------------------------------------------------------------------------------------------------------------------------------------------------------------------------------------------------------------------------------------------------------------------------------------------------------------------------------------------------------------------------------------------------------------------------------------------------------------------------------------------------------------------------------------+----------------+-------------+\n",
       "|                                                                                                                                                                                                                                                                                  result                                                                                                                                                                                                                                                                                 |       ip       |     user    |\n",
       "+-------------------------------------------------------------------------------------------------------------------------------------------------------------------------------------------------------------------------------------------------------------------------------------------------------------------------------------------------------------------------------------------------------------------------------------------------------------------------------------------------------------------------------------------------------------------------+----------------+-------------+\n",
       "|                  {\"ip_user_ucnt\":{\"group\":\"111.85.210.139\",\"uv\":2,\"pv\":1,\"gpv\":2,\"timestamp\":\"1734430876\",\"v\":\"13625643658\",\"vidle\":0,\"gidle\":13409},\"white_list\":{\"result\":false},\"black_list\":{\"result\":false},\"user_ip_ucnt\":{\"gpv\":1,\"gidle\":0,\"group\":\"13625643658\",\"timestamp\":\"1734430876\",\"uv\":1,\"v\":\"111.85.210.139\",\"vidle\":0,\"pv\":1},\"register_result\":[\"注册ip变更\",\"单一ip下多个用户注册\"],\"ip\":\"111.85.210.139\",\"user\":\"13625643658\",\"ipcnt\":{\"counter\":2,\"timestamp\":\"1734430876\",\"idle\":13409,\"v\":\"111.85.210.139\"},\"send_email\":null}                  | 111.85.210.139 | 13625643658 |\n",
       "|               {\"ip_user_ucnt\":{\"group\":\"111.85.210.139\",\"uv\":2,\"pv\":2,\"gpv\":3,\"timestamp\":\"1734430879\",\"v\":\"13625643658\",\"vidle\":3081,\"gidle\":3081},\"white_list\":{\"result\":false},\"black_list\":{\"result\":false},\"user_ip_ucnt\":{\"gpv\":2,\"gidle\":3081,\"group\":\"13625643658\",\"timestamp\":\"1734430879\",\"uv\":1,\"v\":\"111.85.210.139\",\"vidle\":3081,\"pv\":2},\"register_result\":[\"注册ip变更\",\"单一ip下多个用户注册\"],\"ip\":\"111.85.210.139\",\"user\":\"13625643658\",\"ipcnt\":{\"counter\":3,\"timestamp\":\"1734430879\",\"idle\":3081,\"v\":\"111.85.210.139\"},\"send_email\":null}              | 111.85.210.139 | 13625643658 |\n",
       "|                           {\"ip_user_ucnt\":{\"group\":\"119.147.71.133\",\"uv\":1,\"pv\":1,\"gpv\":1,\"timestamp\":\"1734430884\",\"v\":\"17707115955\",\"vidle\":0,\"gidle\":0},\"white_list\":{\"result\":false},\"black_list\":{\"result\":false},\"user_ip_ucnt\":{\"gpv\":2,\"gidle\":21569,\"group\":\"17707115955\",\"timestamp\":\"1734430884\",\"uv\":2,\"v\":\"119.147.71.133\",\"vidle\":0,\"pv\":1},\"register_result\":[\"单一用户下多个ip注册\"],\"ip\":\"119.147.71.133\",\"user\":\"17707115955\",\"ipcnt\":{\"counter\":1,\"timestamp\":\"1734430884\",\"idle\":0,\"v\":\"119.147.71.133\"},\"send_email\":null}                          | 119.147.71.133 | 17707115955 |\n",
       "| {\"ip_user_ucnt\":{\"group\":\"111.85.210.139\",\"uv\":2,\"pv\":2,\"gpv\":4,\"timestamp\":\"1734430893\",\"v\":\"17707115955\",\"vidle\":30644,\"gidle\":14154},\"white_list\":{\"result\":false},\"black_list\":{\"result\":false},\"user_ip_ucnt\":{\"gpv\":3,\"gidle\":9075,\"group\":\"17707115955\",\"timestamp\":\"1734430893\",\"uv\":2,\"v\":\"111.85.210.139\",\"vidle\":30644,\"pv\":2},\"register_result\":[\"注册ip变更\",\"单一ip下多个用户注册\",\"单一用户下多个ip注册\"],\"ip\":\"111.85.210.139\",\"user\":\"17707115955\",\"ipcnt\":{\"counter\":4,\"timestamp\":\"1734430893\",\"idle\":14154,\"v\":\"111.85.210.139\"},\"send_email\":null} | 111.85.210.139 | 17707115955 |\n",
       "|                  {\"ip_user_ucnt\":{\"group\":\"119.147.71.133\",\"uv\":2,\"pv\":1,\"gpv\":2,\"timestamp\":\"1734430902\",\"v\":\"13309671584\",\"vidle\":0,\"gidle\":18152},\"white_list\":{\"result\":false},\"black_list\":{\"result\":false},\"user_ip_ucnt\":{\"gpv\":1,\"gidle\":0,\"group\":\"13309671584\",\"timestamp\":\"1734430902\",\"uv\":1,\"v\":\"119.147.71.133\",\"vidle\":0,\"pv\":1},\"register_result\":[\"注册ip变更\",\"单一ip下多个用户注册\"],\"ip\":\"119.147.71.133\",\"user\":\"13309671584\",\"ipcnt\":{\"counter\":2,\"timestamp\":\"1734430902\",\"idle\":18152,\"v\":\"119.147.71.133\"},\"send_email\":null}                  | 119.147.71.133 | 13309671584 |\n",
       "|            {\"ip_user_ucnt\":{\"group\":\"111.85.210.139\",\"uv\":2,\"pv\":3,\"gpv\":5,\"timestamp\":\"1734430904\",\"v\":\"13625643658\",\"vidle\":25310,\"gidle\":11156},\"white_list\":{\"result\":false},\"black_list\":{\"result\":false},\"user_ip_ucnt\":{\"gpv\":3,\"gidle\":25310,\"group\":\"13625643658\",\"timestamp\":\"1734430904\",\"uv\":1,\"v\":\"111.85.210.139\",\"vidle\":25310,\"pv\":3},\"register_result\":[\"注册ip变更\",\"单一ip下多个用户注册\"],\"ip\":\"111.85.210.139\",\"user\":\"13625643658\",\"ipcnt\":{\"counter\":5,\"timestamp\":\"1734430904\",\"idle\":11156,\"v\":\"111.85.210.139\"},\"send_email\":null}            | 111.85.210.139 | 13625643658 |\n",
       "|               {\"ip_user_ucnt\":{\"group\":\"119.147.71.133\",\"uv\":2,\"pv\":2,\"gpv\":3,\"timestamp\":\"1734430911\",\"v\":\"13309671584\",\"vidle\":9159,\"gidle\":9159},\"white_list\":{\"result\":false},\"black_list\":{\"result\":false},\"user_ip_ucnt\":{\"gpv\":2,\"gidle\":9159,\"group\":\"13309671584\",\"timestamp\":\"1734430911\",\"uv\":1,\"v\":\"119.147.71.133\",\"vidle\":9159,\"pv\":2},\"register_result\":[\"注册ip变更\",\"单一ip下多个用户注册\"],\"ip\":\"119.147.71.133\",\"user\":\"13309671584\",\"ipcnt\":{\"counter\":3,\"timestamp\":\"1734430911\",\"idle\":9159,\"v\":\"119.147.71.133\"},\"send_email\":null}              | 119.147.71.133 | 13309671584 |\n",
       "|  {\"ip_user_ucnt\":{\"group\":\"119.147.71.133\",\"uv\":2,\"pv\":2,\"gpv\":4,\"timestamp\":\"1734430913\",\"v\":\"17707115955\",\"vidle\":29390,\"gidle\":2079},\"white_list\":{\"result\":false},\"black_list\":{\"result\":false},\"user_ip_ucnt\":{\"gpv\":4,\"gidle\":20315,\"group\":\"17707115955\",\"timestamp\":\"1734430913\",\"uv\":2,\"v\":\"119.147.71.133\",\"vidle\":29390,\"pv\":2},\"register_result\":[\"注册ip变更\",\"单一ip下多个用户注册\",\"单一用户下多个ip注册\"],\"ip\":\"119.147.71.133\",\"user\":\"17707115955\",\"ipcnt\":{\"counter\":4,\"timestamp\":\"1734430913\",\"idle\":2079,\"v\":\"119.147.71.133\"},\"send_email\":null} | 119.147.71.133 | 17707115955 |\n",
       "|      {\"ip_user_ucnt\":{\"group\":\"119.147.71.133\",\"uv\":3,\"pv\":1,\"gpv\":5,\"timestamp\":\"1734430922\",\"v\":\"13625643658\",\"vidle\":0,\"gidle\":9085},\"white_list\":{\"result\":false},\"black_list\":{\"result\":false},\"user_ip_ucnt\":{\"gpv\":4,\"gidle\":18244,\"group\":\"13625643658\",\"timestamp\":\"1734430922\",\"uv\":2,\"v\":\"119.147.71.133\",\"vidle\":0,\"pv\":1},\"register_result\":[\"注册ip变更\",\"单一ip下多个用户注册\",\"单一用户下多个ip注册\"],\"ip\":\"119.147.71.133\",\"user\":\"13625643658\",\"ipcnt\":{\"counter\":5,\"timestamp\":\"1734430922\",\"idle\":9085,\"v\":\"119.147.71.133\"},\"send_email\":null}     | 119.147.71.133 | 13625643658 |\n",
       "|             {\"ip_user_ucnt\":{\"group\":\"111.85.210.139\",\"uv\":1,\"pv\":4,\"gpv\":5,\"timestamp\":\"1734430931\",\"v\":\"13625643658\",\"vidle\":27326,\"gidle\":27326},\"white_list\":{\"result\":false},\"black_list\":{\"result\":false},\"user_ip_ucnt\":{\"gpv\":5,\"gidle\":9082,\"group\":\"13625643658\",\"timestamp\":\"1734430931\",\"uv\":2,\"v\":\"111.85.210.139\",\"vidle\":27326,\"pv\":4},\"register_result\":[\"注册ip变更\",\"单一用户下多个ip注册\"],\"ip\":\"111.85.210.139\",\"user\":\"13625643658\",\"ipcnt\":{\"counter\":6,\"timestamp\":\"1734430931\",\"idle\":27326,\"v\":\"111.85.210.139\"},\"send_email\":null}            | 111.85.210.139 | 13625643658 |\n",
       "|      {\"ip_user_ucnt\":{\"group\":\"111.85.210.139\",\"uv\":2,\"pv\":1,\"gpv\":6,\"timestamp\":\"1734430933\",\"v\":\"13309671584\",\"vidle\":0,\"gidle\":1073},\"white_list\":{\"result\":false},\"black_list\":{\"result\":false},\"user_ip_ucnt\":{\"gpv\":3,\"gidle\":21319,\"group\":\"13309671584\",\"timestamp\":\"1734430933\",\"uv\":2,\"v\":\"111.85.210.139\",\"vidle\":0,\"pv\":1},\"register_result\":[\"注册ip变更\",\"单一ip下多个用户注册\",\"单一用户下多个ip注册\"],\"ip\":\"111.85.210.139\",\"user\":\"13309671584\",\"ipcnt\":{\"counter\":7,\"timestamp\":\"1734430933\",\"idle\":1074,\"v\":\"111.85.210.139\"},\"send_email\":null}     | 111.85.210.139 | 13309671584 |\n",
       "| {\"ip_user_ucnt\":{\"group\":\"119.147.71.133\",\"uv\":3,\"pv\":3,\"gpv\":6,\"timestamp\":\"1734430935\",\"v\":\"13309671584\",\"vidle\":23395,\"gidle\":12231},\"white_list\":{\"result\":false},\"black_list\":{\"result\":false},\"user_ip_ucnt\":{\"gpv\":4,\"gidle\":2076,\"group\":\"13309671584\",\"timestamp\":\"1734430935\",\"uv\":2,\"v\":\"119.147.71.133\",\"vidle\":23395,\"pv\":3},\"register_result\":[\"注册ip变更\",\"单一ip下多个用户注册\",\"单一用户下多个ip注册\"],\"ip\":\"119.147.71.133\",\"user\":\"13309671584\",\"ipcnt\":{\"counter\":6,\"timestamp\":\"1734430935\",\"idle\":12231,\"v\":\"119.147.71.133\"},\"send_email\":null} | 119.147.71.133 | 13309671584 |\n",
       "|   {\"ip_user_ucnt\":{\"group\":\"119.147.71.133\",\"uv\":3,\"pv\":4,\"gpv\":7,\"timestamp\":\"1734430941\",\"v\":\"13309671584\",\"vidle\":6073,\"gidle\":6073},\"white_list\":{\"result\":false},\"black_list\":{\"result\":false},\"user_ip_ucnt\":{\"gpv\":5,\"gidle\":6073,\"group\":\"13309671584\",\"timestamp\":\"1734430941\",\"uv\":2,\"v\":\"119.147.71.133\",\"vidle\":6073,\"pv\":4},\"register_result\":[\"注册ip变更\",\"单一ip下多个用户注册\",\"单一用户下多个ip注册\"],\"ip\":\"119.147.71.133\",\"user\":\"13309671584\",\"ipcnt\":{\"counter\":7,\"timestamp\":\"1734430941\",\"idle\":6073,\"v\":\"119.147.71.133\"},\"send_email\":null}   | 119.147.71.133 | 13309671584 |\n",
       "|             {\"ip_user_ucnt\":{\"group\":\"119.147.71.133\",\"uv\":3,\"pv\":3,\"gpv\":8,\"timestamp\":\"1734430944\",\"v\":\"17707115955\",\"vidle\":30472,\"gidle\":3083},\"white_list\":{\"result\":false},\"black_list\":{\"result\":false},\"user_ip_ucnt\":{\"gpv\":3,\"gidle\":30471,\"group\":\"17707115955\",\"timestamp\":\"1734430944\",\"uv\":1,\"v\":\"119.147.71.133\",\"vidle\":30471,\"pv\":3},\"register_result\":[\"注册ip变更\",\"单一ip下多个用户注册\"],\"ip\":\"119.147.71.133\",\"user\":\"17707115955\",\"ipcnt\":{\"counter\":8,\"timestamp\":\"1734430944\",\"idle\":3082,\"v\":\"119.147.71.133\"},\"send_email\":null}             | 119.147.71.133 | 17707115955 |\n",
       "|            {\"ip_user_ucnt\":{\"group\":\"111.85.210.139\",\"uv\":2,\"pv\":3,\"gpv\":5,\"timestamp\":\"1734430951\",\"v\":\"13625643658\",\"vidle\":19388,\"gidle\":18315},\"white_list\":{\"result\":false},\"black_list\":{\"result\":false},\"user_ip_ucnt\":{\"gpv\":4,\"gidle\":19388,\"group\":\"13625643658\",\"timestamp\":\"1734430951\",\"uv\":1,\"v\":\"111.85.210.139\",\"vidle\":19388,\"pv\":3},\"register_result\":[\"注册ip变更\",\"单一ip下多个用户注册\"],\"ip\":\"111.85.210.139\",\"user\":\"13625643658\",\"ipcnt\":{\"counter\":8,\"timestamp\":\"1734430951\",\"idle\":18314,\"v\":\"111.85.210.139\"},\"send_email\":null}            | 111.85.210.139 | 13625643658 |\n",
       "|                          {\"ip_user_ucnt\":{\"group\":\"111.85.210.139\",\"uv\":1,\"pv\":4,\"gpv\":6,\"timestamp\":\"1734430955\",\"v\":\"13625643658\",\"vidle\":4079,\"gidle\":4079},\"white_list\":{\"result\":false},\"black_list\":{\"result\":false},\"user_ip_ucnt\":{\"gpv\":5,\"gidle\":4079,\"group\":\"13625643658\",\"timestamp\":\"1734430955\",\"uv\":1,\"v\":\"111.85.210.139\",\"vidle\":4079,\"pv\":4},\"register_result\":[\"注册ip变更\"],\"ip\":\"111.85.210.139\",\"user\":\"13625643658\",\"ipcnt\":{\"counter\":9,\"timestamp\":\"1734430955\",\"idle\":4079,\"v\":\"111.85.210.139\"},\"send_email\":null}                          | 111.85.210.139 | 13625643658 |\n",
       "|             {\"ip_user_ucnt\":{\"group\":\"111.85.210.139\",\"uv\":1,\"pv\":2,\"gpv\":6,\"timestamp\":\"1734430961\",\"v\":\"13309671584\",\"vidle\":28473,\"gidle\":6079},\"white_list\":{\"result\":false},\"black_list\":{\"result\":false},\"user_ip_ucnt\":{\"gpv\":6,\"gidle\":20324,\"group\":\"13309671584\",\"timestamp\":\"1734430961\",\"uv\":2,\"v\":\"111.85.210.139\",\"vidle\":28473,\"pv\":2},\"register_result\":[\"注册ip变更\",\"单一用户下多个ip注册\"],\"ip\":\"111.85.210.139\",\"user\":\"13309671584\",\"ipcnt\":{\"counter\":10,\"timestamp\":\"1734430961\",\"idle\":6079,\"v\":\"111.85.210.139\"},\"send_email\":null}            | 111.85.210.139 | 13309671584 |\n",
       "|        {\"ip_user_ucnt\":{\"group\":\"111.85.210.139\",\"uv\":2,\"pv\":1,\"gpv\":7,\"timestamp\":\"1734430970\",\"v\":\"17707115955\",\"vidle\":0,\"gidle\":9072},\"white_list\":{\"result\":false},\"black_list\":{\"result\":false},\"user_ip_ucnt\":{\"gpv\":2,\"gidle\":26314,\"group\":\"17707115955\",\"timestamp\":\"1734430970\",\"uv\":1,\"v\":\"111.85.210.139\",\"vidle\":0,\"pv\":1},\"register_result\":[\"注册ip变更\",\"单一ip下多个用户注册\"],\"ip\":\"111.85.210.139\",\"user\":\"17707115955\",\"ipcnt\":{\"counter\":11,\"timestamp\":\"1734430970\",\"idle\":9072,\"v\":\"111.85.210.139\"},\"send_email\":{\"message\":\"success\"}}        | 111.85.210.139 | 17707115955 |\n",
       "|                        {\"ip_user_ucnt\":{\"group\":\"119.147.71.133\",\"uv\":1,\"pv\":4,\"gpv\":5,\"timestamp\":\"1734430971\",\"v\":\"13309671584\",\"vidle\":30606,\"gidle\":27523},\"white_list\":{\"result\":false},\"black_list\":{\"result\":false},\"user_ip_ucnt\":{\"gpv\":6,\"gidle\":10282,\"group\":\"13309671584\",\"timestamp\":\"1734430971\",\"uv\":1,\"v\":\"119.147.71.133\",\"vidle\":30606,\"pv\":4},\"register_result\":[\"注册ip变更\"],\"ip\":\"119.147.71.133\",\"user\":\"13309671584\",\"ipcnt\":{\"counter\":9,\"timestamp\":\"1734430971\",\"idle\":27525,\"v\":\"119.147.71.133\"},\"send_email\":null}                       | 119.147.71.133 | 13309671584 |\n",
       "|      {\"ip_user_ucnt\":{\"group\":\"111.85.210.139\",\"uv\":2,\"pv\":2,\"gpv\":7,\"timestamp\":\"1734430976\",\"v\":\"17707115955\",\"vidle\":6286,\"gidle\":6286},\"white_list\":{\"result\":false},\"black_list\":{\"result\":false},\"user_ip_ucnt\":{\"gpv\":3,\"gidle\":6286,\"group\":\"17707115955\",\"timestamp\":\"1734430976\",\"uv\":1,\"v\":\"111.85.210.139\",\"vidle\":6286,\"pv\":2},\"register_result\":[\"注册ip变更\",\"单一ip下多个用户注册\"],\"ip\":\"111.85.210.139\",\"user\":\"17707115955\",\"ipcnt\":{\"counter\":12,\"timestamp\":\"1734430976\",\"idle\":6286,\"v\":\"111.85.210.139\"},\"send_email\":{\"message\":\"success\"}}     | 111.85.210.139 | 17707115955 |\n",
       "+-------------------------------------------------------------------------------------------------------------------------------------------------------------------------------------------------------------------------------------------------------------------------------------------------------------------------------------------------------------------------------------------------------------------------------------------------------------------------------------------------------------------------------------------------------------------------+----------------+-------------+"
      ]
     },
     "execution_count": 387,
     "metadata": {},
     "output_type": "execute_result"
    }
   ],
   "source": [
    "%%sql  \n",
    "SELECT \n",
    "    data ->>'$.result'as result,\n",
    "    data ->>'$.result.ip'as ip,\n",
    "    data ->>'$.result.user'as user \n",
    "from read_json(\"./register_rule_data.json\");"
   ]
  },
  {
   "cell_type": "code",
   "execution_count": 378,
   "id": "03579a89-0f25-4edf-a849-ba695753287a",
   "metadata": {},
   "outputs": [
    {
     "data": {
      "text/html": [
       "<span style=\"None\">Running query in &#x27;data_alys&#x27;</span>"
      ],
      "text/plain": [
       "Running query in 'data_alys'"
      ]
     },
     "metadata": {},
     "output_type": "display_data"
    },
    {
     "data": {
      "text/html": [
       "<table>\n",
       "    <thead>\n",
       "        <tr>\n",
       "            <th>Count</th>\n",
       "        </tr>\n",
       "    </thead>\n",
       "    <tbody>\n",
       "    </tbody>\n",
       "</table>"
      ],
      "text/plain": [
       "+-------+\n",
       "| Count |\n",
       "+-------+\n",
       "+-------+"
      ]
     },
     "execution_count": 378,
     "metadata": {},
     "output_type": "execute_result"
    }
   ],
   "source": [
    "%%sql \n",
    "CREATE TABLE regs as SELECT \n",
    "    to_timestamp((data ->>'$.result.ipcnt.timestamp')::int) as date,\n",
    "    CAST(data ->>'$.result.ipcnt.timestamp' as INTEGER) as op_timestamp, \n",
    "    data ->>'$.result.ip'as ip,data ->>'$.result.user'as user \n",
    "from read_json(\"./register_rule_data.json\");"
   ]
  },
  {
   "cell_type": "code",
   "execution_count": 379,
   "id": "c1a84ec0-7f0f-4472-8f57-4b54107f8865",
   "metadata": {},
   "outputs": [
    {
     "data": {
      "text/html": [
       "<span style=\"None\">Running query in &#x27;data_alys&#x27;</span>"
      ],
      "text/plain": [
       "Running query in 'data_alys'"
      ]
     },
     "metadata": {},
     "output_type": "display_data"
    },
    {
     "data": {
      "text/html": [
       "<table>\n",
       "    <thead>\n",
       "        <tr>\n",
       "            <th>date</th>\n",
       "            <th>op_timestamp</th>\n",
       "            <th>ip</th>\n",
       "            <th>user</th>\n",
       "        </tr>\n",
       "    </thead>\n",
       "    <tbody>\n",
       "        <tr>\n",
       "            <td>2024-12-17 10:21:16+00:00</td>\n",
       "            <td>1734430876</td>\n",
       "            <td>111.85.210.139</td>\n",
       "            <td>13625643658</td>\n",
       "        </tr>\n",
       "        <tr>\n",
       "            <td>2024-12-17 10:21:19+00:00</td>\n",
       "            <td>1734430879</td>\n",
       "            <td>111.85.210.139</td>\n",
       "            <td>13625643658</td>\n",
       "        </tr>\n",
       "        <tr>\n",
       "            <td>2024-12-17 10:21:24+00:00</td>\n",
       "            <td>1734430884</td>\n",
       "            <td>119.147.71.133</td>\n",
       "            <td>17707115955</td>\n",
       "        </tr>\n",
       "        <tr>\n",
       "            <td>2024-12-17 10:21:33+00:00</td>\n",
       "            <td>1734430893</td>\n",
       "            <td>111.85.210.139</td>\n",
       "            <td>17707115955</td>\n",
       "        </tr>\n",
       "        <tr>\n",
       "            <td>2024-12-17 10:21:42+00:00</td>\n",
       "            <td>1734430902</td>\n",
       "            <td>119.147.71.133</td>\n",
       "            <td>13309671584</td>\n",
       "        </tr>\n",
       "        <tr>\n",
       "            <td>2024-12-17 10:21:44+00:00</td>\n",
       "            <td>1734430904</td>\n",
       "            <td>111.85.210.139</td>\n",
       "            <td>13625643658</td>\n",
       "        </tr>\n",
       "        <tr>\n",
       "            <td>2024-12-17 10:21:51+00:00</td>\n",
       "            <td>1734430911</td>\n",
       "            <td>119.147.71.133</td>\n",
       "            <td>13309671584</td>\n",
       "        </tr>\n",
       "        <tr>\n",
       "            <td>2024-12-17 10:21:53+00:00</td>\n",
       "            <td>1734430913</td>\n",
       "            <td>119.147.71.133</td>\n",
       "            <td>17707115955</td>\n",
       "        </tr>\n",
       "        <tr>\n",
       "            <td>2024-12-17 10:22:02+00:00</td>\n",
       "            <td>1734430922</td>\n",
       "            <td>119.147.71.133</td>\n",
       "            <td>13625643658</td>\n",
       "        </tr>\n",
       "        <tr>\n",
       "            <td>2024-12-17 10:22:11+00:00</td>\n",
       "            <td>1734430931</td>\n",
       "            <td>111.85.210.139</td>\n",
       "            <td>13625643658</td>\n",
       "        </tr>\n",
       "        <tr>\n",
       "            <td>2024-12-17 10:22:13+00:00</td>\n",
       "            <td>1734430933</td>\n",
       "            <td>111.85.210.139</td>\n",
       "            <td>13309671584</td>\n",
       "        </tr>\n",
       "        <tr>\n",
       "            <td>2024-12-17 10:22:15+00:00</td>\n",
       "            <td>1734430935</td>\n",
       "            <td>119.147.71.133</td>\n",
       "            <td>13309671584</td>\n",
       "        </tr>\n",
       "        <tr>\n",
       "            <td>2024-12-17 10:22:21+00:00</td>\n",
       "            <td>1734430941</td>\n",
       "            <td>119.147.71.133</td>\n",
       "            <td>13309671584</td>\n",
       "        </tr>\n",
       "        <tr>\n",
       "            <td>2024-12-17 10:22:24+00:00</td>\n",
       "            <td>1734430944</td>\n",
       "            <td>119.147.71.133</td>\n",
       "            <td>17707115955</td>\n",
       "        </tr>\n",
       "        <tr>\n",
       "            <td>2024-12-17 10:22:31+00:00</td>\n",
       "            <td>1734430951</td>\n",
       "            <td>111.85.210.139</td>\n",
       "            <td>13625643658</td>\n",
       "        </tr>\n",
       "        <tr>\n",
       "            <td>2024-12-17 10:22:35+00:00</td>\n",
       "            <td>1734430955</td>\n",
       "            <td>111.85.210.139</td>\n",
       "            <td>13625643658</td>\n",
       "        </tr>\n",
       "        <tr>\n",
       "            <td>2024-12-17 10:22:41+00:00</td>\n",
       "            <td>1734430961</td>\n",
       "            <td>111.85.210.139</td>\n",
       "            <td>13309671584</td>\n",
       "        </tr>\n",
       "        <tr>\n",
       "            <td>2024-12-17 10:22:50+00:00</td>\n",
       "            <td>1734430970</td>\n",
       "            <td>111.85.210.139</td>\n",
       "            <td>17707115955</td>\n",
       "        </tr>\n",
       "        <tr>\n",
       "            <td>2024-12-17 10:22:51+00:00</td>\n",
       "            <td>1734430971</td>\n",
       "            <td>119.147.71.133</td>\n",
       "            <td>13309671584</td>\n",
       "        </tr>\n",
       "        <tr>\n",
       "            <td>2024-12-17 10:22:56+00:00</td>\n",
       "            <td>1734430976</td>\n",
       "            <td>111.85.210.139</td>\n",
       "            <td>17707115955</td>\n",
       "        </tr>\n",
       "    </tbody>\n",
       "</table>"
      ],
      "text/plain": [
       "+---------------------------+--------------+----------------+-------------+\n",
       "|            date           | op_timestamp |       ip       |     user    |\n",
       "+---------------------------+--------------+----------------+-------------+\n",
       "| 2024-12-17 10:21:16+00:00 |  1734430876  | 111.85.210.139 | 13625643658 |\n",
       "| 2024-12-17 10:21:19+00:00 |  1734430879  | 111.85.210.139 | 13625643658 |\n",
       "| 2024-12-17 10:21:24+00:00 |  1734430884  | 119.147.71.133 | 17707115955 |\n",
       "| 2024-12-17 10:21:33+00:00 |  1734430893  | 111.85.210.139 | 17707115955 |\n",
       "| 2024-12-17 10:21:42+00:00 |  1734430902  | 119.147.71.133 | 13309671584 |\n",
       "| 2024-12-17 10:21:44+00:00 |  1734430904  | 111.85.210.139 | 13625643658 |\n",
       "| 2024-12-17 10:21:51+00:00 |  1734430911  | 119.147.71.133 | 13309671584 |\n",
       "| 2024-12-17 10:21:53+00:00 |  1734430913  | 119.147.71.133 | 17707115955 |\n",
       "| 2024-12-17 10:22:02+00:00 |  1734430922  | 119.147.71.133 | 13625643658 |\n",
       "| 2024-12-17 10:22:11+00:00 |  1734430931  | 111.85.210.139 | 13625643658 |\n",
       "| 2024-12-17 10:22:13+00:00 |  1734430933  | 111.85.210.139 | 13309671584 |\n",
       "| 2024-12-17 10:22:15+00:00 |  1734430935  | 119.147.71.133 | 13309671584 |\n",
       "| 2024-12-17 10:22:21+00:00 |  1734430941  | 119.147.71.133 | 13309671584 |\n",
       "| 2024-12-17 10:22:24+00:00 |  1734430944  | 119.147.71.133 | 17707115955 |\n",
       "| 2024-12-17 10:22:31+00:00 |  1734430951  | 111.85.210.139 | 13625643658 |\n",
       "| 2024-12-17 10:22:35+00:00 |  1734430955  | 111.85.210.139 | 13625643658 |\n",
       "| 2024-12-17 10:22:41+00:00 |  1734430961  | 111.85.210.139 | 13309671584 |\n",
       "| 2024-12-17 10:22:50+00:00 |  1734430970  | 111.85.210.139 | 17707115955 |\n",
       "| 2024-12-17 10:22:51+00:00 |  1734430971  | 119.147.71.133 | 13309671584 |\n",
       "| 2024-12-17 10:22:56+00:00 |  1734430976  | 111.85.210.139 | 17707115955 |\n",
       "+---------------------------+--------------+----------------+-------------+"
      ]
     },
     "execution_count": 379,
     "metadata": {},
     "output_type": "execute_result"
    }
   ],
   "source": [
    "%sql select * from regs;"
   ]
  },
  {
   "cell_type": "code",
   "execution_count": 388,
   "id": "bbbcc773-30d6-4870-9f2e-046c3f147054",
   "metadata": {},
   "outputs": [
    {
     "data": {
      "text/html": [
       "<span style=\"None\">Running query in &#x27;data_alys&#x27;</span>"
      ],
      "text/plain": [
       "Running query in 'data_alys'"
      ]
     },
     "metadata": {},
     "output_type": "display_data"
    },
    {
     "data": {
      "text/html": [
       "<table>\n",
       "    <thead>\n",
       "        <tr>\n",
       "            <th>date</th>\n",
       "            <th>op_timestamp</th>\n",
       "            <th>ip</th>\n",
       "            <th>user</th>\n",
       "            <th>gpv_l1m</th>\n",
       "            <th>pv_l1m</th>\n",
       "            <th>uv_l1m</th>\n",
       "            <th>gidle</th>\n",
       "            <th>vidle</th>\n",
       "        </tr>\n",
       "    </thead>\n",
       "    <tbody>\n",
       "        <tr>\n",
       "            <td>2024-12-17 10:21:16+00:00</td>\n",
       "            <td>1734430876</td>\n",
       "            <td>111.85.210.139</td>\n",
       "            <td>13625643658</td>\n",
       "            <td>1</td>\n",
       "            <td>1</td>\n",
       "            <td>1</td>\n",
       "            <td>None</td>\n",
       "            <td>None</td>\n",
       "        </tr>\n",
       "        <tr>\n",
       "            <td>2024-12-17 10:21:19+00:00</td>\n",
       "            <td>1734430879</td>\n",
       "            <td>111.85.210.139</td>\n",
       "            <td>13625643658</td>\n",
       "            <td>2</td>\n",
       "            <td>2</td>\n",
       "            <td>1</td>\n",
       "            <td>3</td>\n",
       "            <td>3</td>\n",
       "        </tr>\n",
       "        <tr>\n",
       "            <td>2024-12-17 10:21:24+00:00</td>\n",
       "            <td>1734430884</td>\n",
       "            <td>119.147.71.133</td>\n",
       "            <td>17707115955</td>\n",
       "            <td>1</td>\n",
       "            <td>1</td>\n",
       "            <td>1</td>\n",
       "            <td>None</td>\n",
       "            <td>None</td>\n",
       "        </tr>\n",
       "        <tr>\n",
       "            <td>2024-12-17 10:21:33+00:00</td>\n",
       "            <td>1734430893</td>\n",
       "            <td>111.85.210.139</td>\n",
       "            <td>17707115955</td>\n",
       "            <td>3</td>\n",
       "            <td>1</td>\n",
       "            <td>2</td>\n",
       "            <td>14</td>\n",
       "            <td>None</td>\n",
       "        </tr>\n",
       "        <tr>\n",
       "            <td>2024-12-17 10:21:42+00:00</td>\n",
       "            <td>1734430902</td>\n",
       "            <td>119.147.71.133</td>\n",
       "            <td>13309671584</td>\n",
       "            <td>2</td>\n",
       "            <td>1</td>\n",
       "            <td>2</td>\n",
       "            <td>18</td>\n",
       "            <td>None</td>\n",
       "        </tr>\n",
       "        <tr>\n",
       "            <td>2024-12-17 10:21:44+00:00</td>\n",
       "            <td>1734430904</td>\n",
       "            <td>111.85.210.139</td>\n",
       "            <td>13625643658</td>\n",
       "            <td>4</td>\n",
       "            <td>3</td>\n",
       "            <td>2</td>\n",
       "            <td>11</td>\n",
       "            <td>25</td>\n",
       "        </tr>\n",
       "        <tr>\n",
       "            <td>2024-12-17 10:21:51+00:00</td>\n",
       "            <td>1734430911</td>\n",
       "            <td>119.147.71.133</td>\n",
       "            <td>13309671584</td>\n",
       "            <td>3</td>\n",
       "            <td>2</td>\n",
       "            <td>2</td>\n",
       "            <td>9</td>\n",
       "            <td>9</td>\n",
       "        </tr>\n",
       "        <tr>\n",
       "            <td>2024-12-17 10:21:53+00:00</td>\n",
       "            <td>1734430913</td>\n",
       "            <td>119.147.71.133</td>\n",
       "            <td>17707115955</td>\n",
       "            <td>4</td>\n",
       "            <td>2</td>\n",
       "            <td>2</td>\n",
       "            <td>2</td>\n",
       "            <td>29</td>\n",
       "        </tr>\n",
       "        <tr>\n",
       "            <td>2024-12-17 10:22:02+00:00</td>\n",
       "            <td>1734430922</td>\n",
       "            <td>119.147.71.133</td>\n",
       "            <td>13625643658</td>\n",
       "            <td>5</td>\n",
       "            <td>1</td>\n",
       "            <td>3</td>\n",
       "            <td>9</td>\n",
       "            <td>None</td>\n",
       "        </tr>\n",
       "        <tr>\n",
       "            <td>2024-12-17 10:22:11+00:00</td>\n",
       "            <td>1734430931</td>\n",
       "            <td>111.85.210.139</td>\n",
       "            <td>13625643658</td>\n",
       "            <td>5</td>\n",
       "            <td>4</td>\n",
       "            <td>2</td>\n",
       "            <td>27</td>\n",
       "            <td>27</td>\n",
       "        </tr>\n",
       "        <tr>\n",
       "            <td>2024-12-17 10:22:13+00:00</td>\n",
       "            <td>1734430933</td>\n",
       "            <td>111.85.210.139</td>\n",
       "            <td>13309671584</td>\n",
       "            <td>6</td>\n",
       "            <td>1</td>\n",
       "            <td>3</td>\n",
       "            <td>2</td>\n",
       "            <td>None</td>\n",
       "        </tr>\n",
       "        <tr>\n",
       "            <td>2024-12-17 10:22:15+00:00</td>\n",
       "            <td>1734430935</td>\n",
       "            <td>119.147.71.133</td>\n",
       "            <td>13309671584</td>\n",
       "            <td>6</td>\n",
       "            <td>3</td>\n",
       "            <td>3</td>\n",
       "            <td>13</td>\n",
       "            <td>24</td>\n",
       "        </tr>\n",
       "        <tr>\n",
       "            <td>2024-12-17 10:22:21+00:00</td>\n",
       "            <td>1734430941</td>\n",
       "            <td>119.147.71.133</td>\n",
       "            <td>13309671584</td>\n",
       "            <td>7</td>\n",
       "            <td>4</td>\n",
       "            <td>3</td>\n",
       "            <td>6</td>\n",
       "            <td>6</td>\n",
       "        </tr>\n",
       "        <tr>\n",
       "            <td>2024-12-17 10:22:24+00:00</td>\n",
       "            <td>1734430944</td>\n",
       "            <td>119.147.71.133</td>\n",
       "            <td>17707115955</td>\n",
       "            <td>8</td>\n",
       "            <td>3</td>\n",
       "            <td>3</td>\n",
       "            <td>3</td>\n",
       "            <td>31</td>\n",
       "        </tr>\n",
       "        <tr>\n",
       "            <td>2024-12-17 10:22:31+00:00</td>\n",
       "            <td>1734430951</td>\n",
       "            <td>111.85.210.139</td>\n",
       "            <td>13625643658</td>\n",
       "            <td>5</td>\n",
       "            <td>3</td>\n",
       "            <td>3</td>\n",
       "            <td>18</td>\n",
       "            <td>20</td>\n",
       "        </tr>\n",
       "        <tr>\n",
       "            <td>2024-12-17 10:22:35+00:00</td>\n",
       "            <td>1734430955</td>\n",
       "            <td>111.85.210.139</td>\n",
       "            <td>13625643658</td>\n",
       "            <td>5</td>\n",
       "            <td>4</td>\n",
       "            <td>2</td>\n",
       "            <td>4</td>\n",
       "            <td>4</td>\n",
       "        </tr>\n",
       "        <tr>\n",
       "            <td>2024-12-17 10:22:41+00:00</td>\n",
       "            <td>1734430961</td>\n",
       "            <td>111.85.210.139</td>\n",
       "            <td>13309671584</td>\n",
       "            <td>6</td>\n",
       "            <td>2</td>\n",
       "            <td>2</td>\n",
       "            <td>6</td>\n",
       "            <td>28</td>\n",
       "        </tr>\n",
       "        <tr>\n",
       "            <td>2024-12-17 10:22:50+00:00</td>\n",
       "            <td>1734430970</td>\n",
       "            <td>111.85.210.139</td>\n",
       "            <td>17707115955</td>\n",
       "            <td>6</td>\n",
       "            <td>1</td>\n",
       "            <td>3</td>\n",
       "            <td>9</td>\n",
       "            <td>77</td>\n",
       "        </tr>\n",
       "        <tr>\n",
       "            <td>2024-12-17 10:22:51+00:00</td>\n",
       "            <td>1734430971</td>\n",
       "            <td>119.147.71.133</td>\n",
       "            <td>13309671584</td>\n",
       "            <td>7</td>\n",
       "            <td>4</td>\n",
       "            <td>3</td>\n",
       "            <td>27</td>\n",
       "            <td>30</td>\n",
       "        </tr>\n",
       "        <tr>\n",
       "            <td>2024-12-17 10:22:56+00:00</td>\n",
       "            <td>1734430976</td>\n",
       "            <td>111.85.210.139</td>\n",
       "            <td>17707115955</td>\n",
       "            <td>7</td>\n",
       "            <td>2</td>\n",
       "            <td>3</td>\n",
       "            <td>6</td>\n",
       "            <td>6</td>\n",
       "        </tr>\n",
       "    </tbody>\n",
       "</table>"
      ],
      "text/plain": [
       "+---------------------------+--------------+----------------+-------------+---------+--------+--------+-------+-------+\n",
       "|            date           | op_timestamp |       ip       |     user    | gpv_l1m | pv_l1m | uv_l1m | gidle | vidle |\n",
       "+---------------------------+--------------+----------------+-------------+---------+--------+--------+-------+-------+\n",
       "| 2024-12-17 10:21:16+00:00 |  1734430876  | 111.85.210.139 | 13625643658 |    1    |   1    |   1    |  None |  None |\n",
       "| 2024-12-17 10:21:19+00:00 |  1734430879  | 111.85.210.139 | 13625643658 |    2    |   2    |   1    |   3   |   3   |\n",
       "| 2024-12-17 10:21:24+00:00 |  1734430884  | 119.147.71.133 | 17707115955 |    1    |   1    |   1    |  None |  None |\n",
       "| 2024-12-17 10:21:33+00:00 |  1734430893  | 111.85.210.139 | 17707115955 |    3    |   1    |   2    |   14  |  None |\n",
       "| 2024-12-17 10:21:42+00:00 |  1734430902  | 119.147.71.133 | 13309671584 |    2    |   1    |   2    |   18  |  None |\n",
       "| 2024-12-17 10:21:44+00:00 |  1734430904  | 111.85.210.139 | 13625643658 |    4    |   3    |   2    |   11  |   25  |\n",
       "| 2024-12-17 10:21:51+00:00 |  1734430911  | 119.147.71.133 | 13309671584 |    3    |   2    |   2    |   9   |   9   |\n",
       "| 2024-12-17 10:21:53+00:00 |  1734430913  | 119.147.71.133 | 17707115955 |    4    |   2    |   2    |   2   |   29  |\n",
       "| 2024-12-17 10:22:02+00:00 |  1734430922  | 119.147.71.133 | 13625643658 |    5    |   1    |   3    |   9   |  None |\n",
       "| 2024-12-17 10:22:11+00:00 |  1734430931  | 111.85.210.139 | 13625643658 |    5    |   4    |   2    |   27  |   27  |\n",
       "| 2024-12-17 10:22:13+00:00 |  1734430933  | 111.85.210.139 | 13309671584 |    6    |   1    |   3    |   2   |  None |\n",
       "| 2024-12-17 10:22:15+00:00 |  1734430935  | 119.147.71.133 | 13309671584 |    6    |   3    |   3    |   13  |   24  |\n",
       "| 2024-12-17 10:22:21+00:00 |  1734430941  | 119.147.71.133 | 13309671584 |    7    |   4    |   3    |   6   |   6   |\n",
       "| 2024-12-17 10:22:24+00:00 |  1734430944  | 119.147.71.133 | 17707115955 |    8    |   3    |   3    |   3   |   31  |\n",
       "| 2024-12-17 10:22:31+00:00 |  1734430951  | 111.85.210.139 | 13625643658 |    5    |   3    |   3    |   18  |   20  |\n",
       "| 2024-12-17 10:22:35+00:00 |  1734430955  | 111.85.210.139 | 13625643658 |    5    |   4    |   2    |   4   |   4   |\n",
       "| 2024-12-17 10:22:41+00:00 |  1734430961  | 111.85.210.139 | 13309671584 |    6    |   2    |   2    |   6   |   28  |\n",
       "| 2024-12-17 10:22:50+00:00 |  1734430970  | 111.85.210.139 | 17707115955 |    6    |   1    |   3    |   9   |   77  |\n",
       "| 2024-12-17 10:22:51+00:00 |  1734430971  | 119.147.71.133 | 13309671584 |    7    |   4    |   3    |   27  |   30  |\n",
       "| 2024-12-17 10:22:56+00:00 |  1734430976  | 111.85.210.139 | 17707115955 |    7    |   2    |   3    |   6   |   6   |\n",
       "+---------------------------+--------------+----------------+-------------+---------+--------+--------+-------+-------+"
      ]
     },
     "execution_count": 388,
     "metadata": {},
     "output_type": "execute_result"
    }
   ],
   "source": [
    "%%sql \n",
    "SELECT \n",
    "    date,\n",
    "    op_timestamp,\n",
    "    ip,\n",
    "    user,\n",
    "    COUNT(*) OVER gpv_rate AS gpv_l1m,COUNT(*) OVER pv_rate AS pv_l1m,\n",
    "    COUNT(distinct (user)) OVER uv_rate AS uv_l1m,\n",
    "    op_timestamp -lag(op_timestamp, 1) OVER gidle_res AS gidle,\n",
    "    op_timestamp -lag(op_timestamp, 1) OVER vidle_res AS vidle \n",
    "FROM regs \n",
    "    WINDOW \n",
    "        gpv_rate AS (PARTITION BY ip ORDER BY date RANGE BETWEEN INTERVAL '1 minute' PRECEDING AND CURRENT ROW),\n",
    "        pv_rate AS (PARTITION BY (ip, user) ORDER BY date RANGE BETWEEN INTERVAL '1 minute' PRECEDING AND CURRENT ROW),\n",
    "        uv_rate AS (PARTITION BY ip ORDER BY date RANGE BETWEEN INTERVAL '1 minute' PRECEDING AND CURRENT ROW),\n",
    "        gidle_res AS (PARTITION BY ip ORDER BY date RANGE BETWEEN INTERVAL '1 minute' PRECEDING AND CURRENT ROW),\n",
    "        vidle_res AS (PARTITION BY (ip, user) ORDER BY date RANGE BETWEEN INTERVAL '1 minute' PRECEDING AND CURRENT ROW) \n",
    "ORDER BY date;"
   ]
  },
  {
   "cell_type": "code",
   "execution_count": null,
   "id": "2e82e438-eab1-4a9f-b501-23a1dc1fda2e",
   "metadata": {},
   "outputs": [],
   "source": []
  },
  {
   "cell_type": "markdown",
   "id": "2ce7217d-bce5-4d76-b0a0-9b6fba97fe78",
   "metadata": {},
   "source": [
    "# 登录示例"
   ]
  },
  {
   "cell_type": "code",
   "execution_count": 391,
   "id": "55bf1455-35a3-4c2f-8095-f4654e73249b",
   "metadata": {},
   "outputs": [],
   "source": [
    "import itertools\n",
    "import random\n",
    "import requests\n",
    "from pprint import pprint\n",
    "import time\n",
    "import random\n",
    "import json\n",
    "import duckdb\n",
    "from datetime import  datetime\n",
    "from uuid import uuid4\n",
    "\n",
    "\n",
    "session = requests.session()\n",
    "headers = {\n",
    "    \"accept\": \"application/json\",\n",
    "    \"Content-Type\": \"application/json\",\n",
    "}\n",
    "params = {\n",
    "    \"user_id\": \"fb417c920bb142eabd6016a3520663b3\",\n",
    "    \"user_key\": \"a5737c292dab487a95e6cc31cd8c4d0b\",\n",
    "    \"proj_id\": \"proj_9c2cabfc56bf40d0\",\n",
    "}\n"
   ]
  },
  {
   "cell_type": "code",
   "execution_count": 392,
   "id": "290be937-7577-452f-8ac0-3422862f6f1d",
   "metadata": {},
   "outputs": [
    {
     "name": "stdout",
     "output_type": "stream",
     "text": [
      "{'status': 0, 'data': {'rule_id': 'rule_e07bea135645464d', 'rule_name': '登录', 'performance': '5.488589ms', 'result': [], 'trace_id': '1efbce443c13694e86f037fb42764982'}, 'message': 'version 1.0', 'request_id': 'a3dcb2bc-5f35-4830-9fc2-bd22e2a44034'}\n",
      "{'status': 0, 'data': {'rule_id': 'rule_e07bea135645464d', 'rule_name': '登录', 'performance': '4.90035ms', 'result': [], 'trace_id': '1efbce4446586f5aaed214ee31b0d083'}, 'message': 'version 1.0', 'request_id': '07f3bb22-cc4e-4b48-be5e-1ee203542c8e'}\n",
      "{'status': 0, 'data': {'rule_id': 'rule_e07bea135645464d', 'rule_name': '登录', 'performance': '8.14715ms', 'result': [{'result': '单ip访问次数超过2次'}], 'trace_id': '1efbce4450a9692aba68f0690b7f7b49'}, 'message': 'version 1.0', 'request_id': '2234e28c-d921-4646-ae68-bd9e1ed38f75'}\n",
      "{'status': 0, 'data': {'rule_id': 'rule_e07bea135645464d', 'rule_name': '登录', 'performance': '4.666345ms', 'result': [{'result': '单ip访问次数超过2次'}], 'trace_id': '1efbce445ae968a58cf4f0117cf2dffb'}, 'message': 'version 1.0', 'request_id': 'a9c5e67e-6de6-4518-bd64-bcadef19201d'}\n",
      "{'status': 0, 'data': {'rule_id': 'rule_e07bea135645464d', 'rule_name': '登录', 'performance': '5.497464ms', 'result': [{'result': '单ip访问次数超过2次'}], 'trace_id': '1efbce44653f685cbb50764012b381e3'}, 'message': 'version 1.0', 'request_id': 'c0af3089-4716-48d9-b72c-b28df0c98de8'}\n",
      "{'status': 0, 'data': {'rule_id': 'rule_e07bea135645464d', 'rule_name': '登录', 'performance': '5.297272ms', 'result': [{'result': '单ip访问次数超过2次'}], 'trace_id': '1efbce446f866d69bfe701b45e9edf46'}, 'message': 'version 1.0', 'request_id': 'a773cc99-caa4-4519-b27a-20870d215663'}\n",
      "{'status': 0, 'data': {'rule_id': 'rule_e07bea135645464d', 'rule_name': '登录', 'performance': '6.961459ms', 'result': [], 'trace_id': '1efbce4479d26b8981fb32d39df2712e'}, 'message': 'version 1.0', 'request_id': '6481f2c1-ffc3-475c-849e-8fdf12d9ea1c'}\n",
      "{'status': 0, 'data': {'rule_id': 'rule_e07bea135645464d', 'rule_name': '登录', 'performance': '4.388187ms', 'result': [], 'trace_id': '1efbce448415689998dc2a6e15b7253b'}, 'message': 'version 1.0', 'request_id': '2276629f-ddd4-4723-b990-ee1c07858ed0'}\n",
      "{'status': 0, 'data': {'rule_id': 'rule_e07bea135645464d', 'rule_name': '登录', 'performance': '4.857861ms', 'result': [{'result': '单ip访问次数超过2次'}], 'trace_id': '1efbce448e626791a9131f2c6d894303'}, 'message': 'version 1.0', 'request_id': '6b1368f7-2880-4a21-95ba-013a4340e194'}\n",
      "{'status': 0, 'data': {'rule_id': 'rule_e07bea135645464d', 'rule_name': '登录', 'performance': '5.791338ms', 'result': [{'result': '单ip访问次数超过2次'}], 'trace_id': '1efbce44989f6f959b9a3a3a0d665553'}, 'message': 'version 1.0', 'request_id': 'c6ccb16f-9cb1-4323-bf12-19e1ca95234d'}\n",
      "{'status': 0, 'data': {'rule_id': 'rule_e07bea135645464d', 'rule_name': '登录', 'performance': '4.643725ms', 'result': [{'result': '单ip访问次数超过2次'}, {'result': '单设备多用户累计用户数超过2次'}], 'trace_id': '1efbce44a2fe6276b852cb4ea61e02b8'}, 'message': 'version 1.0', 'request_id': 'c453bfa0-bafe-4ed3-b31a-c3cc863028bb'}\n",
      "{'status': 0, 'data': {'rule_id': 'rule_e07bea135645464d', 'rule_name': '登录', 'performance': '4.792427ms', 'result': [{'result': '单ip访问次数超过2次'}, {'result': '单设备多用户累计用户数超过2次'}], 'trace_id': '1efbce44ad3f6958a2e840b627c96861'}, 'message': 'version 1.0', 'request_id': '7adeeed8-f4d2-4009-84d4-282316d316e2'}\n",
      "{'status': 0, 'data': {'rule_id': 'rule_e07bea135645464d', 'rule_name': '登录', 'performance': '4.838387ms', 'result': [], 'trace_id': '1efbce44b77c6a57b7d2486b55dd52a8'}, 'message': 'version 1.0', 'request_id': 'e8fe560e-c586-40da-828b-a2dafb173600'}\n",
      "{'status': 0, 'data': {'rule_id': 'rule_e07bea135645464d', 'rule_name': '登录', 'performance': '4.62997ms', 'result': [], 'trace_id': '1efbce44c1c6684694db7da3b9d6a854'}, 'message': 'version 1.0', 'request_id': '56465506-5013-4ca9-9fb9-2af351e6721e'}\n",
      "{'status': 0, 'data': {'rule_id': 'rule_e07bea135645464d', 'rule_name': '登录', 'performance': '8.219985ms', 'result': [], 'trace_id': '1efbce44cc2a627fb67fba23df46bb13'}, 'message': 'version 1.0', 'request_id': 'a699627d-65db-4bc2-823e-266663cd6605'}\n",
      "{'status': 0, 'data': {'rule_id': 'rule_e07bea135645464d', 'rule_name': '登录', 'performance': '4.628065ms', 'result': [], 'trace_id': '1efbce44d6726ab8b7071db261399ed6'}, 'message': 'version 1.0', 'request_id': '93c91b4f-85fc-4b1b-80a2-2e2ffd82bc1e'}\n",
      "{'status': 0, 'data': {'rule_id': 'rule_e07bea135645464d', 'rule_name': '登录', 'performance': '11.783743ms', 'result': [{'result': '单用户多设备累计设备数超过2次'}], 'trace_id': '1efbce44e0c969dc8ce6efe2cdcb651b'}, 'message': 'version 1.0', 'request_id': '945ff054-caa9-4095-809c-4511d413cf0f'}\n",
      "{'status': 0, 'data': {'rule_id': 'rule_e07bea135645464d', 'rule_name': '登录', 'performance': '5.594526ms', 'result': [{'result': '单用户多设备累计设备数超过2次'}], 'trace_id': '1efbce44eb10633dbf6554b79b1ffca3'}, 'message': 'version 1.0', 'request_id': 'b9a7abb9-1675-441d-b6a7-4e94c1c2c4dc'}\n"
     ]
    }
   ],
   "source": [
    "def analysis_function(params_list):\n",
    "    data_list = []\n",
    "    for i in range(len(params_list)):\n",
    "        c_request_id = str(uuid4())\n",
    "        c_date = datetime.now().strftime(\"%Y-%m-%dT%H:%M:%S+0000\")\n",
    "        c_timestamp = int(time.time())\n",
    "        json_data = params_list[i]\n",
    "        res = session.post(\n",
    "            \"https://brdeapi.geetest.com/geerule/run\",\n",
    "            params=params,\n",
    "            headers=headers,\n",
    "            json=json_data,\n",
    "        )\n",
    "        if res.status_code == 200:\n",
    "            res_dict = res.json()\n",
    "            # data_list.append(res_dict['data']['result']['ip_user_ucnt'])\n",
    "            params_list[i][\"date\"] = c_date\n",
    "            params_list[i][\"timestamp\"] = c_timestamp\n",
    "            params_list[i][\"request_id\"] = c_request_id\n",
    "            res_dict[\"request_id\"] = c_request_id\n",
    "            data_list.append(res_dict)\n",
    "            print(res_dict)\n",
    "            time.sleep(1)\n",
    "    with open(\"./data_input.json\", \"w\") as file:\n",
    "        for item in params_list:\n",
    "            file.write(json.dumps(item, ensure_ascii=False) + \"\\n\")\n",
    "            \n",
    "\n",
    "    with open(\"./data_output.json\", \"w\") as file:\n",
    "        for item in data_list:\n",
    "            file.write(json.dumps(item, ensure_ascii=False) + \"\\n\")\n",
    "\n",
    "\n",
    "# 单个ip多次访问\n",
    "params_list1 = [\n",
    "    {\"ip\": \"1.15.241.228\", \"user\": \"15827325750\", \"scene\": \"login\"},\n",
    "    {\"ip\": \"1.15.241.228\", \"user\": \"15827325750\", \"scene\": \"login\"},\n",
    "    {\"ip\": \"1.15.241.228\", \"user\": \"15827325750\", \"scene\": \"login\"},\n",
    "    {\"ip\": \"1.15.241.228\", \"user\": \"15827325750\", \"scene\": \"login\"},\n",
    "    {\"ip\": \"1.15.241.228\", \"user\": \"15827325750\", \"scene\": \"login\"},\n",
    "    {\"ip\": \"1.15.241.228\", \"user\": \"15827325750\", \"scene\": \"login\"},\n",
    "]\n",
    "\n",
    "# 单个ip多个用户多次访问（一机器多号）\n",
    "params_list2 = [\n",
    "    {\"ip\": \"59.174.225.135\", \"user\": \"15827325751\", \"scene\": \"login\"},\n",
    "    {\"ip\": \"59.174.225.135\", \"user\": \"15827325751\", \"scene\": \"login\"},\n",
    "    {\"ip\": \"59.174.225.135\", \"user\": \"15827325752\", \"scene\": \"login\"},\n",
    "    {\"ip\": \"59.174.225.135\", \"user\": \"15827325752\", \"scene\": \"login\"},\n",
    "    {\"ip\": \"59.174.225.135\", \"user\": \"15827325753\", \"scene\": \"login\"},\n",
    "    {\"ip\": \"59.174.225.135\", \"user\": \"15827325753\", \"scene\": \"login\"},\n",
    "]\n",
    "\n",
    "# 单个账号用多个ip登录（一号多机）\n",
    "params_list3 = [\n",
    "    {\"ip\": \"101.126.32.237\", \"user\": \"15827325755\", \"scene\": \"login\"},\n",
    "    {\"ip\": \"101.126.32.237\", \"user\": \"15827325755\", \"scene\": \"login\"},\n",
    "    {\"ip\": \"147.185.132.21\", \"user\": \"15827325755\", \"scene\": \"login\"},\n",
    "    {\"ip\": \"147.185.132.21\", \"user\": \"15827325755\", \"scene\": \"login\"},\n",
    "    {\"ip\": \"139.9.223.116\", \"user\": \"15827325755\", \"scene\": \"login\"},\n",
    "    {\"ip\": \"139.9.223.116\", \"user\": \"15827325755\", \"scene\": \"login\"},\n",
    "]\n",
    "analysis_function(params_list1 + params_list2 + params_list3)\n"
   ]
  },
  {
   "cell_type": "code",
   "execution_count": 393,
   "id": "f2698a7e-afe1-4600-9484-a94c5f1c1a58",
   "metadata": {},
   "outputs": [
    {
     "data": {
      "text/html": [
       "<span style=\"None\">Running query in &#x27;data_alys&#x27;</span>"
      ],
      "text/plain": [
       "Running query in 'data_alys'"
      ]
     },
     "metadata": {},
     "output_type": "display_data"
    },
    {
     "data": {
      "text/html": [
       "<table>\n",
       "    <thead>\n",
       "        <tr>\n",
       "            <th>Count</th>\n",
       "        </tr>\n",
       "    </thead>\n",
       "    <tbody>\n",
       "    </tbody>\n",
       "</table>"
      ],
      "text/plain": [
       "+-------+\n",
       "| Count |\n",
       "+-------+\n",
       "+-------+"
      ]
     },
     "execution_count": 393,
     "metadata": {},
     "output_type": "execute_result"
    }
   ],
   "source": [
    "%sql  CREATE TABLE regs_input as  SELECT * FROM read_json('data_input.json', columns = {date:'TIMESTAMPTZ', timestamp: 'INTEGER', ip: 'VARCHAR', user: 'VARCHAR', request_id:'VARCHAR'});"
   ]
  },
  {
   "cell_type": "code",
   "execution_count": 394,
   "id": "e5ef3955-dfab-4692-b7a4-3ad20908b1dc",
   "metadata": {},
   "outputs": [
    {
     "data": {
      "text/html": [
       "<span style=\"None\">Running query in &#x27;data_alys&#x27;</span>"
      ],
      "text/plain": [
       "Running query in 'data_alys'"
      ]
     },
     "metadata": {},
     "output_type": "display_data"
    },
    {
     "data": {
      "text/html": [
       "<table>\n",
       "    <thead>\n",
       "        <tr>\n",
       "            <th>Count</th>\n",
       "        </tr>\n",
       "    </thead>\n",
       "    <tbody>\n",
       "    </tbody>\n",
       "</table>"
      ],
      "text/plain": [
       "+-------+\n",
       "| Count |\n",
       "+-------+\n",
       "+-------+"
      ]
     },
     "execution_count": 394,
     "metadata": {},
     "output_type": "execute_result"
    }
   ],
   "source": [
    "%sql CREATE TABLE regs_output as  SELECT data->>'result' as result,request_id as request_id,from read_json(\"./data_output.json\");"
   ]
  },
  {
   "cell_type": "code",
   "execution_count": 395,
   "id": "4ee00f42-3cff-4dfd-91a5-0261af71d7dc",
   "metadata": {},
   "outputs": [
    {
     "data": {
      "text/html": [
       "<span style=\"None\">Running query in &#x27;data_alys&#x27;</span>"
      ],
      "text/plain": [
       "Running query in 'data_alys'"
      ]
     },
     "metadata": {},
     "output_type": "display_data"
    },
    {
     "data": {
      "text/html": [
       "<table>\n",
       "    <thead>\n",
       "        <tr>\n",
       "            <th>date</th>\n",
       "            <th>timestamp</th>\n",
       "            <th>ip</th>\n",
       "            <th>timestamp_1</th>\n",
       "            <th>result</th>\n",
       "        </tr>\n",
       "    </thead>\n",
       "    <tbody>\n",
       "        <tr>\n",
       "            <td>2024-12-18 02:03:24+00:00</td>\n",
       "            <td>1734487404</td>\n",
       "            <td>1.15.241.228</td>\n",
       "            <td>1734487404</td>\n",
       "            <td>[]</td>\n",
       "        </tr>\n",
       "        <tr>\n",
       "            <td>2024-12-18 02:03:25+00:00</td>\n",
       "            <td>1734487405</td>\n",
       "            <td>1.15.241.228</td>\n",
       "            <td>1734487405</td>\n",
       "            <td>[]</td>\n",
       "        </tr>\n",
       "        <tr>\n",
       "            <td>2024-12-18 02:03:26+00:00</td>\n",
       "            <td>1734487406</td>\n",
       "            <td>1.15.241.228</td>\n",
       "            <td>1734487406</td>\n",
       "            <td>[{\"result\":\"单ip访问次数超过2次\"}]</td>\n",
       "        </tr>\n",
       "        <tr>\n",
       "            <td>2024-12-18 02:03:27+00:00</td>\n",
       "            <td>1734487407</td>\n",
       "            <td>1.15.241.228</td>\n",
       "            <td>1734487407</td>\n",
       "            <td>[{\"result\":\"单ip访问次数超过2次\"}]</td>\n",
       "        </tr>\n",
       "        <tr>\n",
       "            <td>2024-12-18 02:03:28+00:00</td>\n",
       "            <td>1734487408</td>\n",
       "            <td>1.15.241.228</td>\n",
       "            <td>1734487408</td>\n",
       "            <td>[{\"result\":\"单ip访问次数超过2次\"}]</td>\n",
       "        </tr>\n",
       "        <tr>\n",
       "            <td>2024-12-18 02:03:30+00:00</td>\n",
       "            <td>1734487410</td>\n",
       "            <td>1.15.241.228</td>\n",
       "            <td>1734487410</td>\n",
       "            <td>[{\"result\":\"单ip访问次数超过2次\"}]</td>\n",
       "        </tr>\n",
       "        <tr>\n",
       "            <td>2024-12-18 02:03:31+00:00</td>\n",
       "            <td>1734487411</td>\n",
       "            <td>59.174.225.135</td>\n",
       "            <td>1734487411</td>\n",
       "            <td>[]</td>\n",
       "        </tr>\n",
       "        <tr>\n",
       "            <td>2024-12-18 02:03:32+00:00</td>\n",
       "            <td>1734487412</td>\n",
       "            <td>59.174.225.135</td>\n",
       "            <td>1734487412</td>\n",
       "            <td>[]</td>\n",
       "        </tr>\n",
       "        <tr>\n",
       "            <td>2024-12-18 02:03:33+00:00</td>\n",
       "            <td>1734487413</td>\n",
       "            <td>59.174.225.135</td>\n",
       "            <td>1734487413</td>\n",
       "            <td>[{\"result\":\"单ip访问次数超过2次\"}]</td>\n",
       "        </tr>\n",
       "        <tr>\n",
       "            <td>2024-12-18 02:03:34+00:00</td>\n",
       "            <td>1734487414</td>\n",
       "            <td>59.174.225.135</td>\n",
       "            <td>1734487414</td>\n",
       "            <td>[{\"result\":\"单ip访问次数超过2次\"}]</td>\n",
       "        </tr>\n",
       "        <tr>\n",
       "            <td>2024-12-18 02:03:35+00:00</td>\n",
       "            <td>1734487415</td>\n",
       "            <td>59.174.225.135</td>\n",
       "            <td>1734487415</td>\n",
       "            <td>[{\"result\":\"单ip访问次数超过2次\"},{\"result\":\"单设备多用户累计用户数超过2次\"}]</td>\n",
       "        </tr>\n",
       "        <tr>\n",
       "            <td>2024-12-18 02:03:36+00:00</td>\n",
       "            <td>1734487416</td>\n",
       "            <td>59.174.225.135</td>\n",
       "            <td>1734487416</td>\n",
       "            <td>[{\"result\":\"单ip访问次数超过2次\"},{\"result\":\"单设备多用户累计用户数超过2次\"}]</td>\n",
       "        </tr>\n",
       "        <tr>\n",
       "            <td>2024-12-18 02:03:37+00:00</td>\n",
       "            <td>1734487417</td>\n",
       "            <td>101.126.32.237</td>\n",
       "            <td>1734487417</td>\n",
       "            <td>[]</td>\n",
       "        </tr>\n",
       "        <tr>\n",
       "            <td>2024-12-18 02:03:38+00:00</td>\n",
       "            <td>1734487418</td>\n",
       "            <td>101.126.32.237</td>\n",
       "            <td>1734487418</td>\n",
       "            <td>[]</td>\n",
       "        </tr>\n",
       "        <tr>\n",
       "            <td>2024-12-18 02:03:39+00:00</td>\n",
       "            <td>1734487419</td>\n",
       "            <td>147.185.132.21</td>\n",
       "            <td>1734487419</td>\n",
       "            <td>[]</td>\n",
       "        </tr>\n",
       "        <tr>\n",
       "            <td>2024-12-18 02:03:40+00:00</td>\n",
       "            <td>1734487420</td>\n",
       "            <td>147.185.132.21</td>\n",
       "            <td>1734487420</td>\n",
       "            <td>[]</td>\n",
       "        </tr>\n",
       "        <tr>\n",
       "            <td>2024-12-18 02:03:41+00:00</td>\n",
       "            <td>1734487421</td>\n",
       "            <td>139.9.223.116</td>\n",
       "            <td>1734487421</td>\n",
       "            <td>[{\"result\":\"单用户多设备累计设备数超过2次\"}]</td>\n",
       "        </tr>\n",
       "        <tr>\n",
       "            <td>2024-12-18 02:03:43+00:00</td>\n",
       "            <td>1734487423</td>\n",
       "            <td>139.9.223.116</td>\n",
       "            <td>1734487423</td>\n",
       "            <td>[{\"result\":\"单用户多设备累计设备数超过2次\"}]</td>\n",
       "        </tr>\n",
       "    </tbody>\n",
       "</table>"
      ],
      "text/plain": [
       "+---------------------------+------------+----------------+-------------+-------------------------------------------------------------------------------+\n",
       "|            date           | timestamp  |       ip       | timestamp_1 |                                     result                                    |\n",
       "+---------------------------+------------+----------------+-------------+-------------------------------------------------------------------------------+\n",
       "| 2024-12-18 02:03:24+00:00 | 1734487404 |  1.15.241.228  |  1734487404 |                                       []                                      |\n",
       "| 2024-12-18 02:03:25+00:00 | 1734487405 |  1.15.241.228  |  1734487405 |                                       []                                      |\n",
       "| 2024-12-18 02:03:26+00:00 | 1734487406 |  1.15.241.228  |  1734487406 |                       [{\"result\":\"单ip访问次数超过2次\"}]                      |\n",
       "| 2024-12-18 02:03:27+00:00 | 1734487407 |  1.15.241.228  |  1734487407 |                       [{\"result\":\"单ip访问次数超过2次\"}]                      |\n",
       "| 2024-12-18 02:03:28+00:00 | 1734487408 |  1.15.241.228  |  1734487408 |                       [{\"result\":\"单ip访问次数超过2次\"}]                      |\n",
       "| 2024-12-18 02:03:30+00:00 | 1734487410 |  1.15.241.228  |  1734487410 |                       [{\"result\":\"单ip访问次数超过2次\"}]                      |\n",
       "| 2024-12-18 02:03:31+00:00 | 1734487411 | 59.174.225.135 |  1734487411 |                                       []                                      |\n",
       "| 2024-12-18 02:03:32+00:00 | 1734487412 | 59.174.225.135 |  1734487412 |                                       []                                      |\n",
       "| 2024-12-18 02:03:33+00:00 | 1734487413 | 59.174.225.135 |  1734487413 |                       [{\"result\":\"单ip访问次数超过2次\"}]                      |\n",
       "| 2024-12-18 02:03:34+00:00 | 1734487414 | 59.174.225.135 |  1734487414 |                       [{\"result\":\"单ip访问次数超过2次\"}]                      |\n",
       "| 2024-12-18 02:03:35+00:00 | 1734487415 | 59.174.225.135 |  1734487415 | [{\"result\":\"单ip访问次数超过2次\"},{\"result\":\"单设备多用户累计用户数超过2次\"}] |\n",
       "| 2024-12-18 02:03:36+00:00 | 1734487416 | 59.174.225.135 |  1734487416 | [{\"result\":\"单ip访问次数超过2次\"},{\"result\":\"单设备多用户累计用户数超过2次\"}] |\n",
       "| 2024-12-18 02:03:37+00:00 | 1734487417 | 101.126.32.237 |  1734487417 |                                       []                                      |\n",
       "| 2024-12-18 02:03:38+00:00 | 1734487418 | 101.126.32.237 |  1734487418 |                                       []                                      |\n",
       "| 2024-12-18 02:03:39+00:00 | 1734487419 | 147.185.132.21 |  1734487419 |                                       []                                      |\n",
       "| 2024-12-18 02:03:40+00:00 | 1734487420 | 147.185.132.21 |  1734487420 |                                       []                                      |\n",
       "| 2024-12-18 02:03:41+00:00 | 1734487421 | 139.9.223.116  |  1734487421 |                  [{\"result\":\"单用户多设备累计设备数超过2次\"}]                 |\n",
       "| 2024-12-18 02:03:43+00:00 | 1734487423 | 139.9.223.116  |  1734487423 |                  [{\"result\":\"单用户多设备累计设备数超过2次\"}]                 |\n",
       "+---------------------------+------------+----------------+-------------+-------------------------------------------------------------------------------+"
      ]
     },
     "execution_count": 395,
     "metadata": {},
     "output_type": "execute_result"
    }
   ],
   "source": [
    "%sql select regs_input.date,regs_input.timestamp,regs_input.ip,regs_input.timestamp, regs_output.result from  regs_input  left join regs_output on regs_input.request_id = regs_output.request_id;"
   ]
  },
  {
   "cell_type": "code",
   "execution_count": 396,
   "id": "af7cbc6d-6664-4703-8043-893b2e70ee1d",
   "metadata": {},
   "outputs": [
    {
     "data": {
      "text/html": [
       "<span style=\"None\">Running query in &#x27;data_alys&#x27;</span>"
      ],
      "text/plain": [
       "Running query in 'data_alys'"
      ]
     },
     "metadata": {},
     "output_type": "display_data"
    },
    {
     "name": "stderr",
     "output_type": "stream",
     "text": [
      "RuntimeError: (duckdb.duckdb.CatalogException) Catalog Error: Table with name \"regs\" already exists!\n",
      "[SQL: CREATE TABLE regs as select regs_input.date,regs_input.timestamp,regs_input.ip,regs_input.user, regs_output.result from regs_input left join regs_output on regs_input.request_id = regs_output.request_id;]\n",
      "(Background on this error at: https://sqlalche.me/e/20/f405)\n",
      "If you need help solving this issue, send us a message: https://ploomber.io/community\n"
     ]
    }
   ],
   "source": [
    "%sql CREATE TABLE regs as  select regs_input.date,regs_input.timestamp,regs_input.ip,regs_input.user, regs_output.result from  regs_input  left join regs_output on regs_input.request_id = regs_output.request_id;"
   ]
  },
  {
   "cell_type": "code",
   "execution_count": 397,
   "id": "0d5050ea-8ad0-4e11-af65-eb0f59f454d1",
   "metadata": {},
   "outputs": [
    {
     "data": {
      "text/html": [
       "<span style=\"None\">Running query in &#x27;data_alys&#x27;</span>"
      ],
      "text/plain": [
       "Running query in 'data_alys'"
      ]
     },
     "metadata": {},
     "output_type": "display_data"
    },
    {
     "name": "stderr",
     "output_type": "stream",
     "text": [
      "RuntimeError: If using snippets, you may pass the --with argument explicitly.\n",
      "For more details please refer: https://jupysql.ploomber.io/en/latest/compose.html#with-argument\n",
      "\n",
      "\n",
      "Original error message from DB driver:\n",
      "(duckdb.duckdb.BinderException) Binder Error: Referenced column \"result\" not found in FROM clause!\n",
      "Candidate bindings: \"regs.ip\"\n",
      "LINE 1: ... PRECEDING AND CURRENT ROW) as gpv_l1m,result from regs order by g,date;\n",
      "                                                  ^\n",
      "[SQL: select date,ip as g, user as v, count(*) OVER (PARTITION BY g ORDER BY date RANGE BETWEEN INTERVAL '1 minute' PRECEDING AND CURRENT ROW) as gpv_l1m,result from regs order by g,date;]\n",
      "(Background on this error at: https://sqlalche.me/e/20/f405)\n",
      "\n",
      "If you need help solving this issue, send us a message: https://ploomber.io/community\n"
     ]
    }
   ],
   "source": [
    "# -- 单ip 访问次数 累计次数超过2次 pv\n",
    "%sql select date,ip as g, user as v, count(*) OVER (PARTITION BY g ORDER BY date RANGE BETWEEN INTERVAL '1 minute' PRECEDING AND CURRENT ROW) as gpv_l1m,result from regs order by g,date;\n"
   ]
  }
 ],
 "metadata": {
  "kernelspec": {
   "display_name": "Python 3 (ipykernel)",
   "language": "python",
   "name": "python3"
  },
  "language_info": {
   "codemirror_mode": {
    "name": "ipython",
    "version": 3
   },
   "file_extension": ".py",
   "mimetype": "text/x-python",
   "name": "python",
   "nbconvert_exporter": "python",
   "pygments_lexer": "ipython3",
   "version": "3.9.12"
  }
 },
 "nbformat": 4,
 "nbformat_minor": 5
}
