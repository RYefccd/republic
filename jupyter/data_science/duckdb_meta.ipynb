{
 "cells": [
  {
   "cell_type": "code",
   "execution_count": 1,
   "id": "af6c63c5-829b-4b8a-9c72-b37060fca940",
   "metadata": {
    "tags": []
   },
   "outputs": [
    {
     "name": "stdout",
     "output_type": "stream",
     "text": [
      "Looking in indexes: https://pypi.tuna.tsinghua.edu.cn/simple/\n",
      "Requirement already satisfied: duckdb in /opt/conda/lib/python3.9/site-packages (1.0.0)\n"
     ]
    }
   ],
   "source": [
    "!pip install -i https://pypi.tuna.tsinghua.edu.cn/simple/ duckdb"
   ]
  },
  {
   "cell_type": "markdown",
   "id": "71721b0a-513d-4ce9-a84a-12bc8af15200",
   "metadata": {},
   "source": [
    "## duckdb in action\n",
    "\n",
    "https://github.com/duckdb-in-action/examples\n",
    "\n",
    "https://stackoverflow.com/questions/25536422/optimize-group-by-query-to-retrieve-latest-row-per-user/25536748#25536748"
   ]
  },
  {
   "cell_type": "code",
   "execution_count": 2,
   "id": "61e92b15-f0cd-40f6-af39-6e80fb0234a7",
   "metadata": {},
   "outputs": [],
   "source": [
    "import duckdb"
   ]
  },
  {
   "cell_type": "markdown",
   "id": "01dcad5b-0457-4d6f-a81a-86aec4f4f205",
   "metadata": {
    "tags": []
   },
   "source": [
    "## duckdb httpfs s3\n",
    "https://duckdb.org/docs/extensions/httpfs/s3api.html  "
   ]
  },
  {
   "cell_type": "code",
   "execution_count": 3,
   "id": "fe0b7a77-b959-4f7c-a95a-70535910f348",
   "metadata": {},
   "outputs": [],
   "source": [
    "duckdb.sql(\"INSTALL httpfs\")\n",
    "duckdb.sql(\"LOAD httpfs\")"
   ]
  },
  {
   "cell_type": "markdown",
   "id": "50939537-2eda-4ca1-aa05-452d3e44d634",
   "metadata": {
    "tags": []
   },
   "source": [
    "设置ali oss 的连接信息  \n",
    "以 s3 风格协议兼容 ali oss  \n",
    "duckdb.sql(\"SET s3_region='oss-cn-shanghai'\")  \n",
    "duckdb.sql(\"SET s3_url_style='vhost'\")  \n",
    "duckdb.sql(\"SET s3_endpoint='oss-cn-shanghai.aliyuncs.com'\")  \n",
    "duckdb.sql(\"SET s3_access_key_id=''\")  \n",
    "duckdb.sql(\"SET s3_secret_access_key=''\")  "
   ]
  },
  {
   "cell_type": "code",
   "execution_count": null,
   "id": "4aee9498-6d79-46c1-9be6-e62a4c675986",
   "metadata": {
    "tags": []
   },
   "outputs": [],
   "source": [
    "duckdb.sql(\"create table ct_ip as select * from read_json_auto('s3://zgrmws/gt_ip/gt-2024-08-08-ip_black.json.gz')\")\n",
    "duckdb.sql(\"select * from ct_ip\")"
   ]
  },
  {
   "cell_type": "code",
   "execution_count": null,
   "id": "1941a5a6-9f35-49b7-9e64-72f131f2a2f8",
   "metadata": {},
   "outputs": [],
   "source": []
  }
 ],
 "metadata": {
  "kernelspec": {
   "display_name": "Python 3 (ipykernel)",
   "language": "python",
   "name": "python3"
  },
  "language_info": {
   "codemirror_mode": {
    "name": "ipython",
    "version": 3
   },
   "file_extension": ".py",
   "mimetype": "text/x-python",
   "name": "python",
   "nbconvert_exporter": "python",
   "pygments_lexer": "ipython3",
   "version": "3.9.12"
  }
 },
 "nbformat": 4,
 "nbformat_minor": 5
}
