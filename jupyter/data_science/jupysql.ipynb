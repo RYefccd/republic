{
 "cells": [
  {
   "cell_type": "markdown",
   "id": "fe5fc3f8-1dd9-42cb-aa43-34ff7f6882a4",
   "metadata": {},
   "source": [
    "# ploomber\n",
    "\n",
    "\n",
    "https://www.platform.ploomber.io/explore/  \n",
    "https://ploomber-sql.readthedocs.io/en/latest/index.html"
   ]
  },
  {
   "cell_type": "markdown",
   "id": "12a8b168-e4ed-4d2a-baba-ed9d49f7f173",
   "metadata": {},
   "source": [
    "## jupysql"
   ]
  },
  {
   "cell_type": "markdown",
   "id": "e0906b47-78c6-40b5-84d1-63d4e1c857b7",
   "metadata": {},
   "source": [
    "https://jupysql.ploomber.io/en/latest/api/magic-snippets.html#parameterizing-arguments  \n",
    "https://ploomber-sql.readthedocs.io/en/latest/index.html  "
   ]
  },
  {
   "cell_type": "markdown",
   "id": "8b12e6d0-2fe6-4ec8-92af-17dc03dbbbf5",
   "metadata": {},
   "source": [
    "skip scan vs RECURSIVE CTE vs asof join\n",
    "\n",
    "https://www.timescale.com/blog/implementing-asof-joins-in-timescale/  \n",
    "https://www.timescale.com/blog/how-we-made-distinct-queries-up-to-8000x-faster-on-postgresql/  \n",
    "https://wiki.postgresql.org/wiki/Loose_indexscan"
   ]
  },
  {
   "cell_type": "code",
   "execution_count": null,
   "id": "14a4b7fe-cbd5-43fd-a322-cb65fa76e5f5",
   "metadata": {},
   "outputs": [],
   "source": []
  }
 ],
 "metadata": {
  "kernelspec": {
   "display_name": "Python 3 (ipykernel)",
   "language": "python",
   "name": "python3"
  },
  "language_info": {
   "codemirror_mode": {
    "name": "ipython",
    "version": 3
   },
   "file_extension": ".py",
   "mimetype": "text/x-python",
   "name": "python",
   "nbconvert_exporter": "python",
   "pygments_lexer": "ipython3",
   "version": "3.9.12"
  }
 },
 "nbformat": 4,
 "nbformat_minor": 5
}
