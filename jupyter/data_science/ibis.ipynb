{
 "cells": [
  {
   "cell_type": "markdown",
   "id": "15985704-7c94-48e4-b5d7-26a2d5d9559c",
   "metadata": {},
   "source": [
    "https://ibis-project.org/"
   ]
  },
  {
   "cell_type": "markdown",
   "id": "abff5965-57d9-4b2a-a341-c5ab866f96b5",
   "metadata": {},
   "source": [
    "https://github.com/tobymao/sqlglot"
   ]
  },
  {
   "cell_type": "code",
   "execution_count": null,
   "id": "090ca572-a6dd-4668-8369-42fec951586b",
   "metadata": {},
   "outputs": [],
   "source": []
  }
 ],
 "metadata": {
  "kernelspec": {
   "display_name": "Python 3 (ipykernel)",
   "language": "python",
   "name": "python3"
  },
  "language_info": {
   "codemirror_mode": {
    "name": "ipython",
    "version": 3
   },
   "file_extension": ".py",
   "mimetype": "text/x-python",
   "name": "python",
   "nbconvert_exporter": "python",
   "pygments_lexer": "ipython3",
   "version": "3.9.12"
  }
 },
 "nbformat": 4,
 "nbformat_minor": 5
}
