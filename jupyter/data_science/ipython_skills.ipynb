{
 "cells": [
  {
   "cell_type": "markdown",
   "id": "7e62d2af-4233-4ff3-ab07-c97931994121",
   "metadata": {},
   "source": [
    "# ipython skills"
   ]
  },
  {
   "cell_type": "markdown",
   "id": "f1d92642-3916-4c15-903d-fbda4555603a",
   "metadata": {},
   "source": [
    "## show IPython extensions "
   ]
  },
  {
   "cell_type": "code",
   "execution_count": 1,
   "id": "6401591a-2085-4dfc-8041-4a72f2c02ba5",
   "metadata": {},
   "outputs": [
    {
     "data": {
      "text/plain": [
       "{'IPython.extensions.storemagic'}"
      ]
     },
     "execution_count": 1,
     "metadata": {},
     "output_type": "execute_result"
    }
   ],
   "source": [
    "## show IPython extensions\n",
    "from IPython import get_ipython\n",
    "ip = get_ipython()\n",
    "ip.extension_manager.loaded"
   ]
  },
  {
   "cell_type": "code",
   "execution_count": 2,
   "id": "b8dba864-9302-4cd7-9d76-41a43c1d642f",
   "metadata": {
    "tags": []
   },
   "outputs": [],
   "source": [
    "%load_ext sql"
   ]
  },
  {
   "cell_type": "code",
   "execution_count": 3,
   "id": "8cb74635-36ef-4d6f-8ea0-88a632d749e2",
   "metadata": {},
   "outputs": [
    {
     "data": {
      "text/plain": [
       "{'IPython.extensions.storemagic', 'sql'}"
      ]
     },
     "execution_count": 3,
     "metadata": {},
     "output_type": "execute_result"
    }
   ],
   "source": [
    "## show IPython extensions\n",
    "from IPython import get_ipython\n",
    "ip = get_ipython()\n",
    "ip.extension_manager.loaded"
   ]
  },
  {
   "cell_type": "code",
   "execution_count": 4,
   "id": "ed5df3b0-d93a-4625-b096-2aab6d474f1a",
   "metadata": {},
   "outputs": [
    {
     "data": {
      "text/html": [
       "Active connections:\n",
       "<table>\n",
       "    <thead>\n",
       "        <tr>\n",
       "            <th>current</th>\n",
       "            <th>url</th>\n",
       "            <th>alias</th>\n",
       "        </tr>\n",
       "    </thead>\n",
       "    <tbody>\n",
       "    </tbody>\n",
       "</table>"
      ],
      "text/plain": [
       "Active connections:\n",
       "+---------+-----+-------+\n",
       "| current | url | alias |\n",
       "+---------+-----+-------+\n",
       "+---------+-----+-------+"
      ]
     },
     "execution_count": 4,
     "metadata": {},
     "output_type": "execute_result"
    }
   ],
   "source": [
    "%sql --connections"
   ]
  },
  {
   "cell_type": "code",
   "execution_count": 5,
   "id": "66355b94-a897-407c-b81b-bb8560910b66",
   "metadata": {},
   "outputs": [
    {
     "data": {
      "text/html": [
       "<span style=\"None\">Connecting to &#x27;sqlite:///&#x27;</span>"
      ],
      "text/plain": [
       "Connecting to 'sqlite:///'"
      ]
     },
     "metadata": {},
     "output_type": "display_data"
    }
   ],
   "source": [
    "%sql sqlite:///"
   ]
  },
  {
   "cell_type": "code",
   "execution_count": 6,
   "id": "abebef62-f271-4c34-8a1c-f1b3fe539fc9",
   "metadata": {},
   "outputs": [
    {
     "data": {
      "text/html": [
       "Active connections:\n",
       "<table>\n",
       "    <thead>\n",
       "        <tr>\n",
       "            <th>current</th>\n",
       "            <th>url</th>\n",
       "            <th>alias</th>\n",
       "        </tr>\n",
       "    </thead>\n",
       "    <tbody>\n",
       "        <tr>\n",
       "            <td>*</td>\n",
       "            <td>sqlite:///</td>\n",
       "            <td>sqlite:///</td>\n",
       "        </tr>\n",
       "    </tbody>\n",
       "</table>"
      ],
      "text/plain": [
       "Active connections:\n",
       "+---------+------------+------------+\n",
       "| current |    url     |   alias    |\n",
       "+---------+------------+------------+\n",
       "|    *    | sqlite:/// | sqlite:/// |\n",
       "+---------+------------+------------+"
      ]
     },
     "execution_count": 6,
     "metadata": {},
     "output_type": "execute_result"
    }
   ],
   "source": [
    "%sql --connections"
   ]
  },
  {
   "cell_type": "code",
   "execution_count": null,
   "id": "4dc97220-acce-4a28-8fe6-305ab0e55c37",
   "metadata": {},
   "outputs": [],
   "source": []
  }
 ],
 "metadata": {
  "kernelspec": {
   "display_name": "Python 3 (ipykernel)",
   "language": "python",
   "name": "python3"
  },
  "language_info": {
   "codemirror_mode": {
    "name": "ipython",
    "version": 3
   },
   "file_extension": ".py",
   "mimetype": "text/x-python",
   "name": "python",
   "nbconvert_exporter": "python",
   "pygments_lexer": "ipython3",
   "version": "3.9.12"
  }
 },
 "nbformat": 4,
 "nbformat_minor": 5
}
