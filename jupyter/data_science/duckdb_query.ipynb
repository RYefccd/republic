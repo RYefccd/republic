{
 "cells": [
  {
   "cell_type": "code",
   "execution_count": null,
   "id": "2d43be3b-6fd6-4a50-b0c7-b206152c8a21",
   "metadata": {
    "tags": []
   },
   "outputs": [],
   "source": [
    "!pip show duckdb"
   ]
  },
  {
   "cell_type": "code",
   "execution_count": null,
   "id": "39f92f2f-6654-426c-be5a-5e7601de11d7",
   "metadata": {
    "tags": []
   },
   "outputs": [],
   "source": [
    "!pip install duckdb jupysql pandas matplotlib duckdb-engine"
   ]
  },
  {
   "cell_type": "markdown",
   "id": "6c442e76-16ee-45cc-bb30-a0a03fe03216",
   "metadata": {
    "tags": []
   },
   "source": [
    "# Connecting to DuckDB Natively"
   ]
  },
  {
   "cell_type": "markdown",
   "id": "a6518809-9a92-4aca-bc17-4ec25e0509a8",
   "metadata": {},
   "source": [
    "使用python初始化 duckdb 连接，然后赋值给 jupysql 上下文。\n",
    "\n",
    "1.duckdb原生初始化方法\n",
    "\n",
    "```ipython\n",
    "import duckdb\n",
    "import pandas as pd\n",
    "\n",
    "%load_ext sql\n",
    "conn = duckdb.connect()\n",
    "%sql conn --alias duckdb\n",
    "```\n",
    "\n",
    "2.duckdb sqlalchemy 风格的初始化方法.\n",
    "\n",
    "```ipython\n",
    "%sql duckdb:///my_ch03.db --alias ch03\n",
    "```"
   ]
  },
  {
   "cell_type": "code",
   "execution_count": 9,
   "id": "384241cf-c5aa-4e8b-88bd-437bdec816be",
   "metadata": {},
   "outputs": [
    {
     "name": "stdout",
     "output_type": "stream",
     "text": [
      "The sql extension is already loaded. To reload it, use:\n",
      "  %reload_ext sql\n"
     ]
    },
    {
     "data": {
      "text/html": [
       "<span style=\"None\">Connecting to &#x27;ch03&#x27;</span>"
      ],
      "text/plain": [
       "Connecting to 'ch03'"
      ]
     },
     "metadata": {},
     "output_type": "display_data"
    }
   ],
   "source": [
    "# 使用duckdb sqlalchemy 风格的初始化方法.\n",
    "%load_ext sql\n",
    "%sql duckdb:///my_ch03.db --alias ch03"
   ]
  },
  {
   "cell_type": "code",
   "execution_count": null,
   "id": "a6c8ddbe-be62-4223-a541-fa67379f8dc5",
   "metadata": {},
   "outputs": [],
   "source": [
    "# 关闭数据库连接连接\n",
    "#%sql -x duckdb:///my_ch03.db"
   ]
  },
  {
   "cell_type": "code",
   "execution_count": 5,
   "id": "3038606b-3f11-4a09-8265-acbff688d452",
   "metadata": {
    "tags": []
   },
   "outputs": [
    {
     "data": {
      "text/html": [
       "Active connections:\n",
       "<table>\n",
       "    <thead>\n",
       "        <tr>\n",
       "            <th>current</th>\n",
       "            <th>url</th>\n",
       "            <th>alias</th>\n",
       "        </tr>\n",
       "    </thead>\n",
       "    <tbody>\n",
       "        <tr>\n",
       "            <td>*</td>\n",
       "            <td>duckdb:///my_ch03.db</td>\n",
       "            <td>ch03</td>\n",
       "        </tr>\n",
       "    </tbody>\n",
       "</table>"
      ],
      "text/plain": [
       "Active connections:\n",
       "+---------+----------------------+-------+\n",
       "| current |         url          | alias |\n",
       "+---------+----------------------+-------+\n",
       "|    *    | duckdb:///my_ch03.db |  ch03 |\n",
       "+---------+----------------------+-------+"
      ]
     },
     "execution_count": 5,
     "metadata": {},
     "output_type": "execute_result"
    }
   ],
   "source": [
    "%sql --connections"
   ]
  },
  {
   "cell_type": "markdown",
   "id": "c6c83f27-dc81-4c54-b2b3-621a10fea49a",
   "metadata": {},
   "source": [
    "关闭 alias 对应的数据库连接\n",
    "```ipython\n",
    "%sql -x duckdb\n",
    "```"
   ]
  },
  {
   "cell_type": "code",
   "execution_count": 6,
   "id": "c91653ed-ea8d-4b62-80d1-27c185ad9f86",
   "metadata": {
    "tags": []
   },
   "outputs": [
    {
     "data": {
      "text/html": [
       "<span style=\"None\">Running query in &#x27;ch03&#x27;</span>"
      ],
      "text/plain": [
       "Running query in 'ch03'"
      ]
     },
     "metadata": {},
     "output_type": "display_data"
    },
    {
     "data": {
      "text/html": [
       "<table>\n",
       "    <thead>\n",
       "        <tr>\n",
       "            <th>schema_name</th>\n",
       "            <th>function_name</th>\n",
       "        </tr>\n",
       "    </thead>\n",
       "    <tbody>\n",
       "        <tr>\n",
       "            <td>pg_catalog</td>\n",
       "            <td>shobj_description</td>\n",
       "        </tr>\n",
       "        <tr>\n",
       "            <td>pg_catalog</td>\n",
       "            <td>shobj_description</td>\n",
       "        </tr>\n",
       "        <tr>\n",
       "            <td>pg_catalog</td>\n",
       "            <td>shobj_description</td>\n",
       "        </tr>\n",
       "        <tr>\n",
       "            <td>pg_catalog</td>\n",
       "            <td>pg_typeof</td>\n",
       "        </tr>\n",
       "        <tr>\n",
       "            <td>pg_catalog</td>\n",
       "            <td>pg_typeof</td>\n",
       "        </tr>\n",
       "    </tbody>\n",
       "</table>"
      ],
      "text/plain": [
       "+-------------+-------------------+\n",
       "| schema_name |   function_name   |\n",
       "+-------------+-------------------+\n",
       "|  pg_catalog | shobj_description |\n",
       "|  pg_catalog | shobj_description |\n",
       "|  pg_catalog | shobj_description |\n",
       "|  pg_catalog |     pg_typeof     |\n",
       "|  pg_catalog |     pg_typeof     |\n",
       "+-------------+-------------------+"
      ]
     },
     "execution_count": 6,
     "metadata": {},
     "output_type": "execute_result"
    }
   ],
   "source": [
    "%%sql\n",
    "SELECT\n",
    "    schema_name,\n",
    "    function_name\n",
    "FROM duckdb_functions()\n",
    "ORDER BY ALL DESC\n",
    "LIMIT 5;"
   ]
  },
  {
   "cell_type": "code",
   "execution_count": null,
   "id": "2bfed968-d4f9-445d-b838-41227b5152bc",
   "metadata": {},
   "outputs": [],
   "source": [
    "%%sql\n",
    "SELECT *\n",
    "FROM duckdb_extensions();"
   ]
  },
  {
   "cell_type": "code",
   "execution_count": null,
   "id": "43f827ed-1aed-418f-952b-2e644efa6309",
   "metadata": {},
   "outputs": [],
   "source": [
    "%%sql\n",
    "import database 'ch03/ch03_db'"
   ]
  },
  {
   "cell_type": "code",
   "execution_count": 10,
   "id": "17febb15-9135-491c-bbe1-1c1593b5e08b",
   "metadata": {},
   "outputs": [
    {
     "data": {
      "text/html": [
       "<span style=\"None\">Running query in &#x27;ch03&#x27;</span>"
      ],
      "text/plain": [
       "Running query in 'ch03'"
      ]
     },
     "metadata": {},
     "output_type": "display_data"
    },
    {
     "data": {
      "text/html": [
       "<table>\n",
       "    <thead>\n",
       "        <tr>\n",
       "            <th>database_name</th>\n",
       "            <th>table_name</th>\n",
       "            <th>sql</th>\n",
       "        </tr>\n",
       "    </thead>\n",
       "    <tbody>\n",
       "        <tr>\n",
       "            <td>my_ch03</td>\n",
       "            <td>prices</td>\n",
       "            <td>CREATE TABLE prices(id INTEGER DEFAULT(nextval('prices_id')) PRIMARY KEY, \"value\" DECIMAL(5,2) NOT NULL, valid_from DATE NOT NULL, valid_until DATE, UNIQUE(valid_from));</td>\n",
       "        </tr>\n",
       "        <tr>\n",
       "            <td>my_ch03</td>\n",
       "            <td>readings</td>\n",
       "            <td>CREATE TABLE readings(system_id INTEGER, read_on TIMESTAMP, power DECIMAL(10,3) DEFAULT(0) NOT NULL, CHECK((power >= 0)), PRIMARY KEY(system_id, read_on), FOREIGN KEY (system_id) REFERENCES systems(id));</td>\n",
       "        </tr>\n",
       "        <tr>\n",
       "            <td>my_ch03</td>\n",
       "            <td>systems</td>\n",
       "            <td>CREATE TABLE systems(id INTEGER PRIMARY KEY, \"name\" VARCHAR NOT NULL);</td>\n",
       "        </tr>\n",
       "    </tbody>\n",
       "</table>"
      ],
      "text/plain": [
       "+---------------+------------+-------------------------------------------------------------------------------------------------------------------------------------------------------------------------------------------------------------+\n",
       "| database_name | table_name |                                                                                                     sql                                                                                                     |\n",
       "+---------------+------------+-------------------------------------------------------------------------------------------------------------------------------------------------------------------------------------------------------------+\n",
       "|    my_ch03    |   prices   |                  CREATE TABLE prices(id INTEGER DEFAULT(nextval('prices_id')) PRIMARY KEY, \"value\" DECIMAL(5,2) NOT NULL, valid_from DATE NOT NULL, valid_until DATE, UNIQUE(valid_from));                  |\n",
       "|    my_ch03    |  readings  | CREATE TABLE readings(system_id INTEGER, read_on TIMESTAMP, power DECIMAL(10,3) DEFAULT(0) NOT NULL, CHECK((power >= 0)), PRIMARY KEY(system_id, read_on), FOREIGN KEY (system_id) REFERENCES systems(id)); |\n",
       "|    my_ch03    |  systems   |                                                                    CREATE TABLE systems(id INTEGER PRIMARY KEY, \"name\" VARCHAR NOT NULL);                                                                   |\n",
       "+---------------+------------+-------------------------------------------------------------------------------------------------------------------------------------------------------------------------------------------------------------+"
      ]
     },
     "execution_count": 10,
     "metadata": {},
     "output_type": "execute_result"
    }
   ],
   "source": [
    "%%sql\n",
    "select database_name,table_name,sql  from duckdb_tables;"
   ]
  },
  {
   "cell_type": "code",
   "execution_count": 11,
   "id": "50beebf1-ff09-4c44-b19b-d0574a5bfa26",
   "metadata": {},
   "outputs": [
    {
     "data": {
      "text/html": [
       "<span style=\"None\">Running query in &#x27;ch03&#x27;</span>"
      ],
      "text/plain": [
       "Running query in 'ch03'"
      ]
     },
     "metadata": {},
     "output_type": "display_data"
    },
    {
     "data": {
      "text/html": [
       "<table>\n",
       "    <thead>\n",
       "        <tr>\n",
       "            <th>database_name</th>\n",
       "            <th>view_name</th>\n",
       "            <th>sql</th>\n",
       "        </tr>\n",
       "    </thead>\n",
       "    <tbody>\n",
       "        <tr>\n",
       "            <td>my_ch03</td>\n",
       "            <td>v_power_per_day</td>\n",
       "            <td>CREATE VIEW v_power_per_day AS SELECT system_id, date_trunc('day', read_on) AS \"day\", round(((sum(power) / 4) / 1000), 2) AS kWh FROM readings GROUP BY system_id, \"day\";</td>\n",
       "        </tr>\n",
       "    </tbody>\n",
       "</table>"
      ],
      "text/plain": [
       "+---------------+-----------------+---------------------------------------------------------------------------------------------------------------------------------------------------------------------------+\n",
       "| database_name |    view_name    |                                                                                    sql                                                                                    |\n",
       "+---------------+-----------------+---------------------------------------------------------------------------------------------------------------------------------------------------------------------------+\n",
       "|    my_ch03    | v_power_per_day | CREATE VIEW v_power_per_day AS SELECT system_id, date_trunc('day', read_on) AS \"day\", round(((sum(power) / 4) / 1000), 2) AS kWh FROM readings GROUP BY system_id, \"day\"; |\n",
       "+---------------+-----------------+---------------------------------------------------------------------------------------------------------------------------------------------------------------------------+"
      ]
     },
     "execution_count": 11,
     "metadata": {},
     "output_type": "execute_result"
    }
   ],
   "source": [
    "%%sql\n",
    "select database_name,view_name,sql from duckdb_views;"
   ]
  },
  {
   "cell_type": "markdown",
   "id": "8651f5e1-f02f-49b6-b5e6-dd8326222e45",
   "metadata": {},
   "source": [
    "# query\n",
    "\n",
    "https://medium.com/@ilakk2023/advanced-sql-features-in-duckdb-window-functions-common-table-expressions-and-more-bbf9c4216986  \n",
    "https://www.cpard.xyz/posts/sql_window_functions_tutorial/  \n",
    "https://stackoverflow.com/questions/78098523/how-to-calculate-a-conditional-rolling-count-by-group-comparing-to-current-row  \n",
    "https://www.datacamp.com/tutorial/building-ai-projects-with-duckdb  \n",
    "\n",
    "\n",
    "数据集  \n",
    "https://archive.ics.uci.edu/dataset/222/bank+marketing  \n",
    "https://archive.ics.uci.edu/datasets?skip=10&take=10&sort=desc&orderBy=NumHits&search=  \n",
    "https://www.kaggle.com/datasets?topic=trendingDataset  "
   ]
  },
  {
   "cell_type": "code",
   "execution_count": 19,
   "id": "53536136-0f9a-4654-a15d-1ac2e0601607",
   "metadata": {},
   "outputs": [
    {
     "data": {
      "text/html": [
       "<span style=\"None\">Running query in &#x27;ch03&#x27;</span>"
      ],
      "text/plain": [
       "Running query in 'ch03'"
      ]
     },
     "metadata": {},
     "output_type": "display_data"
    }
   ],
   "source": [
    "%sql output_df << select * from systems;"
   ]
  },
  {
   "cell_type": "code",
   "execution_count": 20,
   "id": "ac0a1963-6c7b-42a6-a729-6f121285fece",
   "metadata": {},
   "outputs": [
    {
     "data": {
      "text/html": [
       "<table>\n",
       "    <thead>\n",
       "        <tr>\n",
       "            <th>id</th>\n",
       "            <th>name</th>\n",
       "        </tr>\n",
       "    </thead>\n",
       "    <tbody>\n",
       "        <tr>\n",
       "            <td>2</td>\n",
       "            <td>Residential 1a</td>\n",
       "        </tr>\n",
       "        <tr>\n",
       "            <td>3</td>\n",
       "            <td>Residential 1b</td>\n",
       "        </tr>\n",
       "        <tr>\n",
       "            <td>4</td>\n",
       "            <td>[4] NREL x-Si -1</td>\n",
       "        </tr>\n",
       "        <tr>\n",
       "            <td>10</td>\n",
       "            <td>[10] NREL CIS -1</td>\n",
       "        </tr>\n",
       "        <tr>\n",
       "            <td>33</td>\n",
       "            <td>Silicor Materials</td>\n",
       "        </tr>\n",
       "        <tr>\n",
       "            <td>34</td>\n",
       "            <td>[34] Andre Agassi Preparatory Academy - Building A</td>\n",
       "        </tr>\n",
       "        <tr>\n",
       "            <td>35</td>\n",
       "            <td>[35] Andre Agassi Preparatory Academy - Gymnasium</td>\n",
       "        </tr>\n",
       "        <tr>\n",
       "            <td>36</td>\n",
       "            <td>[36] NREL low-X x-Si -1</td>\n",
       "        </tr>\n",
       "        <tr>\n",
       "            <td>50</td>\n",
       "            <td>NREL x-Si 6</td>\n",
       "        </tr>\n",
       "        <tr>\n",
       "            <td>51</td>\n",
       "            <td>NREL x-Si 7</td>\n",
       "        </tr>\n",
       "    </tbody>\n",
       "</table>\n",
       "<span style=\"font-style:italic;text-align:center;\">Truncated to <a href=\"https://jupysql.ploomber.io/en/latest/api/configuration.html#displaylimit\">displaylimit</a> of 10.</span>"
      ],
      "text/plain": [
       "+----+----------------------------------------------------+\n",
       "| id |                        name                        |\n",
       "+----+----------------------------------------------------+\n",
       "| 2  |                   Residential 1a                   |\n",
       "| 3  |                   Residential 1b                   |\n",
       "| 4  |                  [4] NREL x-Si -1                  |\n",
       "| 10 |                  [10] NREL CIS -1                  |\n",
       "| 33 |                 Silicor Materials                  |\n",
       "| 34 | [34] Andre Agassi Preparatory Academy - Building A |\n",
       "| 35 | [35] Andre Agassi Preparatory Academy - Gymnasium  |\n",
       "| 36 |              [36] NREL low-X x-Si -1               |\n",
       "| 50 |                    NREL x-Si 6                     |\n",
       "| 51 |                    NREL x-Si 7                     |\n",
       "+----+----------------------------------------------------+\n",
       "Truncated to displaylimit of 10."
      ]
     },
     "execution_count": 20,
     "metadata": {},
     "output_type": "execute_result"
    }
   ],
   "source": [
    "output_df"
   ]
  },
  {
   "cell_type": "code",
   "execution_count": 21,
   "id": "72782d7b-e55a-4e95-a3cc-45976312752c",
   "metadata": {},
   "outputs": [
    {
     "data": {
      "text/plain": [
       "sql.run.resultset.ResultSet"
      ]
     },
     "execution_count": 21,
     "metadata": {},
     "output_type": "execute_result"
    }
   ],
   "source": [
    "type(output_df)"
   ]
  },
  {
   "cell_type": "code",
   "execution_count": 13,
   "id": "54840490-81ae-4cd3-88ad-7be47462f779",
   "metadata": {},
   "outputs": [
    {
     "data": {
      "text/html": [
       "<span style=\"None\">Running query in &#x27;ch03&#x27;</span>"
      ],
      "text/plain": [
       "Running query in 'ch03'"
      ]
     },
     "metadata": {},
     "output_type": "display_data"
    },
    {
     "data": {
      "text/html": [
       "<table>\n",
       "    <thead>\n",
       "        <tr>\n",
       "            <th>id</th>\n",
       "            <th>name</th>\n",
       "        </tr>\n",
       "    </thead>\n",
       "    <tbody>\n",
       "        <tr>\n",
       "            <td>2</td>\n",
       "            <td>Residential 1a</td>\n",
       "        </tr>\n",
       "        <tr>\n",
       "            <td>3</td>\n",
       "            <td>Residential 1b</td>\n",
       "        </tr>\n",
       "        <tr>\n",
       "            <td>4</td>\n",
       "            <td>[4] NREL x-Si -1</td>\n",
       "        </tr>\n",
       "        <tr>\n",
       "            <td>10</td>\n",
       "            <td>[10] NREL CIS -1</td>\n",
       "        </tr>\n",
       "        <tr>\n",
       "            <td>33</td>\n",
       "            <td>Silicor Materials</td>\n",
       "        </tr>\n",
       "        <tr>\n",
       "            <td>34</td>\n",
       "            <td>[34] Andre Agassi Preparatory Academy - Building A</td>\n",
       "        </tr>\n",
       "        <tr>\n",
       "            <td>35</td>\n",
       "            <td>[35] Andre Agassi Preparatory Academy - Gymnasium</td>\n",
       "        </tr>\n",
       "        <tr>\n",
       "            <td>36</td>\n",
       "            <td>[36] NREL low-X x-Si -1</td>\n",
       "        </tr>\n",
       "        <tr>\n",
       "            <td>50</td>\n",
       "            <td>NREL x-Si 6</td>\n",
       "        </tr>\n",
       "        <tr>\n",
       "            <td>51</td>\n",
       "            <td>NREL x-Si 7</td>\n",
       "        </tr>\n",
       "    </tbody>\n",
       "</table>\n",
       "<span style=\"font-style:italic;text-align:center;\">Truncated to <a href=\"https://jupysql.ploomber.io/en/latest/api/configuration.html#displaylimit\">displaylimit</a> of 10.</span>"
      ],
      "text/plain": [
       "+----+----------------------------------------------------+\n",
       "| id |                        name                        |\n",
       "+----+----------------------------------------------------+\n",
       "| 2  |                   Residential 1a                   |\n",
       "| 3  |                   Residential 1b                   |\n",
       "| 4  |                  [4] NREL x-Si -1                  |\n",
       "| 10 |                  [10] NREL CIS -1                  |\n",
       "| 33 |                 Silicor Materials                  |\n",
       "| 34 | [34] Andre Agassi Preparatory Academy - Building A |\n",
       "| 35 | [35] Andre Agassi Preparatory Academy - Gymnasium  |\n",
       "| 36 |              [36] NREL low-X x-Si -1               |\n",
       "| 50 |                    NREL x-Si 6                     |\n",
       "| 51 |                    NREL x-Si 7                     |\n",
       "+----+----------------------------------------------------+\n",
       "Truncated to displaylimit of 10."
      ]
     },
     "execution_count": 13,
     "metadata": {},
     "output_type": "execute_result"
    }
   ],
   "source": [
    "%sql select * from systems;"
   ]
  },
  {
   "cell_type": "code",
   "execution_count": 157,
   "id": "94506655-0db1-4c7d-849e-a7a4327d5036",
   "metadata": {},
   "outputs": [
    {
     "data": {
      "text/html": [
       "<span style=\"None\">Running query in &#x27;ch03&#x27;</span>"
      ],
      "text/plain": [
       "Running query in 'ch03'"
      ]
     },
     "metadata": {},
     "output_type": "display_data"
    },
    {
     "data": {
      "text/html": [
       "<table>\n",
       "    <thead>\n",
       "        <tr>\n",
       "            <th>system_id</th>\n",
       "            <th>read_on</th>\n",
       "            <th>power</th>\n",
       "        </tr>\n",
       "    </thead>\n",
       "    <tbody>\n",
       "        <tr>\n",
       "            <td>34</td>\n",
       "            <td>2019-01-01 00:00:00</td>\n",
       "            <td>0.000</td>\n",
       "        </tr>\n",
       "        <tr>\n",
       "            <td>34</td>\n",
       "            <td>2019-01-01 00:15:00</td>\n",
       "            <td>0.000</td>\n",
       "        </tr>\n",
       "        <tr>\n",
       "            <td>34</td>\n",
       "            <td>2019-01-01 00:30:00</td>\n",
       "            <td>0.000</td>\n",
       "        </tr>\n",
       "        <tr>\n",
       "            <td>34</td>\n",
       "            <td>2019-01-01 00:45:00</td>\n",
       "            <td>0.000</td>\n",
       "        </tr>\n",
       "        <tr>\n",
       "            <td>34</td>\n",
       "            <td>2019-01-01 01:00:00</td>\n",
       "            <td>0.000</td>\n",
       "        </tr>\n",
       "        <tr>\n",
       "            <td>34</td>\n",
       "            <td>2019-01-01 01:15:00</td>\n",
       "            <td>0.000</td>\n",
       "        </tr>\n",
       "        <tr>\n",
       "            <td>34</td>\n",
       "            <td>2019-01-01 01:30:00</td>\n",
       "            <td>0.000</td>\n",
       "        </tr>\n",
       "        <tr>\n",
       "            <td>34</td>\n",
       "            <td>2019-01-01 01:45:00</td>\n",
       "            <td>0.000</td>\n",
       "        </tr>\n",
       "        <tr>\n",
       "            <td>34</td>\n",
       "            <td>2019-01-01 02:00:00</td>\n",
       "            <td>0.000</td>\n",
       "        </tr>\n",
       "        <tr>\n",
       "            <td>34</td>\n",
       "            <td>2019-01-01 02:15:00</td>\n",
       "            <td>0.000</td>\n",
       "        </tr>\n",
       "    </tbody>\n",
       "</table>\n",
       "<span style=\"font-style:italic;text-align:center;\">Truncated to <a href=\"https://jupysql.ploomber.io/en/latest/api/configuration.html#displaylimit\">displaylimit</a> of 10.</span>"
      ],
      "text/plain": [
       "+-----------+---------------------+-------+\n",
       "| system_id |       read_on       | power |\n",
       "+-----------+---------------------+-------+\n",
       "|     34    | 2019-01-01 00:00:00 | 0.000 |\n",
       "|     34    | 2019-01-01 00:15:00 | 0.000 |\n",
       "|     34    | 2019-01-01 00:30:00 | 0.000 |\n",
       "|     34    | 2019-01-01 00:45:00 | 0.000 |\n",
       "|     34    | 2019-01-01 01:00:00 | 0.000 |\n",
       "|     34    | 2019-01-01 01:15:00 | 0.000 |\n",
       "|     34    | 2019-01-01 01:30:00 | 0.000 |\n",
       "|     34    | 2019-01-01 01:45:00 | 0.000 |\n",
       "|     34    | 2019-01-01 02:00:00 | 0.000 |\n",
       "|     34    | 2019-01-01 02:15:00 | 0.000 |\n",
       "+-----------+---------------------+-------+\n",
       "Truncated to displaylimit of 10."
      ]
     },
     "execution_count": 157,
     "metadata": {},
     "output_type": "execute_result"
    }
   ],
   "source": [
    "%sql select * from readings;"
   ]
  },
  {
   "cell_type": "code",
   "execution_count": 158,
   "id": "b87d5697-f184-4007-bf91-5afec4959232",
   "metadata": {},
   "outputs": [
    {
     "data": {
      "text/html": [
       "<span style=\"None\">Running query in &#x27;ch03&#x27;</span>"
      ],
      "text/plain": [
       "Running query in 'ch03'"
      ]
     },
     "metadata": {},
     "output_type": "display_data"
    },
    {
     "data": {
      "text/html": [
       "<table>\n",
       "    <thead>\n",
       "        <tr>\n",
       "            <th>count_star()</th>\n",
       "        </tr>\n",
       "    </thead>\n",
       "    <tbody>\n",
       "        <tr>\n",
       "            <td>151879</td>\n",
       "        </tr>\n",
       "    </tbody>\n",
       "</table>"
      ],
      "text/plain": [
       "+--------------+\n",
       "| count_star() |\n",
       "+--------------+\n",
       "|    151879    |\n",
       "+--------------+"
      ]
     },
     "execution_count": 158,
     "metadata": {},
     "output_type": "execute_result"
    }
   ],
   "source": [
    "%sql select count(*) from readings;"
   ]
  },
  {
   "cell_type": "code",
   "execution_count": 159,
   "id": "e729fd03-a927-432d-809e-8a3ce94a2086",
   "metadata": {},
   "outputs": [
    {
     "data": {
      "text/html": [
       "<span style=\"None\">Running query in &#x27;ch03&#x27;</span>"
      ],
      "text/plain": [
       "Running query in 'ch03'"
      ]
     },
     "metadata": {},
     "output_type": "display_data"
    },
    {
     "data": {
      "text/html": [
       "<table>\n",
       "    <thead>\n",
       "        <tr>\n",
       "            <th>id</th>\n",
       "            <th>value</th>\n",
       "            <th>valid_from</th>\n",
       "            <th>valid_until</th>\n",
       "        </tr>\n",
       "    </thead>\n",
       "    <tbody>\n",
       "        <tr>\n",
       "            <td>1</td>\n",
       "            <td>11.59</td>\n",
       "            <td>2018-12-01</td>\n",
       "            <td>2019-01-01</td>\n",
       "        </tr>\n",
       "        <tr>\n",
       "            <td>10</td>\n",
       "            <td>11.47</td>\n",
       "            <td>2019-01-01</td>\n",
       "            <td>2019-02-01</td>\n",
       "        </tr>\n",
       "        <tr>\n",
       "            <td>11</td>\n",
       "            <td>11.35</td>\n",
       "            <td>2019-02-01</td>\n",
       "            <td>2019-03-01</td>\n",
       "        </tr>\n",
       "        <tr>\n",
       "            <td>12</td>\n",
       "            <td>11.23</td>\n",
       "            <td>2019-03-01</td>\n",
       "            <td>2019-04-01</td>\n",
       "        </tr>\n",
       "        <tr>\n",
       "            <td>13</td>\n",
       "            <td>11.11</td>\n",
       "            <td>2019-04-01</td>\n",
       "            <td>2019-05-01</td>\n",
       "        </tr>\n",
       "        <tr>\n",
       "            <td>14</td>\n",
       "            <td>10.95</td>\n",
       "            <td>2019-05-01</td>\n",
       "            <td>2019-06-01</td>\n",
       "        </tr>\n",
       "        <tr>\n",
       "            <td>15</td>\n",
       "            <td>8.60</td>\n",
       "            <td>2020-11-01</td>\n",
       "            <td>2023-01-01</td>\n",
       "        </tr>\n",
       "        <tr>\n",
       "            <td>16</td>\n",
       "            <td>8.60</td>\n",
       "            <td>2023-01-01</td>\n",
       "            <td>2024-02-01</td>\n",
       "        </tr>\n",
       "        <tr>\n",
       "            <td>17</td>\n",
       "            <td>8.64</td>\n",
       "            <td>2020-10-01</td>\n",
       "            <td>2020-11-01</td>\n",
       "        </tr>\n",
       "        <tr>\n",
       "            <td>18</td>\n",
       "            <td>8.77</td>\n",
       "            <td>2020-09-01</td>\n",
       "            <td>2020-10-01</td>\n",
       "        </tr>\n",
       "    </tbody>\n",
       "</table>\n",
       "<span style=\"font-style:italic;text-align:center;\">Truncated to <a href=\"https://jupysql.ploomber.io/en/latest/api/configuration.html#displaylimit\">displaylimit</a> of 10.</span>"
      ],
      "text/plain": [
       "+----+-------+------------+-------------+\n",
       "| id | value | valid_from | valid_until |\n",
       "+----+-------+------------+-------------+\n",
       "| 1  | 11.59 | 2018-12-01 |  2019-01-01 |\n",
       "| 10 | 11.47 | 2019-01-01 |  2019-02-01 |\n",
       "| 11 | 11.35 | 2019-02-01 |  2019-03-01 |\n",
       "| 12 | 11.23 | 2019-03-01 |  2019-04-01 |\n",
       "| 13 | 11.11 | 2019-04-01 |  2019-05-01 |\n",
       "| 14 | 10.95 | 2019-05-01 |  2019-06-01 |\n",
       "| 15 |  8.60 | 2020-11-01 |  2023-01-01 |\n",
       "| 16 |  8.60 | 2023-01-01 |  2024-02-01 |\n",
       "| 17 |  8.64 | 2020-10-01 |  2020-11-01 |\n",
       "| 18 |  8.77 | 2020-09-01 |  2020-10-01 |\n",
       "+----+-------+------------+-------------+\n",
       "Truncated to displaylimit of 10."
      ]
     },
     "execution_count": 159,
     "metadata": {},
     "output_type": "execute_result"
    }
   ],
   "source": [
    "%sql select * from prices;"
   ]
  },
  {
   "cell_type": "code",
   "execution_count": 160,
   "id": "b8cbadb6-f474-4531-8e1e-13b44a904bce",
   "metadata": {},
   "outputs": [
    {
     "data": {
      "text/html": [
       "<span style=\"None\">Running query in &#x27;ch03&#x27;</span>"
      ],
      "text/plain": [
       "Running query in 'ch03'"
      ]
     },
     "metadata": {},
     "output_type": "display_data"
    },
    {
     "data": {
      "text/html": [
       "<table>\n",
       "    <thead>\n",
       "        <tr>\n",
       "            <th>system_id</th>\n",
       "            <th>day</th>\n",
       "            <th>kWh</th>\n",
       "        </tr>\n",
       "    </thead>\n",
       "    <tbody>\n",
       "        <tr>\n",
       "            <td>34</td>\n",
       "            <td>2019-01-01</td>\n",
       "            <td>471.4</td>\n",
       "        </tr>\n",
       "        <tr>\n",
       "            <td>34</td>\n",
       "            <td>2019-01-02</td>\n",
       "            <td>458.58</td>\n",
       "        </tr>\n",
       "        <tr>\n",
       "            <td>34</td>\n",
       "            <td>2019-01-03</td>\n",
       "            <td>443.65</td>\n",
       "        </tr>\n",
       "        <tr>\n",
       "            <td>34</td>\n",
       "            <td>2019-01-04</td>\n",
       "            <td>445.03</td>\n",
       "        </tr>\n",
       "        <tr>\n",
       "            <td>34</td>\n",
       "            <td>2019-01-05</td>\n",
       "            <td>111.3</td>\n",
       "        </tr>\n",
       "        <tr>\n",
       "            <td>34</td>\n",
       "            <td>2019-01-06</td>\n",
       "            <td>381.5</td>\n",
       "        </tr>\n",
       "        <tr>\n",
       "            <td>34</td>\n",
       "            <td>2019-01-07</td>\n",
       "            <td>144.18</td>\n",
       "        </tr>\n",
       "        <tr>\n",
       "            <td>34</td>\n",
       "            <td>2019-01-08</td>\n",
       "            <td>345.08</td>\n",
       "        </tr>\n",
       "        <tr>\n",
       "            <td>34</td>\n",
       "            <td>2019-01-09</td>\n",
       "            <td>443.33</td>\n",
       "        </tr>\n",
       "        <tr>\n",
       "            <td>34</td>\n",
       "            <td>2019-01-10</td>\n",
       "            <td>437.75</td>\n",
       "        </tr>\n",
       "    </tbody>\n",
       "</table>\n",
       "<span style=\"font-style:italic;text-align:center;\">Truncated to <a href=\"https://jupysql.ploomber.io/en/latest/api/configuration.html#displaylimit\">displaylimit</a> of 10.</span>"
      ],
      "text/plain": [
       "+-----------+------------+--------+\n",
       "| system_id |    day     |  kWh   |\n",
       "+-----------+------------+--------+\n",
       "|     34    | 2019-01-01 | 471.4  |\n",
       "|     34    | 2019-01-02 | 458.58 |\n",
       "|     34    | 2019-01-03 | 443.65 |\n",
       "|     34    | 2019-01-04 | 445.03 |\n",
       "|     34    | 2019-01-05 | 111.3  |\n",
       "|     34    | 2019-01-06 | 381.5  |\n",
       "|     34    | 2019-01-07 | 144.18 |\n",
       "|     34    | 2019-01-08 | 345.08 |\n",
       "|     34    | 2019-01-09 | 443.33 |\n",
       "|     34    | 2019-01-10 | 437.75 |\n",
       "+-----------+------------+--------+\n",
       "Truncated to displaylimit of 10."
      ]
     },
     "execution_count": 160,
     "metadata": {},
     "output_type": "execute_result"
    }
   ],
   "source": [
    "%sql select * from v_power_per_day;"
   ]
  },
  {
   "cell_type": "markdown",
   "id": "cc0cd814-aded-4dfd-849a-9574001ae4fd",
   "metadata": {
    "tags": []
   },
   "source": [
    "## Summarizing data"
   ]
  },
  {
   "cell_type": "code",
   "execution_count": null,
   "id": "4d3660ce-8c74-40b2-8ea3-9a16fc806685",
   "metadata": {},
   "outputs": [],
   "source": [
    "%sql SUMMARIZE systems;"
   ]
  },
  {
   "cell_type": "code",
   "execution_count": 162,
   "id": "b6ec554e-8f95-4412-a697-6be3ba02e830",
   "metadata": {},
   "outputs": [
    {
     "data": {
      "text/html": [
       "<span style=\"None\">Running query in &#x27;ch03&#x27;</span>"
      ],
      "text/plain": [
       "Running query in 'ch03'"
      ]
     },
     "metadata": {},
     "output_type": "display_data"
    },
    {
     "data": {
      "application/vnd.jupyter.widget-view+json": {
       "model_id": "74f31c6194744ce2b88a16ee100c79a4",
       "version_major": 2,
       "version_minor": 0
      },
      "text/plain": [
       "FloatProgress(value=0.0, layout=Layout(width='auto'), style=ProgressStyle(bar_color='black'))"
      ]
     },
     "metadata": {},
     "output_type": "display_data"
    },
    {
     "data": {
      "text/html": [
       "<table>\n",
       "    <thead>\n",
       "        <tr>\n",
       "            <th>column_name</th>\n",
       "            <th>column_type</th>\n",
       "            <th>min</th>\n",
       "            <th>max</th>\n",
       "            <th>approx_unique</th>\n",
       "            <th>avg</th>\n",
       "            <th>std</th>\n",
       "            <th>q25</th>\n",
       "            <th>q50</th>\n",
       "            <th>q75</th>\n",
       "            <th>count</th>\n",
       "            <th>null_percentage</th>\n",
       "        </tr>\n",
       "    </thead>\n",
       "    <tbody>\n",
       "        <tr>\n",
       "            <td>system_id</td>\n",
       "            <td>INTEGER</td>\n",
       "            <td>10</td>\n",
       "            <td>1200</td>\n",
       "            <td>3</td>\n",
       "            <td>426.21980655653516</td>\n",
       "            <td>558.9929308220753</td>\n",
       "            <td>10</td>\n",
       "            <td>34</td>\n",
       "            <td>1200</td>\n",
       "            <td>151879</td>\n",
       "            <td>0.00</td>\n",
       "        </tr>\n",
       "        <tr>\n",
       "            <td>read_on</td>\n",
       "            <td>TIMESTAMP</td>\n",
       "            <td>2019-01-01 00:00:00</td>\n",
       "            <td>2020-06-26 11:00:00</td>\n",
       "            <td>51371</td>\n",
       "            <td>None</td>\n",
       "            <td>None</td>\n",
       "            <td>None</td>\n",
       "            <td>None</td>\n",
       "            <td>None</td>\n",
       "            <td>151879</td>\n",
       "            <td>0.00</td>\n",
       "        </tr>\n",
       "        <tr>\n",
       "            <td>power</td>\n",
       "            <td>DECIMAL(10,3)</td>\n",
       "            <td>0.000</td>\n",
       "            <td>133900.000</td>\n",
       "            <td>29090</td>\n",
       "            <td>10580.085858749399</td>\n",
       "            <td>23390.32674662438</td>\n",
       "            <td>0</td>\n",
       "            <td>20</td>\n",
       "            <td>5136</td>\n",
       "            <td>151879</td>\n",
       "            <td>0.00</td>\n",
       "        </tr>\n",
       "    </tbody>\n",
       "</table>"
      ],
      "text/plain": [
       "+-------------+---------------+---------------------+---------------------+---------------+--------------------+-------------------+------+------+------+--------+-----------------+\n",
       "| column_name |  column_type  |         min         |         max         | approx_unique |        avg         |        std        | q25  | q50  | q75  | count  | null_percentage |\n",
       "+-------------+---------------+---------------------+---------------------+---------------+--------------------+-------------------+------+------+------+--------+-----------------+\n",
       "|  system_id  |    INTEGER    |          10         |         1200        |       3       | 426.21980655653516 | 558.9929308220753 |  10  |  34  | 1200 | 151879 |       0.00      |\n",
       "|   read_on   |   TIMESTAMP   | 2019-01-01 00:00:00 | 2020-06-26 11:00:00 |     51371     |        None        |        None       | None | None | None | 151879 |       0.00      |\n",
       "|    power    | DECIMAL(10,3) |        0.000        |      133900.000     |     29090     | 10580.085858749399 | 23390.32674662438 |  0   |  20  | 5136 | 151879 |       0.00      |\n",
       "+-------------+---------------+---------------------+---------------------+---------------+--------------------+-------------------+------+------+------+--------+-----------------+"
      ]
     },
     "execution_count": 162,
     "metadata": {},
     "output_type": "execute_result"
    }
   ],
   "source": [
    "%sql SUMMARIZE readings;"
   ]
  },
  {
   "cell_type": "code",
   "execution_count": 163,
   "id": "2c194a70-03ec-43cd-9cfc-ea93532b106c",
   "metadata": {},
   "outputs": [
    {
     "data": {
      "text/html": [
       "<span style=\"None\">Running query in &#x27;ch03&#x27;</span>"
      ],
      "text/plain": [
       "Running query in 'ch03'"
      ]
     },
     "metadata": {},
     "output_type": "display_data"
    },
    {
     "data": {
      "application/vnd.jupyter.widget-view+json": {
       "model_id": "a92662079ae0402ba013f0cf7aa0cdcc",
       "version_major": 2,
       "version_minor": 0
      },
      "text/plain": [
       "FloatProgress(value=0.0, layout=Layout(width='auto'), style=ProgressStyle(bar_color='black'))"
      ]
     },
     "metadata": {},
     "output_type": "display_data"
    },
    {
     "data": {
      "text/html": [
       "<table>\n",
       "    <thead>\n",
       "        <tr>\n",
       "            <th>column_name</th>\n",
       "            <th>column_type</th>\n",
       "            <th>min</th>\n",
       "            <th>max</th>\n",
       "            <th>approx_unique</th>\n",
       "            <th>avg</th>\n",
       "            <th>std</th>\n",
       "            <th>q25</th>\n",
       "            <th>q50</th>\n",
       "            <th>q75</th>\n",
       "            <th>count</th>\n",
       "            <th>null_percentage</th>\n",
       "        </tr>\n",
       "    </thead>\n",
       "    <tbody>\n",
       "        <tr>\n",
       "            <td>id</td>\n",
       "            <td>INTEGER</td>\n",
       "            <td>1</td>\n",
       "            <td>33</td>\n",
       "            <td>25</td>\n",
       "            <td>20.68</td>\n",
       "            <td>8.045288476286396</td>\n",
       "            <td>15</td>\n",
       "            <td>21</td>\n",
       "            <td>27</td>\n",
       "            <td>25</td>\n",
       "            <td>0.00</td>\n",
       "        </tr>\n",
       "        <tr>\n",
       "            <td>value</td>\n",
       "            <td>DECIMAL(5,2)</td>\n",
       "            <td>8.60</td>\n",
       "            <td>11.59</td>\n",
       "            <td>24</td>\n",
       "            <td>9.9916</td>\n",
       "            <td>0.9739852839408476</td>\n",
       "            <td>9</td>\n",
       "            <td>10</td>\n",
       "            <td>11</td>\n",
       "            <td>25</td>\n",
       "            <td>0.00</td>\n",
       "        </tr>\n",
       "        <tr>\n",
       "            <td>valid_from</td>\n",
       "            <td>DATE</td>\n",
       "            <td>2018-12-01</td>\n",
       "            <td>2023-01-01</td>\n",
       "            <td>25</td>\n",
       "            <td>None</td>\n",
       "            <td>None</td>\n",
       "            <td>None</td>\n",
       "            <td>None</td>\n",
       "            <td>None</td>\n",
       "            <td>25</td>\n",
       "            <td>0.00</td>\n",
       "        </tr>\n",
       "        <tr>\n",
       "            <td>valid_until</td>\n",
       "            <td>DATE</td>\n",
       "            <td>2019-01-01</td>\n",
       "            <td>2024-02-01</td>\n",
       "            <td>25</td>\n",
       "            <td>None</td>\n",
       "            <td>None</td>\n",
       "            <td>None</td>\n",
       "            <td>None</td>\n",
       "            <td>None</td>\n",
       "            <td>25</td>\n",
       "            <td>0.00</td>\n",
       "        </tr>\n",
       "    </tbody>\n",
       "</table>"
      ],
      "text/plain": [
       "+-------------+--------------+------------+------------+---------------+--------+--------------------+------+------+------+-------+-----------------+\n",
       "| column_name | column_type  |    min     |    max     | approx_unique |  avg   |        std         | q25  | q50  | q75  | count | null_percentage |\n",
       "+-------------+--------------+------------+------------+---------------+--------+--------------------+------+------+------+-------+-----------------+\n",
       "|      id     |   INTEGER    |     1      |     33     |       25      | 20.68  | 8.045288476286396  |  15  |  21  |  27  |   25  |       0.00      |\n",
       "|    value    | DECIMAL(5,2) |    8.60    |   11.59    |       24      | 9.9916 | 0.9739852839408476 |  9   |  10  |  11  |   25  |       0.00      |\n",
       "|  valid_from |     DATE     | 2018-12-01 | 2023-01-01 |       25      |  None  |        None        | None | None | None |   25  |       0.00      |\n",
       "| valid_until |     DATE     | 2019-01-01 | 2024-02-01 |       25      |  None  |        None        | None | None | None |   25  |       0.00      |\n",
       "+-------------+--------------+------------+------------+---------------+--------+--------------------+------+------+------+-------+-----------------+"
      ]
     },
     "execution_count": 163,
     "metadata": {},
     "output_type": "execute_result"
    }
   ],
   "source": [
    "%sql SUMMARIZE prices;"
   ]
  },
  {
   "cell_type": "code",
   "execution_count": 164,
   "id": "6e80edd9-5d3a-4a7e-96dd-05e4feae39a8",
   "metadata": {},
   "outputs": [
    {
     "data": {
      "text/html": [
       "<span style=\"None\">Running query in &#x27;ch03&#x27;</span>"
      ],
      "text/plain": [
       "Running query in 'ch03'"
      ]
     },
     "metadata": {},
     "output_type": "display_data"
    },
    {
     "data": {
      "application/vnd.jupyter.widget-view+json": {
       "model_id": "4fa79569c56e46ef9989b38554899892",
       "version_major": 2,
       "version_minor": 0
      },
      "text/plain": [
       "FloatProgress(value=0.0, layout=Layout(width='auto'), style=ProgressStyle(bar_color='black'))"
      ]
     },
     "metadata": {},
     "output_type": "display_data"
    },
    {
     "data": {
      "text/html": [
       "<table>\n",
       "    <thead>\n",
       "        <tr>\n",
       "            <th>column_name</th>\n",
       "            <th>column_type</th>\n",
       "            <th>min</th>\n",
       "            <th>max</th>\n",
       "            <th>approx_unique</th>\n",
       "            <th>avg</th>\n",
       "            <th>std</th>\n",
       "            <th>q25</th>\n",
       "            <th>q50</th>\n",
       "            <th>q75</th>\n",
       "            <th>count</th>\n",
       "            <th>null_percentage</th>\n",
       "        </tr>\n",
       "    </thead>\n",
       "    <tbody>\n",
       "        <tr>\n",
       "            <td>system_id</td>\n",
       "            <td>INTEGER</td>\n",
       "            <td>10</td>\n",
       "            <td>1200</td>\n",
       "            <td>3</td>\n",
       "            <td>425.3761814744802</td>\n",
       "            <td>558.9116712455686</td>\n",
       "            <td>10</td>\n",
       "            <td>34</td>\n",
       "            <td>1200</td>\n",
       "            <td>1587</td>\n",
       "            <td>0.00</td>\n",
       "        </tr>\n",
       "        <tr>\n",
       "            <td>day</td>\n",
       "            <td>DATE</td>\n",
       "            <td>2019-01-01</td>\n",
       "            <td>2020-06-26</td>\n",
       "            <td>542</td>\n",
       "            <td>None</td>\n",
       "            <td>None</td>\n",
       "            <td>None</td>\n",
       "            <td>None</td>\n",
       "            <td>None</td>\n",
       "            <td>1587</td>\n",
       "            <td>0.00</td>\n",
       "        </tr>\n",
       "        <tr>\n",
       "            <td>kWh</td>\n",
       "            <td>DOUBLE</td>\n",
       "            <td>0.0</td>\n",
       "            <td>960.03</td>\n",
       "            <td>1379</td>\n",
       "            <td>253.13437933207288</td>\n",
       "            <td>285.4440131658868</td>\n",
       "            <td>5.628010204081632</td>\n",
       "            <td>167.8637239583333</td>\n",
       "            <td>409.03701388888885</td>\n",
       "            <td>1587</td>\n",
       "            <td>0.00</td>\n",
       "        </tr>\n",
       "    </tbody>\n",
       "</table>"
      ],
      "text/plain": [
       "+-------------+-------------+------------+------------+---------------+--------------------+-------------------+-------------------+-------------------+--------------------+-------+-----------------+\n",
       "| column_name | column_type |    min     |    max     | approx_unique |        avg         |        std        |        q25        |        q50        |        q75         | count | null_percentage |\n",
       "+-------------+-------------+------------+------------+---------------+--------------------+-------------------+-------------------+-------------------+--------------------+-------+-----------------+\n",
       "|  system_id  |   INTEGER   |     10     |    1200    |       3       | 425.3761814744802  | 558.9116712455686 |         10        |         34        |        1200        |  1587 |       0.00      |\n",
       "|     day     |     DATE    | 2019-01-01 | 2020-06-26 |      542      |        None        |        None       |        None       |        None       |        None        |  1587 |       0.00      |\n",
       "|     kWh     |    DOUBLE   |    0.0     |   960.03   |      1379     | 253.13437933207288 | 285.4440131658868 | 5.628010204081632 | 167.8637239583333 | 409.03701388888885 |  1587 |       0.00      |\n",
       "+-------------+-------------+------------+------------+---------------+--------------------+-------------------+-------------------+-------------------+--------------------+-------+-----------------+"
      ]
     },
     "execution_count": 164,
     "metadata": {},
     "output_type": "execute_result"
    }
   ],
   "source": [
    "%sql SUMMARIZE v_power_per_day;"
   ]
  },
  {
   "cell_type": "code",
   "execution_count": 165,
   "id": "523dde06-b97d-4591-b021-79aeed209bd5",
   "metadata": {},
   "outputs": [
    {
     "data": {
      "text/html": [
       "<span style=\"None\">Running query in &#x27;ch03&#x27;</span>"
      ],
      "text/plain": [
       "Running query in 'ch03'"
      ]
     },
     "metadata": {},
     "output_type": "display_data"
    },
    {
     "data": {
      "text/html": [
       "<table>\n",
       "    <thead>\n",
       "        <tr>\n",
       "            <th>column_name</th>\n",
       "            <th>column_type</th>\n",
       "            <th>min</th>\n",
       "            <th>max</th>\n",
       "            <th>approx_unique</th>\n",
       "            <th>avg</th>\n",
       "            <th>std</th>\n",
       "            <th>q25</th>\n",
       "            <th>q50</th>\n",
       "            <th>q75</th>\n",
       "            <th>count</th>\n",
       "            <th>null_percentage</th>\n",
       "        </tr>\n",
       "    </thead>\n",
       "    <tbody>\n",
       "        <tr>\n",
       "            <td>read_on</td>\n",
       "            <td>TIMESTAMP</td>\n",
       "            <td>2019-01-01 00:00:00</td>\n",
       "            <td>2020-06-26 11:00:00</td>\n",
       "            <td>50833</td>\n",
       "            <td>None</td>\n",
       "            <td>None</td>\n",
       "            <td>None</td>\n",
       "            <td>None</td>\n",
       "            <td>None</td>\n",
       "            <td>52072</td>\n",
       "            <td>0.00</td>\n",
       "        </tr>\n",
       "        <tr>\n",
       "            <td>power</td>\n",
       "            <td>DECIMAL(10,3)</td>\n",
       "            <td>0.000</td>\n",
       "            <td>47873.333</td>\n",
       "            <td>6438</td>\n",
       "            <td>7122.5597121293595</td>\n",
       "            <td>11760.089219586589</td>\n",
       "            <td>20</td>\n",
       "            <td>21</td>\n",
       "            <td>9541</td>\n",
       "            <td>52072</td>\n",
       "            <td>0.00</td>\n",
       "        </tr>\n",
       "    </tbody>\n",
       "</table>"
      ],
      "text/plain": [
       "+-------------+---------------+---------------------+---------------------+---------------+--------------------+--------------------+------+------+------+-------+-----------------+\n",
       "| column_name |  column_type  |         min         |         max         | approx_unique |        avg         |        std         | q25  | q50  | q75  | count | null_percentage |\n",
       "+-------------+---------------+---------------------+---------------------+---------------+--------------------+--------------------+------+------+------+-------+-----------------+\n",
       "|   read_on   |   TIMESTAMP   | 2019-01-01 00:00:00 | 2020-06-26 11:00:00 |     50833     |        None        |        None        | None | None | None | 52072 |       0.00      |\n",
       "|    power    | DECIMAL(10,3) |        0.000        |      47873.333      |      6438     | 7122.5597121293595 | 11760.089219586589 |  20  |  21  | 9541 | 52072 |       0.00      |\n",
       "+-------------+---------------+---------------------+---------------------+---------------+--------------------+--------------------+------+------+------+-------+-----------------+"
      ]
     },
     "execution_count": 165,
     "metadata": {},
     "output_type": "execute_result"
    }
   ],
   "source": [
    "%sql SUMMARIZE SELECT read_on, power FROM readings WHERE system_id = 1200;"
   ]
  },
  {
   "cell_type": "markdown",
   "id": "0328cfc9-6a30-41aa-87e1-b80025b9d50d",
   "metadata": {},
   "source": [
    "## 条件过滤(Conditions and filtering outside the WHERE clause)"
   ]
  },
  {
   "cell_type": "markdown",
   "id": "c758295a-dbaa-4006-8ae8-a9fcf602b9ad",
   "metadata": {},
   "source": [
    "Table 4.1 Filtering clauses and where to use them  \n",
    "         Where to use it Effect  \n",
    "HAVING    After GROUP BY Filters rows based on aggregates com-\n",
    "puted for a group  \n",
    "QUALIFY   After the FROM clause referring to any win-\n",
    "dow expression Filters rows based on anything computed\n",
    "in that window  \n",
    "FILTER    After any aggregate function Filters the values passed to the aggregate"
   ]
  },
  {
   "cell_type": "code",
   "execution_count": null,
   "id": "80b91070-06cd-4bdc-b603-1e43a880e5e0",
   "metadata": {},
   "outputs": [],
   "source": []
  },
  {
   "cell_type": "markdown",
   "id": "a1784234-daf0-4a57-b0a1-3d22749ede09",
   "metadata": {},
   "source": [
    "### HAVING"
   ]
  },
  {
   "cell_type": "code",
   "execution_count": 166,
   "id": "e4a97c0a-8c7a-4a20-987b-dde5c8895ee1",
   "metadata": {},
   "outputs": [
    {
     "data": {
      "text/html": [
       "<span style=\"None\">Running query in &#x27;ch03&#x27;</span>"
      ],
      "text/plain": [
       "Running query in 'ch03'"
      ]
     },
     "metadata": {},
     "output_type": "display_data"
    },
    {
     "name": "stderr",
     "output_type": "stream",
     "text": [
      "RuntimeError: (duckdb.duckdb.BinderException) Binder Error: WHERE clause cannot contain aggregates!\n",
      "LINE 3: round(sum(power) / 4 / 1000, 2) AS kWh,\n",
      "              ^\n",
      "[SQL: SELECT system_id,\n",
      "date_trunc('day', read_on) AS day,\n",
      "round(sum(power) / 4 / 1000, 2) AS kWh,\n",
      "FROM readings\n",
      "WHERE kWh >= 900\n",
      "GROUP BY ALL;]\n",
      "(Background on this error at: https://sqlalche.me/e/20/f405)\n",
      "If you need help solving this issue, send us a message: https://ploomber.io/community\n"
     ]
    }
   ],
   "source": [
    "%%sql \n",
    "SELECT system_id,\n",
    "date_trunc('day', read_on) AS day,\n",
    "round(sum(power) / 4 / 1000, 2) AS kWh,\n",
    "FROM readings\n",
    "WHERE kWh >= 900\n",
    "GROUP BY ALL;"
   ]
  },
  {
   "cell_type": "code",
   "execution_count": 167,
   "id": "04e6f929-0815-4e15-b0d9-d16db434565e",
   "metadata": {},
   "outputs": [
    {
     "data": {
      "text/html": [
       "<span style=\"None\">Running query in &#x27;ch03&#x27;</span>"
      ],
      "text/plain": [
       "Running query in 'ch03'"
      ]
     },
     "metadata": {},
     "output_type": "display_data"
    },
    {
     "data": {
      "text/html": [
       "<table>\n",
       "    <thead>\n",
       "        <tr>\n",
       "            <th>system_id</th>\n",
       "            <th>day</th>\n",
       "            <th>kWh</th>\n",
       "        </tr>\n",
       "    </thead>\n",
       "    <tbody>\n",
       "        <tr>\n",
       "            <td>34</td>\n",
       "            <td>2020-05-12</td>\n",
       "            <td>960.03</td>\n",
       "        </tr>\n",
       "        <tr>\n",
       "            <td>34</td>\n",
       "            <td>2020-06-08</td>\n",
       "            <td>935.33</td>\n",
       "        </tr>\n",
       "        <tr>\n",
       "            <td>34</td>\n",
       "            <td>2020-05-23</td>\n",
       "            <td>924.08</td>\n",
       "        </tr>\n",
       "        <tr>\n",
       "            <td>34</td>\n",
       "            <td>2019-06-09</td>\n",
       "            <td>915.4</td>\n",
       "        </tr>\n",
       "        <tr>\n",
       "            <td>34</td>\n",
       "            <td>2020-06-06</td>\n",
       "            <td>914.98</td>\n",
       "        </tr>\n",
       "        <tr>\n",
       "            <td>34</td>\n",
       "            <td>2020-05-20</td>\n",
       "            <td>912.65</td>\n",
       "        </tr>\n",
       "        <tr>\n",
       "            <td>34</td>\n",
       "            <td>2019-05-01</td>\n",
       "            <td>912.6</td>\n",
       "        </tr>\n",
       "        <tr>\n",
       "            <td>34</td>\n",
       "            <td>2020-06-16</td>\n",
       "            <td>911.93</td>\n",
       "        </tr>\n",
       "        <tr>\n",
       "            <td>34</td>\n",
       "            <td>2020-06-07</td>\n",
       "            <td>911.73</td>\n",
       "        </tr>\n",
       "        <tr>\n",
       "            <td>34</td>\n",
       "            <td>2020-05-18</td>\n",
       "            <td>907.98</td>\n",
       "        </tr>\n",
       "    </tbody>\n",
       "</table>\n",
       "<span style=\"font-style:italic;text-align:center;\">Truncated to <a href=\"https://jupysql.ploomber.io/en/latest/api/configuration.html#displaylimit\">displaylimit</a> of 10.</span>"
      ],
      "text/plain": [
       "+-----------+------------+--------+\n",
       "| system_id |    day     |  kWh   |\n",
       "+-----------+------------+--------+\n",
       "|     34    | 2020-05-12 | 960.03 |\n",
       "|     34    | 2020-06-08 | 935.33 |\n",
       "|     34    | 2020-05-23 | 924.08 |\n",
       "|     34    | 2019-06-09 | 915.4  |\n",
       "|     34    | 2020-06-06 | 914.98 |\n",
       "|     34    | 2020-05-20 | 912.65 |\n",
       "|     34    | 2019-05-01 | 912.6  |\n",
       "|     34    | 2020-06-16 | 911.93 |\n",
       "|     34    | 2020-06-07 | 911.73 |\n",
       "|     34    | 2020-05-18 | 907.98 |\n",
       "+-----------+------------+--------+\n",
       "Truncated to displaylimit of 10."
      ]
     },
     "execution_count": 167,
     "metadata": {},
     "output_type": "execute_result"
    }
   ],
   "source": [
    "%%sql \n",
    "SELECT system_id,\n",
    "date_trunc('day', read_on) AS day,\n",
    "round(sum(power) / 4 / 1000, 2) AS kWh,\n",
    "FROM readings\n",
    "GROUP BY ALL\n",
    "HAVING kWh >= 900\n",
    "ORDER BY kWh DESC;"
   ]
  },
  {
   "cell_type": "markdown",
   "id": "ecc86455-4eec-468a-a3e9-07c55f90e074",
   "metadata": {
    "tags": []
   },
   "source": [
    "### QUALIFY\n",
    "\n",
    "However, you also can’t use HAVING because window functions get evaluated\n",
    "before an aggregation. So QUALIFY lets you filter on the results of a window function."
   ]
  },
  {
   "cell_type": "code",
   "execution_count": 191,
   "id": "d7da3cce-c0b6-4690-9044-d184dbc3b234",
   "metadata": {},
   "outputs": [
    {
     "data": {
      "text/html": [
       "<span style=\"None\">Running query in &#x27;ch03&#x27;</span>"
      ],
      "text/plain": [
       "Running query in 'ch03'"
      ]
     },
     "metadata": {},
     "output_type": "display_data"
    },
    {
     "data": {
      "text/html": [
       "<table>\n",
       "    <thead>\n",
       "        <tr>\n",
       "            <th>rnk</th>\n",
       "            <th>system_id</th>\n",
       "            <th>read_on</th>\n",
       "            <th>power</th>\n",
       "        </tr>\n",
       "    </thead>\n",
       "    <tbody>\n",
       "        <tr>\n",
       "            <td>1</td>\n",
       "            <td>34</td>\n",
       "            <td>2019-05-08 12:15:00</td>\n",
       "            <td>133900.000</td>\n",
       "        </tr>\n",
       "        <tr>\n",
       "            <td>1</td>\n",
       "            <td>34</td>\n",
       "            <td>2019-05-23 10:00:00</td>\n",
       "            <td>133900.000</td>\n",
       "        </tr>\n",
       "        <tr>\n",
       "            <td>1</td>\n",
       "            <td>34</td>\n",
       "            <td>2019-05-23 11:30:00</td>\n",
       "            <td>133900.000</td>\n",
       "        </tr>\n",
       "        <tr>\n",
       "            <td>1</td>\n",
       "            <td>34</td>\n",
       "            <td>2019-05-28 11:45:00</td>\n",
       "            <td>133900.000</td>\n",
       "        </tr>\n",
       "        <tr>\n",
       "            <td>1</td>\n",
       "            <td>34</td>\n",
       "            <td>2020-04-02 11:30:00</td>\n",
       "            <td>133900.000</td>\n",
       "        </tr>\n",
       "        <tr>\n",
       "            <td>2</td>\n",
       "            <td>34</td>\n",
       "            <td>2019-05-09 10:30:00</td>\n",
       "            <td>133700.000</td>\n",
       "        </tr>\n",
       "        <tr>\n",
       "            <td>2</td>\n",
       "            <td>34</td>\n",
       "            <td>2019-05-10 12:15:00</td>\n",
       "            <td>133700.000</td>\n",
       "        </tr>\n",
       "        <tr>\n",
       "            <td>3</td>\n",
       "            <td>34</td>\n",
       "            <td>2019-03-21 13:00:00</td>\n",
       "            <td>133600.000</td>\n",
       "        </tr>\n",
       "        <tr>\n",
       "            <td>3</td>\n",
       "            <td>34</td>\n",
       "            <td>2019-04-02 10:30:00</td>\n",
       "            <td>133600.000</td>\n",
       "        </tr>\n",
       "    </tbody>\n",
       "</table>"
      ],
      "text/plain": [
       "+-----+-----------+---------------------+------------+\n",
       "| rnk | system_id |       read_on       |   power    |\n",
       "+-----+-----------+---------------------+------------+\n",
       "|  1  |     34    | 2019-05-08 12:15:00 | 133900.000 |\n",
       "|  1  |     34    | 2019-05-23 10:00:00 | 133900.000 |\n",
       "|  1  |     34    | 2019-05-23 11:30:00 | 133900.000 |\n",
       "|  1  |     34    | 2019-05-28 11:45:00 | 133900.000 |\n",
       "|  1  |     34    | 2020-04-02 11:30:00 | 133900.000 |\n",
       "|  2  |     34    | 2019-05-09 10:30:00 | 133700.000 |\n",
       "|  2  |     34    | 2019-05-10 12:15:00 | 133700.000 |\n",
       "|  3  |     34    | 2019-03-21 13:00:00 | 133600.000 |\n",
       "|  3  |     34    | 2019-04-02 10:30:00 | 133600.000 |\n",
       "+-----+-----------+---------------------+------------+"
      ]
     },
     "execution_count": 191,
     "metadata": {},
     "output_type": "execute_result"
    }
   ],
   "source": [
    "%%sql SELECT dense_rank() OVER (ORDER BY power DESC) AS rnk, *\n",
    "FROM readings\n",
    "QUALIFY rnk <= 3;"
   ]
  },
  {
   "cell_type": "code",
   "execution_count": null,
   "id": "326b742b-aaf6-4347-97f2-2fb40f07325c",
   "metadata": {},
   "outputs": [],
   "source": [
    "%%sql \n",
    "SELECT \n",
    "system_id,\n",
    "    day,\n",
    "    avg(kWh) OVER (\n",
    "    PARTITION BY system_id\n",
    "    ORDER BY day ASC\n",
    "    RANGE BETWEEN INTERVAL 3 Days PRECEDING\n",
    "    AND INTERVAL 3 Days FOLLOWING\n",
    "    ) AS \"kWh 7-day moving average\"\n",
    "FROM v_power_per_day\n",
    "QUALIFY \"kWh 7-day moving average\" > 875\n",
    "ORDER BY system_id, day;"
   ]
  },
  {
   "cell_type": "markdown",
   "id": "a67344c0-e788-4f6a-9131-f88f5d7a906c",
   "metadata": {},
   "source": [
    "### FILTER"
   ]
  },
  {
   "cell_type": "code",
   "execution_count": null,
   "id": "d4af4d62-deb3-40fe-a9b1-0c4451767637",
   "metadata": {},
   "outputs": [],
   "source": [
    "%%sql\n",
    "select \n",
    "    system_id, \n",
    "    count(*) filter(read_on <'2019-01-01 01:00:00') as cond_count,\n",
    "    max(read_on) filter(read_on <'2019-01-01 02:00:00') as max_read_on,\n",
    "    min(read_on) filter(read_on <'2019-01-01 03:00:00') as min_read_on,\n",
    "from readings group by system_id;"
   ]
  },
  {
   "cell_type": "markdown",
   "id": "40faf2ca-88ae-4fb8-a7ab-9629c3d6381e",
   "metadata": {},
   "source": [
    "## subquery"
   ]
  },
  {
   "cell_type": "markdown",
   "id": "c425b6a5-4458-40ed-ae13-9c27ca9fadd6",
   "metadata": {},
   "source": [
    "子查询的本质是聚合计算无法支持嵌套。如下计算所示"
   ]
  },
  {
   "cell_type": "code",
   "execution_count": 172,
   "id": "20c5512c-2fea-4fe3-a5d5-6eefd9cee457",
   "metadata": {},
   "outputs": [
    {
     "data": {
      "text/html": [
       "<span style=\"None\">Running query in &#x27;ch03&#x27;</span>"
      ],
      "text/plain": [
       "Running query in 'ch03'"
      ]
     },
     "metadata": {},
     "output_type": "display_data"
    },
    {
     "name": "stderr",
     "output_type": "stream",
     "text": [
      "RuntimeError: (duckdb.duckdb.BinderException) Binder Error: aggregate function calls cannot be nested\n",
      "LINE 1: SELECT avg(sum(kWh)) FROM v_power_per_day;\n",
      "                   ^\n",
      "[SQL: SELECT avg(sum(kWh)) FROM v_power_per_day;]\n",
      "(Background on this error at: https://sqlalche.me/e/20/f405)\n",
      "If you need help solving this issue, send us a message: https://ploomber.io/community\n"
     ]
    }
   ],
   "source": [
    "%sql SELECT avg(sum(kWh)) FROM v_power_per_day;"
   ]
  },
  {
   "cell_type": "code",
   "execution_count": 170,
   "id": "78b5e750-028f-4dc8-9d4f-432f457ac13f",
   "metadata": {},
   "outputs": [
    {
     "data": {
      "text/html": [
       "<span style=\"None\">Running query in &#x27;ch03&#x27;</span>"
      ],
      "text/plain": [
       "Running query in 'ch03'"
      ]
     },
     "metadata": {},
     "output_type": "display_data"
    },
    {
     "name": "stderr",
     "output_type": "stream",
     "text": [
      "RuntimeError: If using snippets, you may pass the --with argument explicitly.\n",
      "For more details please refer: https://jupysql.ploomber.io/en/latest/compose.html#with-argument\n",
      "\n",
      "\n",
      "Original error message from DB driver:\n",
      "(duckdb.duckdb.BinderException) Binder Error: Referenced column \"system_id；\" not found in FROM clause!\n",
      "Candidate bindings: \"v_power_per_day.system_id\"\n",
      "LINE 1: ...um(kWh)) FROM v_power_per_day GROUP BY system_id；\n",
      "                                                  ^\n",
      "[SQL: SELECT system_id,avg(sum(kWh)) FROM v_power_per_day GROUP BY system_id；]\n",
      "(Background on this error at: https://sqlalche.me/e/20/f405)\n",
      "\n",
      "If you need help solving this issue, send us a message: https://ploomber.io/community\n"
     ]
    }
   ],
   "source": [
    "%sql SELECT system_id,avg(sum(kWh)) FROM v_power_per_day GROUP BY system_id；"
   ]
  },
  {
   "cell_type": "markdown",
   "id": "bcd05643-1847-437c-80c3-bacb29b2f62b",
   "metadata": {},
   "source": [
    "### uncorrelated subquery"
   ]
  },
  {
   "cell_type": "code",
   "execution_count": 173,
   "id": "4cfea5bb-6559-4846-a5a1-b3cd31b11fc2",
   "metadata": {},
   "outputs": [
    {
     "data": {
      "text/html": [
       "<span style=\"None\">Running query in &#x27;ch03&#x27;</span>"
      ],
      "text/plain": [
       "Running query in 'ch03'"
      ]
     },
     "metadata": {},
     "output_type": "display_data"
    },
    {
     "data": {
      "text/html": [
       "<table>\n",
       "    <thead>\n",
       "        <tr>\n",
       "            <th>avg(sum_per_system)</th>\n",
       "        </tr>\n",
       "    </thead>\n",
       "    <tbody>\n",
       "        <tr>\n",
       "            <td>133908.08666666664</td>\n",
       "        </tr>\n",
       "    </tbody>\n",
       "</table>"
      ],
      "text/plain": [
       "+---------------------+\n",
       "| avg(sum_per_system) |\n",
       "+---------------------+\n",
       "|  133908.08666666664 |\n",
       "+---------------------+"
      ]
     },
     "execution_count": 173,
     "metadata": {},
     "output_type": "execute_result"
    }
   ],
   "source": [
    "%%sql\n",
    "SELECT avg(sum_per_system)\n",
    "FROM (\n",
    "SELECT sum(kWh) AS sum_per_system\n",
    "FROM v_power_per_day\n",
    "GROUP BY system_id\n",
    ");"
   ]
  },
  {
   "cell_type": "code",
   "execution_count": 174,
   "id": "1f803e5b-f8df-4b69-9d04-59fc291ddd54",
   "metadata": {},
   "outputs": [
    {
     "data": {
      "text/html": [
       "<span style=\"None\">Running query in &#x27;ch03&#x27;</span>"
      ],
      "text/plain": [
       "Running query in 'ch03'"
      ]
     },
     "metadata": {},
     "output_type": "display_data"
    },
    {
     "data": {
      "text/html": [
       "<table>\n",
       "    <thead>\n",
       "        <tr>\n",
       "            <th>read_on</th>\n",
       "            <th>power</th>\n",
       "        </tr>\n",
       "    </thead>\n",
       "    <tbody>\n",
       "        <tr>\n",
       "            <td>2019-05-08 12:15:00</td>\n",
       "            <td>133900.000</td>\n",
       "        </tr>\n",
       "        <tr>\n",
       "            <td>2019-05-23 10:00:00</td>\n",
       "            <td>133900.000</td>\n",
       "        </tr>\n",
       "        <tr>\n",
       "            <td>2019-05-23 11:30:00</td>\n",
       "            <td>133900.000</td>\n",
       "        </tr>\n",
       "        <tr>\n",
       "            <td>2019-05-28 11:45:00</td>\n",
       "            <td>133900.000</td>\n",
       "        </tr>\n",
       "        <tr>\n",
       "            <td>2020-04-02 11:30:00</td>\n",
       "            <td>133900.000</td>\n",
       "        </tr>\n",
       "    </tbody>\n",
       "</table>"
      ],
      "text/plain": [
       "+---------------------+------------+\n",
       "|       read_on       |   power    |\n",
       "+---------------------+------------+\n",
       "| 2019-05-08 12:15:00 | 133900.000 |\n",
       "| 2019-05-23 10:00:00 | 133900.000 |\n",
       "| 2019-05-23 11:30:00 | 133900.000 |\n",
       "| 2019-05-28 11:45:00 | 133900.000 |\n",
       "| 2020-04-02 11:30:00 | 133900.000 |\n",
       "+---------------------+------------+"
      ]
     },
     "execution_count": 174,
     "metadata": {},
     "output_type": "execute_result"
    }
   ],
   "source": [
    "%%sql SELECT read_on, power\n",
    "FROM readings\n",
    "WHERE power = (SELECT max(power) FROM readings);"
   ]
  },
  {
   "cell_type": "markdown",
   "id": "63b2beb4-132e-4d2d-bdea-81a5bed23fed",
   "metadata": {},
   "source": [
    "### correlated subquery"
   ]
  },
  {
   "cell_type": "code",
   "execution_count": 175,
   "id": "60722c7b-fb77-4842-8d05-51bf1538e4ed",
   "metadata": {},
   "outputs": [
    {
     "data": {
      "text/html": [
       "<span style=\"None\">Running query in &#x27;ch03&#x27;</span>"
      ],
      "text/plain": [
       "Running query in 'ch03'"
      ]
     },
     "metadata": {},
     "output_type": "display_data"
    },
    {
     "data": {
      "text/html": [
       "<table>\n",
       "    <thead>\n",
       "        <tr>\n",
       "            <th>system_id</th>\n",
       "            <th>read_on</th>\n",
       "            <th>power</th>\n",
       "        </tr>\n",
       "    </thead>\n",
       "    <tbody>\n",
       "        <tr>\n",
       "            <td>10</td>\n",
       "            <td>2019-02-23 12:45:00</td>\n",
       "            <td>1109.293</td>\n",
       "        </tr>\n",
       "        <tr>\n",
       "            <td>34</td>\n",
       "            <td>2019-05-08 12:15:00</td>\n",
       "            <td>133900.000</td>\n",
       "        </tr>\n",
       "        <tr>\n",
       "            <td>34</td>\n",
       "            <td>2019-05-23 10:00:00</td>\n",
       "            <td>133900.000</td>\n",
       "        </tr>\n",
       "        <tr>\n",
       "            <td>34</td>\n",
       "            <td>2019-05-23 11:30:00</td>\n",
       "            <td>133900.000</td>\n",
       "        </tr>\n",
       "        <tr>\n",
       "            <td>34</td>\n",
       "            <td>2019-05-28 11:45:00</td>\n",
       "            <td>133900.000</td>\n",
       "        </tr>\n",
       "        <tr>\n",
       "            <td>34</td>\n",
       "            <td>2020-04-02 11:30:00</td>\n",
       "            <td>133900.000</td>\n",
       "        </tr>\n",
       "        <tr>\n",
       "            <td>1200</td>\n",
       "            <td>2020-04-16 12:15:00</td>\n",
       "            <td>47873.333</td>\n",
       "        </tr>\n",
       "    </tbody>\n",
       "</table>"
      ],
      "text/plain": [
       "+-----------+---------------------+------------+\n",
       "| system_id |       read_on       |   power    |\n",
       "+-----------+---------------------+------------+\n",
       "|     10    | 2019-02-23 12:45:00 |  1109.293  |\n",
       "|     34    | 2019-05-08 12:15:00 | 133900.000 |\n",
       "|     34    | 2019-05-23 10:00:00 | 133900.000 |\n",
       "|     34    | 2019-05-23 11:30:00 | 133900.000 |\n",
       "|     34    | 2019-05-28 11:45:00 | 133900.000 |\n",
       "|     34    | 2020-04-02 11:30:00 | 133900.000 |\n",
       "|    1200   | 2020-04-16 12:15:00 | 47873.333  |\n",
       "+-----------+---------------------+------------+"
      ]
     },
     "execution_count": 175,
     "metadata": {},
     "output_type": "execute_result"
    }
   ],
   "source": [
    "%%sql SELECT system_id, read_on, power\n",
    "FROM readings r1\n",
    "WHERE power = (\n",
    "SELECT max(power)\n",
    "FROM readings r2\n",
    "WHERE r2.system_id = r1.system_id\n",
    ")\n",
    "ORDER BY ALL;"
   ]
  },
  {
   "cell_type": "markdown",
   "id": "15472cb8-f83d-4e14-8439-033271ae5986",
   "metadata": {},
   "source": [
    "这种子查询关联外部表的查询非常复杂，在其他数据库中，经常需要被优化为先执行max运算，然后把max的结果作为子查询关联到外部表。  \n",
    "简单来讲就是把关联子查询改写为不需要关联的两个表的(子查询需要单独聚合) join 连接。  \n",
    "查询结果如下所示:  "
   ]
  },
  {
   "cell_type": "code",
   "execution_count": 176,
   "id": "a8b2f384-7d91-4dfe-b57d-b47f2701a201",
   "metadata": {},
   "outputs": [
    {
     "data": {
      "text/html": [
       "<span style=\"None\">Running query in &#x27;ch03&#x27;</span>"
      ],
      "text/plain": [
       "Running query in 'ch03'"
      ]
     },
     "metadata": {},
     "output_type": "display_data"
    },
    {
     "data": {
      "text/html": [
       "<table>\n",
       "    <thead>\n",
       "        <tr>\n",
       "            <th>system_id</th>\n",
       "            <th>read_on</th>\n",
       "            <th>power</th>\n",
       "        </tr>\n",
       "    </thead>\n",
       "    <tbody>\n",
       "        <tr>\n",
       "            <td>10</td>\n",
       "            <td>2019-02-23 12:45:00</td>\n",
       "            <td>1109.293</td>\n",
       "        </tr>\n",
       "        <tr>\n",
       "            <td>34</td>\n",
       "            <td>2019-05-08 12:15:00</td>\n",
       "            <td>133900.000</td>\n",
       "        </tr>\n",
       "        <tr>\n",
       "            <td>34</td>\n",
       "            <td>2019-05-23 10:00:00</td>\n",
       "            <td>133900.000</td>\n",
       "        </tr>\n",
       "        <tr>\n",
       "            <td>34</td>\n",
       "            <td>2019-05-23 11:30:00</td>\n",
       "            <td>133900.000</td>\n",
       "        </tr>\n",
       "        <tr>\n",
       "            <td>34</td>\n",
       "            <td>2019-05-28 11:45:00</td>\n",
       "            <td>133900.000</td>\n",
       "        </tr>\n",
       "        <tr>\n",
       "            <td>34</td>\n",
       "            <td>2020-04-02 11:30:00</td>\n",
       "            <td>133900.000</td>\n",
       "        </tr>\n",
       "        <tr>\n",
       "            <td>1200</td>\n",
       "            <td>2020-04-16 12:15:00</td>\n",
       "            <td>47873.333</td>\n",
       "        </tr>\n",
       "    </tbody>\n",
       "</table>"
      ],
      "text/plain": [
       "+-----------+---------------------+------------+\n",
       "| system_id |       read_on       |   power    |\n",
       "+-----------+---------------------+------------+\n",
       "|     10    | 2019-02-23 12:45:00 |  1109.293  |\n",
       "|     34    | 2019-05-08 12:15:00 | 133900.000 |\n",
       "|     34    | 2019-05-23 10:00:00 | 133900.000 |\n",
       "|     34    | 2019-05-23 11:30:00 | 133900.000 |\n",
       "|     34    | 2019-05-28 11:45:00 | 133900.000 |\n",
       "|     34    | 2020-04-02 11:30:00 | 133900.000 |\n",
       "|    1200   | 2020-04-16 12:15:00 | 47873.333  |\n",
       "+-----------+---------------------+------------+"
      ]
     },
     "execution_count": 176,
     "metadata": {},
     "output_type": "execute_result"
    }
   ],
   "source": [
    "%%sql SELECT r1.system_id, read_on, power\n",
    "FROM readings r1\n",
    "JOIN (\n",
    "SELECT r2.system_id, max(power) AS value\n",
    "FROM readings r2\n",
    "GROUP BY ALL\n",
    ") AS max_power ON (\n",
    "max_power.system_id = r1.system_id AND\n",
    "max_power.value = r1.power\n",
    ")\n",
    "ORDER BY ALL;"
   ]
  },
  {
   "cell_type": "code",
   "execution_count": 178,
   "id": "708df18f-a960-44a5-9e40-59fea019f4ef",
   "metadata": {},
   "outputs": [
    {
     "data": {
      "text/html": [
       "<span style=\"None\">Running query in &#x27;ch03&#x27;</span>"
      ],
      "text/plain": [
       "Running query in 'ch03'"
      ]
     },
     "metadata": {},
     "output_type": "display_data"
    },
    {
     "data": {
      "text/html": [
       "<table>\n",
       "    <thead>\n",
       "        <tr>\n",
       "            <th>explain_key</th>\n",
       "            <th>explain_value</th>\n",
       "        </tr>\n",
       "    </thead>\n",
       "    <tbody>\n",
       "    </tbody>\n",
       "</table>"
      ],
      "text/plain": [
       "+-------------+---------------+\n",
       "| explain_key | explain_value |\n",
       "+-------------+---------------+\n",
       "+-------------+---------------+"
      ]
     },
     "execution_count": 178,
     "metadata": {},
     "output_type": "execute_result"
    }
   ],
   "source": [
    "%%sql \n",
    "EXPLAIN SELECT r1.system_id, read_on, power\n",
    "FROM readings r1\n",
    "JOIN (\n",
    "SELECT r2.system_id, max(power) AS value\n",
    "FROM readings r2\n",
    "GROUP BY ALL\n",
    ") AS max_power ON (\n",
    "max_power.system_id = r1.system_id AND\n",
    "max_power.value = r1.power\n",
    ")\n",
    "ORDER BY ALL;"
   ]
  },
  {
   "cell_type": "markdown",
   "id": "20f7646a-229f-44ae-a28f-f41e392e0edd",
   "metadata": {},
   "source": [
    "### Subqueries as expressions"
   ]
  },
  {
   "cell_type": "code",
   "execution_count": 179,
   "id": "44a19619-0500-47bd-bd18-d8cda976af23",
   "metadata": {},
   "outputs": [
    {
     "data": {
      "text/html": [
       "<span style=\"None\">Running query in &#x27;ch03&#x27;</span>"
      ],
      "text/plain": [
       "Running query in 'ch03'"
      ]
     },
     "metadata": {},
     "output_type": "display_data"
    },
    {
     "data": {
      "text/html": [
       "<table>\n",
       "    <thead>\n",
       "        <tr>\n",
       "            <th>v</th>\n",
       "        </tr>\n",
       "    </thead>\n",
       "    <tbody>\n",
       "        <tr>\n",
       "            <td>7</td>\n",
       "        </tr>\n",
       "    </tbody>\n",
       "</table>"
      ],
      "text/plain": [
       "+---+\n",
       "| v |\n",
       "+---+\n",
       "| 7 |\n",
       "+---+"
      ]
     },
     "execution_count": 179,
     "metadata": {},
     "output_type": "execute_result"
    }
   ],
   "source": [
    "\n",
    "%%sql SELECT * FROM VALUES (7), (11) s(v)\n",
    "WHERE EXISTS (SELECT * FROM range(10) WHERE range = v);"
   ]
  },
  {
   "cell_type": "code",
   "execution_count": 180,
   "id": "44492d70-ae70-42ea-a9dc-cdbfa1c758ca",
   "metadata": {},
   "outputs": [
    {
     "data": {
      "text/html": [
       "<span style=\"None\">Running query in &#x27;ch03&#x27;</span>"
      ],
      "text/plain": [
       "Running query in 'ch03'"
      ]
     },
     "metadata": {},
     "output_type": "display_data"
    },
    {
     "data": {
      "text/html": [
       "<table>\n",
       "    <thead>\n",
       "        <tr>\n",
       "            <th>v</th>\n",
       "        </tr>\n",
       "    </thead>\n",
       "    <tbody>\n",
       "        <tr>\n",
       "            <td>7</td>\n",
       "        </tr>\n",
       "    </tbody>\n",
       "</table>"
      ],
      "text/plain": [
       "+---+\n",
       "| v |\n",
       "+---+\n",
       "| 7 |\n",
       "+---+"
      ]
     },
     "execution_count": 180,
     "metadata": {},
     "output_type": "execute_result"
    }
   ],
   "source": [
    "\n",
    "%%sql SELECT * FROM VALUES (7), (11) s(v)\n",
    "WHERE v IN (SELECT * FROM range(10));"
   ]
  },
  {
   "cell_type": "code",
   "execution_count": 181,
   "id": "cccf0708-dbd3-4170-8f33-91473d5655c8",
   "metadata": {},
   "outputs": [
    {
     "data": {
      "text/html": [
       "<span style=\"None\">Running query in &#x27;ch03&#x27;</span>"
      ],
      "text/plain": [
       "Running query in 'ch03'"
      ]
     },
     "metadata": {},
     "output_type": "display_data"
    },
    {
     "data": {
      "text/html": [
       "<table>\n",
       "    <thead>\n",
       "        <tr>\n",
       "            <th>v</th>\n",
       "        </tr>\n",
       "    </thead>\n",
       "    <tbody>\n",
       "        <tr>\n",
       "            <td>7</td>\n",
       "        </tr>\n",
       "    </tbody>\n",
       "</table>"
      ],
      "text/plain": [
       "+---+\n",
       "| v |\n",
       "+---+\n",
       "| 7 |\n",
       "+---+"
      ]
     },
     "execution_count": 181,
     "metadata": {},
     "output_type": "execute_result"
    }
   ],
   "source": [
    "\n",
    "%%sql SELECT * FROM VALUES (7), (11) s(v)\n",
    "WHERE v <= ANY (SELECT * FROM range(10));"
   ]
  },
  {
   "cell_type": "code",
   "execution_count": 182,
   "id": "e3e112a8-90cf-4026-9a91-9037a92fd7b5",
   "metadata": {},
   "outputs": [
    {
     "data": {
      "text/html": [
       "<span style=\"None\">Running query in &#x27;ch03&#x27;</span>"
      ],
      "text/plain": [
       "Running query in 'ch03'"
      ]
     },
     "metadata": {},
     "output_type": "display_data"
    },
    {
     "data": {
      "text/html": [
       "<table>\n",
       "    <thead>\n",
       "        <tr>\n",
       "            <th>v</th>\n",
       "        </tr>\n",
       "    </thead>\n",
       "    <tbody>\n",
       "        <tr>\n",
       "            <td>7</td>\n",
       "        </tr>\n",
       "    </tbody>\n",
       "</table>"
      ],
      "text/plain": [
       "+---+\n",
       "| v |\n",
       "+---+\n",
       "| 7 |\n",
       "+---+"
      ]
     },
     "execution_count": 182,
     "metadata": {},
     "output_type": "execute_result"
    }
   ],
   "source": [
    "\n",
    "%%sql SELECT * FROM VALUES (7), (11) s(v)\n",
    "WHERE v = ALL (SELECT 7);"
   ]
  },
  {
   "cell_type": "markdown",
   "id": "96210633-cf35-486a-8d34-9214906295be",
   "metadata": {},
   "source": [
    "## drill-down report"
   ]
  },
  {
   "cell_type": "markdown",
   "id": "10e9e0d9-728e-4309-8004-3b28652ca6d8",
   "metadata": {},
   "source": [
    "### Grouping sets"
   ]
  },
  {
   "cell_type": "code",
   "execution_count": 183,
   "id": "3679cce0-589e-40b9-ace0-6cd508478ce3",
   "metadata": {},
   "outputs": [
    {
     "data": {
      "text/html": [
       "<span style=\"None\">Running query in &#x27;ch03&#x27;</span>"
      ],
      "text/plain": [
       "Running query in 'ch03'"
      ]
     },
     "metadata": {},
     "output_type": "display_data"
    },
    {
     "data": {
      "text/html": [
       "<table>\n",
       "    <thead>\n",
       "        <tr>\n",
       "            <th>count_star()</th>\n",
       "            <th>min_W</th>\n",
       "            <th>max_W</th>\n",
       "            <th>kWh</th>\n",
       "        </tr>\n",
       "    </thead>\n",
       "    <tbody>\n",
       "        <tr>\n",
       "            <td>151879</td>\n",
       "            <td>0.000</td>\n",
       "            <td>133900.000</td>\n",
       "            <td>401723.22</td>\n",
       "        </tr>\n",
       "    </tbody>\n",
       "</table>"
      ],
      "text/plain": [
       "+--------------+-------+------------+-----------+\n",
       "| count_star() | min_W |   max_W    |    kWh    |\n",
       "+--------------+-------+------------+-----------+\n",
       "|    151879    | 0.000 | 133900.000 | 401723.22 |\n",
       "+--------------+-------+------------+-----------+"
      ]
     },
     "execution_count": 183,
     "metadata": {},
     "output_type": "execute_result"
    }
   ],
   "source": [
    "%%sql SELECT count(*),\n",
    "min(power) AS min_W, max(power) AS max_W,\n",
    "round(sum(power) / 4 / 1000, 2) AS kWh\n",
    "FROM readings;"
   ]
  },
  {
   "cell_type": "markdown",
   "id": "d4b3f32b-58e9-433a-b08e-5996c67b6a2d",
   "metadata": {},
   "source": [
    "使用分组聚合来进行分组维度的数据聚合"
   ]
  },
  {
   "cell_type": "code",
   "execution_count": null,
   "id": "b6ca131c-c02d-4d91-903e-295ca3c32f1b",
   "metadata": {},
   "outputs": [],
   "source": [
    "%%sql SELECT year(read_on) AS year,\n",
    "system_id,\n",
    "count(*),\n",
    "round(sum(power) / 4 / 1000, 2) AS kWh\n",
    "FROM readings\n",
    "GROUP BY year, system_id\n",
    "ORDER BY year, system_id;"
   ]
  },
  {
   "cell_type": "markdown",
   "id": "b2032b47-974a-4026-bd2f-1f0c23d19834",
   "metadata": {},
   "source": [
    "使用 GROUPING SETS 进行分组下钻;"
   ]
  },
  {
   "cell_type": "code",
   "execution_count": 184,
   "id": "1294d8bb-12a8-4faa-87ab-cf05ce3f2f99",
   "metadata": {},
   "outputs": [
    {
     "data": {
      "text/html": [
       "<span style=\"None\">Running query in &#x27;ch03&#x27;</span>"
      ],
      "text/plain": [
       "Running query in 'ch03'"
      ]
     },
     "metadata": {},
     "output_type": "display_data"
    },
    {
     "data": {
      "text/html": [
       "<table>\n",
       "    <thead>\n",
       "        <tr>\n",
       "            <th>year</th>\n",
       "            <th>system_id</th>\n",
       "            <th>count_star()</th>\n",
       "            <th>kWh</th>\n",
       "        </tr>\n",
       "    </thead>\n",
       "    <tbody>\n",
       "        <tr>\n",
       "            <td>None</td>\n",
       "            <td>None</td>\n",
       "            <td>151879</td>\n",
       "            <td>401723.22</td>\n",
       "        </tr>\n",
       "        <tr>\n",
       "            <td>2019</td>\n",
       "            <td>None</td>\n",
       "            <td>103621</td>\n",
       "            <td>269303.39</td>\n",
       "        </tr>\n",
       "        <tr>\n",
       "            <td>2019</td>\n",
       "            <td>10</td>\n",
       "            <td>33544</td>\n",
       "            <td>1549.34</td>\n",
       "        </tr>\n",
       "        <tr>\n",
       "            <td>2019</td>\n",
       "            <td>34</td>\n",
       "            <td>35040</td>\n",
       "            <td>205741.9</td>\n",
       "        </tr>\n",
       "        <tr>\n",
       "            <td>2019</td>\n",
       "            <td>1200</td>\n",
       "            <td>35037</td>\n",
       "            <td>62012.15</td>\n",
       "        </tr>\n",
       "        <tr>\n",
       "            <td>2020</td>\n",
       "            <td>None</td>\n",
       "            <td>48258</td>\n",
       "            <td>132419.83</td>\n",
       "        </tr>\n",
       "        <tr>\n",
       "            <td>2020</td>\n",
       "            <td>10</td>\n",
       "            <td>14206</td>\n",
       "            <td>677.14</td>\n",
       "        </tr>\n",
       "        <tr>\n",
       "            <td>2020</td>\n",
       "            <td>34</td>\n",
       "            <td>17017</td>\n",
       "            <td>101033.35</td>\n",
       "        </tr>\n",
       "        <tr>\n",
       "            <td>2020</td>\n",
       "            <td>1200</td>\n",
       "            <td>17035</td>\n",
       "            <td>30709.34</td>\n",
       "        </tr>\n",
       "    </tbody>\n",
       "</table>"
      ],
      "text/plain": [
       "+------+-----------+--------------+-----------+\n",
       "| year | system_id | count_star() |    kWh    |\n",
       "+------+-----------+--------------+-----------+\n",
       "| None |    None   |    151879    | 401723.22 |\n",
       "| 2019 |    None   |    103621    | 269303.39 |\n",
       "| 2019 |     10    |    33544     |  1549.34  |\n",
       "| 2019 |     34    |    35040     |  205741.9 |\n",
       "| 2019 |    1200   |    35037     |  62012.15 |\n",
       "| 2020 |    None   |    48258     | 132419.83 |\n",
       "| 2020 |     10    |    14206     |   677.14  |\n",
       "| 2020 |     34    |    17017     | 101033.35 |\n",
       "| 2020 |    1200   |    17035     |  30709.34 |\n",
       "+------+-----------+--------------+-----------+"
      ]
     },
     "execution_count": 184,
     "metadata": {},
     "output_type": "execute_result"
    }
   ],
   "source": [
    "%%sql SELECT year(read_on) AS year,\n",
    "system_id,\n",
    "count(*),\n",
    "round(sum(power) / 4 / 1000, 2) AS kWh\n",
    "FROM readings\n",
    "GROUP BY GROUPING SETS ((year, system_id), year, ())\n",
    "ORDER BY year NULLS FIRST, system_id NULLS FIRST;"
   ]
  },
  {
   "cell_type": "markdown",
   "id": "d573aced-e639-46c5-90cf-f582fafc8dff",
   "metadata": {},
   "source": [
    "### ROLLUP"
   ]
  },
  {
   "cell_type": "code",
   "execution_count": 185,
   "id": "baf199c8-b595-4a87-9fdb-00acbd6fa52c",
   "metadata": {},
   "outputs": [
    {
     "data": {
      "text/html": [
       "<span style=\"None\">Running query in &#x27;ch03&#x27;</span>"
      ],
      "text/plain": [
       "Running query in 'ch03'"
      ]
     },
     "metadata": {},
     "output_type": "display_data"
    },
    {
     "data": {
      "text/html": [
       "<table>\n",
       "    <thead>\n",
       "        <tr>\n",
       "            <th>year</th>\n",
       "            <th>system_id</th>\n",
       "            <th>count_star()</th>\n",
       "            <th>kWh</th>\n",
       "        </tr>\n",
       "    </thead>\n",
       "    <tbody>\n",
       "        <tr>\n",
       "            <td>None</td>\n",
       "            <td>None</td>\n",
       "            <td>151879</td>\n",
       "            <td>401723.22</td>\n",
       "        </tr>\n",
       "        <tr>\n",
       "            <td>2019</td>\n",
       "            <td>None</td>\n",
       "            <td>103621</td>\n",
       "            <td>269303.39</td>\n",
       "        </tr>\n",
       "        <tr>\n",
       "            <td>2019</td>\n",
       "            <td>10</td>\n",
       "            <td>33544</td>\n",
       "            <td>1549.34</td>\n",
       "        </tr>\n",
       "        <tr>\n",
       "            <td>2019</td>\n",
       "            <td>34</td>\n",
       "            <td>35040</td>\n",
       "            <td>205741.9</td>\n",
       "        </tr>\n",
       "        <tr>\n",
       "            <td>2019</td>\n",
       "            <td>1200</td>\n",
       "            <td>35037</td>\n",
       "            <td>62012.15</td>\n",
       "        </tr>\n",
       "        <tr>\n",
       "            <td>2020</td>\n",
       "            <td>None</td>\n",
       "            <td>48258</td>\n",
       "            <td>132419.83</td>\n",
       "        </tr>\n",
       "        <tr>\n",
       "            <td>2020</td>\n",
       "            <td>10</td>\n",
       "            <td>14206</td>\n",
       "            <td>677.14</td>\n",
       "        </tr>\n",
       "        <tr>\n",
       "            <td>2020</td>\n",
       "            <td>34</td>\n",
       "            <td>17017</td>\n",
       "            <td>101033.35</td>\n",
       "        </tr>\n",
       "        <tr>\n",
       "            <td>2020</td>\n",
       "            <td>1200</td>\n",
       "            <td>17035</td>\n",
       "            <td>30709.34</td>\n",
       "        </tr>\n",
       "    </tbody>\n",
       "</table>"
      ],
      "text/plain": [
       "+------+-----------+--------------+-----------+\n",
       "| year | system_id | count_star() |    kWh    |\n",
       "+------+-----------+--------------+-----------+\n",
       "| None |    None   |    151879    | 401723.22 |\n",
       "| 2019 |    None   |    103621    | 269303.39 |\n",
       "| 2019 |     10    |    33544     |  1549.34  |\n",
       "| 2019 |     34    |    35040     |  205741.9 |\n",
       "| 2019 |    1200   |    35037     |  62012.15 |\n",
       "| 2020 |    None   |    48258     | 132419.83 |\n",
       "| 2020 |     10    |    14206     |   677.14  |\n",
       "| 2020 |     34    |    17017     | 101033.35 |\n",
       "| 2020 |    1200   |    17035     |  30709.34 |\n",
       "+------+-----------+--------------+-----------+"
      ]
     },
     "execution_count": 185,
     "metadata": {},
     "output_type": "execute_result"
    }
   ],
   "source": [
    "%%sql SELECT year(read_on) AS year,\n",
    "system_id,\n",
    "count(*),\n",
    "round(sum(power) / 4 / 1000, 2) AS kWh\n",
    "FROM readings\n",
    "GROUP BY ROLLUP (year, system_id)\n",
    "ORDER BY year NULLS FIRST, system_id NULLS FIRST;"
   ]
  },
  {
   "cell_type": "markdown",
   "id": "14dddfb4-fc9d-4d49-bc9b-de2a903e9b58",
   "metadata": {},
   "source": [
    "### CUBE"
   ]
  },
  {
   "cell_type": "code",
   "execution_count": 186,
   "id": "dd3d22d9-ac3e-4543-9a64-b4e44050e81f",
   "metadata": {},
   "outputs": [
    {
     "data": {
      "text/html": [
       "<span style=\"None\">Running query in &#x27;ch03&#x27;</span>"
      ],
      "text/plain": [
       "Running query in 'ch03'"
      ]
     },
     "metadata": {},
     "output_type": "display_data"
    },
    {
     "data": {
      "text/html": [
       "<table>\n",
       "    <thead>\n",
       "        <tr>\n",
       "            <th>year</th>\n",
       "            <th>system_id</th>\n",
       "            <th>count_star()</th>\n",
       "            <th>kWh</th>\n",
       "        </tr>\n",
       "    </thead>\n",
       "    <tbody>\n",
       "        <tr>\n",
       "            <td>None</td>\n",
       "            <td>None</td>\n",
       "            <td>151879</td>\n",
       "            <td>401723.22</td>\n",
       "        </tr>\n",
       "        <tr>\n",
       "            <td>None</td>\n",
       "            <td>10</td>\n",
       "            <td>47750</td>\n",
       "            <td>2226.48</td>\n",
       "        </tr>\n",
       "        <tr>\n",
       "            <td>None</td>\n",
       "            <td>34</td>\n",
       "            <td>52057</td>\n",
       "            <td>306775.25</td>\n",
       "        </tr>\n",
       "        <tr>\n",
       "            <td>None</td>\n",
       "            <td>1200</td>\n",
       "            <td>52072</td>\n",
       "            <td>92721.48</td>\n",
       "        </tr>\n",
       "        <tr>\n",
       "            <td>2019</td>\n",
       "            <td>None</td>\n",
       "            <td>103621</td>\n",
       "            <td>269303.39</td>\n",
       "        </tr>\n",
       "        <tr>\n",
       "            <td>2019</td>\n",
       "            <td>10</td>\n",
       "            <td>33544</td>\n",
       "            <td>1549.34</td>\n",
       "        </tr>\n",
       "        <tr>\n",
       "            <td>2019</td>\n",
       "            <td>34</td>\n",
       "            <td>35040</td>\n",
       "            <td>205741.9</td>\n",
       "        </tr>\n",
       "        <tr>\n",
       "            <td>2019</td>\n",
       "            <td>1200</td>\n",
       "            <td>35037</td>\n",
       "            <td>62012.15</td>\n",
       "        </tr>\n",
       "        <tr>\n",
       "            <td>2020</td>\n",
       "            <td>None</td>\n",
       "            <td>48258</td>\n",
       "            <td>132419.83</td>\n",
       "        </tr>\n",
       "        <tr>\n",
       "            <td>2020</td>\n",
       "            <td>10</td>\n",
       "            <td>14206</td>\n",
       "            <td>677.14</td>\n",
       "        </tr>\n",
       "    </tbody>\n",
       "</table>\n",
       "<span style=\"font-style:italic;text-align:center;\">Truncated to <a href=\"https://jupysql.ploomber.io/en/latest/api/configuration.html#displaylimit\">displaylimit</a> of 10.</span>"
      ],
      "text/plain": [
       "+------+-----------+--------------+-----------+\n",
       "| year | system_id | count_star() |    kWh    |\n",
       "+------+-----------+--------------+-----------+\n",
       "| None |    None   |    151879    | 401723.22 |\n",
       "| None |     10    |    47750     |  2226.48  |\n",
       "| None |     34    |    52057     | 306775.25 |\n",
       "| None |    1200   |    52072     |  92721.48 |\n",
       "| 2019 |    None   |    103621    | 269303.39 |\n",
       "| 2019 |     10    |    33544     |  1549.34  |\n",
       "| 2019 |     34    |    35040     |  205741.9 |\n",
       "| 2019 |    1200   |    35037     |  62012.15 |\n",
       "| 2020 |    None   |    48258     | 132419.83 |\n",
       "| 2020 |     10    |    14206     |   677.14  |\n",
       "+------+-----------+--------------+-----------+\n",
       "Truncated to displaylimit of 10."
      ]
     },
     "execution_count": 186,
     "metadata": {},
     "output_type": "execute_result"
    }
   ],
   "source": [
    "%%sql SELECT year(read_on) AS year,\n",
    "system_id,\n",
    "count(*),\n",
    "round(sum(power) / 4 / 1000, 2) AS kWh\n",
    "FROM readings\n",
    "GROUP BY CUBE (year, system_id)\n",
    "ORDER BY year NULLS FIRST, system_id NULLS FIRST;"
   ]
  },
  {
   "cell_type": "markdown",
   "id": "337b59e0-7ed0-448b-90b1-7bcb8e3cb472",
   "metadata": {},
   "source": [
    "## Window functions"
   ]
  },
  {
   "cell_type": "markdown",
   "id": "5ce81225-9e11-4f63-ba28-f4674d326393",
   "metadata": {},
   "source": [
    "https://www.sqlitetutorial.net/sqlite-window-functions/sqlite-rank/  \n",
    "https://www.sqlitetutorial.net/sqlite-window-functions/  \n",
    "https://github.com/royalosyin/Practice-SQL-with-SQLite-and-Jupyter-Notebook/tree/master  \n",
    "https://medium.com/@dataproducts/advanced-sql-an-introduction-to-window-function-6f75b1fb3318  \n",
    "https://highperformancesqlite.com/watch/window-functions  \n",
    "\n",
    "https://www.geeksforgeeks.org/window-functions-in-sql/  \n",
    "\n",
    "https://mode.com/blog/most-popular-window-functions-and-how-to-use-them?utm_medium=referral&utm_source=mode-site&utm_campaign=sql-tutorial  \n",
    "\n",
    "https://mode.com/sql-tutorial/sql-window-functions  \n",
    "https://www.freecodecamp.org/news/window-functions-in-sql/  \n",
    "https://www.freecodecamp.org/news/  \n",
    "https://www.datacamp.com/cheat-sheet/sql-window-functions-cheat-sheet  \n"
   ]
  },
  {
   "cell_type": "markdown",
   "id": "43a14964-397e-453d-808f-4dce903770af",
   "metadata": {},
   "source": [
    "![](https://images.datacamp.com/image/upload/v1713890725/Marketing/Blog/SQL_Window_Functions_1_1.pdf)"
   ]
  },
  {
   "cell_type": "code",
   "execution_count": 187,
   "id": "20d0945f-da99-47cc-b412-cff5e23e38ad",
   "metadata": {},
   "outputs": [
    {
     "data": {
      "text/html": [
       "<span style=\"None\">Running query in &#x27;ch03&#x27;</span>"
      ],
      "text/plain": [
       "Running query in 'ch03'"
      ]
     },
     "metadata": {},
     "output_type": "display_data"
    },
    {
     "name": "stdout",
     "output_type": "stream",
     "text": [
      "Deploy Flask apps for free on Ploomber Cloud! Learn more: https://ploomber.io/s/signup\n"
     ]
    },
    {
     "data": {
      "text/html": [
       "<table>\n",
       "    <thead>\n",
       "        <tr>\n",
       "            <th>system_id</th>\n",
       "            <th>read_on</th>\n",
       "            <th>power</th>\n",
       "        </tr>\n",
       "    </thead>\n",
       "    <tbody>\n",
       "        <tr>\n",
       "            <td>34</td>\n",
       "            <td>2019-05-08 12:15:00</td>\n",
       "            <td>133900.000</td>\n",
       "        </tr>\n",
       "        <tr>\n",
       "            <td>34</td>\n",
       "            <td>2019-05-23 10:00:00</td>\n",
       "            <td>133900.000</td>\n",
       "        </tr>\n",
       "        <tr>\n",
       "            <td>34</td>\n",
       "            <td>2019-05-23 11:30:00</td>\n",
       "            <td>133900.000</td>\n",
       "        </tr>\n",
       "    </tbody>\n",
       "</table>"
      ],
      "text/plain": [
       "+-----------+---------------------+------------+\n",
       "| system_id |       read_on       |   power    |\n",
       "+-----------+---------------------+------------+\n",
       "|     34    | 2019-05-08 12:15:00 | 133900.000 |\n",
       "|     34    | 2019-05-23 10:00:00 | 133900.000 |\n",
       "|     34    | 2019-05-23 11:30:00 | 133900.000 |\n",
       "+-----------+---------------------+------------+"
      ]
     },
     "execution_count": 187,
     "metadata": {},
     "output_type": "execute_result"
    }
   ],
   "source": [
    "%sql SELECT * FROM readings ORDER BY power DESC LIMIT 3;"
   ]
  },
  {
   "cell_type": "code",
   "execution_count": 189,
   "id": "e17c321b-582a-48b2-90da-72afa5609c64",
   "metadata": {},
   "outputs": [
    {
     "data": {
      "text/html": [
       "<span style=\"None\">Running query in &#x27;ch03&#x27;</span>"
      ],
      "text/plain": [
       "Running query in 'ch03'"
      ]
     },
     "metadata": {},
     "output_type": "display_data"
    },
    {
     "data": {
      "text/html": [
       "<table>\n",
       "    <thead>\n",
       "        <tr>\n",
       "            <th>system_id</th>\n",
       "            <th>read_on</th>\n",
       "            <th>power</th>\n",
       "            <th>rnk</th>\n",
       "            <th>rnk_1</th>\n",
       "        </tr>\n",
       "    </thead>\n",
       "    <tbody>\n",
       "        <tr>\n",
       "            <td>34</td>\n",
       "            <td>2019-05-08 12:15:00</td>\n",
       "            <td>133900.000</td>\n",
       "            <td>1</td>\n",
       "            <td>1</td>\n",
       "        </tr>\n",
       "        <tr>\n",
       "            <td>34</td>\n",
       "            <td>2019-05-23 10:00:00</td>\n",
       "            <td>133900.000</td>\n",
       "            <td>1</td>\n",
       "            <td>1</td>\n",
       "        </tr>\n",
       "        <tr>\n",
       "            <td>34</td>\n",
       "            <td>2019-05-23 11:30:00</td>\n",
       "            <td>133900.000</td>\n",
       "            <td>1</td>\n",
       "            <td>1</td>\n",
       "        </tr>\n",
       "        <tr>\n",
       "            <td>34</td>\n",
       "            <td>2019-05-28 11:45:00</td>\n",
       "            <td>133900.000</td>\n",
       "            <td>1</td>\n",
       "            <td>1</td>\n",
       "        </tr>\n",
       "        <tr>\n",
       "            <td>34</td>\n",
       "            <td>2020-04-02 11:30:00</td>\n",
       "            <td>133900.000</td>\n",
       "            <td>1</td>\n",
       "            <td>1</td>\n",
       "        </tr>\n",
       "        <tr>\n",
       "            <td>34</td>\n",
       "            <td>2019-05-09 10:30:00</td>\n",
       "            <td>133700.000</td>\n",
       "            <td>2</td>\n",
       "            <td>6</td>\n",
       "        </tr>\n",
       "        <tr>\n",
       "            <td>34</td>\n",
       "            <td>2019-05-10 12:15:00</td>\n",
       "            <td>133700.000</td>\n",
       "            <td>2</td>\n",
       "            <td>6</td>\n",
       "        </tr>\n",
       "        <tr>\n",
       "            <td>34</td>\n",
       "            <td>2019-03-21 13:00:00</td>\n",
       "            <td>133600.000</td>\n",
       "            <td>3</td>\n",
       "            <td>8</td>\n",
       "        </tr>\n",
       "        <tr>\n",
       "            <td>34</td>\n",
       "            <td>2019-04-02 10:30:00</td>\n",
       "            <td>133600.000</td>\n",
       "            <td>3</td>\n",
       "            <td>8</td>\n",
       "        </tr>\n",
       "    </tbody>\n",
       "</table>"
      ],
      "text/plain": [
       "+-----------+---------------------+------------+-----+-------+\n",
       "| system_id |       read_on       |   power    | rnk | rnk_1 |\n",
       "+-----------+---------------------+------------+-----+-------+\n",
       "|     34    | 2019-05-08 12:15:00 | 133900.000 |  1  |   1   |\n",
       "|     34    | 2019-05-23 10:00:00 | 133900.000 |  1  |   1   |\n",
       "|     34    | 2019-05-23 11:30:00 | 133900.000 |  1  |   1   |\n",
       "|     34    | 2019-05-28 11:45:00 | 133900.000 |  1  |   1   |\n",
       "|     34    | 2020-04-02 11:30:00 | 133900.000 |  1  |   1   |\n",
       "|     34    | 2019-05-09 10:30:00 | 133700.000 |  2  |   6   |\n",
       "|     34    | 2019-05-10 12:15:00 | 133700.000 |  2  |   6   |\n",
       "|     34    | 2019-03-21 13:00:00 | 133600.000 |  3  |   8   |\n",
       "|     34    | 2019-04-02 10:30:00 | 133600.000 |  3  |   8   |\n",
       "+-----------+---------------------+------------+-----+-------+"
      ]
     },
     "execution_count": 189,
     "metadata": {},
     "output_type": "execute_result"
    }
   ],
   "source": [
    "%%sql\n",
    "WITH ranked_readings AS (\n",
    "SELECT *,\n",
    "dense_rank()\n",
    "OVER (ORDER BY power DESC) AS rnk,\n",
    "    rank()\n",
    "OVER (ORDER BY power DESC) AS rnk\n",
    "FROM readings\n",
    ")\n",
    "SELECT *\n",
    "FROM ranked_readings\n",
    "WHERE rnk <= 3;"
   ]
  },
  {
   "cell_type": "markdown",
   "id": "cff1651a-2f7b-4db5-a9d9-9184b8b9979c",
   "metadata": {
    "tags": []
   },
   "source": [
    "### partition"
   ]
  },
  {
   "cell_type": "code",
   "execution_count": 190,
   "id": "9c17174c-4bdd-4f3d-952e-dacf851cd20e",
   "metadata": {},
   "outputs": [
    {
     "data": {
      "text/html": [
       "<span style=\"None\">Running query in &#x27;ch03&#x27;</span>"
      ],
      "text/plain": [
       "Running query in 'ch03'"
      ]
     },
     "metadata": {},
     "output_type": "display_data"
    },
    {
     "data": {
      "text/html": [
       "<table>\n",
       "    <thead>\n",
       "        <tr>\n",
       "            <th>system_id</th>\n",
       "            <th>read_on</th>\n",
       "            <th>power</th>\n",
       "            <th>rnk</th>\n",
       "        </tr>\n",
       "    </thead>\n",
       "    <tbody>\n",
       "        <tr>\n",
       "            <td>10</td>\n",
       "            <td>2019-02-23 12:45:00</td>\n",
       "            <td>1109.293</td>\n",
       "            <td>1</td>\n",
       "        </tr>\n",
       "        <tr>\n",
       "            <td>10</td>\n",
       "            <td>2019-03-01 12:15:00</td>\n",
       "            <td>1087.900</td>\n",
       "            <td>2</td>\n",
       "        </tr>\n",
       "        <tr>\n",
       "            <td>34</td>\n",
       "            <td>2019-05-08 12:15:00</td>\n",
       "            <td>133900.000</td>\n",
       "            <td>1</td>\n",
       "        </tr>\n",
       "        <tr>\n",
       "            <td>34</td>\n",
       "            <td>2019-05-23 10:00:00</td>\n",
       "            <td>133900.000</td>\n",
       "            <td>1</td>\n",
       "        </tr>\n",
       "        <tr>\n",
       "            <td>34</td>\n",
       "            <td>2019-05-23 11:30:00</td>\n",
       "            <td>133900.000</td>\n",
       "            <td>1</td>\n",
       "        </tr>\n",
       "        <tr>\n",
       "            <td>34</td>\n",
       "            <td>2019-05-28 11:45:00</td>\n",
       "            <td>133900.000</td>\n",
       "            <td>1</td>\n",
       "        </tr>\n",
       "        <tr>\n",
       "            <td>34</td>\n",
       "            <td>2020-04-02 11:30:00</td>\n",
       "            <td>133900.000</td>\n",
       "            <td>1</td>\n",
       "        </tr>\n",
       "        <tr>\n",
       "            <td>34</td>\n",
       "            <td>2019-05-09 10:30:00</td>\n",
       "            <td>133700.000</td>\n",
       "            <td>2</td>\n",
       "        </tr>\n",
       "        <tr>\n",
       "            <td>34</td>\n",
       "            <td>2019-05-10 12:15:00</td>\n",
       "            <td>133700.000</td>\n",
       "            <td>2</td>\n",
       "        </tr>\n",
       "        <tr>\n",
       "            <td>1200</td>\n",
       "            <td>2020-04-16 12:15:00</td>\n",
       "            <td>47873.333</td>\n",
       "            <td>1</td>\n",
       "        </tr>\n",
       "    </tbody>\n",
       "</table>\n",
       "<span style=\"font-style:italic;text-align:center;\">Truncated to <a href=\"https://jupysql.ploomber.io/en/latest/api/configuration.html#displaylimit\">displaylimit</a> of 10.</span>"
      ],
      "text/plain": [
       "+-----------+---------------------+------------+-----+\n",
       "| system_id |       read_on       |   power    | rnk |\n",
       "+-----------+---------------------+------------+-----+\n",
       "|     10    | 2019-02-23 12:45:00 |  1109.293  |  1  |\n",
       "|     10    | 2019-03-01 12:15:00 |  1087.900  |  2  |\n",
       "|     34    | 2019-05-08 12:15:00 | 133900.000 |  1  |\n",
       "|     34    | 2019-05-23 10:00:00 | 133900.000 |  1  |\n",
       "|     34    | 2019-05-23 11:30:00 | 133900.000 |  1  |\n",
       "|     34    | 2019-05-28 11:45:00 | 133900.000 |  1  |\n",
       "|     34    | 2020-04-02 11:30:00 | 133900.000 |  1  |\n",
       "|     34    | 2019-05-09 10:30:00 | 133700.000 |  2  |\n",
       "|     34    | 2019-05-10 12:15:00 | 133700.000 |  2  |\n",
       "|    1200   | 2020-04-16 12:15:00 | 47873.333  |  1  |\n",
       "+-----------+---------------------+------------+-----+\n",
       "Truncated to displaylimit of 10."
      ]
     },
     "execution_count": 190,
     "metadata": {},
     "output_type": "execute_result"
    }
   ],
   "source": [
    "%%sql\n",
    "\n",
    "WITH ranked_readings AS (\n",
    "SELECT *,\n",
    "dense_rank()\n",
    "OVER (\n",
    "PARTITION BY system_id\n",
    "ORDER BY power DESC\n",
    ") AS rnk\n",
    "FROM readings\n",
    ")\n",
    "SELECT * FROM ranked_readings WHERE rnk <= 2\n",
    "ORDER BY system_id, rnk ASC;"
   ]
  },
  {
   "cell_type": "code",
   "execution_count": null,
   "id": "e898e950-dec8-4079-8033-bc63b8b82426",
   "metadata": {},
   "outputs": [],
   "source": [
    "%%sql\n",
    "\n",
    "SELECT *,\n",
    "avg(kWh)\n",
    "OVER (\n",
    "PARTITION BY system_id\n",
    ") AS average_per_system\n",
    "FROM v_power_per_day;"
   ]
  },
  {
   "cell_type": "markdown",
   "id": "29aaa1bc-aa0e-470f-b233-cf0e7b55faa0",
   "metadata": {
    "tags": []
   },
   "source": [
    "### aggregation(rank, agg)"
   ]
  },
  {
   "cell_type": "code",
   "execution_count": null,
   "id": "cb2a1350-0b74-43e7-9f4f-023bf9ce3fef",
   "metadata": {},
   "outputs": [],
   "source": []
  },
  {
   "cell_type": "code",
   "execution_count": null,
   "id": "7a8d2801-09ba-4f84-905d-a895fd12987a",
   "metadata": {},
   "outputs": [],
   "source": []
  },
  {
   "cell_type": "code",
   "execution_count": null,
   "id": "55090680-87d8-49ea-9926-4fbd0576af6c",
   "metadata": {},
   "outputs": [],
   "source": []
  },
  {
   "cell_type": "markdown",
   "id": "38e6154d-fb42-4ddb-8d49-1e937779d802",
   "metadata": {},
   "source": [
    "### frame\n",
    "\n",
    "#### range between"
   ]
  },
  {
   "cell_type": "code",
   "execution_count": null,
   "id": "8e6da404-58d9-4c18-a28a-1679e772ff49",
   "metadata": {},
   "outputs": [],
   "source": [
    "%%sql \n",
    "SELECT system_id,\n",
    "day,\n",
    "kWh,\n",
    "avg(kWh) OVER (\n",
    "PARTITION BY system_id\n",
    "ORDER BY day ASC\n",
    "RANGE BETWEEN INTERVAL 3 Days PRECEDING\n",
    "AND INTERVAL 3 Days FOLLOWING\n",
    ") AS \"kWh 7-day moving average\"\n",
    "FROM v_power_per_day\n",
    "ORDER BY system_id, day;"
   ]
  },
  {
   "cell_type": "markdown",
   "id": "260d2bf6-c5f7-4794-90dd-b70387fc6325",
   "metadata": {},
   "source": [
    "#### rows between"
   ]
  },
  {
   "cell_type": "code",
   "execution_count": null,
   "id": "528f7409-5717-43f6-a3f2-7c2e1a9c6083",
   "metadata": {},
   "outputs": [],
   "source": []
  },
  {
   "cell_type": "markdown",
   "id": "a1e22196-c802-4365-8c5b-51900c6278cb",
   "metadata": {},
   "source": [
    "### named window"
   ]
  },
  {
   "cell_type": "code",
   "execution_count": 192,
   "id": "87c382b9-a4bb-4eb4-8b64-34e340204eab",
   "metadata": {},
   "outputs": [
    {
     "data": {
      "text/html": [
       "<span style=\"None\">Running query in &#x27;ch03&#x27;</span>"
      ],
      "text/plain": [
       "Running query in 'ch03'"
      ]
     },
     "metadata": {},
     "output_type": "display_data"
    },
    {
     "data": {
      "text/html": [
       "<table>\n",
       "    <thead>\n",
       "        <tr>\n",
       "            <th>system_id</th>\n",
       "            <th>day</th>\n",
       "            <th>7-day min</th>\n",
       "            <th>kWh 7-day quartile</th>\n",
       "            <th>7-day max</th>\n",
       "        </tr>\n",
       "    </thead>\n",
       "    <tbody>\n",
       "        <tr>\n",
       "            <td>10</td>\n",
       "            <td>2019-01-01</td>\n",
       "            <td>2.19</td>\n",
       "            <td>[2.19, 5.37, 5.55]</td>\n",
       "            <td>5.72</td>\n",
       "        </tr>\n",
       "        <tr>\n",
       "            <td>10</td>\n",
       "            <td>2019-01-02</td>\n",
       "            <td>2.19</td>\n",
       "            <td>[4.62, 5.37, 5.55]</td>\n",
       "            <td>5.72</td>\n",
       "        </tr>\n",
       "        <tr>\n",
       "            <td>10</td>\n",
       "            <td>2019-01-03</td>\n",
       "            <td>2.19</td>\n",
       "            <td>[3.69, 4.62, 5.55]</td>\n",
       "            <td>5.72</td>\n",
       "        </tr>\n",
       "        <tr>\n",
       "            <td>10</td>\n",
       "            <td>2019-01-04</td>\n",
       "            <td>2.19</td>\n",
       "            <td>[3.69, 5.37, 5.72]</td>\n",
       "            <td>5.81</td>\n",
       "        </tr>\n",
       "        <tr>\n",
       "            <td>10</td>\n",
       "            <td>2019-01-05</td>\n",
       "            <td>3.69</td>\n",
       "            <td>[4.62, 5.37, 5.72]</td>\n",
       "            <td>5.81</td>\n",
       "        </tr>\n",
       "        <tr>\n",
       "            <td>10</td>\n",
       "            <td>2019-01-06</td>\n",
       "            <td>3.52</td>\n",
       "            <td>[3.69, 5.32, 5.72]</td>\n",
       "            <td>5.81</td>\n",
       "        </tr>\n",
       "        <tr>\n",
       "            <td>10</td>\n",
       "            <td>2019-01-07</td>\n",
       "            <td>3.46</td>\n",
       "            <td>[3.52, 4.62, 5.37]</td>\n",
       "            <td>5.81</td>\n",
       "        </tr>\n",
       "        <tr>\n",
       "            <td>10</td>\n",
       "            <td>2019-01-08</td>\n",
       "            <td>0.28</td>\n",
       "            <td>[3.46, 3.69, 5.32]</td>\n",
       "            <td>5.81</td>\n",
       "        </tr>\n",
       "        <tr>\n",
       "            <td>10</td>\n",
       "            <td>2019-01-09</td>\n",
       "            <td>0.28</td>\n",
       "            <td>[1.58, 3.52, 5.32]</td>\n",
       "            <td>5.81</td>\n",
       "        </tr>\n",
       "        <tr>\n",
       "            <td>10</td>\n",
       "            <td>2019-01-10</td>\n",
       "            <td>0.28</td>\n",
       "            <td>[1.58, 3.52, 5.81]</td>\n",
       "            <td>5.9</td>\n",
       "        </tr>\n",
       "    </tbody>\n",
       "</table>\n",
       "<span style=\"font-style:italic;text-align:center;\">Truncated to <a href=\"https://jupysql.ploomber.io/en/latest/api/configuration.html#displaylimit\">displaylimit</a> of 10.</span>"
      ],
      "text/plain": [
       "+-----------+------------+-----------+--------------------+-----------+\n",
       "| system_id |    day     | 7-day min | kWh 7-day quartile | 7-day max |\n",
       "+-----------+------------+-----------+--------------------+-----------+\n",
       "|     10    | 2019-01-01 |    2.19   | [2.19, 5.37, 5.55] |    5.72   |\n",
       "|     10    | 2019-01-02 |    2.19   | [4.62, 5.37, 5.55] |    5.72   |\n",
       "|     10    | 2019-01-03 |    2.19   | [3.69, 4.62, 5.55] |    5.72   |\n",
       "|     10    | 2019-01-04 |    2.19   | [3.69, 5.37, 5.72] |    5.81   |\n",
       "|     10    | 2019-01-05 |    3.69   | [4.62, 5.37, 5.72] |    5.81   |\n",
       "|     10    | 2019-01-06 |    3.52   | [3.69, 5.32, 5.72] |    5.81   |\n",
       "|     10    | 2019-01-07 |    3.46   | [3.52, 4.62, 5.37] |    5.81   |\n",
       "|     10    | 2019-01-08 |    0.28   | [3.46, 3.69, 5.32] |    5.81   |\n",
       "|     10    | 2019-01-09 |    0.28   | [1.58, 3.52, 5.32] |    5.81   |\n",
       "|     10    | 2019-01-10 |    0.28   | [1.58, 3.52, 5.81] |    5.9    |\n",
       "+-----------+------------+-----------+--------------------+-----------+\n",
       "Truncated to displaylimit of 10."
      ]
     },
     "execution_count": 192,
     "metadata": {},
     "output_type": "execute_result"
    }
   ],
   "source": [
    "%%sql SELECT system_id,\n",
    "day,\n",
    "min(kWh) OVER seven_days AS \"7-day min\",\n",
    "quantile(kWh, [0.25, 0.5, 0.75])\n",
    "OVER seven_days AS \"kWh 7-day quartile\",\n",
    "max(kWh) OVER seven_days AS \"7-day max\",\n",
    "FROM v_power_per_day\n",
    "WINDOW\n",
    "seven_days AS (\n",
    "PARTITION BY system_id, month(day)\n",
    "ORDER BY day ASC\n",
    "RANGE BETWEEN INTERVAL 3 Days PRECEDING\n",
    "AND INTERVAL 3 Days FOLLOWING\n",
    ")\n",
    "ORDER BY system_id, day;"
   ]
  },
  {
   "cell_type": "code",
   "execution_count": null,
   "id": "3c7cf7e8-678b-4e24-8188-4ed1557162a9",
   "metadata": {},
   "outputs": [],
   "source": []
  },
  {
   "cell_type": "markdown",
   "id": "31f173f4-9d05-45f7-b715-3934f8d8cf09",
   "metadata": {},
   "source": [
    "### lag and lead"
   ]
  },
  {
   "cell_type": "code",
   "execution_count": 193,
   "id": "ce78623b-b1af-4214-972e-3b576e2f4c87",
   "metadata": {},
   "outputs": [
    {
     "data": {
      "text/html": [
       "<span style=\"None\">Running query in &#x27;ch03&#x27;</span>"
      ],
      "text/plain": [
       "Running query in 'ch03'"
      ]
     },
     "metadata": {},
     "output_type": "display_data"
    },
    {
     "data": {
      "text/html": [
       "<table>\n",
       "    <thead>\n",
       "        <tr>\n",
       "            <th>valid_from</th>\n",
       "            <th>value</th>\n",
       "            <th>Previous value</th>\n",
       "            <th>Change</th>\n",
       "        </tr>\n",
       "    </thead>\n",
       "    <tbody>\n",
       "        <tr>\n",
       "            <td>2019-01-01</td>\n",
       "            <td>11.47</td>\n",
       "            <td>None</td>\n",
       "            <td>0.00</td>\n",
       "        </tr>\n",
       "        <tr>\n",
       "            <td>2019-02-01</td>\n",
       "            <td>11.35</td>\n",
       "            <td>11.47</td>\n",
       "            <td>-0.12</td>\n",
       "        </tr>\n",
       "        <tr>\n",
       "            <td>2019-03-01</td>\n",
       "            <td>11.23</td>\n",
       "            <td>11.35</td>\n",
       "            <td>-0.12</td>\n",
       "        </tr>\n",
       "        <tr>\n",
       "            <td>2019-04-01</td>\n",
       "            <td>11.11</td>\n",
       "            <td>11.23</td>\n",
       "            <td>-0.12</td>\n",
       "        </tr>\n",
       "        <tr>\n",
       "            <td>2019-05-01</td>\n",
       "            <td>10.95</td>\n",
       "            <td>11.11</td>\n",
       "            <td>-0.16</td>\n",
       "        </tr>\n",
       "        <tr>\n",
       "            <td>2019-06-01</td>\n",
       "            <td>10.79</td>\n",
       "            <td>10.95</td>\n",
       "            <td>-0.16</td>\n",
       "        </tr>\n",
       "        <tr>\n",
       "            <td>2019-07-01</td>\n",
       "            <td>10.64</td>\n",
       "            <td>10.79</td>\n",
       "            <td>-0.15</td>\n",
       "        </tr>\n",
       "        <tr>\n",
       "            <td>2019-08-01</td>\n",
       "            <td>10.48</td>\n",
       "            <td>10.64</td>\n",
       "            <td>-0.16</td>\n",
       "        </tr>\n",
       "        <tr>\n",
       "            <td>2019-09-01</td>\n",
       "            <td>10.33</td>\n",
       "            <td>10.48</td>\n",
       "            <td>-0.15</td>\n",
       "        </tr>\n",
       "        <tr>\n",
       "            <td>2019-10-01</td>\n",
       "            <td>10.18</td>\n",
       "            <td>10.33</td>\n",
       "            <td>-0.15</td>\n",
       "        </tr>\n",
       "    </tbody>\n",
       "</table>\n",
       "<span style=\"font-style:italic;text-align:center;\">Truncated to <a href=\"https://jupysql.ploomber.io/en/latest/api/configuration.html#displaylimit\">displaylimit</a> of 10.</span>"
      ],
      "text/plain": [
       "+------------+-------+----------------+--------+\n",
       "| valid_from | value | Previous value | Change |\n",
       "+------------+-------+----------------+--------+\n",
       "| 2019-01-01 | 11.47 |      None      |  0.00  |\n",
       "| 2019-02-01 | 11.35 |     11.47      | -0.12  |\n",
       "| 2019-03-01 | 11.23 |     11.35      | -0.12  |\n",
       "| 2019-04-01 | 11.11 |     11.23      | -0.12  |\n",
       "| 2019-05-01 | 10.95 |     11.11      | -0.16  |\n",
       "| 2019-06-01 | 10.79 |     10.95      | -0.16  |\n",
       "| 2019-07-01 | 10.64 |     10.79      | -0.15  |\n",
       "| 2019-08-01 | 10.48 |     10.64      | -0.16  |\n",
       "| 2019-09-01 | 10.33 |     10.48      | -0.15  |\n",
       "| 2019-10-01 | 10.18 |     10.33      | -0.15  |\n",
       "+------------+-------+----------------+--------+\n",
       "Truncated to displaylimit of 10."
      ]
     },
     "execution_count": 193,
     "metadata": {},
     "output_type": "execute_result"
    }
   ],
   "source": [
    "%%sql \n",
    "SELECT valid_from,\n",
    "value,\n",
    "lag(value)\n",
    "OVER validity AS \"Previous value\",\n",
    "value - lag(value, 1, value)\n",
    "OVER validity AS Change\n",
    "FROM prices\n",
    "WHERE date_part('year', valid_from) = 2019\n",
    "WINDOW validity AS (ORDER BY valid_from)\n",
    "ORDER BY valid_from;"
   ]
  },
  {
   "cell_type": "code",
   "execution_count": 194,
   "id": "386b15fa-0954-40bb-a975-53a561f5872e",
   "metadata": {},
   "outputs": [
    {
     "data": {
      "text/html": [
       "<span style=\"None\">Running query in &#x27;ch03&#x27;</span>"
      ],
      "text/plain": [
       "Running query in 'ch03'"
      ]
     },
     "metadata": {},
     "output_type": "display_data"
    },
    {
     "data": {
      "text/html": [
       "<table>\n",
       "    <thead>\n",
       "        <tr>\n",
       "            <th>total_change</th>\n",
       "        </tr>\n",
       "    </thead>\n",
       "    <tbody>\n",
       "        <tr>\n",
       "            <td>-1.50</td>\n",
       "        </tr>\n",
       "    </tbody>\n",
       "</table>"
      ],
      "text/plain": [
       "+--------------+\n",
       "| total_change |\n",
       "+--------------+\n",
       "|    -1.50     |\n",
       "+--------------+"
      ]
     },
     "execution_count": 194,
     "metadata": {},
     "output_type": "execute_result"
    }
   ],
   "source": [
    "%%sql\n",
    "\n",
    "WITH changes AS (\n",
    "SELECT value - lag(value, 1, value) OVER (ORDER BY valid_from) AS v\n",
    "FROM prices\n",
    "WHERE date_part('year', valid_from) = 2019\n",
    "ORDER BY valid_from\n",
    ")\n",
    "SELECT sum(changes.v) AS total_change FROM changes;"
   ]
  },
  {
   "cell_type": "code",
   "execution_count": 195,
   "id": "d68b8465-740d-4ed0-bb87-b93f1b6349f3",
   "metadata": {},
   "outputs": [
    {
     "data": {
      "text/html": [
       "<span style=\"None\">Running query in &#x27;ch03&#x27;</span>"
      ],
      "text/plain": [
       "Running query in 'ch03'"
      ]
     },
     "metadata": {},
     "output_type": "display_data"
    },
    {
     "data": {
      "text/html": [
       "<table>\n",
       "    <thead>\n",
       "        <tr>\n",
       "            <th>v</th>\n",
       "        </tr>\n",
       "    </thead>\n",
       "    <tbody>\n",
       "        <tr>\n",
       "            <td>0.00</td>\n",
       "        </tr>\n",
       "        <tr>\n",
       "            <td>-0.12</td>\n",
       "        </tr>\n",
       "        <tr>\n",
       "            <td>-0.12</td>\n",
       "        </tr>\n",
       "        <tr>\n",
       "            <td>-0.12</td>\n",
       "        </tr>\n",
       "        <tr>\n",
       "            <td>-0.16</td>\n",
       "        </tr>\n",
       "        <tr>\n",
       "            <td>-0.16</td>\n",
       "        </tr>\n",
       "        <tr>\n",
       "            <td>-0.15</td>\n",
       "        </tr>\n",
       "        <tr>\n",
       "            <td>-0.16</td>\n",
       "        </tr>\n",
       "        <tr>\n",
       "            <td>-0.15</td>\n",
       "        </tr>\n",
       "        <tr>\n",
       "            <td>-0.15</td>\n",
       "        </tr>\n",
       "    </tbody>\n",
       "</table>\n",
       "<span style=\"font-style:italic;text-align:center;\">Truncated to <a href=\"https://jupysql.ploomber.io/en/latest/api/configuration.html#displaylimit\">displaylimit</a> of 10.</span>"
      ],
      "text/plain": [
       "+-------+\n",
       "|   v   |\n",
       "+-------+\n",
       "|  0.00 |\n",
       "| -0.12 |\n",
       "| -0.12 |\n",
       "| -0.12 |\n",
       "| -0.16 |\n",
       "| -0.16 |\n",
       "| -0.15 |\n",
       "| -0.16 |\n",
       "| -0.15 |\n",
       "| -0.15 |\n",
       "+-------+\n",
       "Truncated to displaylimit of 10."
      ]
     },
     "execution_count": 195,
     "metadata": {},
     "output_type": "execute_result"
    }
   ],
   "source": [
    "%%sql \n",
    "WITH changes AS (\n",
    "SELECT value - lag(value, 1, value) OVER (ORDER BY valid_from) AS v\n",
    "FROM prices\n",
    "WHERE date_part('year', valid_from) = 2019\n",
    "ORDER BY valid_from\n",
    ")\n",
    "SELECT * FROM changes;"
   ]
  },
  {
   "cell_type": "markdown",
   "id": "f228a8fa-25ad-4237-8e83-356d91dda36b",
   "metadata": {},
   "source": [
    "## Transpose Rows and Columns"
   ]
  },
  {
   "cell_type": "code",
   "execution_count": 196,
   "id": "b029b4af-9f77-4ee6-8183-64098747941c",
   "metadata": {},
   "outputs": [
    {
     "data": {
      "text/html": [
       "<span style=\"None\">Running query in &#x27;ch03&#x27;</span>"
      ],
      "text/plain": [
       "Running query in 'ch03'"
      ]
     },
     "metadata": {},
     "output_type": "display_data"
    },
    {
     "data": {
      "text/html": [
       "<table>\n",
       "    <thead>\n",
       "        <tr>\n",
       "            <th>system_id</th>\n",
       "            <th>year(\"day\")</th>\n",
       "            <th>sum(kWh)</th>\n",
       "        </tr>\n",
       "    </thead>\n",
       "    <tbody>\n",
       "        <tr>\n",
       "            <td>10</td>\n",
       "            <td>2019</td>\n",
       "            <td>1549.2800000000004</td>\n",
       "        </tr>\n",
       "        <tr>\n",
       "            <td>10</td>\n",
       "            <td>2020</td>\n",
       "            <td>677.19</td>\n",
       "        </tr>\n",
       "        <tr>\n",
       "            <td>34</td>\n",
       "            <td>2019</td>\n",
       "            <td>205742.6000000001</td>\n",
       "        </tr>\n",
       "        <tr>\n",
       "            <td>34</td>\n",
       "            <td>2020</td>\n",
       "            <td>101033.75</td>\n",
       "        </tr>\n",
       "        <tr>\n",
       "            <td>1200</td>\n",
       "            <td>2019</td>\n",
       "            <td>62012.10999999994</td>\n",
       "        </tr>\n",
       "        <tr>\n",
       "            <td>1200</td>\n",
       "            <td>2020</td>\n",
       "            <td>30709.330000000005</td>\n",
       "        </tr>\n",
       "    </tbody>\n",
       "</table>"
      ],
      "text/plain": [
       "+-----------+-------------+--------------------+\n",
       "| system_id | year(\"day\") |      sum(kWh)      |\n",
       "+-----------+-------------+--------------------+\n",
       "|     10    |     2019    | 1549.2800000000004 |\n",
       "|     10    |     2020    |       677.19       |\n",
       "|     34    |     2019    | 205742.6000000001  |\n",
       "|     34    |     2020    |     101033.75      |\n",
       "|    1200   |     2019    | 62012.10999999994  |\n",
       "|    1200   |     2020    | 30709.330000000005 |\n",
       "+-----------+-------------+--------------------+"
      ]
     },
     "execution_count": 196,
     "metadata": {},
     "output_type": "execute_result"
    }
   ],
   "source": [
    "%%sql\n",
    "SELECT system_id, year(day), sum(kWh) FROM v_power_per_day GROUP BY ALL ORDER\n",
    "BY system_id;"
   ]
  },
  {
   "cell_type": "markdown",
   "id": "1436c5cc-30eb-47a9-90fb-1a36316171bc",
   "metadata": {},
   "source": [
    "### pivot\n",
    "\n",
    "https://duckdb.org/docs/sql/statements/pivot  \n",
    "\n",
    "```sql\n",
    "PIVOT ⟨dataset⟩\n",
    "ON ⟨columns⟩\n",
    "USING ⟨values⟩\n",
    "GROUP BY ⟨rows⟩\n",
    "ORDER BY ⟨columns_with_order_directions⟩\n",
    "LIMIT ⟨number_of_rows⟩;\n",
    "```"
   ]
  },
  {
   "cell_type": "code",
   "execution_count": 197,
   "id": "423db39f-b514-4558-88a7-330e67b2efe4",
   "metadata": {},
   "outputs": [
    {
     "data": {
      "text/html": [
       "<span style=\"None\">Running query in &#x27;ch03&#x27;</span>"
      ],
      "text/plain": [
       "Running query in 'ch03'"
      ]
     },
     "metadata": {},
     "output_type": "display_data"
    },
    {
     "data": {
      "text/html": [
       "<table>\n",
       "    <thead>\n",
       "        <tr>\n",
       "            <th>system_id</th>\n",
       "            <th>kWh in 2019</th>\n",
       "            <th>kWh in 2020</th>\n",
       "        </tr>\n",
       "    </thead>\n",
       "    <tbody>\n",
       "        <tr>\n",
       "            <td>10</td>\n",
       "            <td>1549.2800000000004</td>\n",
       "            <td>677.19</td>\n",
       "        </tr>\n",
       "        <tr>\n",
       "            <td>34</td>\n",
       "            <td>205742.6000000001</td>\n",
       "            <td>101033.75</td>\n",
       "        </tr>\n",
       "        <tr>\n",
       "            <td>1200</td>\n",
       "            <td>62012.10999999994</td>\n",
       "            <td>30709.330000000005</td>\n",
       "        </tr>\n",
       "    </tbody>\n",
       "</table>"
      ],
      "text/plain": [
       "+-----------+--------------------+--------------------+\n",
       "| system_id |    kWh in 2019     |    kWh in 2020     |\n",
       "+-----------+--------------------+--------------------+\n",
       "|     10    | 1549.2800000000004 |       677.19       |\n",
       "|     34    | 205742.6000000001  |     101033.75      |\n",
       "|    1200   | 62012.10999999994  | 30709.330000000005 |\n",
       "+-----------+--------------------+--------------------+"
      ]
     },
     "execution_count": 197,
     "metadata": {},
     "output_type": "execute_result"
    }
   ],
   "source": [
    "%%sql\n",
    "SELECT system_id,\n",
    "sum(kWh) FILTER (WHERE year(day) = 2019)\n",
    "AS 'kWh in 2019',\n",
    "sum(kWh) FILTER (WHERE year(day) = 2020)\n",
    "AS 'kWh in 2020'\n",
    "FROM v_power_per_day\n",
    "GROUP BY system_id;"
   ]
  },
  {
   "cell_type": "code",
   "execution_count": 198,
   "id": "a8fc0c04-7b00-434e-bc3f-b566f6763a3d",
   "metadata": {},
   "outputs": [
    {
     "data": {
      "text/html": [
       "<span style=\"None\">Running query in &#x27;ch03&#x27;</span>"
      ],
      "text/plain": [
       "Running query in 'ch03'"
      ]
     },
     "metadata": {},
     "output_type": "display_data"
    },
    {
     "data": {
      "text/html": [
       "<table>\n",
       "    <thead>\n",
       "        <tr>\n",
       "            <th>system_id</th>\n",
       "            <th>2019</th>\n",
       "            <th>2020</th>\n",
       "        </tr>\n",
       "    </thead>\n",
       "    <tbody>\n",
       "    </tbody>\n",
       "</table>"
      ],
      "text/plain": [
       "+-----------+------+------+\n",
       "| system_id | 2019 | 2020 |\n",
       "+-----------+------+------+\n",
       "+-----------+------+------+"
      ]
     },
     "execution_count": 198,
     "metadata": {},
     "output_type": "execute_result"
    }
   ],
   "source": [
    "%sql PIVOT (FROM v_power_per_day) ON year(day) USING sum(kWh);"
   ]
  },
  {
   "attachments": {
    "6920a601-d7f5-4ec1-85c7-f1cb6991185b.png": {
     "image/png": "[encoded data removed]"
    }
   },
   "cell_type": "markdown",
   "id": "c795ed66-debb-4079-82c9-54a7f84127d3",
   "metadata": {},
   "source": [
    "![image.png](attachment:6920a601-d7f5-4ec1-85c7-f1cb6991185b.png)"
   ]
  },
  {
   "cell_type": "code",
   "execution_count": null,
   "id": "d0f264da-873d-4a15-a2c0-105dd6108726",
   "metadata": {},
   "outputs": [],
   "source": [
    "%%sql\n",
    "PIVOT v_power_per_day\n",
    "ON year(day)\n",
    "USING sum(kWh) AS total, max(kWh) AS best_day;"
   ]
  },
  {
   "cell_type": "code",
   "execution_count": null,
   "id": "c9c838af-0e3d-46e2-a4e2-97277948cd53",
   "metadata": {},
   "outputs": [],
   "source": [
    "%%sql\n",
    "PIVOT (FROM v_power_per_day WHERE day BETWEEN '2020-05-30' AND '2020-06-02')\n",
    "ON DAY USING first(kWh);"
   ]
  },
  {
   "cell_type": "markdown",
   "id": "03256445-66f2-435d-9698-d607f54291e2",
   "metadata": {},
   "source": [
    "### unpivot\n",
    "\n",
    "https://duckdb.org/docs/sql/statements/unpivot  \n",
    "\n",
    "```sql\n",
    "UNPIVOT ⟨dataset⟩\n",
    "ON ⟨column(s)⟩\n",
    "INTO\n",
    "    NAME ⟨name-column-name⟩\n",
    "    VALUE ⟨value-column-name(s)⟩\n",
    "ORDER BY ⟨column(s)-with-order-direction(s)⟩\n",
    "LIMIT ⟨number-of-rows⟩;\n",
    "```"
   ]
  },
  {
   "cell_type": "markdown",
   "id": "0a1586d3-7ef8-4db5-9ba8-4c18f1deeed5",
   "metadata": {},
   "source": [
    "## ASOF JOIN\n",
    "\n",
    "A common operation when working with temporal or similarly-ordered data is to find the nearest (first) event in a reference table (such as prices). This is called an as-of join:  \n",
    "\n",
    "https://duckdb.org/docs/guides/sql_features/asof_join.html  \n",
    "https://duckdb.org/2023/09/15/asof-joins-fuzzy-temporal-lookups.html  \n",
    "\n"
   ]
  },
  {
   "cell_type": "code",
   "execution_count": 199,
   "id": "68ded0b1-75c1-4286-beb9-5592f2c86290",
   "metadata": {},
   "outputs": [
    {
     "data": {
      "text/html": [
       "<span style=\"None\">Running query in &#x27;ch03&#x27;</span>"
      ],
      "text/plain": [
       "Running query in 'ch03'"
      ]
     },
     "metadata": {},
     "output_type": "display_data"
    },
    {
     "data": {
      "text/html": [
       "<table>\n",
       "    <thead>\n",
       "        <tr>\n",
       "            <th>valid_at</th>\n",
       "            <th>price</th>\n",
       "        </tr>\n",
       "    </thead>\n",
       "    <tbody>\n",
       "        <tr>\n",
       "            <td>2023-01-01 01:00:00</td>\n",
       "            <td>0.6845937063917518</td>\n",
       "        </tr>\n",
       "        <tr>\n",
       "            <td>2023-01-01 01:15:00</td>\n",
       "            <td>0.8275592676363885</td>\n",
       "        </tr>\n",
       "        <tr>\n",
       "            <td>2023-01-01 01:30:00</td>\n",
       "            <td>4.767876039259136</td>\n",
       "        </tr>\n",
       "        <tr>\n",
       "            <td>2023-01-01 01:45:00</td>\n",
       "            <td>9.930175710469484</td>\n",
       "        </tr>\n",
       "    </tbody>\n",
       "</table>"
      ],
      "text/plain": [
       "+---------------------+--------------------+\n",
       "|       valid_at      |       price        |\n",
       "+---------------------+--------------------+\n",
       "| 2023-01-01 01:00:00 | 0.6845937063917518 |\n",
       "| 2023-01-01 01:15:00 | 0.8275592676363885 |\n",
       "| 2023-01-01 01:30:00 | 4.767876039259136  |\n",
       "| 2023-01-01 01:45:00 | 9.930175710469484  |\n",
       "+---------------------+--------------------+"
      ]
     },
     "execution_count": 199,
     "metadata": {},
     "output_type": "execute_result"
    }
   ],
   "source": [
    "%%sql \n",
    "SELECT \n",
    " range AS valid_at,\n",
    " random()*10 AS price\n",
    " FROM range('2023-01-01 01:00:00'::timestamp,'2023-01-01 02:00:00'::timestamp, INTERVAL '15 minutes')"
   ]
  },
  {
   "cell_type": "code",
   "execution_count": 200,
   "id": "b010e273-0c23-4521-a77a-ee6e81041d6e",
   "metadata": {},
   "outputs": [
    {
     "data": {
      "text/html": [
       "<span style=\"None\">Running query in &#x27;ch03&#x27;</span>"
      ],
      "text/plain": [
       "Running query in 'ch03'"
      ]
     },
     "metadata": {},
     "output_type": "display_data"
    },
    {
     "data": {
      "text/html": [
       "<table>\n",
       "    <thead>\n",
       "        <tr>\n",
       "            <th>sold_at</th>\n",
       "            <th>num</th>\n",
       "        </tr>\n",
       "    </thead>\n",
       "    <tbody>\n",
       "        <tr>\n",
       "            <td>2023-01-01 01:00:00</td>\n",
       "            <td>2.2193160536698997</td>\n",
       "        </tr>\n",
       "        <tr>\n",
       "            <td>2023-01-01 01:05:00</td>\n",
       "            <td>2.887662756256759</td>\n",
       "        </tr>\n",
       "        <tr>\n",
       "            <td>2023-01-01 01:10:00</td>\n",
       "            <td>0.4709558514878154</td>\n",
       "        </tr>\n",
       "        <tr>\n",
       "            <td>2023-01-01 01:15:00</td>\n",
       "            <td>9.567802103701979</td>\n",
       "        </tr>\n",
       "        <tr>\n",
       "            <td>2023-01-01 01:20:00</td>\n",
       "            <td>5.263633127324283</td>\n",
       "        </tr>\n",
       "        <tr>\n",
       "            <td>2023-01-01 01:25:00</td>\n",
       "            <td>1.7122158058919013</td>\n",
       "        </tr>\n",
       "        <tr>\n",
       "            <td>2023-01-01 01:30:00</td>\n",
       "            <td>6.541664809919894</td>\n",
       "        </tr>\n",
       "        <tr>\n",
       "            <td>2023-01-01 01:35:00</td>\n",
       "            <td>8.631342453882098</td>\n",
       "        </tr>\n",
       "        <tr>\n",
       "            <td>2023-01-01 01:40:00</td>\n",
       "            <td>9.315414181910455</td>\n",
       "        </tr>\n",
       "        <tr>\n",
       "            <td>2023-01-01 01:45:00</td>\n",
       "            <td>0.04263599403202534</td>\n",
       "        </tr>\n",
       "    </tbody>\n",
       "</table>\n",
       "<span style=\"font-style:italic;text-align:center;\">Truncated to <a href=\"https://jupysql.ploomber.io/en/latest/api/configuration.html#displaylimit\">displaylimit</a> of 10.</span>"
      ],
      "text/plain": [
       "+---------------------+---------------------+\n",
       "|       sold_at       |         num         |\n",
       "+---------------------+---------------------+\n",
       "| 2023-01-01 01:00:00 |  2.2193160536698997 |\n",
       "| 2023-01-01 01:05:00 |  2.887662756256759  |\n",
       "| 2023-01-01 01:10:00 |  0.4709558514878154 |\n",
       "| 2023-01-01 01:15:00 |  9.567802103701979  |\n",
       "| 2023-01-01 01:20:00 |  5.263633127324283  |\n",
       "| 2023-01-01 01:25:00 |  1.7122158058919013 |\n",
       "| 2023-01-01 01:30:00 |  6.541664809919894  |\n",
       "| 2023-01-01 01:35:00 |  8.631342453882098  |\n",
       "| 2023-01-01 01:40:00 |  9.315414181910455  |\n",
       "| 2023-01-01 01:45:00 | 0.04263599403202534 |\n",
       "+---------------------+---------------------+\n",
       "Truncated to displaylimit of 10."
      ]
     },
     "execution_count": 200,
     "metadata": {},
     "output_type": "execute_result"
    }
   ],
   "source": [
    "%%sql \n",
    "SELECT range AS sold_at,\n",
    " random()*10 AS num\n",
    " FROM range('2023-01-01 01:00:00'::timestamp,'2023-01-01 02:00:00'::timestamp, INTERVAL '5 minutes')"
   ]
  },
  {
   "attachments": {
    "180191d2-5bc7-48ed-bc34-ac94b24202c0.png": {
     "image/png": "[encoded data removed]"
    }
   },
   "cell_type": "markdown",
   "id": "97044db8-1440-41ad-9044-a97c021f346b",
   "metadata": {},
   "source": [
    "inner join\n",
    "\n",
    "![image.png](attachment:180191d2-5bc7-48ed-bc34-ac94b24202c0.png)"
   ]
  },
  {
   "cell_type": "code",
   "execution_count": 201,
   "id": "0dfac171-072a-483e-b4f5-a449f9467064",
   "metadata": {},
   "outputs": [
    {
     "data": {
      "text/html": [
       "<span style=\"None\">Running query in &#x27;ch03&#x27;</span>"
      ],
      "text/plain": [
       "Running query in 'ch03'"
      ]
     },
     "metadata": {},
     "output_type": "display_data"
    },
    {
     "data": {
      "text/html": [
       "<table>\n",
       "    <thead>\n",
       "        <tr>\n",
       "            <th>sold_at</th>\n",
       "            <th>with_price_at</th>\n",
       "            <th>price</th>\n",
       "        </tr>\n",
       "    </thead>\n",
       "    <tbody>\n",
       "        <tr>\n",
       "            <td>2023-01-01 01:00:00</td>\n",
       "            <td>2023-01-01 01:00:00</td>\n",
       "            <td>29.13</td>\n",
       "        </tr>\n",
       "        <tr>\n",
       "            <td>2023-01-01 01:15:00</td>\n",
       "            <td>2023-01-01 01:15:00</td>\n",
       "            <td>16.42</td>\n",
       "        </tr>\n",
       "        <tr>\n",
       "            <td>2023-01-01 01:30:00</td>\n",
       "            <td>2023-01-01 01:30:00</td>\n",
       "            <td>0.65</td>\n",
       "        </tr>\n",
       "        <tr>\n",
       "            <td>2023-01-01 01:45:00</td>\n",
       "            <td>2023-01-01 01:45:00</td>\n",
       "            <td>0.79</td>\n",
       "        </tr>\n",
       "    </tbody>\n",
       "</table>"
      ],
      "text/plain": [
       "+---------------------+---------------------+-------+\n",
       "|       sold_at       |    with_price_at    | price |\n",
       "+---------------------+---------------------+-------+\n",
       "| 2023-01-01 01:00:00 | 2023-01-01 01:00:00 | 29.13 |\n",
       "| 2023-01-01 01:15:00 | 2023-01-01 01:15:00 | 16.42 |\n",
       "| 2023-01-01 01:30:00 | 2023-01-01 01:30:00 |  0.65 |\n",
       "| 2023-01-01 01:45:00 | 2023-01-01 01:45:00 |  0.79 |\n",
       "+---------------------+---------------------+-------+"
      ]
     },
     "execution_count": 201,
     "metadata": {},
     "output_type": "execute_result"
    }
   ],
   "source": [
    "%%sql \n",
    "WITH prices AS \n",
    "(SELECT \n",
    " range AS valid_at,\n",
    " random()*10 AS price\n",
    " FROM range('2023-01-01 01:00:00'::timestamp,'2023-01-01 02:00:00'::timestamp, INTERVAL '15 minutes')),\n",
    "sales AS \n",
    "(SELECT range AS sold_at,\n",
    " random()*10 AS num\n",
    " FROM range('2023-01-01 01:00:00'::timestamp,'2023-01-01 02:00:00'::timestamp, INTERVAL '5 minutes'))\n",
    "SELECT sold_at, valid_at AS 'with_price_at', round(num * price,2) as price\n",
    "FROM sales \n",
    "JOIN prices ON prices.valid_at = sales.sold_at;"
   ]
  },
  {
   "attachments": {
    "265e4dc6-785c-477c-98f8-055ba50bfcd8.png": {
     "image/png": "[encoded data removed]"
    }
   },
   "cell_type": "markdown",
   "id": "dc66b621-ee69-4c7d-8694-1b048a671703",
   "metadata": {},
   "source": [
    "asof join\n",
    "\n",
    "![image.png](attachment:265e4dc6-785c-477c-98f8-055ba50bfcd8.png)"
   ]
  },
  {
   "cell_type": "code",
   "execution_count": null,
   "id": "35fd7d63-cb90-41c2-bee1-05e2704a01b5",
   "metadata": {},
   "outputs": [],
   "source": [
    "%%sql\n",
    "WITH prices AS \n",
    "(SELECT range AS valid_at,\n",
    " random()*10 AS price\n",
    " FROM range('2023-01-01 01:00:00'::timestamp,'2023-01-01 02:00:00'::timestamp, INTERVAL '15 minutes')),\n",
    "sales AS \n",
    "(SELECT range AS sold_at,\n",
    " random()*10 AS num\n",
    " FROM range('2023-01-01 01:00:00'::timestamp,'2023-01-01 02:00:00'::timestamp, INTERVAL '5 minutes'))\n",
    "SELECT sold_at, valid_at AS 'with_price_at', round(num * price,2) as price\n",
    "FROM sales \n",
    "ASOF JOIN prices\n",
    "ON prices.valid_at <= sales.sold_at;"
   ]
  },
  {
   "cell_type": "markdown",
   "id": "45e0487f-fdbb-4994-9f4d-aeefea43a516",
   "metadata": {},
   "source": [
    "## LATERAL JOIN\n",
    "\n",
    "The LATERAL keyword allows subqueries in the FROM clause to refer to previous subqueries. This feature is also known as a lateral join.\n",
    "\n",
    "DuckDB detects when LATERAL joins should be used, making the use of the LATERAL keyword optional.\n",
    "\n",
    "https://www.heap.io/blog/postgresqls-powerful-new-join-type-lateral  "
   ]
  },
  {
   "cell_type": "code",
   "execution_count": null,
   "id": "27b7816d-57be-4b0a-80f2-548600ec3622",
   "metadata": {},
   "outputs": [],
   "source": [
    "%%sql\n",
    "SELECT *\n",
    "FROM range(3) t(i), LATERAL (SELECT i + 1) t2(j);"
   ]
  },
  {
   "cell_type": "code",
   "execution_count": null,
   "id": "faff6991-9f78-47ba-81f3-31507774debd",
   "metadata": {},
   "outputs": [],
   "source": [
    "%%sql\n",
    "SELECT *\n",
    "FROM range(3) t(i), (SELECT i + 1) t2(j);"
   ]
  },
  {
   "cell_type": "code",
   "execution_count": null,
   "id": "68130681-6ac4-4a65-a2eb-22bfb241aa0b",
   "metadata": {},
   "outputs": [],
   "source": [
    "%%sql\n",
    "\n",
    "SELECT *\n",
    "FROM\n",
    "    generate_series(0, 1) t(i),\n",
    "    LATERAL (SELECT i + 10 UNION ALL SELECT i + 100) t2(j);"
   ]
  },
  {
   "cell_type": "code",
   "execution_count": null,
   "id": "58ab56d5-2aa3-481b-83dc-a06b2e215b45",
   "metadata": {},
   "outputs": [],
   "source": [
    "%%sql\n",
    "SELECT *\n",
    "FROM\n",
    "    generate_series(0, 1) t(i),\n",
    "    (SELECT i + 10 UNION ALL SELECT i + 100) t2(j);"
   ]
  },
  {
   "cell_type": "markdown",
   "id": "183bb4c0-ef26-44af-8849-8913e5cd5993",
   "metadata": {},
   "source": [
    "##  Row Pattern Recognition(window function)\n",
    "\n",
    "https://www.timescale.com/learn/postgresql-window-functions  \n",
    "https://www.geeksforgeeks.org/postgre-window-functions/  \n",
    "\n",
    "https://pgsqlpgpool.blogspot.com/2024/07/row-pattern-recognition-feature-for.html#:~:text=What%20is%20row%20pattern%20recognition,sequence%20of%20rows%20by%20pattern.  \n",
    "https://www.sraoss.co.jp/wp-content/uploads/files/event_seminar/material/2024/2024-05-29-PGConf.dev-RPR.pdf  \n",
    "https://medium.com/@lutz.kuenneke89/match-recognize-in-trino-1244ede7c321  \n",
    "https://modern-sql.com/feature/match_recognize  \n",
    "https://www.vldb.org/pvldb/vol16/p1181-zhu.pdf  \n",
    "https://trino.io/blog/2021/05/19/row_pattern_matching.html  "
   ]
  }
 ],
 "metadata": {
  "kernelspec": {
   "display_name": "Python 3 (ipykernel)",
   "language": "python",
   "name": "python3"
  },
  "language_info": {
   "codemirror_mode": {
    "name": "ipython",
    "version": 3
   },
   "file_extension": ".py",
   "mimetype": "text/x-python",
   "name": "python",
   "nbconvert_exporter": "python",
   "pygments_lexer": "ipython3",
   "version": "3.9.12"
  }
 },
 "nbformat": 4,
 "nbformat_minor": 5
}
