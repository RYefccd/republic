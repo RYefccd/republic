{
 "cells": [
  {
   "cell_type": "markdown",
   "id": "37968ec6-5079-45f5-b49d-5e6b9d0b677e",
   "metadata": {
    "tags": []
   },
   "source": [
    "# django\n"
   ]
  },
  {
   "cell_type": "markdown",
   "id": "11f105c1-2b26-48da-9207-d0c00dd7ffaf",
   "metadata": {},
   "source": [
    "## 测试django orm 是否有重连机制"
   ]
  },
  {
   "cell_type": "code",
   "execution_count": null,
   "id": "5245556b-b9f0-461c-b6aa-57660c4e91a3",
   "metadata": {},
   "outputs": [],
   "source": [
    "# 测试的django 4 版本\n",
    "pip3 install Django\n",
    "pip3 install psycopg2-binary"
   ]
  },
  {
   "cell_type": "code",
   "execution_count": null,
   "id": "ceb0b045-5878-4f98-8c6e-44cd6072d2c7",
   "metadata": {},
   "outputs": [],
   "source": [
    "# 创建一个项目\n",
    "django-admin startproject  myproject\n",
    "python3 manage.py startapp my_app\n",
    "\n",
    "# tree -L  2\n",
    "├── manage.py\n",
    "├── my_app\n",
    "│   ├── admin.py\n",
    "│   ├── apps.py\n",
    "│   ├── migrations\n",
    "│   ├── models.py     #创建model\n",
    "│   ├── tests.py\n",
    "│   └── views.py\n",
    "├── myproject\n",
    "│   ├── asgi.py\n",
    "│   ├── settings.py   # 配置django文件\n",
    "│   ├── urls.py\n",
    "│   └── wsgi.py\n",
    "└── run_db.py\n"
   ]
  },
  {
   "cell_type": "code",
   "execution_count": 4,
   "id": "76a2100e-5db0-4c8a-8009-48f36c3d336f",
   "metadata": {},
   "outputs": [],
   "source": [
    "# 配置数据库文件\n",
    "# settings.py\n",
    "# 添加数据库和app\n",
    "INSTALLED_APPS = [\n",
    "    'django.contrib.admin',\n",
    "    'django.contrib.auth',\n",
    "    'django.contrib.contenttypes',\n",
    "    'django.contrib.sessions',\n",
    "    'django.contrib.messages',\n",
    "    'django.contrib.staticfiles',\n",
    "    'my_app'\n",
    "]\n",
    "\n",
    "DATABASES = {\n",
    "    'default': {\n",
    "        'ENGINE': 'django.db.backends.postgresql_psycopg2',\n",
    "        'USER': 'postgres',\n",
    "        'PASSWORD': '123qwe',\n",
    "        'HOST': '192.168.0.59',\n",
    "        'PORT': 5439,\n",
    "        'NAME': 'testdb'\n",
    "    },\n",
    "}\n"
   ]
  },
  {
   "cell_type": "code",
   "execution_count": null,
   "id": "dfcc3d50-7bfd-4a56-a301-7f5108b97fdf",
   "metadata": {},
   "outputs": [],
   "source": [
    "# 在my_app下的model.py\n",
    "\n",
    "from django.db import models\n",
    "\n",
    "# Create your models here.\n",
    "class Info(models.Model):\n",
    "    id = models.IntegerField(blank=True, null=True)\n",
    "    message = models.CharField(max_length=256, blank=True, null=True)\n",
    "\n",
    "    class Meta:\n",
    "        db_table = 'info'"
   ]
  },
  {
   "cell_type": "code",
   "execution_count": null,
   "id": "0384145a-4a1b-4157-a64d-2c0bd0781c02",
   "metadata": {},
   "outputs": [],
   "source": [
    "# 在根目录下 vim run_db.py\n",
    "import os\n",
    "import django\n",
    "import random\n",
    "import time\n",
    "\n",
    "os.environ.setdefault(\"DJANGO_SETTINGS_MODULE\", \"myproject.settings\")\n",
    "django.setup()\n",
    "\n",
    "\n",
    "from django.db import close_old_connections\n",
    "from my_app.models import Info\n",
    "\n",
    "while 1:\n",
    "    try:\n",
    "        num = random.randint(199999, 77899931)\n",
    "        # close_old_connections()\n",
    "        Info.objects.filter(id=1).update(message=str(num))\n",
    "        print('修改成功111')\n",
    "        time.sleep(10)\n",
    "    except Exception as e:\n",
    "        print(e)\n",
    "        time.sleep(10)"
   ]
  },
  {
   "cell_type": "code",
   "execution_count": 5,
   "id": "42e2e55e-fcbf-462d-9c87-c54ed5b59932",
   "metadata": {},
   "outputs": [],
   "source": [
    "# 运行 run_db.py\n",
    "# python3 run_db.py\n",
    "# 可以看到运行结果\n",
    "#修改成功111\n",
    "#修改成功111\n",
    "#修改成功111\n",
    "#修改成功111"
   ]
  },
  {
   "cell_type": "code",
   "execution_count": null,
   "id": "ad40b993-625f-4f60-a5f3-9a4e559acfde",
   "metadata": {},
   "outputs": [],
   "source": [
    "# 1 打开终端 安装tcpkill\n",
    "sudo apt install dsniff\n",
    "\n",
    "# 2 查看pid 链接数据库的端口是5439\n",
    "lsof -n -i tcp:5439\n",
    "# python  8361 huahua    3u  IPv4 139249      0t0  TCP 192.168.0.119:40956->192.168.0.59:5439 (ESTABLISHED)\n",
    "\n",
    "# 3 killtcp服务\n",
    "# ens33 为网卡 可以通过ifconfig 查看\n",
    "sudo tcpkill -i ens33 -9 port 40956"
   ]
  },
  {
   "cell_type": "code",
   "execution_count": null,
   "id": "c68b3b66-d2c7-4fdd-9c87-4576c7fb86e0",
   "metadata": {
    "jupyter": {
     "source_hidden": true
    },
    "tags": []
   },
   "outputs": [],
   "source": [
    "# 查看 服务\n",
    "# 显示 说明没有重连机制\n",
    "connection already closed\n",
    "connection already closed\n",
    "connection already closed\n",
    "connection already closed\n",
    "connection already closed\n",
    "connection already closed\n",
    "connection already closed\n",
    "connection already closed\n",
    "connection already closed"
   ]
  },
  {
   "cell_type": "code",
   "execution_count": null,
   "id": "85c74193-0a98-4072-a90a-e170092b7a09",
   "metadata": {},
   "outputs": [],
   "source": [
    "# 导入一行代码\n",
    "# 每次执行修改等操作 执行close_old_connections\n",
    "# 里面会去关闭久的conn 然后会执行select 1 去重新链接数据\n",
    "from django.db import close_old_connections\n",
    "\n",
    "close_old_connections()\n",
    "\n",
    "#重新执行上面的步骤\n",
    "lsof -n -i tcp:5439\n",
    "# python3.6 8776 huahua    6u  IPv4 165321      0t0  TCP 192.168.0.119:59952->192.168.0.59:5439 (ESTABLISHED)\n",
    "sudo tcpkill -i ens33 -9 port 59952\n",
    "\n",
    "# 发现服务没有影响报错\n",
    "# 接着查看 也建立了新链接 端口改变了\n",
    "lsof -n -i tcp:5439\n",
    "python3.6 8776 huahua    6u  IPv4 165511      0t0  TCP 192.168.0.119:60240->192.168.0.59:5439 (ESTABLISHED)"
   ]
  }
 ],
 "metadata": {
  "kernelspec": {
   "display_name": "Python 3 (ipykernel)",
   "language": "python",
   "name": "python3"
  },
  "language_info": {
   "codemirror_mode": {
    "name": "ipython",
    "version": 3
   },
   "file_extension": ".py",
   "mimetype": "text/x-python",
   "name": "python",
   "nbconvert_exporter": "python",
   "pygments_lexer": "ipython3",
   "version": "3.9.12"
  }
 },
 "nbformat": 4,
 "nbformat_minor": 5
}
