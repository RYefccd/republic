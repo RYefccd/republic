{
 "cells": [
  {
   "cell_type": "markdown",
   "id": "5f6b95aa-dbe1-4f53-ac66-bb4157a4618e",
   "metadata": {},
   "source": [
    "# Sqlalchemy"
   ]
  },
  {
   "cell_type": "code",
   "execution_count": 1,
   "id": "45663d18-092b-42cf-9a81-8f593a517752",
   "metadata": {},
   "outputs": [
    {
     "name": "stdout",
     "output_type": "stream",
     "text": [
      "Looking in indexes: https://pypi.tuna.tsinghua.edu.cn/simple/\n",
      "Requirement already satisfied: SQLAlchemy==2.0.29 in /opt/conda/lib/python3.9/site-packages (2.0.29)\n",
      "Requirement already satisfied: greenlet!=0.4.17 in /opt/conda/lib/python3.9/site-packages (from SQLAlchemy==2.0.29) (1.1.2)\n",
      "Requirement already satisfied: typing-extensions>=4.6.0 in /opt/conda/lib/python3.9/site-packages (from SQLAlchemy==2.0.29) (4.12.2)\n"
     ]
    }
   ],
   "source": [
    "!pip install -i https://pypi.tuna.tsinghua.edu.cn/simple/ SQLAlchemy==2.0.29"
   ]
  },
  {
   "cell_type": "code",
   "execution_count": 2,
   "id": "8d9d0864-0ee8-4f9e-b2ba-5bf164339df7",
   "metadata": {},
   "outputs": [],
   "source": [
    "from sqlalchemy import create_engine\n",
    "from sqlalchemy.orm import declarative_base, sessionmaker"
   ]
  },
  {
   "cell_type": "code",
   "execution_count": 3,
   "id": "dfe4ad1b-aa0b-4d9f-822c-63b5257a7af2",
   "metadata": {
    "tags": []
   },
   "outputs": [],
   "source": [
    "# 创建数据库引擎\n",
    "DATABASE_URL = \"sqlite:///./test.db\"\n",
    "engine = create_engine(DATABASE_URL, echo=True)\n",
    "Base = declarative_base()\n",
    "SessionLocal = sessionmaker(autocommit=False, autoflush=False, bind=engine)\n",
    "conn = engine.connect()"
   ]
  },
  {
   "cell_type": "code",
   "execution_count": 4,
   "id": "4fd43fea-4161-4bb2-ac6a-79711963adbb",
   "metadata": {},
   "outputs": [
    {
     "name": "stdout",
     "output_type": "stream",
     "text": [
      "2024-08-16 04:08:32,220 INFO sqlalchemy.engine.Engine BEGIN (implicit)\n",
      "2024-08-16 04:08:32,222 INFO sqlalchemy.engine.Engine PRAGMA main.table_info(\"users\")\n",
      "2024-08-16 04:08:32,226 INFO sqlalchemy.engine.Engine [raw sql] ()\n",
      "2024-08-16 04:08:32,240 INFO sqlalchemy.engine.Engine COMMIT\n"
     ]
    }
   ],
   "source": [
    "from sqlalchemy import create_engine, Integer, String, Column\n",
    "from sqlalchemy.orm import Mapped, mapped_column\n",
    "\n",
    "class User(Base):\n",
    "    __tablename__ = 'users'\n",
    "\n",
    "    id: Mapped[int] = mapped_column(Integer, primary_key=True)\n",
    "    name: Mapped[str] = mapped_column(String, index=True)\n",
    "    email: Mapped[str] = mapped_column(String, index=True)\n",
    "\n",
    "Base.metadata.create_all(bind=engine)"
   ]
  },
  {
   "cell_type": "markdown",
   "id": "399d034c-57f3-4d43-8cf9-a6c64c025838",
   "metadata": {
    "tags": []
   },
   "source": [
    "## ORM"
   ]
  },
  {
   "cell_type": "code",
   "execution_count": 5,
   "id": "46b79129-c230-4be1-ac21-c816556bd26f",
   "metadata": {},
   "outputs": [],
   "source": [
    "def create_user(name: str, email: str):\n",
    "    db = SessionLocal()\n",
    "    user = User(name=name, email=email)\n",
    "    db.add(user)\n",
    "    db.commit()\n",
    "    db.refresh(user)\n",
    "    db.close()\n",
    "    return user"
   ]
  },
  {
   "cell_type": "code",
   "execution_count": 6,
   "id": "99dc4e67-fab2-468e-abe0-34117541990d",
   "metadata": {},
   "outputs": [
    {
     "name": "stdout",
     "output_type": "stream",
     "text": [
      "2024-08-16 04:08:32,307 INFO sqlalchemy.engine.Engine BEGIN (implicit)\n",
      "2024-08-16 04:08:32,313 INFO sqlalchemy.engine.Engine INSERT INTO users (name, email) VALUES (?, ?)\n",
      "2024-08-16 04:08:32,315 INFO sqlalchemy.engine.Engine [generated in 0.00208s] ('aaa', 'aa@test.com')\n",
      "2024-08-16 04:08:32,323 INFO sqlalchemy.engine.Engine COMMIT\n",
      "2024-08-16 04:08:32,332 INFO sqlalchemy.engine.Engine BEGIN (implicit)\n",
      "2024-08-16 04:08:32,391 INFO sqlalchemy.engine.Engine SELECT users.id, users.name, users.email \n",
      "FROM users \n",
      "WHERE users.id = ?\n",
      "2024-08-16 04:08:32,393 INFO sqlalchemy.engine.Engine [generated in 0.00206s] (1,)\n",
      "2024-08-16 04:08:32,399 INFO sqlalchemy.engine.Engine ROLLBACK\n",
      "1\n",
      "aaa\n",
      "aa@test.com\n"
     ]
    }
   ],
   "source": [
    "new_user = create_user(name=\"aaa\", email=\"aa@test.com\")\n",
    "print(new_user.id)\n",
    "print(new_user.name)\n",
    "print(new_user.email)"
   ]
  },
  {
   "cell_type": "code",
   "execution_count": 7,
   "id": "e3cd2188-dfe2-469b-b6b9-bfba2fd4e02c",
   "metadata": {},
   "outputs": [],
   "source": [
    "def get_user(user_id: int):\n",
    "    db = SessionLocal()\n",
    "    user = db.query(User).filter(User.id == user_id).first()\n",
    "    db.close()\n",
    "    return user"
   ]
  },
  {
   "cell_type": "code",
   "execution_count": 8,
   "id": "4c73489b-de49-4b98-825c-33bab928d9d7",
   "metadata": {},
   "outputs": [
    {
     "name": "stdout",
     "output_type": "stream",
     "text": [
      "2024-08-16 04:08:32,424 INFO sqlalchemy.engine.Engine BEGIN (implicit)\n",
      "2024-08-16 04:08:32,428 INFO sqlalchemy.engine.Engine SELECT users.id AS users_id, users.name AS users_name, users.email AS users_email \n",
      "FROM users \n",
      "WHERE users.id = ?\n",
      " LIMIT ? OFFSET ?\n",
      "2024-08-16 04:08:32,430 INFO sqlalchemy.engine.Engine [generated in 0.00195s] (1, 1, 0)\n",
      "2024-08-16 04:08:32,437 INFO sqlalchemy.engine.Engine ROLLBACK\n",
      "1\n",
      "aaa\n",
      "aa@test.com\n"
     ]
    }
   ],
   "source": [
    "user = get_user(new_user.id)\n",
    "print(user.id)\n",
    "print(user.name)\n",
    "print(user.email)"
   ]
  },
  {
   "cell_type": "code",
   "execution_count": 9,
   "id": "55948f80-8438-4a93-ade0-ff43e68d4395",
   "metadata": {},
   "outputs": [],
   "source": [
    "def update_user(user_id: int, name: str, email: str):\n",
    "    db = SessionLocal()\n",
    "    user = db.query(User).filter(User.id == user_id).first()\n",
    "    if user:\n",
    "        user.name = name\n",
    "        user.email = email\n",
    "        db.commit()\n",
    "        db.refresh(user)\n",
    "    db.close()\n",
    "    return user"
   ]
  },
  {
   "cell_type": "code",
   "execution_count": 10,
   "id": "db96d8d7-3bb3-4576-ba66-488d6b15305a",
   "metadata": {},
   "outputs": [
    {
     "name": "stdout",
     "output_type": "stream",
     "text": [
      "2024-08-16 04:08:32,517 INFO sqlalchemy.engine.Engine BEGIN (implicit)\n",
      "2024-08-16 04:08:32,520 INFO sqlalchemy.engine.Engine SELECT users.id AS users_id, users.name AS users_name, users.email AS users_email \n",
      "FROM users \n",
      "WHERE users.id = ?\n",
      " LIMIT ? OFFSET ?\n",
      "2024-08-16 04:08:32,521 INFO sqlalchemy.engine.Engine [cached since 0.0931s ago] (1, 1, 0)\n",
      "2024-08-16 04:08:32,528 INFO sqlalchemy.engine.Engine UPDATE users SET name=?, email=? WHERE users.id = ?\n",
      "2024-08-16 04:08:32,529 INFO sqlalchemy.engine.Engine [generated in 0.00138s] ('bbb', 'bbb@test.com', 1)\n",
      "2024-08-16 04:08:32,535 INFO sqlalchemy.engine.Engine COMMIT\n",
      "2024-08-16 04:08:32,593 INFO sqlalchemy.engine.Engine BEGIN (implicit)\n",
      "2024-08-16 04:08:32,595 INFO sqlalchemy.engine.Engine SELECT users.id, users.name, users.email \n",
      "FROM users \n",
      "WHERE users.id = ?\n",
      "2024-08-16 04:08:32,597 INFO sqlalchemy.engine.Engine [cached since 0.2061s ago] (1,)\n",
      "2024-08-16 04:08:32,603 INFO sqlalchemy.engine.Engine ROLLBACK\n",
      "2024-08-16 04:08:32,605 INFO sqlalchemy.engine.Engine BEGIN (implicit)\n",
      "2024-08-16 04:08:32,607 INFO sqlalchemy.engine.Engine SELECT users.id AS users_id, users.name AS users_name, users.email AS users_email \n",
      "FROM users \n",
      "WHERE users.id = ?\n",
      " LIMIT ? OFFSET ?\n",
      "2024-08-16 04:08:32,608 INFO sqlalchemy.engine.Engine [cached since 0.1799s ago] (1, 1, 0)\n",
      "2024-08-16 04:08:32,612 INFO sqlalchemy.engine.Engine ROLLBACK\n",
      "1\n",
      "bbb\n",
      "bbb@test.com\n"
     ]
    }
   ],
   "source": [
    "updated_user = update_user(user_id=new_user.id, name=\"bbb\", email=\"bbb@test.com\")\n",
    "user = get_user(new_user.id)\n",
    "print(user.id)\n",
    "print(user.name)\n",
    "print(user.email)"
   ]
  },
  {
   "cell_type": "code",
   "execution_count": 11,
   "id": "d93af179-e12b-44eb-9ec9-e7792eddcb48",
   "metadata": {},
   "outputs": [],
   "source": [
    "def delete_user(user_id: int):\n",
    "    db = SessionLocal()\n",
    "    user = db.query(User).filter(User.id == user_id).first()\n",
    "    if user:\n",
    "        db.delete(user)\n",
    "        db.commit()\n",
    "    db.close()\n",
    "    return user"
   ]
  },
  {
   "cell_type": "code",
   "execution_count": 12,
   "id": "476dfb3d-ce70-4e55-b27a-33ac86287c17",
   "metadata": {},
   "outputs": [
    {
     "name": "stdout",
     "output_type": "stream",
     "text": [
      "2024-08-16 04:08:32,637 INFO sqlalchemy.engine.Engine BEGIN (implicit)\n",
      "2024-08-16 04:08:32,692 INFO sqlalchemy.engine.Engine SELECT users.id AS users_id, users.name AS users_name, users.email AS users_email \n",
      "FROM users \n",
      "WHERE users.id = ?\n",
      " LIMIT ? OFFSET ?\n",
      "2024-08-16 04:08:32,694 INFO sqlalchemy.engine.Engine [cached since 0.2655s ago] (1, 1, 0)\n",
      "2024-08-16 04:08:32,702 INFO sqlalchemy.engine.Engine DELETE FROM users WHERE users.id = ?\n",
      "2024-08-16 04:08:32,704 INFO sqlalchemy.engine.Engine [generated in 0.00193s] (1,)\n",
      "2024-08-16 04:08:32,710 INFO sqlalchemy.engine.Engine COMMIT\n",
      "2024-08-16 04:08:32,720 INFO sqlalchemy.engine.Engine BEGIN (implicit)\n",
      "2024-08-16 04:08:32,721 INFO sqlalchemy.engine.Engine SELECT users.id AS users_id, users.name AS users_name, users.email AS users_email \n",
      "FROM users \n",
      "WHERE users.id = ?\n",
      " LIMIT ? OFFSET ?\n",
      "2024-08-16 04:08:32,725 INFO sqlalchemy.engine.Engine [cached since 0.2963s ago] (1, 1, 0)\n",
      "2024-08-16 04:08:32,730 INFO sqlalchemy.engine.Engine ROLLBACK\n",
      "None\n"
     ]
    }
   ],
   "source": [
    "delete_user(new_user.id)\n",
    "user = get_user(new_user.id)\n",
    "print(user)"
   ]
  },
  {
   "cell_type": "markdown",
   "id": "78d9164f-5306-4a89-9919-0147b6014331",
   "metadata": {
    "tags": []
   },
   "source": [
    "## CORE"
   ]
  },
  {
   "cell_type": "code",
   "execution_count": 19,
   "id": "e81722db-3a54-41e0-8574-1a5443aa17bc",
   "metadata": {},
   "outputs": [
    {
     "name": "stdout",
     "output_type": "stream",
     "text": [
      "2024-08-16 04:09:37,059 INFO sqlalchemy.engine.Engine INSERT INTO users (name, email) VALUES (?, ?)\n",
      "2024-08-16 04:09:37,062 INFO sqlalchemy.engine.Engine [cached since 64.27s ago] ('cc', 'cc@test.com')\n",
      "sql_str-----> INSERT INTO users (name, email) VALUES (:name, :email)\n",
      "id: 1\n"
     ]
    }
   ],
   "source": [
    "from sqlalchemy import insert\n",
    "\n",
    "def create_user(name: str, email: str):\n",
    "    data = {\"name\":name, \"email\":email}\n",
    "    result = conn.execute(insert(User).values(data))\n",
    "    print(\"sql_str----->\", insert(User).values(data))\n",
    "    return result\n",
    "new_user_id = create_user(name=\"cc\", email=\"cc@test.com\")\n",
    "print(\"id: {}\".format(new_user_id.inserted_primary_key[0]))"
   ]
  },
  {
   "cell_type": "code",
   "execution_count": 20,
   "id": "dc3f8a4d-abf1-4b81-9daa-cb489d181506",
   "metadata": {},
   "outputs": [
    {
     "name": "stdout",
     "output_type": "stream",
     "text": [
      "2024-08-16 04:09:38,493 INFO sqlalchemy.engine.Engine SELECT users.id, users.name, users.email \n",
      "FROM users \n",
      "WHERE users.id = ?\n",
      "2024-08-16 04:09:38,497 INFO sqlalchemy.engine.Engine [cached since 65.67s ago] (1,)\n",
      "sql_str-----> SELECT users.id, users.name, users.email \n",
      "FROM users \n",
      "WHERE users.id = :id_1\n",
      "获取用户信息: (1, 'cc', 'cc@test.com')\n"
     ]
    }
   ],
   "source": [
    "from sqlalchemy import select\n",
    "\n",
    "def get_user(user_id: int):\n",
    "    filters = {\"id\": user_id}\n",
    "    result = conn.execute(select(User).filter_by(**filters)).first()\n",
    "    # result = result.scalars().first()\n",
    "    print(\"sql_str----->\", select(User).filter_by(**filters))\n",
    "    return result\n",
    "\n",
    "user = get_user(user_id=new_user_id.inserted_primary_key[0])\n",
    "print(\"获取用户信息: {}\".format(user))"
   ]
  },
  {
   "cell_type": "code",
   "execution_count": 21,
   "id": "b91fb34c-fd0e-478a-a4b8-249046d8dd42",
   "metadata": {},
   "outputs": [
    {
     "name": "stdout",
     "output_type": "stream",
     "text": [
      "2024-08-16 04:09:42,375 INFO sqlalchemy.engine.Engine UPDATE users SET name=?, email=? WHERE users.id = ?\n",
      "2024-08-16 04:09:42,376 INFO sqlalchemy.engine.Engine [cached since 69.47s ago] ('dd', 'dd@test.com', 1)\n",
      "sql_str-----> UPDATE users SET name=:name, email=:email WHERE users.id = :id_1\n",
      "2024-08-16 04:09:42,381 INFO sqlalchemy.engine.Engine SELECT users.id, users.name, users.email \n",
      "FROM users \n",
      "WHERE users.id = ?\n",
      "2024-08-16 04:09:42,382 INFO sqlalchemy.engine.Engine [cached since 69.56s ago] (1,)\n",
      "sql_str-----> SELECT users.id, users.name, users.email \n",
      "FROM users \n",
      "WHERE users.id = :id_1\n",
      "更新后的用户信息: (1, 'dd', 'dd@test.com')\n"
     ]
    }
   ],
   "source": [
    "from sqlalchemy import update\n",
    "\n",
    "def update_user(user_id: int, name: str, email: str):\n",
    "    filters = {\"id\":user_id}\n",
    "    data = {\"name\":name, \"email\":email}\n",
    "    result = conn.execute(update(User).filter_by(**filters).values(**data))\n",
    "    print(\"sql_str----->\", update(User).filter_by(**filters).values(**data))\n",
    "    return result\n",
    "\n",
    "update_user = update_user(user_id=new_user_id.inserted_primary_key[0], name=\"dd\", email=\"dd@test.com\")\n",
    "user = get_user(user_id=new_user_id.inserted_primary_key[0])\n",
    "print(\"更新后的用户信息: {}\".format(user))"
   ]
  },
  {
   "cell_type": "code",
   "execution_count": 22,
   "id": "ecef0b0e-31ec-4514-8ba3-417656b762c6",
   "metadata": {},
   "outputs": [
    {
     "name": "stdout",
     "output_type": "stream",
     "text": [
      "2024-08-16 04:09:45,311 INFO sqlalchemy.engine.Engine DELETE FROM users WHERE users.id = ?\n",
      "2024-08-16 04:09:45,313 INFO sqlalchemy.engine.Engine [cached since 72.38s ago] (1,)\n",
      "sql_str-----> DELETE FROM users WHERE users.id = :id_1\n",
      "2024-08-16 04:09:45,318 INFO sqlalchemy.engine.Engine SELECT users.id, users.name, users.email \n",
      "FROM users \n",
      "WHERE users.id = ?\n",
      "2024-08-16 04:09:45,319 INFO sqlalchemy.engine.Engine [cached since 72.5s ago] (1,)\n",
      "sql_str-----> SELECT users.id, users.name, users.email \n",
      "FROM users \n",
      "WHERE users.id = :id_1\n",
      "更新后的用户信息: None\n"
     ]
    }
   ],
   "source": [
    "from sqlalchemy import delete\n",
    "\n",
    "def delete_user(user_id: int):\n",
    "    filters = {\"id\":user_id}\n",
    "    result = conn.execute(delete(User).filter_by(**filters))\n",
    "    print(\"sql_str----->\", delete(User).filter_by(**filters))\n",
    "    return result\n",
    "\n",
    "delete_user = delete_user(user_id=new_user_id.inserted_primary_key[0])\n",
    "user = get_user(user_id=new_user_id.inserted_primary_key[0])\n",
    "print(\"更新后的用户信息: {}\".format(user))"
   ]
  }
 ],
 "metadata": {
  "kernelspec": {
   "display_name": "Python 3 (ipykernel)",
   "language": "python",
   "name": "python3"
  },
  "language_info": {
   "codemirror_mode": {
    "name": "ipython",
    "version": 3
   },
   "file_extension": ".py",
   "mimetype": "text/x-python",
   "name": "python",
   "nbconvert_exporter": "python",
   "pygments_lexer": "ipython3",
   "version": "3.9.12"
  }
 },
 "nbformat": 4,
 "nbformat_minor": 5
}
