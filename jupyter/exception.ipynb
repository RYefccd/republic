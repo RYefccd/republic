{
 "cells": [
  {
   "cell_type": "markdown",
   "id": "422b93c5-595d-4e29-899e-8e40f67526ce",
   "metadata": {},
   "source": [
    "# python while\n",
    "\n",
    "break 可以退出循环\n",
    "如果 break 在 try-except 语句块中, 那么 finally 语句还是会在执行(保持 try-except-finally 语义完整)."
   ]
  },
  {
   "cell_type": "code",
   "execution_count": 9,
   "id": "c21588e0-dbde-47bb-b32c-3581887c07a6",
   "metadata": {},
   "outputs": [
    {
     "name": "stdout",
     "output_type": "stream",
     "text": [
      "division by zero\n",
      "before break\n",
      "finally i: 1\n"
     ]
    }
   ],
   "source": [
    "i=0\n",
    "while i < 10:\n",
    "    try:\n",
    "        i = i + 1\n",
    "        i / 0\n",
    "    except Exception as e:\n",
    "        print(e)\n",
    "        print(\"before break\")\n",
    "        break\n",
    "        print(\"after break\")\n",
    "    finally:\n",
    "        print(\"finally i:\", i)\n",
    "else:\n",
    "    print(\"while loop else i:\", i)"
   ]
  },
  {
   "cell_type": "code",
   "execution_count": null,
   "id": "815db8c7-6c8a-4229-b662-94a8146dba60",
   "metadata": {},
   "outputs": [],
   "source": []
  }
 ],
 "metadata": {
  "kernelspec": {
   "display_name": "Python 3 (ipykernel)",
   "language": "python",
   "name": "python3"
  },
  "language_info": {
   "codemirror_mode": {
    "name": "ipython",
    "version": 3
   },
   "file_extension": ".py",
   "mimetype": "text/x-python",
   "name": "python",
   "nbconvert_exporter": "python",
   "pygments_lexer": "ipython3",
   "version": "3.9.12"
  }
 },
 "nbformat": 4,
 "nbformat_minor": 5
}
