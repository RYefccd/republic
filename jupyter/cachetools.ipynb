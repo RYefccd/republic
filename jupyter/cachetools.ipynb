{
 "cells": [
  {
   "cell_type": "code",
   "execution_count": 1,
   "id": "c537247f-270c-4a8f-b2b6-3eff481ef3f6",
   "metadata": {},
   "outputs": [
    {
     "name": "stdout",
     "output_type": "stream",
     "text": [
      "Requirement already satisfied: cachetools in /opt/conda/lib/python3.9/site-packages (5.4.0)\n"
     ]
    }
   ],
   "source": [
    "!pip install cachetools"
   ]
  },
  {
   "cell_type": "code",
   "execution_count": 2,
   "id": "a545c23a-d9c2-439d-b6a2-e2ab37c8f2fc",
   "metadata": {},
   "outputs": [],
   "source": [
    "from cachetools import cached, LRUCache"
   ]
  },
  {
   "cell_type": "code",
   "execution_count": 3,
   "id": "ef10ed6c-198e-4f42-8024-42f3bb389c3f",
   "metadata": {},
   "outputs": [],
   "source": [
    "lru_cache = LRUCache(maxsize=3)"
   ]
  },
  {
   "cell_type": "code",
   "execution_count": 4,
   "id": "65da2490-f953-4a1d-98b4-1d3e40d9c1b0",
   "metadata": {},
   "outputs": [],
   "source": [
    "@cached(cache=lru_cache)\n",
    "def cache_test(id):\n",
    "    print(\"当前缓存的id为：{}\".format(id))\n",
    "    return id"
   ]
  },
  {
   "cell_type": "code",
   "execution_count": 5,
   "id": "a39d6489-93cc-4518-8733-6a6bd8e170b3",
   "metadata": {},
   "outputs": [
    {
     "name": "stdout",
     "output_type": "stream",
     "text": [
      "当前缓存的id为：1\n",
      "1\n",
      "当前缓存的id为：2\n",
      "2\n",
      "当前缓存的id为：3\n",
      "3\n",
      "1\n",
      "2\n",
      "3\n",
      "当前缓存的id为：4\n",
      "4\n",
      "当前缓存的id为：1\n",
      "1\n"
     ]
    }
   ],
   "source": [
    "# 设置lrucache存储最大值为3\n",
    "# 第一次传入1、2、3时，通过lrucache进行缓存\n",
    "# 第二次传入1、2、3时，会直接返回缓存内容\n",
    "# 传入4时，会将缓存中最近最少使用的id为1的缓存删除\n",
    "# 再次传入1时，会重新进行缓存\n",
    "print(cache_test(1))\n",
    "print(cache_test(2))\n",
    "print(cache_test(3))\n",
    "print(cache_test(1))\n",
    "print(cache_test(2))\n",
    "print(cache_test(3))\n",
    "print(cache_test(4))\n",
    "print(cache_test(1))"
   ]
  },
  {
   "cell_type": "code",
   "execution_count": 6,
   "id": "f4ca4183-6deb-4bc7-9b98-9e8dbf456075",
   "metadata": {},
   "outputs": [
    {
     "data": {
      "text/plain": [
       "1"
      ]
     },
     "execution_count": 6,
     "metadata": {},
     "output_type": "execute_result"
    }
   ],
   "source": [
    "# 通过传入的参数获取对应的缓存\n",
    "cache_test.cache.__getitem__(cache_test.cache_key(1))"
   ]
  },
  {
   "cell_type": "code",
   "execution_count": 7,
   "id": "0f75df16-0920-4d78-b54a-5c5f63d48a95",
   "metadata": {},
   "outputs": [
    {
     "name": "stdout",
     "output_type": "stream",
     "text": [
      "LRUCache({(3,): 3, (4,): 4, (1,): 1}, maxsize=3, currsize=3)\n"
     ]
    }
   ],
   "source": [
    "print(lru_cache)"
   ]
  },
  {
   "cell_type": "code",
   "execution_count": 8,
   "id": "65113c6e-6a9d-4e26-9d9c-931b3f2e4c39",
   "metadata": {},
   "outputs": [],
   "source": [
    "# 通过传入的参数修改对应的缓存\n",
    "cache_test.cache.__setitem__(cache_test.cache_key(1), 11)"
   ]
  },
  {
   "cell_type": "code",
   "execution_count": 9,
   "id": "719f45c9-aa5d-447b-931f-82156eb95541",
   "metadata": {},
   "outputs": [
    {
     "name": "stdout",
     "output_type": "stream",
     "text": [
      "11\n"
     ]
    }
   ],
   "source": [
    "print(cache_test(1))"
   ]
  },
  {
   "cell_type": "code",
   "execution_count": 10,
   "id": "955bd0e2-4e2e-4035-9b84-4b5843645e99",
   "metadata": {},
   "outputs": [
    {
     "name": "stdout",
     "output_type": "stream",
     "text": [
      "LRUCache({(3,): 3, (4,): 4, (1,): 11}, maxsize=3, currsize=3)\n"
     ]
    }
   ],
   "source": [
    "print(lru_cache)"
   ]
  },
  {
   "cell_type": "code",
   "execution_count": 11,
   "id": "5579f9c9-3342-493c-a083-c8e4d177706a",
   "metadata": {},
   "outputs": [],
   "source": [
    "# 通过传入的参数删除对应的缓存\n",
    "cache_test.cache.__delitem__(cache_test.cache_key(1))"
   ]
  },
  {
   "cell_type": "code",
   "execution_count": 12,
   "id": "c66848fc-dadf-40f4-ba68-59340d08e410",
   "metadata": {},
   "outputs": [
    {
     "name": "stdout",
     "output_type": "stream",
     "text": [
      "LRUCache({(3,): 3, (4,): 4}, maxsize=3, currsize=2)\n"
     ]
    }
   ],
   "source": [
    "print(lru_cache)"
   ]
  }
 ],
 "metadata": {
  "kernelspec": {
   "display_name": "Python 3 (ipykernel)",
   "language": "python",
   "name": "python3"
  },
  "language_info": {
   "codemirror_mode": {
    "name": "ipython",
    "version": 3
   },
   "file_extension": ".py",
   "mimetype": "text/x-python",
   "name": "python",
   "nbconvert_exporter": "python",
   "pygments_lexer": "ipython3",
   "version": "3.9.12"
  }
 },
 "nbformat": 4,
 "nbformat_minor": 5
}
