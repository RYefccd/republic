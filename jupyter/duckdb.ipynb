{
 "cells": [
  {
   "cell_type": "code",
   "execution_count": 1,
   "id": "af6c63c5-829b-4b8a-9c72-b37060fca940",
   "metadata": {
    "tags": []
   },
   "outputs": [
    {
     "name": "stdout",
     "output_type": "stream",
     "text": [
      "Looking in indexes: https://pypi.tuna.tsinghua.edu.cn/simple/\n",
      "Requirement already satisfied: duckdb in /opt/conda/lib/python3.9/site-packages (1.0.0)\n"
     ]
    }
   ],
   "source": [
    "!pip install -i https://pypi.tuna.tsinghua.edu.cn/simple/ duckdb"
   ]
  },
  {
   "cell_type": "code",
   "execution_count": 2,
   "id": "61e92b15-f0cd-40f6-af39-6e80fb0234a7",
   "metadata": {},
   "outputs": [],
   "source": [
    "import duckdb"
   ]
  },
  {
   "cell_type": "code",
   "execution_count": 3,
   "id": "fe0b7a77-b959-4f7c-a95a-70535910f348",
   "metadata": {},
   "outputs": [],
   "source": [
    "duckdb.sql(\"INSTALL httpfs\")\n",
    "duckdb.sql(\"LOAD httpfs\")"
   ]
  },
  {
   "cell_type": "markdown",
   "id": "50939537-2eda-4ca1-aa05-452d3e44d634",
   "metadata": {},
   "source": [
    "设置ali oss 的连接信息  \n",
    "以 s3 风格协议兼容 ali oss  \n",
    "duckdb.sql(\"SET s3_region='oss-cn-shanghai'\")  \n",
    "duckdb.sql(\"SET s3_url_style='vhost'\")  \n",
    "duckdb.sql(\"SET s3_endpoint='oss-cn-shanghai.aliyuncs.com'\")  \n",
    "duckdb.sql(\"SET s3_access_key_id=''\")  \n",
    "duckdb.sql(\"SET s3_secret_access_key=''\")  "
   ]
  },
  {
   "cell_type": "code",
   "execution_count": 4,
   "id": "4aee9498-6d79-46c1-9be6-e62a4c675986",
   "metadata": {},
   "outputs": [
    {
     "data": {
      "application/vnd.jupyter.widget-view+json": {
       "model_id": "6c9dc63375d64759aad70d0e429d506e",
       "version_major": 2,
       "version_minor": 0
      },
      "text/plain": [
       "FloatProgress(value=0.0, layout=Layout(width='auto'), style=ProgressStyle(bar_color='black'))"
      ]
     },
     "metadata": {},
     "output_type": "display_data"
    },
    {
     "data": {
      "text/plain": [
       "┌─────────────────┬─────────┬───────┐\n",
       "│       ip        │ hit_cnt │ lg10  │\n",
       "│     varchar     │  int64  │ int64 │\n",
       "├─────────────────┼─────────┼───────┤\n",
       "│ 180.102.140.87  │  451231 │     1 │\n",
       "│ 116.63.33.164   │  250226 │     1 │\n",
       "│ 125.70.51.192   │   55797 │     1 │\n",
       "│ 139.199.5.7     │   48011 │     1 │\n",
       "│ 106.52.33.142   │   47951 │     1 │\n",
       "│ 58.220.27.168   │   45046 │     1 │\n",
       "│ 171.105.245.225 │   42976 │     1 │\n",
       "│ 58.220.27.193   │   39152 │     1 │\n",
       "│ 8.140.242.47    │   37362 │     1 │\n",
       "│ 47.93.55.25     │   35801 │     1 │\n",
       "│      ·          │      ·  │     · │\n",
       "│      ·          │      ·  │     · │\n",
       "│      ·          │      ·  │     · │\n",
       "│ 49.79.151.228   │     944 │     1 │\n",
       "│ 180.103.19.126  │     944 │     1 │\n",
       "│ 106.122.201.181 │     944 │     1 │\n",
       "│ 58.219.85.59    │     944 │     1 │\n",
       "│ 115.207.15.160  │     944 │     1 │\n",
       "│ 49.68.132.18    │     944 │     1 │\n",
       "│ 183.141.249.140 │     944 │     1 │\n",
       "│ 114.229.32.122  │     944 │     1 │\n",
       "│ 221.225.212.72  │     944 │     1 │\n",
       "│ 42.56.239.220   │     944 │     1 │\n",
       "├─────────────────┴─────────┴───────┤\n",
       "│   ? rows (>9999 rows, 20 shown)   │\n",
       "└───────────────────────────────────┘"
      ]
     },
     "execution_count": 4,
     "metadata": {},
     "output_type": "execute_result"
    }
   ],
   "source": [
    "duckdb.sql(\"create table ct_ip as select * from read_json_auto('s3://zgrmws/gt_ip/gt-2024-08-08-ip_black.json.gz')\")\n",
    "duckdb.sql(\"select * from ct_ip\")"
   ]
  },
  {
   "cell_type": "code",
   "execution_count": null,
   "id": "1941a5a6-9f35-49b7-9e64-72f131f2a2f8",
   "metadata": {},
   "outputs": [],
   "source": []
  }
 ],
 "metadata": {
  "kernelspec": {
   "display_name": "Python 3 (ipykernel)",
   "language": "python",
   "name": "python3"
  },
  "language_info": {
   "codemirror_mode": {
    "name": "ipython",
    "version": 3
   },
   "file_extension": ".py",
   "mimetype": "text/x-python",
   "name": "python",
   "nbconvert_exporter": "python",
   "pygments_lexer": "ipython3",
   "version": "3.9.12"
  }
 },
 "nbformat": 4,
 "nbformat_minor": 5
}
