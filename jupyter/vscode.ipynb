{
 "cells": [
  {
   "cell_type": "markdown",
   "id": "5fab8c89-7a6c-4034-b94a-e4964de6e6f7",
   "metadata": {},
   "source": [
    "# vscdoe"
   ]
  },
  {
   "cell_type": "markdown",
   "id": "79d2cd37-16b7-4c22-aa88-a00e0bf7af9a",
   "metadata": {},
   "source": [
    "## jupyter\n",
    "\n",
    "https://github.com/microsoft/vscode-jupyter/wiki/Jupyter-Kernels-and-the-Jupyter-Extension#python-extension-and-ipykernel"
   ]
  },
  {
   "cell_type": "code",
   "execution_count": null,
   "id": "89f97921-65f9-4118-9398-7757e2627ca4",
   "metadata": {},
   "outputs": [],
   "source": []
  }
 ],
 "metadata": {
  "kernelspec": {
   "display_name": "Python 3 (ipykernel)",
   "language": "python",
   "name": "python3"
  },
  "language_info": {
   "codemirror_mode": {
    "name": "ipython",
    "version": 3
   },
   "file_extension": ".py",
   "mimetype": "text/x-python",
   "name": "python",
   "nbconvert_exporter": "python",
   "pygments_lexer": "ipython3",
   "version": "3.9.12"
  }
 },
 "nbformat": 4,
 "nbformat_minor": 5
}
