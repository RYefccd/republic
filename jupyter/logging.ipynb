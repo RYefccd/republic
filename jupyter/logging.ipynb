{
 "cells": [
  {
   "cell_type": "markdown",
   "id": "d83cab27-b57e-4425-b5a7-a9e0f10d3797",
   "metadata": {},
   "source": [
    "# logging\n",
    "\n",
    "实际应用开发中最重要的模块就是日志。了解日志模块的特性有利于整体程序的 debug."
   ]
  },
  {
   "cell_type": "code",
   "execution_count": 5,
   "id": "c86094a4-fa8c-4ab1-88e9-bc87e56f4f35",
   "metadata": {},
   "outputs": [],
   "source": [
    "import logging"
   ]
  },
  {
   "cell_type": "markdown",
   "id": "7375a114-9a18-42de-accb-10633d2cba24",
   "metadata": {},
   "source": [
    "## Logger"
   ]
  },
  {
   "cell_type": "code",
   "execution_count": 4,
   "id": "8815ceff-15df-49f9-a39e-b2077f7c030e",
   "metadata": {},
   "outputs": [
    {
     "data": {
      "text/plain": [
       "<Logger __main__ (WARNING)>"
      ]
     },
     "execution_count": 4,
     "metadata": {},
     "output_type": "execute_result"
    }
   ],
   "source": [
    "import logging\n",
    "logger = logging.getLogger(__name__)\n",
    "logger"
   ]
  },
  {
   "cell_type": "markdown",
   "id": "67638a88-92c7-4812-8e9a-d57f3871eea9",
   "metadata": {},
   "source": [
    "## Handler"
   ]
  },
  {
   "cell_type": "code",
   "execution_count": 2,
   "id": "8b0610a2-7064-43e8-83bf-10d9ee240ac0",
   "metadata": {},
   "outputs": [],
   "source": [
    "from logging import StreamHandler,FileHandler\n",
    "from logging.handlers import RotatingFileHandler,TimedRotatingFileHandler"
   ]
  },
  {
   "cell_type": "markdown",
   "id": "875e2a30-c674-4358-b47d-7428aa96cf68",
   "metadata": {},
   "source": [
    "## Formatter"
   ]
  },
  {
   "cell_type": "code",
   "execution_count": 1,
   "id": "46494508-d99c-4393-9edb-c355b16e6214",
   "metadata": {},
   "outputs": [],
   "source": [
    "from logging import Formatter"
   ]
  },
  {
   "cell_type": "markdown",
   "id": "1bf08d92-4cbc-4c37-8b7e-ce43728ebb07",
   "metadata": {},
   "source": [
    "## Filter"
   ]
  },
  {
   "cell_type": "code",
   "execution_count": 13,
   "id": "b1a118e2-d8ce-42cf-a063-99ee4de5d43f",
   "metadata": {},
   "outputs": [],
   "source": [
    "from logging import Filter"
   ]
  },
  {
   "cell_type": "code",
   "execution_count": 14,
   "id": "3c8bec87-7bbd-4523-8f67-819144631626",
   "metadata": {},
   "outputs": [
    {
     "data": {
      "text/plain": [
       "\u001b[0;31mInit signature:\u001b[0m \u001b[0mFilter\u001b[0m\u001b[0;34m(\u001b[0m\u001b[0mname\u001b[0m\u001b[0;34m=\u001b[0m\u001b[0;34m''\u001b[0m\u001b[0;34m)\u001b[0m\u001b[0;34m\u001b[0m\u001b[0;34m\u001b[0m\u001b[0m\n",
       "\u001b[0;31mDocstring:\u001b[0m     \n",
       "Filter instances are used to perform arbitrary filtering of LogRecords.\n",
       "\n",
       "Loggers and Handlers can optionally use Filter instances to filter\n",
       "records as desired. The base filter class only allows events which are\n",
       "below a certain point in the logger hierarchy. For example, a filter\n",
       "initialized with \"A.B\" will allow events logged by loggers \"A.B\",\n",
       "\"A.B.C\", \"A.B.C.D\", \"A.B.D\" etc. but not \"A.BB\", \"B.A.B\" etc. If\n",
       "initialized with the empty string, all events are passed.\n",
       "\u001b[0;31mInit docstring:\u001b[0m\n",
       "Initialize a filter.\n",
       "\n",
       "Initialize with the name of the logger which, together with its\n",
       "children, will have its events allowed through the filter. If no\n",
       "name is specified, allow every event.\n",
       "\u001b[0;31mFile:\u001b[0m           /opt/conda/lib/python3.9/logging/__init__.py\n",
       "\u001b[0;31mType:\u001b[0m           type\n",
       "\u001b[0;31mSubclasses:\u001b[0m     \n"
      ]
     },
     "metadata": {},
     "output_type": "display_data"
    }
   ],
   "source": [
    "Filter?"
   ]
  }
 ],
 "metadata": {
  "kernelspec": {
   "display_name": "Python 3 (ipykernel)",
   "language": "python",
   "name": "python3"
  },
  "language_info": {
   "codemirror_mode": {
    "name": "ipython",
    "version": 3
   },
   "file_extension": ".py",
   "mimetype": "text/x-python",
   "name": "python",
   "nbconvert_exporter": "python",
   "pygments_lexer": "ipython3",
   "version": "3.9.12"
  }
 },
 "nbformat": 4,
 "nbformat_minor": 5
}
