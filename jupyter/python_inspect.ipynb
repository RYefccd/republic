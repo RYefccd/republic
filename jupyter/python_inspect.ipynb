{
 "cells": [
  {
   "cell_type": "code",
   "execution_count": 15,
   "id": "affae22a-0af2-4038-8b84-23c6f6d61a09",
   "metadata": {
    "collapsed": true,
    "jupyter": {
     "outputs_hidden": true
    },
    "tags": []
   },
   "outputs": [
    {
     "name": "stdout",
     "output_type": "stream",
     "text": [
      "Package                       Version\n",
      "----------------------------- -----------\n",
      "alembic                       1.7.7\n",
      "altair                        4.2.0\n",
      "anyio                         3.5.0\n",
      "argon2-cffi                   21.3.0\n",
      "argon2-cffi-bindings          21.2.0\n",
      "asttokens                     2.0.5\n",
      "async-generator               1.10\n",
      "attrs                         21.4.0\n",
      "Babel                         2.10.1\n",
      "backcall                      0.2.0\n",
      "backports.functools-lru-cache 1.6.4\n",
      "beautifulsoup4                4.11.1\n",
      "bleach                        5.0.0\n",
      "blinker                       1.4\n",
      "bokeh                         2.4.2\n",
      "Bottleneck                    1.3.4\n",
      "brotlipy                      0.7.0\n",
      "cached-property               1.5.2\n",
      "certifi                       2021.10.8\n",
      "certipy                       0.1.3\n",
      "cffi                          1.15.0\n",
      "charset-normalizer            2.0.12\n",
      "click                         8.1.3\n",
      "cloudpickle                   2.0.0\n",
      "colorama                      0.4.4\n",
      "conda                         4.12.0\n",
      "conda-package-handling        1.8.1\n",
      "cryptography                  36.0.2\n",
      "cycler                        0.11.0\n",
      "Cython                        0.29.28\n",
      "cytoolz                       0.11.2\n",
      "dask                          2022.5.0\n",
      "debugpy                       1.6.0\n",
      "decorator                     5.1.1\n",
      "defusedxml                    0.7.1\n",
      "dill                          0.3.4\n",
      "distributed                   2022.5.0\n",
      "entrypoints                   0.4\n",
      "executing                     0.8.3\n",
      "fastjsonschema                2.15.3\n",
      "flit_core                     3.7.1\n",
      "fonttools                     4.33.3\n",
      "fsspec                        2022.3.0\n",
      "gmpy2                         2.1.2\n",
      "greenlet                      1.1.2\n",
      "h5py                          3.6.0\n",
      "HeapDict                      1.0.1\n",
      "idna                          3.3\n",
      "imagecodecs                   2022.2.22\n",
      "imageio                       2.19.1\n",
      "importlib-metadata            4.11.3\n",
      "importlib-resources           5.7.1\n",
      "ipykernel                     6.13.0\n",
      "ipympl                        0.9.1\n",
      "ipython                       8.3.0\n",
      "ipython-genutils              0.2.0\n",
      "ipywidgets                    7.7.0\n",
      "jedi                          0.18.1\n",
      "Jinja2                        3.1.2\n",
      "joblib                        1.1.0\n",
      "json5                         0.9.5\n",
      "jsonschema                    4.5.1\n",
      "jupyter-client                7.3.1\n",
      "jupyter-core                  4.9.2\n",
      "jupyter-server                1.17.0\n",
      "jupyter-telemetry             0.1.0\n",
      "jupyterhub                    2.3.0\n",
      "jupyterlab                    3.4.0\n",
      "jupyterlab-pygments           0.2.2\n",
      "jupyterlab-server             2.13.0\n",
      "jupyterlab-widgets            1.1.0\n",
      "kiwisolver                    1.4.2\n",
      "libmambapy                    0.23.1\n",
      "llvmlite                      0.38.0\n",
      "locket                        1.0.0\n",
      "lz4                           4.0.0\n",
      "Mako                          1.2.0\n",
      "mamba                         0.23.1\n",
      "MarkupSafe                    2.1.1\n",
      "matplotlib                    3.5.2\n",
      "matplotlib-inline             0.1.3\n",
      "mistune                       0.8.4\n",
      "mpmath                        1.2.1\n",
      "msgpack                       1.0.3\n",
      "munkres                       1.1.4\n",
      "nbclassic                     0.3.7\n",
      "nbclient                      0.6.3\n",
      "nbconvert                     6.5.0\n",
      "nbformat                      5.4.0\n",
      "nest-asyncio                  1.5.5\n",
      "networkx                      2.8\n",
      "notebook                      6.4.11\n",
      "notebook-shim                 0.1.0\n",
      "numba                         0.55.1\n",
      "numexpr                       2.8.0\n",
      "numpy                         1.21.6\n",
      "oauthlib                      3.2.0\n",
      "packaging                     21.3\n",
      "pamela                        1.0.0\n",
      "pandas                        1.4.2\n",
      "pandocfilters                 1.5.0\n",
      "parso                         0.8.3\n",
      "partd                         1.2.0\n",
      "patsy                         0.5.2\n",
      "pexpect                       4.8.0\n",
      "pickleshare                   0.7.5\n",
      "Pillow                        9.1.0\n",
      "pip                           22.1\n",
      "prometheus-client             0.14.1\n",
      "prompt-toolkit                3.0.29\n",
      "protobuf                      3.20.1\n",
      "psutil                        5.9.0\n",
      "ptyprocess                    0.7.0\n",
      "pure-eval                     0.2.2\n",
      "pycosat                       0.6.3\n",
      "pycparser                     2.21\n",
      "pycurl                        7.45.1\n",
      "Pygments                      2.12.0\n",
      "PyJWT                         2.3.0\n",
      "pyOpenSSL                     22.0.0\n",
      "pyparsing                     3.0.9\n",
      "pyrsistent                    0.18.1\n",
      "PySocks                       1.7.1\n",
      "python-dateutil               2.8.2\n",
      "python-json-logger            2.0.1\n",
      "pytz                          2022.1\n",
      "pytz-deprecation-shim         0.1.0.post0\n",
      "PyWavelets                    1.3.0\n",
      "PyYAML                        6.0\n",
      "pyzmq                         22.3.0\n",
      "requests                      2.27.1\n",
      "rpy2                          3.5.1\n",
      "ruamel.yaml                   0.17.21\n",
      "ruamel.yaml.clib              0.2.6\n",
      "ruamel-yaml-conda             0.15.80\n",
      "scikit-image                  0.19.2\n",
      "scikit-learn                  1.1.0\n",
      "scipy                         1.8.0\n",
      "seaborn                       0.11.2\n",
      "Send2Trash                    1.8.0\n",
      "setuptools                    62.2.0\n",
      "simplegeneric                 0.8.1\n",
      "six                           1.16.0\n",
      "sniffio                       1.2.0\n",
      "sortedcontainers              2.4.0\n",
      "soupsieve                     2.3.1\n",
      "SQLAlchemy                    1.4.36\n",
      "stack-data                    0.2.0\n",
      "statsmodels                   0.13.2\n",
      "sympy                         1.10.1\n",
      "tables                        3.7.0\n",
      "tblib                         1.7.0\n",
      "terminado                     0.13.3\n",
      "threadpoolctl                 3.1.0\n",
      "tifffile                      2022.5.4\n",
      "tinycss2                      1.1.1\n",
      "toolz                         0.11.2\n",
      "tornado                       6.1\n",
      "tqdm                          4.64.0\n",
      "traitlets                     5.2.0\n",
      "typing_extensions             4.2.0\n",
      "tzdata                        2022.1\n",
      "tzlocal                       4.2\n",
      "unicodedata2                  14.0.0\n",
      "urllib3                       1.26.9\n",
      "wcwidth                       0.2.5\n",
      "webencodings                  0.5.1\n",
      "websocket-client              1.3.2\n",
      "wheel                         0.37.1\n",
      "widgetsnbextension            3.6.0\n",
      "xlrd                          2.0.1\n",
      "zen-engine                    0.26.0\n",
      "zict                          2.2.0\n",
      "zipp                          3.8.0\n",
      "\u001b[33mWARNING: There was an error checking the latest version of pip.\u001b[0m\u001b[33m\n",
      "\u001b[0m"
     ]
    }
   ],
   "source": [
    "!pip list"
   ]
  },
  {
   "cell_type": "code",
   "execution_count": 21,
   "id": "b594bf4f-acb3-4303-b146-7fd4ab21c582",
   "metadata": {},
   "outputs": [
    {
     "name": "stdout",
     "output_type": "stream",
     "text": [
      "Looking in indexes: https://pypi.tuna.tsinghua.edu.cn/simple\n",
      "Requirement already satisfied: prettytable in /opt/conda/lib/python3.9/site-packages (3.10.2)\n",
      "Requirement already satisfied: wcwidth in /opt/conda/lib/python3.9/site-packages (from prettytable) (0.2.5)\n"
     ]
    }
   ],
   "source": [
    "!pip install prettytable -i https://pypi.tuna.tsinghua.edu.cn/simple"
   ]
  },
  {
   "cell_type": "code",
   "execution_count": 24,
   "id": "93342c90-35bc-4189-8c36-2f071d66bc75",
   "metadata": {},
   "outputs": [],
   "source": [
    "from IPython.display import display,HTML\n",
    "from prettytable import PrettyTable"
   ]
  },
  {
   "cell_type": "code",
   "execution_count": 138,
   "id": "547a0e19-68a5-427c-a75a-a242e5d8bad0",
   "metadata": {},
   "outputs": [
    {
     "name": "stderr",
     "output_type": "stream",
     "text": [
      "/tmp/ipykernel_1448/2654205375.py:36: DeprecationWarning: \"@coroutine\" decorator is deprecated since Python 3.8, use \"async def\" instead\n",
      "  def test9():\n"
     ]
    }
   ],
   "source": [
    "import inspect\n",
    "import asyncio\n",
    "\n",
    "\n",
    "async def test1():\n",
    "    return 1\n",
    "\n",
    "async def test2():\n",
    "    await asyncio.sleep(0)\n",
    "    return 2\n",
    "\n",
    "async def test3():\n",
    "    await asyncio.sleep(0)\n",
    "    yield 3\n",
    "\n",
    "def test4():\n",
    "    return 4\n",
    "\n",
    "def test5():\n",
    "    yield 5\n",
    "    \n",
    "def test6():\n",
    "    yield from asyncio.sleep(0)\n",
    "    return 6\n",
    "\n",
    "def test7():\n",
    "    yield range(5)\n",
    "    yield from range(5)\n",
    "    return 7\n",
    "\n",
    "def test8():\n",
    "    yield from asyncio.sleep(0)\n",
    "    return 8\n",
    "\n",
    "@asyncio.coroutine\n",
    "def test9():\n",
    "    yield from asyncio.sleep(0)\n",
    "    return 9\n"
   ]
  },
  {
   "cell_type": "code",
   "execution_count": 73,
   "id": "4b537af8-8a6e-41cc-9230-c810289648db",
   "metadata": {},
   "outputs": [
    {
     "name": "stderr",
     "output_type": "stream",
     "text": [
      "/tmp/ipykernel_1448/1190072905.py:4: RuntimeWarning: coroutine 'test2' was never awaited\n",
      "  a2 = test2()\n",
      "RuntimeWarning: Enable tracemalloc to get the object allocation traceback\n",
      "/tmp/ipykernel_1448/1190072905.py:9: RuntimeWarning: coroutine 'test1' was never awaited\n",
      "  [test1, type(test1), str(test1()), type(test1())],\n",
      "RuntimeWarning: Enable tracemalloc to get the object allocation traceback\n",
      "/tmp/ipykernel_1448/1190072905.py:10: RuntimeWarning: coroutine 'test2' was never awaited\n",
      "  [test2, type(test2), str(test2()), type(test2())],\n",
      "RuntimeWarning: Enable tracemalloc to get the object allocation traceback\n"
     ]
    }
   ],
   "source": [
    "table = PrettyTable()\n",
    "table.field_names = [\"func\", \"func_type\", \"func_call\", \"func_call_type\"]\n",
    "a1 = test1()\n",
    "a2 = test2()\n",
    "a3 = test3()\n",
    "a4 = test4()\n",
    "table.add_rows(\n",
    "    [\n",
    "        [test1, type(test1), str(test1()), type(test1())],\n",
    "        [test2, type(test2), str(test2()), type(test2())],\n",
    "        [test3, type(test3), str(test3()), type(test3())],\n",
    "        [test4, type(test4), str(test4()), type(test4())],\n",
    "        [test5, type(test5), str(test5()), type(test5())],\n",
    "        [test6, type(test6), str(test6()), type(test6())],\n",
    "        [test7, type(test7), str(test7()), type(test7())],\n",
    "\n",
    "    ]\n",
    ")\n"
   ]
  },
  {
   "cell_type": "code",
   "execution_count": 74,
   "id": "f0c44322-e7e0-4613-878a-8ea59e942f74",
   "metadata": {},
   "outputs": [
    {
     "data": {
      "text/plain": [
       "\"+------------------------------------+--------------------+--------------------------------------------------+---------------------------+\\n|                func                |     func_type      |                    func_call                     |       func_call_type      |\\n+------------------------------------+--------------------+--------------------------------------------------+---------------------------+\\n| <function test1 at 0x7fddeaa4ca60> | <class 'function'> |    <coroutine object test1 at 0x7fdde9b72740>    |    <class 'coroutine'>    |\\n| <function test2 at 0x7fddeaa4c8b0> | <class 'function'> |    <coroutine object test2 at 0x7fdde9b72740>    |    <class 'coroutine'>    |\\n| <function test3 at 0x7fde0ce6a310> | <class 'function'> | <async_generator object test3 at 0x7fdde9baadc0> | <class 'async_generator'> |\\n| <function test4 at 0x7fddeaa4c820> | <class 'function'> |                        4                         |       <class 'int'>       |\\n| <function test5 at 0x7fddeaa4caf0> | <class 'function'> |    <generator object test5 at 0x7fdde9b744a0>    |    <class 'generator'>    |\\n| <function test6 at 0x7fddeaa4c430> | <class 'function'> |    <generator object test6 at 0x7fdde9b744a0>    |    <class 'generator'>    |\\n| <function test7 at 0x7fddeaa4c790> | <class 'function'> |    <generator object test7 at 0x7fdde9b744a0>    |    <class 'generator'>    |\\n+------------------------------------+--------------------+--------------------------------------------------+---------------------------+\""
      ]
     },
     "execution_count": 74,
     "metadata": {},
     "output_type": "execute_result"
    }
   ],
   "source": [
    "table.get_formatted_string()"
   ]
  },
  {
   "cell_type": "code",
   "execution_count": 75,
   "id": "20a15a38-e225-4016-b9e1-f2206e2adb8b",
   "metadata": {},
   "outputs": [
    {
     "data": {
      "text/html": [
       "<table>\n",
       "    <thead>\n",
       "        <tr>\n",
       "            <th>func</th>\n",
       "            <th>func_type</th>\n",
       "            <th>func_call</th>\n",
       "            <th>func_call_type</th>\n",
       "        </tr>\n",
       "    </thead>\n",
       "    <tbody>\n",
       "        <tr>\n",
       "            <td>&lt;function test1 at 0x7fddeaa4ca60&gt;</td>\n",
       "            <td>&lt;class &#x27;function&#x27;&gt;</td>\n",
       "            <td>&lt;coroutine object test1 at 0x7fdde9b72740&gt;</td>\n",
       "            <td>&lt;class &#x27;coroutine&#x27;&gt;</td>\n",
       "        </tr>\n",
       "        <tr>\n",
       "            <td>&lt;function test2 at 0x7fddeaa4c8b0&gt;</td>\n",
       "            <td>&lt;class &#x27;function&#x27;&gt;</td>\n",
       "            <td>&lt;coroutine object test2 at 0x7fdde9b72740&gt;</td>\n",
       "            <td>&lt;class &#x27;coroutine&#x27;&gt;</td>\n",
       "        </tr>\n",
       "        <tr>\n",
       "            <td>&lt;function test3 at 0x7fde0ce6a310&gt;</td>\n",
       "            <td>&lt;class &#x27;function&#x27;&gt;</td>\n",
       "            <td>&lt;async_generator object test3 at 0x7fdde9baadc0&gt;</td>\n",
       "            <td>&lt;class &#x27;async_generator&#x27;&gt;</td>\n",
       "        </tr>\n",
       "        <tr>\n",
       "            <td>&lt;function test4 at 0x7fddeaa4c820&gt;</td>\n",
       "            <td>&lt;class &#x27;function&#x27;&gt;</td>\n",
       "            <td>4</td>\n",
       "            <td>&lt;class &#x27;int&#x27;&gt;</td>\n",
       "        </tr>\n",
       "        <tr>\n",
       "            <td>&lt;function test5 at 0x7fddeaa4caf0&gt;</td>\n",
       "            <td>&lt;class &#x27;function&#x27;&gt;</td>\n",
       "            <td>&lt;generator object test5 at 0x7fdde9b744a0&gt;</td>\n",
       "            <td>&lt;class &#x27;generator&#x27;&gt;</td>\n",
       "        </tr>\n",
       "        <tr>\n",
       "            <td>&lt;function test6 at 0x7fddeaa4c430&gt;</td>\n",
       "            <td>&lt;class &#x27;function&#x27;&gt;</td>\n",
       "            <td>&lt;generator object test6 at 0x7fdde9b744a0&gt;</td>\n",
       "            <td>&lt;class &#x27;generator&#x27;&gt;</td>\n",
       "        </tr>\n",
       "        <tr>\n",
       "            <td>&lt;function test7 at 0x7fddeaa4c790&gt;</td>\n",
       "            <td>&lt;class &#x27;function&#x27;&gt;</td>\n",
       "            <td>&lt;generator object test7 at 0x7fdde9b744a0&gt;</td>\n",
       "            <td>&lt;class &#x27;generator&#x27;&gt;</td>\n",
       "        </tr>\n",
       "    </tbody>\n",
       "</table>"
      ],
      "text/plain": [
       "<IPython.core.display.HTML object>"
      ]
     },
     "execution_count": 75,
     "metadata": {},
     "output_type": "execute_result"
    }
   ],
   "source": [
    "HTML(table.get_formatted_string(\"html\"))"
   ]
  },
  {
   "cell_type": "code",
   "execution_count": 50,
   "id": "b9029966-1333-4d2b-b332-33e5b4e0d11e",
   "metadata": {},
   "outputs": [
    {
     "data": {
      "text/html": [
       "<table>\n",
       "    <thead>\n",
       "        <tr>\n",
       "            <th>func</th>\n",
       "            <th>func_type</th>\n",
       "            <th>func_call</th>\n",
       "            <th>func_call_type</th>\n",
       "        </tr>\n",
       "    </thead>\n",
       "    <tbody>\n",
       "        <tr>\n",
       "            <td>&lt;function test1 at 0x7fddeaa4ca60&gt;</td>\n",
       "            <td>&lt;class &#x27;function&#x27;&gt;</td>\n",
       "            <td>&lt;coroutine object test1 at 0x7fdde9b9bec0&gt;</td>\n",
       "            <td>&lt;class &#x27;coroutine&#x27;&gt;</td>\n",
       "        </tr>\n",
       "        <tr>\n",
       "            <td>&lt;function test2 at 0x7fddeaa4c8b0&gt;</td>\n",
       "            <td>&lt;class &#x27;function&#x27;&gt;</td>\n",
       "            <td>&lt;coroutine object test2 at 0x7fdde9b9bec0&gt;</td>\n",
       "            <td>&lt;class &#x27;coroutine&#x27;&gt;</td>\n",
       "        </tr>\n",
       "        <tr>\n",
       "            <td>&lt;function test3 at 0x7fde0ce6a310&gt;</td>\n",
       "            <td>&lt;class &#x27;function&#x27;&gt;</td>\n",
       "            <td>&lt;async_generator object test3 at 0x7fdde9baa280&gt;</td>\n",
       "            <td>&lt;class &#x27;async_generator&#x27;&gt;</td>\n",
       "        </tr>\n",
       "        <tr>\n",
       "            <td>&lt;function test4 at 0x7fddeaa4c820&gt;</td>\n",
       "            <td>&lt;class &#x27;function&#x27;&gt;</td>\n",
       "            <td>4</td>\n",
       "            <td>&lt;class &#x27;int&#x27;&gt;</td>\n",
       "        </tr>\n",
       "        <tr>\n",
       "            <td>&lt;function test5 at 0x7fddeaa4caf0&gt;</td>\n",
       "            <td>&lt;class &#x27;function&#x27;&gt;</td>\n",
       "            <td>&lt;generator object test5 at 0x7fdde9ba72e0&gt;</td>\n",
       "            <td>&lt;class &#x27;generator&#x27;&gt;</td>\n",
       "        </tr>\n",
       "        <tr>\n",
       "            <td>&lt;function test6 at 0x7fddeaa4c430&gt;</td>\n",
       "            <td>&lt;class &#x27;function&#x27;&gt;</td>\n",
       "            <td>&lt;generator object test6 at 0x7fdde9ba72e0&gt;</td>\n",
       "            <td>&lt;class &#x27;generator&#x27;&gt;</td>\n",
       "        </tr>\n",
       "        <tr>\n",
       "            <td>&lt;function test7 at 0x7fddeaa4c790&gt;</td>\n",
       "            <td>&lt;class &#x27;function&#x27;&gt;</td>\n",
       "            <td>&lt;generator object test7 at 0x7fdde9ba72e0&gt;</td>\n",
       "            <td>&lt;class &#x27;generator&#x27;&gt;</td>\n",
       "        </tr>\n",
       "    </tbody>\n",
       "</table>"
      ],
      "text/plain": [
       "<IPython.core.display.HTML object>"
      ]
     },
     "metadata": {},
     "output_type": "display_data"
    }
   ],
   "source": [
    "display(HTML(table.get_formatted_string(\"html\")))"
   ]
  },
  {
   "cell_type": "code",
   "execution_count": 110,
   "id": "21c68dd9-1631-4b41-a04c-782da4ab07be",
   "metadata": {},
   "outputs": [],
   "source": [
    "from inspect import getsource\n",
    "from inspect import isfunction,iscoroutinefunction,isgeneratorfunction,isasyncgenfunction,isawaitable,iscoroutine\n",
    "func_name = lambda x: x.__name__\n",
    "func_name.__name__ = \"func_name\"\n",
    "funcs=[getsource,func_name, isfunction,iscoroutinefunction,isgeneratorfunction,isasyncgenfunction,isawaitable,iscoroutine]"
   ]
  },
  {
   "cell_type": "code",
   "execution_count": 111,
   "id": "d6d7f79a-2c9c-4cbd-9694-88d28d7f9c4e",
   "metadata": {},
   "outputs": [
    {
     "data": {
      "text/plain": [
       "['getsource',\n",
       " 'func_name',\n",
       " 'isfunction',\n",
       " 'iscoroutinefunction',\n",
       " 'isgeneratorfunction',\n",
       " 'isasyncgenfunction',\n",
       " 'isawaitable',\n",
       " 'iscoroutine']"
      ]
     },
     "execution_count": 111,
     "metadata": {},
     "output_type": "execute_result"
    }
   ],
   "source": [
    "[i.__name__ for i in funcs]"
   ]
  },
  {
   "cell_type": "code",
   "execution_count": 139,
   "id": "c642f11b-8236-40c7-ab6b-8eb6c7c8fbbb",
   "metadata": {},
   "outputs": [
    {
     "name": "stderr",
     "output_type": "stream",
     "text": [
      "/tmp/ipykernel_1448/2739780561.py:18: RuntimeWarning: coroutine 'test1' was never awaited\n",
      "  a1 = test1()\n",
      "RuntimeWarning: Enable tracemalloc to get the object allocation traceback\n",
      "/tmp/ipykernel_1448/2739780561.py:19: RuntimeWarning: coroutine 'test2' was never awaited\n",
      "  a2 = test2()\n",
      "RuntimeWarning: Enable tracemalloc to get the object allocation traceback\n"
     ]
    }
   ],
   "source": [
    "table = PrettyTable()\n",
    "table.field_names = [i.__name__ for i in funcs]\n",
    "table.add_rows(\n",
    "    [\n",
    "        [f(test1) for f in funcs],\n",
    "        [f(test2) for f in funcs],\n",
    "        [f(test3) for f in funcs],\n",
    "        [f(test4) for f in funcs],\n",
    "        [f(test5) for f in funcs],\n",
    "        [f(test6) for f in funcs],\n",
    "        [f(test7) for f in funcs],\n",
    "        [f(test8) for f in funcs],\n",
    "        [f(test9) for f in funcs],\n",
    "    ]\n",
    ")\n",
    "# table.align = \"c\"\n",
    "# table.padding_width = 100\n"
   ]
  },
  {
   "cell_type": "code",
   "execution_count": 139,
   "id": "64754f2c-c983-4f54-97d4-93e8d9ec6f36",
   "metadata": {},
   "outputs": [
    {
     "name": "stderr",
     "output_type": "stream",
     "text": [
      "/tmp/ipykernel_1448/2739780561.py:18: RuntimeWarning: coroutine 'test1' was never awaited\n",
      "  a1 = test1()\n",
      "RuntimeWarning: Enable tracemalloc to get the object allocation traceback\n",
      "/tmp/ipykernel_1448/2739780561.py:19: RuntimeWarning: coroutine 'test2' was never awaited\n",
      "  a2 = test2()\n",
      "RuntimeWarning: Enable tracemalloc to get the object allocation traceback\n"
     ]
    }
   ],
   "source": [
    "table = PrettyTable()\n",
    "table.field_names = [i.__name__ for i in funcs]\n",
    "table.add_rows(\n",
    "    [\n",
    "        [f(test1) for f in funcs],\n",
    "        [f(test2) for f in funcs],\n",
    "        [f(test3) for f in funcs],\n",
    "        [f(test4) for f in funcs],\n",
    "        [f(test5) for f in funcs],\n",
    "        [f(test6) for f in funcs],\n",
    "        [f(test7) for f in funcs],\n",
    "        [f(test8) for f in funcs],\n",
    "        [f(test9) for f in funcs],\n",
    "    ]\n",
    ")\n",
    "# table.align = \"c\"\n",
    "# table.padding_width = 100"
   ]
  },
  {
   "cell_type": "code",
   "execution_count": 128,
   "id": "c49b75b3-7b49-4fcd-8380-1e85e15e5250",
   "metadata": {},
   "outputs": [
    {
     "data": {
      "text/plain": [
       "'<table>\\n    <thead>\\n        <tr>\\n            <th>getsource</th>\\n            <th>func_name</th>\\n            <th>isfunction</th>\\n            <th>iscoroutinefunction</th>\\n            <th>isgeneratorfunction</th>\\n            <th>isasyncgenfunction</th>\\n            <th>isawaitable</th>\\n            <th>iscoroutine</th>\\n        </tr>\\n    </thead>\\n    <tbody>\\n        <tr>\\n            <td>async def test1():<br>    return 1<br></td>\\n            <td>test1</td>\\n            <td>True</td>\\n            <td>True</td>\\n            <td>False</td>\\n            <td>False</td>\\n            <td>False</td>\\n            <td>False</td>\\n        </tr>\\n        <tr>\\n            <td>async def test2():<br>    await asyncio.sleep(0)<br>    return 2<br></td>\\n            <td>test2</td>\\n            <td>True</td>\\n            <td>True</td>\\n            <td>False</td>\\n            <td>False</td>\\n            <td>False</td>\\n            <td>False</td>\\n        </tr>\\n        <tr>\\n            <td>async def test3():<br>    await asyncio.sleep(0)<br>    yield 3<br></td>\\n            <td>test3</td>\\n            <td>True</td>\\n            <td>False</td>\\n            <td>False</td>\\n            <td>True</td>\\n            <td>False</td>\\n            <td>False</td>\\n        </tr>\\n        <tr>\\n            <td>def test4():<br>    return 4<br></td>\\n            <td>test4</td>\\n            <td>True</td>\\n            <td>False</td>\\n            <td>False</td>\\n            <td>False</td>\\n            <td>False</td>\\n            <td>False</td>\\n        </tr>\\n        <tr>\\n            <td>def test5():<br>    yield 5<br></td>\\n            <td>test5</td>\\n            <td>True</td>\\n            <td>False</td>\\n            <td>True</td>\\n            <td>False</td>\\n            <td>False</td>\\n            <td>False</td>\\n        </tr>\\n        <tr>\\n            <td>def test6():<br>    yield from asyncio.sleep(0)<br>    return 6<br></td>\\n            <td>test6</td>\\n            <td>True</td>\\n            <td>False</td>\\n            <td>True</td>\\n            <td>False</td>\\n            <td>False</td>\\n            <td>False</td>\\n        </tr>\\n        <tr>\\n            <td>def test7():<br>    yield range(5)<br>    yield from range(5)<br>    return 7<br></td>\\n            <td>test7</td>\\n            <td>True</td>\\n            <td>False</td>\\n            <td>True</td>\\n            <td>False</td>\\n            <td>False</td>\\n            <td>False</td>\\n        </tr>\\n    </tbody>\\n</table>'"
      ]
     },
     "execution_count": 128,
     "metadata": {},
     "output_type": "execute_result"
    }
   ],
   "source": [
    "table.get_formatted_string(\"html\")"
   ]
  },
  {
   "cell_type": "code",
   "execution_count": 140,
   "id": "3f84dd3d-2521-4212-bb5d-1979f7505386",
   "metadata": {},
   "outputs": [
    {
     "data": {
      "text/html": [
       "<table>\n",
       "    <thead>\n",
       "        <tr>\n",
       "            <th>getsource</th>\n",
       "            <th>func_name</th>\n",
       "            <th>isfunction</th>\n",
       "            <th>iscoroutinefunction</th>\n",
       "            <th>isgeneratorfunction</th>\n",
       "            <th>isasyncgenfunction</th>\n",
       "            <th>isawaitable</th>\n",
       "            <th>iscoroutine</th>\n",
       "        </tr>\n",
       "    </thead>\n",
       "    <tbody>\n",
       "        <tr>\n",
       "            <td>async def test1():<br>    return 1<br></td>\n",
       "            <td>test1</td>\n",
       "            <td>True</td>\n",
       "            <td>True</td>\n",
       "            <td>False</td>\n",
       "            <td>False</td>\n",
       "            <td>False</td>\n",
       "            <td>False</td>\n",
       "        </tr>\n",
       "        <tr>\n",
       "            <td>async def test2():<br>    await asyncio.sleep(0)<br>    return 2<br></td>\n",
       "            <td>test2</td>\n",
       "            <td>True</td>\n",
       "            <td>True</td>\n",
       "            <td>False</td>\n",
       "            <td>False</td>\n",
       "            <td>False</td>\n",
       "            <td>False</td>\n",
       "        </tr>\n",
       "        <tr>\n",
       "            <td>async def test3():<br>    await asyncio.sleep(0)<br>    yield 3<br></td>\n",
       "            <td>test3</td>\n",
       "            <td>True</td>\n",
       "            <td>False</td>\n",
       "            <td>False</td>\n",
       "            <td>True</td>\n",
       "            <td>False</td>\n",
       "            <td>False</td>\n",
       "        </tr>\n",
       "        <tr>\n",
       "            <td>def test4():<br>    return 4<br></td>\n",
       "            <td>test4</td>\n",
       "            <td>True</td>\n",
       "            <td>False</td>\n",
       "            <td>False</td>\n",
       "            <td>False</td>\n",
       "            <td>False</td>\n",
       "            <td>False</td>\n",
       "        </tr>\n",
       "        <tr>\n",
       "            <td>def test5():<br>    yield 5<br></td>\n",
       "            <td>test5</td>\n",
       "            <td>True</td>\n",
       "            <td>False</td>\n",
       "            <td>True</td>\n",
       "            <td>False</td>\n",
       "            <td>False</td>\n",
       "            <td>False</td>\n",
       "        </tr>\n",
       "        <tr>\n",
       "            <td>def test6():<br>    yield from asyncio.sleep(0)<br>    return 6<br></td>\n",
       "            <td>test6</td>\n",
       "            <td>True</td>\n",
       "            <td>False</td>\n",
       "            <td>True</td>\n",
       "            <td>False</td>\n",
       "            <td>False</td>\n",
       "            <td>False</td>\n",
       "        </tr>\n",
       "        <tr>\n",
       "            <td>def test7():<br>    yield range(5)<br>    yield from range(5)<br>    return 7<br></td>\n",
       "            <td>test7</td>\n",
       "            <td>True</td>\n",
       "            <td>False</td>\n",
       "            <td>True</td>\n",
       "            <td>False</td>\n",
       "            <td>False</td>\n",
       "            <td>False</td>\n",
       "        </tr>\n",
       "        <tr>\n",
       "            <td>def test8():<br>    yield from asyncio.sleep(0)<br>    return 8<br></td>\n",
       "            <td>test8</td>\n",
       "            <td>True</td>\n",
       "            <td>False</td>\n",
       "            <td>True</td>\n",
       "            <td>False</td>\n",
       "            <td>False</td>\n",
       "            <td>False</td>\n",
       "        </tr>\n",
       "        <tr>\n",
       "            <td>@asyncio.coroutine<br>def test9():<br>    yield from asyncio.sleep(0)<br>    return 9<br></td>\n",
       "            <td>test9</td>\n",
       "            <td>True</td>\n",
       "            <td>False</td>\n",
       "            <td>True</td>\n",
       "            <td>False</td>\n",
       "            <td>False</td>\n",
       "            <td>False</td>\n",
       "        </tr>\n",
       "    </tbody>\n",
       "</table>"
      ],
      "text/plain": [
       "<IPython.core.display.HTML object>"
      ]
     },
     "execution_count": 140,
     "metadata": {},
     "output_type": "execute_result"
    }
   ],
   "source": [
    "HTML(table.get_formatted_string(\"html\"))"
   ]
  },
  {
   "cell_type": "code",
   "execution_count": 164,
   "id": "ee0ada45-819a-4580-8555-fb8a127f91ad",
   "metadata": {},
   "outputs": [],
   "source": [
    "from inspect import getsource\n",
    "from inspect import isfunction,iscoroutinefunction,isgeneratorfunction,isasyncgenfunction,isawaitable,iscoroutine\n",
    "func_name = lambda x: x.__name__\n",
    "func_name.__name__ = \"func_name\"\n",
    "# def \n",
    "funcs=[repr, isfunction,iscoroutinefunction,isgeneratorfunction,isasyncgenfunction,isawaitable,iscoroutine]"
   ]
  },
  {
   "cell_type": "code",
   "execution_count": 174,
   "id": "730b0768-7a1e-4ca1-a17d-ee3a85b27b33",
   "metadata": {},
   "outputs": [],
   "source": [
    "a1 = test1()\n",
    "a2 = test2()\n",
    "a3 = test3()\n",
    "a4 = test4()\n",
    "a5 = test5()\n",
    "a6 = test6()\n",
    "a7 = test7()\n",
    "a8 = test8()\n",
    "a9 = test9()"
   ]
  },
  {
   "cell_type": "code",
   "execution_count": 166,
   "id": "85973ca0-a67b-4bf1-aef8-94451ee83d3a",
   "metadata": {},
   "outputs": [],
   "source": [
    "table = PrettyTable()\n",
    "table.field_names = [i.__name__ for i in funcs]\n",
    "table.add_rows(\n",
    "    [\n",
    "        [f(a1) for f in funcs],\n",
    "        [f(a2) for f in funcs],\n",
    "        [f(a3) for f in funcs],\n",
    "        [f(a4) for f in funcs],\n",
    "        [f(a5) for f in funcs],\n",
    "        [f(a6) for f in funcs],\n",
    "        [f(a7) for f in funcs],\n",
    "        [f(a8) for f in funcs],\n",
    "        [f(a9) for f in funcs],\n",
    "    ]\n",
    ")"
   ]
  },
  {
   "cell_type": "code",
   "execution_count": 167,
   "id": "56bcae90-fd8b-4209-98af-9a18da55216c",
   "metadata": {},
   "outputs": [
    {
     "data": {
      "text/html": [
       "<table>\n",
       "    <thead>\n",
       "        <tr>\n",
       "            <th>repr</th>\n",
       "            <th>isfunction</th>\n",
       "            <th>iscoroutinefunction</th>\n",
       "            <th>isgeneratorfunction</th>\n",
       "            <th>isasyncgenfunction</th>\n",
       "            <th>isawaitable</th>\n",
       "            <th>iscoroutine</th>\n",
       "        </tr>\n",
       "    </thead>\n",
       "    <tbody>\n",
       "        <tr>\n",
       "            <td>&lt;coroutine object test1 at 0x7fdde85e6740&gt;</td>\n",
       "            <td>False</td>\n",
       "            <td>False</td>\n",
       "            <td>False</td>\n",
       "            <td>False</td>\n",
       "            <td>True</td>\n",
       "            <td>True</td>\n",
       "        </tr>\n",
       "        <tr>\n",
       "            <td>&lt;coroutine object test2 at 0x7fdde85c00c0&gt;</td>\n",
       "            <td>False</td>\n",
       "            <td>False</td>\n",
       "            <td>False</td>\n",
       "            <td>False</td>\n",
       "            <td>True</td>\n",
       "            <td>True</td>\n",
       "        </tr>\n",
       "        <tr>\n",
       "            <td>&lt;async_generator object test3 at 0x7fdde85d4a60&gt;</td>\n",
       "            <td>False</td>\n",
       "            <td>False</td>\n",
       "            <td>False</td>\n",
       "            <td>False</td>\n",
       "            <td>False</td>\n",
       "            <td>False</td>\n",
       "        </tr>\n",
       "        <tr>\n",
       "            <td>4</td>\n",
       "            <td>False</td>\n",
       "            <td>False</td>\n",
       "            <td>False</td>\n",
       "            <td>False</td>\n",
       "            <td>False</td>\n",
       "            <td>False</td>\n",
       "        </tr>\n",
       "        <tr>\n",
       "            <td>&lt;generator object test5 at 0x7fdde86f8cf0&gt;</td>\n",
       "            <td>False</td>\n",
       "            <td>False</td>\n",
       "            <td>False</td>\n",
       "            <td>False</td>\n",
       "            <td>False</td>\n",
       "            <td>False</td>\n",
       "        </tr>\n",
       "        <tr>\n",
       "            <td>&lt;generator object test6 at 0x7fdde86f8c10&gt;</td>\n",
       "            <td>False</td>\n",
       "            <td>False</td>\n",
       "            <td>False</td>\n",
       "            <td>False</td>\n",
       "            <td>False</td>\n",
       "            <td>False</td>\n",
       "        </tr>\n",
       "        <tr>\n",
       "            <td>&lt;generator object test7 at 0x7fdde86f89e0&gt;</td>\n",
       "            <td>False</td>\n",
       "            <td>False</td>\n",
       "            <td>False</td>\n",
       "            <td>False</td>\n",
       "            <td>False</td>\n",
       "            <td>False</td>\n",
       "        </tr>\n",
       "        <tr>\n",
       "            <td>&lt;generator object test8 at 0x7fdde86f8900&gt;</td>\n",
       "            <td>False</td>\n",
       "            <td>False</td>\n",
       "            <td>False</td>\n",
       "            <td>False</td>\n",
       "            <td>True</td>\n",
       "            <td>False</td>\n",
       "        </tr>\n",
       "        <tr>\n",
       "            <td>&lt;generator object test9 at 0x7fdde86f8a50&gt;</td>\n",
       "            <td>False</td>\n",
       "            <td>False</td>\n",
       "            <td>False</td>\n",
       "            <td>False</td>\n",
       "            <td>True</td>\n",
       "            <td>False</td>\n",
       "        </tr>\n",
       "    </tbody>\n",
       "</table>"
      ],
      "text/plain": [
       "<IPython.core.display.HTML object>"
      ]
     },
     "execution_count": 167,
     "metadata": {},
     "output_type": "execute_result"
    }
   ],
   "source": [
    "HTML(table.get_formatted_string(\"html\"))"
   ]
  },
  {
   "cell_type": "markdown",
   "id": "e0deff95-8747-4057-8868-5db509dded75",
   "metadata": {},
   "source": [
    "asyncio.run() cannot be called from a running event loop\n",
    "\n",
    "https://stackoverflow.com/questions/55409641/asyncio-run-cannot-be-called-from-a-running-event-loop-when-using-jupyter-no"
   ]
  },
  {
   "cell_type": "code",
   "execution_count": 18,
   "id": "1cda8fb7-dc9f-4de9-9fac-16566f9f0afe",
   "metadata": {},
   "outputs": [],
   "source": [
    "#asyncio.run(a1)\n",
    "#asyncio.run(a2)\n",
    "#asyncio.run(a3)"
   ]
  },
  {
   "cell_type": "code",
   "execution_count": 168,
   "id": "aeef8827-8f60-4c42-a531-8ec30c54a694",
   "metadata": {},
   "outputs": [
    {
     "data": {
      "text/plain": [
       "1"
      ]
     },
     "execution_count": 168,
     "metadata": {},
     "output_type": "execute_result"
    }
   ],
   "source": [
    "await a1"
   ]
  },
  {
   "cell_type": "code",
   "execution_count": 169,
   "id": "b56c67bc-a831-405f-bfef-571f1c3e2d4b",
   "metadata": {},
   "outputs": [
    {
     "data": {
      "text/plain": [
       "2"
      ]
     },
     "execution_count": 169,
     "metadata": {},
     "output_type": "execute_result"
    }
   ],
   "source": [
    "await a2"
   ]
  },
  {
   "cell_type": "code",
   "execution_count": 170,
   "id": "08ff8330-ab89-49a4-86bb-380dfee25261",
   "metadata": {},
   "outputs": [
    {
     "ename": "TypeError",
     "evalue": "object async_generator can't be used in 'await' expression",
     "output_type": "error",
     "traceback": [
      "\u001b[0;31m---------------------------------------------------------------------------\u001b[0m",
      "\u001b[0;31mTypeError\u001b[0m                                 Traceback (most recent call last)",
      "Input \u001b[0;32mIn [170]\u001b[0m, in \u001b[0;36m<cell line: 1>\u001b[0;34m()\u001b[0m\n\u001b[0;32m----> 1\u001b[0m \u001b[38;5;28;01mawait\u001b[39;00m a3\n",
      "\u001b[0;31mTypeError\u001b[0m: object async_generator can't be used in 'await' expression"
     ]
    }
   ],
   "source": [
    "await a3"
   ]
  },
  {
   "cell_type": "code",
   "execution_count": 171,
   "id": "fe0f9029-7aac-410b-bb2c-eb9bfe522d96",
   "metadata": {},
   "outputs": [
    {
     "data": {
      "text/plain": [
       "3"
      ]
     },
     "execution_count": 171,
     "metadata": {},
     "output_type": "execute_result"
    }
   ],
   "source": [
    "await a3.__anext__()"
   ]
  },
  {
   "cell_type": "code",
   "execution_count": 175,
   "id": "f30cf01c-cb65-4e7c-872a-6d492337dd87",
   "metadata": {},
   "outputs": [
    {
     "data": {
      "text/plain": [
       "<generator object test7 at 0x7fdde86f8c10>"
      ]
     },
     "execution_count": 175,
     "metadata": {},
     "output_type": "execute_result"
    }
   ],
   "source": [
    "a7"
   ]
  },
  {
   "cell_type": "code",
   "execution_count": 176,
   "id": "5fb41b78-d0ed-4bee-9ff4-3782e0c22874",
   "metadata": {},
   "outputs": [
    {
     "data": {
      "text/plain": [
       "range(0, 5)"
      ]
     },
     "execution_count": 176,
     "metadata": {},
     "output_type": "execute_result"
    }
   ],
   "source": [
    "next(a7)"
   ]
  },
  {
   "cell_type": "code",
   "execution_count": 177,
   "id": "50e97725-d908-4e41-8948-00648c127377",
   "metadata": {},
   "outputs": [
    {
     "data": {
      "text/plain": [
       "0"
      ]
     },
     "execution_count": 177,
     "metadata": {},
     "output_type": "execute_result"
    }
   ],
   "source": [
    "next(a7)"
   ]
  },
  {
   "cell_type": "code",
   "execution_count": 173,
   "id": "99bae3b0-209e-435a-be49-3b8fd2c6a7a3",
   "metadata": {},
   "outputs": [
    {
     "ename": "StopIteration",
     "evalue": "7",
     "output_type": "error",
     "traceback": [
      "\u001b[0;31m---------------------------------------------------------------------------\u001b[0m",
      "\u001b[0;31mStopIteration\u001b[0m                             Traceback (most recent call last)",
      "Input \u001b[0;32mIn [173]\u001b[0m, in \u001b[0;36m<cell line: 5>\u001b[0;34m()\u001b[0m\n\u001b[1;32m      3\u001b[0m \u001b[38;5;28mnext\u001b[39m(a7)\n\u001b[1;32m      4\u001b[0m \u001b[38;5;28mnext\u001b[39m(a7)\n\u001b[0;32m----> 5\u001b[0m \u001b[38;5;28;43mnext\u001b[39;49m\u001b[43m(\u001b[49m\u001b[43ma7\u001b[49m\u001b[43m)\u001b[49m\n\u001b[1;32m      6\u001b[0m \u001b[38;5;28mnext\u001b[39m(a7)\n",
      "\u001b[0;31mStopIteration\u001b[0m: 7"
     ]
    }
   ],
   "source": [
    "next(a7)\n",
    "next(a7)\n",
    "next(a7)\n",
    "next(a7)\n",
    "next(a7)\n",
    "next(a7)"
   ]
  },
  {
   "cell_type": "code",
   "execution_count": null,
   "id": "5c596660-e227-488c-9a5b-19924d4dc5e7",
   "metadata": {},
   "outputs": [],
   "source": []
  }
 ],
 "metadata": {
  "kernelspec": {
   "display_name": "Python 3 (ipykernel)",
   "language": "python",
   "name": "python3"
  },
  "language_info": {
   "codemirror_mode": {
    "name": "ipython",
    "version": 3
   },
   "file_extension": ".py",
   "mimetype": "text/x-python",
   "name": "python",
   "nbconvert_exporter": "python",
   "pygments_lexer": "ipython3",
   "version": "3.9.12"
  }
 },
 "nbformat": 4,
 "nbformat_minor": 5
}
