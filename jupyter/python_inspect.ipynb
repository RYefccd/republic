{
 "cells": [
  {
   "cell_type": "code",
   "execution_count": 15,
   "id": "affae22a-0af2-4038-8b84-23c6f6d61a09",
   "metadata": {},
   "outputs": [
    {
     "name": "stdout",
     "output_type": "stream",
     "text": [
      "Package                       Version\n",
      "----------------------------- -----------\n",
      "alembic                       1.7.7\n",
      "altair                        4.2.0\n",
      "anyio                         3.5.0\n",
      "argon2-cffi                   21.3.0\n",
      "argon2-cffi-bindings          21.2.0\n",
      "asttokens                     2.0.5\n",
      "async-generator               1.10\n",
      "attrs                         21.4.0\n",
      "Babel                         2.10.1\n",
      "backcall                      0.2.0\n",
      "backports.functools-lru-cache 1.6.4\n",
      "beautifulsoup4                4.11.1\n",
      "bleach                        5.0.0\n",
      "blinker                       1.4\n",
      "bokeh                         2.4.2\n",
      "Bottleneck                    1.3.4\n",
      "brotlipy                      0.7.0\n",
      "cached-property               1.5.2\n",
      "certifi                       2021.10.8\n",
      "certipy                       0.1.3\n",
      "cffi                          1.15.0\n",
      "charset-normalizer            2.0.12\n",
      "click                         8.1.3\n",
      "cloudpickle                   2.0.0\n",
      "colorama                      0.4.4\n",
      "conda                         4.12.0\n",
      "conda-package-handling        1.8.1\n",
      "cryptography                  36.0.2\n",
      "cycler                        0.11.0\n",
      "Cython                        0.29.28\n",
      "cytoolz                       0.11.2\n",
      "dask                          2022.5.0\n",
      "debugpy                       1.6.0\n",
      "decorator                     5.1.1\n",
      "defusedxml                    0.7.1\n",
      "dill                          0.3.4\n",
      "distributed                   2022.5.0\n",
      "entrypoints                   0.4\n",
      "executing                     0.8.3\n",
      "fastjsonschema                2.15.3\n",
      "flit_core                     3.7.1\n",
      "fonttools                     4.33.3\n",
      "fsspec                        2022.3.0\n",
      "gmpy2                         2.1.2\n",
      "greenlet                      1.1.2\n",
      "h5py                          3.6.0\n",
      "HeapDict                      1.0.1\n",
      "idna                          3.3\n",
      "imagecodecs                   2022.2.22\n",
      "imageio                       2.19.1\n",
      "importlib-metadata            4.11.3\n",
      "importlib-resources           5.7.1\n",
      "ipykernel                     6.13.0\n",
      "ipympl                        0.9.1\n",
      "ipython                       8.3.0\n",
      "ipython-genutils              0.2.0\n",
      "ipywidgets                    7.7.0\n",
      "jedi                          0.18.1\n",
      "Jinja2                        3.1.2\n",
      "joblib                        1.1.0\n",
      "json5                         0.9.5\n",
      "jsonschema                    4.5.1\n",
      "jupyter-client                7.3.1\n",
      "jupyter-core                  4.9.2\n",
      "jupyter-server                1.17.0\n",
      "jupyter-telemetry             0.1.0\n",
      "jupyterhub                    2.3.0\n",
      "jupyterlab                    3.4.0\n",
      "jupyterlab-pygments           0.2.2\n",
      "jupyterlab-server             2.13.0\n",
      "jupyterlab-widgets            1.1.0\n",
      "kiwisolver                    1.4.2\n",
      "libmambapy                    0.23.1\n",
      "llvmlite                      0.38.0\n",
      "locket                        1.0.0\n",
      "lz4                           4.0.0\n",
      "Mako                          1.2.0\n",
      "mamba                         0.23.1\n",
      "MarkupSafe                    2.1.1\n",
      "matplotlib                    3.5.2\n",
      "matplotlib-inline             0.1.3\n",
      "mistune                       0.8.4\n",
      "mpmath                        1.2.1\n",
      "msgpack                       1.0.3\n",
      "munkres                       1.1.4\n",
      "nbclassic                     0.3.7\n",
      "nbclient                      0.6.3\n",
      "nbconvert                     6.5.0\n",
      "nbformat                      5.4.0\n",
      "nest-asyncio                  1.5.5\n",
      "networkx                      2.8\n",
      "notebook                      6.4.11\n",
      "notebook-shim                 0.1.0\n",
      "numba                         0.55.1\n",
      "numexpr                       2.8.0\n",
      "numpy                         1.21.6\n",
      "oauthlib                      3.2.0\n",
      "packaging                     21.3\n",
      "pamela                        1.0.0\n",
      "pandas                        1.4.2\n",
      "pandocfilters                 1.5.0\n",
      "parso                         0.8.3\n",
      "partd                         1.2.0\n",
      "patsy                         0.5.2\n",
      "pexpect                       4.8.0\n",
      "pickleshare                   0.7.5\n",
      "Pillow                        9.1.0\n",
      "pip                           22.1\n",
      "prometheus-client             0.14.1\n",
      "prompt-toolkit                3.0.29\n",
      "protobuf                      3.20.1\n",
      "psutil                        5.9.0\n",
      "ptyprocess                    0.7.0\n",
      "pure-eval                     0.2.2\n",
      "pycosat                       0.6.3\n",
      "pycparser                     2.21\n",
      "pycurl                        7.45.1\n",
      "Pygments                      2.12.0\n",
      "PyJWT                         2.3.0\n",
      "pyOpenSSL                     22.0.0\n",
      "pyparsing                     3.0.9\n",
      "pyrsistent                    0.18.1\n",
      "PySocks                       1.7.1\n",
      "python-dateutil               2.8.2\n",
      "python-json-logger            2.0.1\n",
      "pytz                          2022.1\n",
      "pytz-deprecation-shim         0.1.0.post0\n",
      "PyWavelets                    1.3.0\n",
      "PyYAML                        6.0\n",
      "pyzmq                         22.3.0\n",
      "requests                      2.27.1\n",
      "rpy2                          3.5.1\n",
      "ruamel.yaml                   0.17.21\n",
      "ruamel.yaml.clib              0.2.6\n",
      "ruamel-yaml-conda             0.15.80\n",
      "scikit-image                  0.19.2\n",
      "scikit-learn                  1.1.0\n",
      "scipy                         1.8.0\n",
      "seaborn                       0.11.2\n",
      "Send2Trash                    1.8.0\n",
      "setuptools                    62.2.0\n",
      "simplegeneric                 0.8.1\n",
      "six                           1.16.0\n",
      "sniffio                       1.2.0\n",
      "sortedcontainers              2.4.0\n",
      "soupsieve                     2.3.1\n",
      "SQLAlchemy                    1.4.36\n",
      "stack-data                    0.2.0\n",
      "statsmodels                   0.13.2\n",
      "sympy                         1.10.1\n",
      "tables                        3.7.0\n",
      "tblib                         1.7.0\n",
      "terminado                     0.13.3\n",
      "threadpoolctl                 3.1.0\n",
      "tifffile                      2022.5.4\n",
      "tinycss2                      1.1.1\n",
      "toolz                         0.11.2\n",
      "tornado                       6.1\n",
      "tqdm                          4.64.0\n",
      "traitlets                     5.2.0\n",
      "typing_extensions             4.2.0\n",
      "tzdata                        2022.1\n",
      "tzlocal                       4.2\n",
      "unicodedata2                  14.0.0\n",
      "urllib3                       1.26.9\n",
      "wcwidth                       0.2.5\n",
      "webencodings                  0.5.1\n",
      "websocket-client              1.3.2\n",
      "wheel                         0.37.1\n",
      "widgetsnbextension            3.6.0\n",
      "xlrd                          2.0.1\n",
      "zen-engine                    0.26.0\n",
      "zict                          2.2.0\n",
      "zipp                          3.8.0\n",
      "\u001b[33mWARNING: There was an error checking the latest version of pip.\u001b[0m\u001b[33m\n",
      "\u001b[0m"
     ]
    }
   ],
   "source": [
    "!pip list"
   ]
  },
  {
   "cell_type": "code",
   "execution_count": 1,
   "id": "547a0e19-68a5-427c-a75a-a242e5d8bad0",
   "metadata": {},
   "outputs": [],
   "source": [
    "import inspect\n",
    "import asyncio\n",
    "\n",
    "async def test1():\n",
    "    return 1\n",
    "\n",
    "async def test1():\n",
    "    return 1\n",
    "\n",
    "async def test2():\n",
    "    await asyncio.sleep(0)\n",
    "    return 1\n",
    "\n",
    "async def test2():\n",
    "    await asyncio.sleep(0)\n",
    "    return 2\n",
    "\n",
    "async def test3():\n",
    "    await asyncio.sleep(0)\n",
    "    yield 3\n",
    "\n",
    "def test4():\n",
    "    return 4\n",
    "\n",
    "def test5():\n",
    "    yield 5\n",
    "    \n",
    "def test6():\n",
    "    yield from asyncio.sleep(0)\n",
    "    return 6\n",
    "\n",
    "def test7():\n",
    "    yield range(5)\n",
    "    yield from range(5)\n",
    "    return 7\n",
    "\n"
   ]
  },
  {
   "cell_type": "code",
   "execution_count": 2,
   "id": "0c5e1841-56a9-409f-aad5-b8a0eba85f55",
   "metadata": {},
   "outputs": [
    {
     "data": {
      "text/plain": [
       "\u001b[0;31mType:\u001b[0m        int\n",
       "\u001b[0;31mString form:\u001b[0m 4\n",
       "\u001b[0;31mDocstring:\u001b[0m  \n",
       "int([x]) -> integer\n",
       "int(x, base=10) -> integer\n",
       "\n",
       "Convert a number or string to an integer, or return 0 if no arguments\n",
       "are given.  If x is a number, return x.__int__().  For floating point\n",
       "numbers, this truncates towards zero.\n",
       "\n",
       "If x is not a number or if base is given, then x must be a string,\n",
       "bytes, or bytearray instance representing an integer literal in the\n",
       "given base.  The literal can be preceded by '+' or '-' and be surrounded\n",
       "by whitespace.  The base defaults to 10.  Valid bases are 0 and 2-36.\n",
       "Base 0 means to interpret the base from the string as an integer literal.\n",
       ">>> int('0b100', base=0)\n",
       "4\n"
      ]
     },
     "metadata": {},
     "output_type": "display_data"
    }
   ],
   "source": [
    "test1\n",
    "type(test1)\n",
    "test2\n",
    "test3\n",
    "type(test2)\n",
    "type(test3)\n",
    "type(test4)\n",
    "test4()\n",
    "\n",
    "a1 = test1()\n",
    "a2 = test2()\n",
    "a3 = test3()\n",
    "a4 = test4()\n",
    "a1\n",
    "a2\n",
    "a3\n",
    "a4\n",
    "a1?\n",
    "a2?\n",
    "a3?\n",
    "a4?\n"
   ]
  },
  {
   "cell_type": "code",
   "execution_count": 4,
   "id": "b6f982cb-423c-405a-88cf-fdad6e9ce807",
   "metadata": {},
   "outputs": [
    {
     "data": {
      "text/plain": [
       "False"
      ]
     },
     "execution_count": 4,
     "metadata": {},
     "output_type": "execute_result"
    },
    {
     "data": {
      "text/plain": [
       "\u001b[0;31mSignature:\u001b[0m \u001b[0minspect\u001b[0m\u001b[0;34m.\u001b[0m\u001b[0misawaitable\u001b[0m\u001b[0;34m(\u001b[0m\u001b[0mobject\u001b[0m\u001b[0;34m)\u001b[0m\u001b[0;34m\u001b[0m\u001b[0;34m\u001b[0m\u001b[0m\n",
       "\u001b[0;31mDocstring:\u001b[0m Return true if object can be passed to an ``await`` expression.\n",
       "\u001b[0;31mFile:\u001b[0m      /opt/conda/lib/python3.9/inspect.py\n",
       "\u001b[0;31mType:\u001b[0m      function\n"
      ]
     },
     "metadata": {},
     "output_type": "display_data"
    }
   ],
   "source": [
    "inspect.isfunction(test1)\n",
    "inspect.isfunction(test2)\n",
    "inspect.isfunction(test3)\n",
    "inspect.isfunction(test4)\n",
    "inspect.isgeneratorfunction(test3)\n",
    "inspect.isasyncgenfunction(test3)\n",
    "inspect.isgeneratorfunction(test5)\n",
    "inspect.isasyncgenfunction(test5)\n",
    "inspect.iscoroutine?\n",
    "inspect.iscoroutinefunction?\n",
    "inspect.iscoroutine(test1)\n",
    "inspect.iscoroutine(test2)\n",
    "inspect.iscoroutine(test3)\n",
    "inspect.iscoroutine(test4)\n",
    "inspect.iscoroutine(test5)\n",
    "inspect.iscoroutinefunction(test1)\n",
    "inspect.iscoroutinefunction(test2)\n",
    "inspect.iscoroutinefunction(test3)\n",
    "inspect.iscoroutinefunction(test4)\n",
    "inspect.iscoroutinefunction(test5)\n",
    "inspect.iscoroutine(a1)\n",
    "inspect.iscoroutine(a2)\n",
    "inspect.iscoroutine(a3)\n",
    "inspect.iscoroutinefunction(a1)\n",
    "inspect.iscoroutinefunction(a2)\n",
    "inspect.iscoroutinefunction(a3)\n",
    "inspect.isawaitable?\n",
    "inspect.isawaitable(test1)\n",
    "inspect.isawaitable(test2)\n",
    "inspect.isawaitable(test3)\n",
    "inspect.isawaitable(a2)\n",
    "inspect.isawaitable(a1)\n",
    "inspect.isawaitable(a3)\n"
   ]
  },
  {
   "cell_type": "markdown",
   "id": "e0deff95-8747-4057-8868-5db509dded75",
   "metadata": {},
   "source": [
    "asyncio.run() cannot be called from a running event loop\n",
    "\n",
    "https://stackoverflow.com/questions/55409641/asyncio-run-cannot-be-called-from-a-running-event-loop-when-using-jupyter-no"
   ]
  },
  {
   "cell_type": "code",
   "execution_count": 18,
   "id": "1cda8fb7-dc9f-4de9-9fac-16566f9f0afe",
   "metadata": {},
   "outputs": [],
   "source": [
    "#asyncio.run(a1)\n",
    "#asyncio.run(a2)\n",
    "#asyncio.run(a3)"
   ]
  },
  {
   "cell_type": "code",
   "execution_count": 16,
   "id": "aeef8827-8f60-4c42-a531-8ec30c54a694",
   "metadata": {},
   "outputs": [
    {
     "data": {
      "text/plain": [
       "1"
      ]
     },
     "execution_count": 16,
     "metadata": {},
     "output_type": "execute_result"
    }
   ],
   "source": [
    "await a1"
   ]
  },
  {
   "cell_type": "code",
   "execution_count": null,
   "id": "b56c67bc-a831-405f-bfef-571f1c3e2d4b",
   "metadata": {},
   "outputs": [],
   "source": [
    "await a2"
   ]
  },
  {
   "cell_type": "code",
   "execution_count": null,
   "id": "08ff8330-ab89-49a4-86bb-380dfee25261",
   "metadata": {},
   "outputs": [],
   "source": [
    "await a3"
   ]
  },
  {
   "cell_type": "code",
   "execution_count": 12,
   "id": "878cf8d8-971d-49f8-91aa-d8aa7d358a38",
   "metadata": {},
   "outputs": [
    {
     "data": {
      "text/plain": [
       "0"
      ]
     },
     "execution_count": 12,
     "metadata": {},
     "output_type": "execute_result"
    },
    {
     "data": {
      "text/plain": [
       "\u001b[0;31mSignature:\u001b[0m \u001b[0mtest6\u001b[0m\u001b[0;34m(\u001b[0m\u001b[0;34m)\u001b[0m\u001b[0;34m\u001b[0m\u001b[0;34m\u001b[0m\u001b[0m\n",
       "\u001b[0;31mDocstring:\u001b[0m <no docstring>\n",
       "\u001b[0;31mFile:\u001b[0m      /tmp/ipykernel_97/3413434401.py\n",
       "\u001b[0;31mType:\u001b[0m      function\n"
      ]
     },
     "metadata": {},
     "output_type": "display_data"
    }
   ],
   "source": [
    "test6\n",
    "type(test6)\n",
    "test6?\n",
    "test6()\n",
    "a6=test6()\n",
    "inspect.isawaitable(a6)\n",
    "inspect.iscoroutine(a6)\n",
    "\n",
    "a5=test5()\n",
    "a5\n",
    "a6\n",
    "\n",
    "a7=test7()\n",
    "a7\n",
    "next(a7)\n",
    "next(a7)\n"
   ]
  },
  {
   "cell_type": "code",
   "execution_count": 13,
   "id": "99bae3b0-209e-435a-be49-3b8fd2c6a7a3",
   "metadata": {},
   "outputs": [
    {
     "ename": "StopIteration",
     "evalue": "7",
     "output_type": "error",
     "traceback": [
      "\u001b[0;31m---------------------------------------------------------------------------\u001b[0m",
      "\u001b[0;31mStopIteration\u001b[0m                             Traceback (most recent call last)",
      "Input \u001b[0;32mIn [13]\u001b[0m, in \u001b[0;36m<cell line: 5>\u001b[0;34m()\u001b[0m\n\u001b[1;32m      3\u001b[0m \u001b[38;5;28mnext\u001b[39m(a7)\n\u001b[1;32m      4\u001b[0m \u001b[38;5;28mnext\u001b[39m(a7)\n\u001b[0;32m----> 5\u001b[0m \u001b[38;5;28;43mnext\u001b[39;49m\u001b[43m(\u001b[49m\u001b[43ma7\u001b[49m\u001b[43m)\u001b[49m\n\u001b[1;32m      6\u001b[0m \u001b[38;5;28mnext\u001b[39m(a7)\n",
      "\u001b[0;31mStopIteration\u001b[0m: 7"
     ]
    }
   ],
   "source": [
    "next(a7)\n",
    "next(a7)\n",
    "next(a7)\n",
    "next(a7)\n",
    "next(a7)\n",
    "next(a7)"
   ]
  },
  {
   "cell_type": "code",
   "execution_count": 6,
   "id": "fbdf8219-62a9-4a3c-84f7-88b5cb80f30b",
   "metadata": {},
   "outputs": [
    {
     "name": "stderr",
     "output_type": "stream",
     "text": [
      "/tmp/ipykernel_97/3409495761.py:5: DeprecationWarning: \"@coroutine\" decorator is deprecated since Python 3.8, use \"async def\" instead\n",
      "  t8_co=asyncio.coroutine(test8)\n"
     ]
    },
    {
     "data": {
      "text/plain": [
       "8"
      ]
     },
     "execution_count": 6,
     "metadata": {},
     "output_type": "execute_result"
    },
    {
     "data": {
      "text/plain": [
       "\u001b[0;31mSignature:\u001b[0m \u001b[0minspect\u001b[0m\u001b[0;34m.\u001b[0m\u001b[0misgenerator\u001b[0m\u001b[0;34m(\u001b[0m\u001b[0mobject\u001b[0m\u001b[0;34m)\u001b[0m\u001b[0;34m\u001b[0m\u001b[0;34m\u001b[0m\u001b[0m\n",
       "\u001b[0;31mDocstring:\u001b[0m\n",
       "Return true if the object is a generator.\n",
       "\n",
       "Generator objects provide these attributes:\n",
       "    __iter__        defined to support iteration over container\n",
       "    close           raises a new GeneratorExit exception inside the\n",
       "                    generator to terminate the iteration\n",
       "    gi_code         code object\n",
       "    gi_frame        frame object or possibly None once the generator has\n",
       "                    been exhausted\n",
       "    gi_running      set to 1 when generator is executing, 0 otherwise\n",
       "    next            return the next item from the container\n",
       "    send            resumes the generator and \"sends\" a value that becomes\n",
       "                    the result of the current yield-expression\n",
       "    throw           used to raise an exception inside the generator\n",
       "\u001b[0;31mFile:\u001b[0m      /opt/conda/lib/python3.9/inspect.py\n",
       "\u001b[0;31mType:\u001b[0m      function\n"
      ]
     },
     "metadata": {},
     "output_type": "display_data"
    }
   ],
   "source": [
    "def test8():\n",
    "    yield from asyncio.sleep(0)\n",
    "    return 8\n",
    "asyncio.coroutine?\n",
    "t8_co=asyncio.coroutine(test8)\n",
    "test8\n",
    "test8()\n",
    "t8_co\n",
    "t8_co()\n",
    "a8_co=t8_co()\n",
    "a8=test8()\n",
    "type(a8)\n",
    "type(a8_co)\n",
    "inspect.isawaitable?\n",
    "inspect.iscoroutine?\n",
    "inspect.isasyncgen?\n",
    "inspect.isgenerator?\n",
    "inspect.isawaitable(18)\n",
    "inspect.isawaitable(a8)\n",
    "await a8\n",
    "inspect.isawaitable(a8)\n",
    "inspect.iscoroutine(a8)\n",
    "inspect.iscoroutine(a8_co)\n",
    "inspect.iscoroutine(t8_co)\n",
    "inspect.iscoroutinefunction(t8_co)\n",
    "inspect.isasyncgen(a8)\n",
    "inspect.isasyncgen(a8_co)\n",
    "a8\n",
    "a8_co\n",
    "await a8_co"
   ]
  },
  {
   "cell_type": "code",
   "execution_count": 5,
   "id": "c4237e87-cc41-4711-918e-d6121e988a7b",
   "metadata": {},
   "outputs": [
    {
     "name": "stderr",
     "output_type": "stream",
     "text": [
      "/tmp/ipykernel_97/2104772957.py:2: DeprecationWarning: \"@coroutine\" decorator is deprecated since Python 3.8, use \"async def\" instead\n",
      "  def test9():\n"
     ]
    },
    {
     "data": {
      "text/plain": [
       "True"
      ]
     },
     "execution_count": 5,
     "metadata": {},
     "output_type": "execute_result"
    },
    {
     "data": {
      "text/plain": [
       "\u001b[0;31mSignature:\u001b[0m \u001b[0mtypes\u001b[0m\u001b[0;34m.\u001b[0m\u001b[0mcoroutine\u001b[0m\u001b[0;34m(\u001b[0m\u001b[0mfunc\u001b[0m\u001b[0;34m)\u001b[0m\u001b[0;34m\u001b[0m\u001b[0;34m\u001b[0m\u001b[0m\n",
       "\u001b[0;31mDocstring:\u001b[0m Convert regular generator function to a coroutine.\n",
       "\u001b[0;31mFile:\u001b[0m      /opt/conda/lib/python3.9/types.py\n",
       "\u001b[0;31mType:\u001b[0m      function\n"
      ]
     },
     "metadata": {},
     "output_type": "display_data"
    }
   ],
   "source": [
    "@asyncio.coroutine\n",
    "def test9():\n",
    "    yield from asyncio.sleep(0)\n",
    "    return 9\n",
    "test9\n",
    "test9()\n",
    "asyncio.coroutine?\n",
    "import types\n",
    "types.coroutine?\n",
    "types.coroutine(test9)\n",
    "tmp9=types.coroutine(test9)\n",
    "tmp9\n",
    "inspect.isawaitable(tmp9)\n",
    "inspect.isawaitable(tmp9())\n",
    "inspect.iscoroutine(tmp9())\n",
    "inspect.isawaitable(tmp9())"
   ]
  },
  {
   "cell_type": "code",
   "execution_count": null,
   "id": "afa57ef2-6525-4bd4-bbc4-512820e8c54f",
   "metadata": {},
   "outputs": [],
   "source": []
  }
 ],
 "metadata": {
  "kernelspec": {
   "display_name": "Python 3 (ipykernel)",
   "language": "python",
   "name": "python3"
  },
  "language_info": {
   "codemirror_mode": {
    "name": "ipython",
    "version": 3
   },
   "file_extension": ".py",
   "mimetype": "text/x-python",
   "name": "python",
   "nbconvert_exporter": "python",
   "pygments_lexer": "ipython3",
   "version": "3.9.12"
  }
 },
 "nbformat": 4,
 "nbformat_minor": 5
}
