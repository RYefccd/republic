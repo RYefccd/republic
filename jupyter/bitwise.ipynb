{
 "cells": [
  {
   "cell_type": "markdown",
   "id": "e6e6d05b-8997-41c6-8192-61dc09b02a93",
   "metadata": {},
   "source": [
    "# bitwise\n",
    "\n",
    "https://realpython.com/python-bitwise-operators/  \n",
    "https://pypi.org/project/bitstring/  \n",
    "https://www.geeksforgeeks.org/python-bitwise-operators/  \n",
    "https://blog.wokwi.com/bitwise-operators-in-gifs/  \n",
    "https://csanim.com/tutorials/intro-binary-numbers-bitwise-operations-ultimate-visual-guide  \n",
    "https://www.digitalocean.com/community/tutorials/python-bitwise-operators  \n",
    "https://open4tech.com/logical-vs-arithmetic-shift/#google_vignette  \n",
    "https://wiki.python.org/moin/BitwiseOperators  \n",
    "https://wiki.python.org/moin/BitManipulation  \n",
    "https://en.wikipedia.org/wiki/Bitwise_operation  \n",
    "https://en.wikipedia.org/wiki/Two's_complement  "
   ]
  },
  {
   "cell_type": "markdown",
   "id": "70191351-23f1-405f-9c25-d5dcd707eb71",
   "metadata": {},
   "source": [
    "## int to bytes"
   ]
  },
  {
   "cell_type": "code",
   "execution_count": 317,
   "id": "da4adcac-84cd-4987-9210-afef27e6cf2c",
   "metadata": {},
   "outputs": [
    {
     "data": {
      "text/plain": [
       "b'\\x00\\x00\\x00*'"
      ]
     },
     "execution_count": 317,
     "metadata": {},
     "output_type": "execute_result"
    }
   ],
   "source": [
    "(42).to_bytes(4, \"big\", signed=True)"
   ]
  },
  {
   "cell_type": "code",
   "execution_count": 316,
   "id": "67aeb787-16c3-4899-b892-1c79e24e7299",
   "metadata": {},
   "outputs": [
    {
     "data": {
      "text/plain": [
       "'0b101010'"
      ]
     },
     "execution_count": 316,
     "metadata": {},
     "output_type": "execute_result"
    }
   ],
   "source": [
    "bin(42)"
   ]
  },
  {
   "cell_type": "code",
   "execution_count": 315,
   "id": "220b39b8-2bee-4a79-b9f3-01ad71e3bc6e",
   "metadata": {},
   "outputs": [
    {
     "data": {
      "text/plain": [
       "'0x2a'"
      ]
     },
     "execution_count": 315,
     "metadata": {},
     "output_type": "execute_result"
    }
   ],
   "source": [
    "hex(42)"
   ]
  },
  {
   "cell_type": "code",
   "execution_count": 28,
   "id": "959b8f3f-cc86-47bd-abc6-c74c40e33158",
   "metadata": {},
   "outputs": [
    {
     "data": {
      "text/plain": [
       "'101010'"
      ]
     },
     "execution_count": 28,
     "metadata": {},
     "output_type": "execute_result"
    }
   ],
   "source": [
    "f\"{42:b}\""
   ]
  },
  {
   "cell_type": "markdown",
   "id": "74319760-947b-4642-9a3a-514710f73476",
   "metadata": {},
   "source": [
    "## bit tools\n",
    "\n",
    "![](https://storage.googleapis.com/course-panel-site-media/images/binary-wheel.original.jpg)\n",
    "\n",
    "https://csanim.com/tutorials/intro-binary-numbers-bitwise-operations-ultimate-visual-guide"
   ]
  },
  {
   "cell_type": "code",
   "execution_count": 329,
   "id": "9018796d-18e5-4ea3-91bd-74d9350658bd",
   "metadata": {},
   "outputs": [],
   "source": [
    "def intbinfmt(num: int):\n",
    "    bl = num.bit_length()\n",
    "    num_bytes = bl // 8 + 1\n",
    "    bs = num.to_bytes(num_bytes, \"big\", signed=True)\n",
    "    \n",
    "    return [f\"{i:08b}\" for i in bs]\n",
    "\n",
    "def intbinstr(num: int):\n",
    "    return \" \".join(intbinfmt(num))\n",
    "\n",
    "def inthexfmt(num: int):\n",
    "    bl = num.bit_length()\n",
    "    num_bytes = bl // 8 + 1\n",
    "    bs = num.to_bytes(num_bytes, \"big\", signed=True)\n",
    "    \n",
    "    return [f\"{i:02x}\" for i in bs]\n",
    "\n",
    "def inthexstr(num: int):\n",
    "    return \" \".join(inthexfmt(num))"
   ]
  },
  {
   "cell_type": "code",
   "execution_count": 283,
   "id": "679037b5-c3ce-4ad6-aff5-959c57a1f850",
   "metadata": {},
   "outputs": [
    {
     "data": {
      "text/plain": [
       "['00111011']"
      ]
     },
     "execution_count": 283,
     "metadata": {},
     "output_type": "execute_result"
    }
   ],
   "source": [
    "intbinfmt(59)"
   ]
  },
  {
   "cell_type": "code",
   "execution_count": 281,
   "id": "6ae5b4dd-78ab-4b28-b6b3-c3073cec7d1e",
   "metadata": {},
   "outputs": [
    {
     "data": {
      "text/plain": [
       "['3b']"
      ]
     },
     "execution_count": 281,
     "metadata": {},
     "output_type": "execute_result"
    }
   ],
   "source": [
    "inthexfmt(59)"
   ]
  },
  {
   "cell_type": "code",
   "execution_count": 282,
   "id": "9428266b-c3a2-4da6-9db9-e5260b539c9f",
   "metadata": {},
   "outputs": [
    {
     "data": {
      "text/plain": [
       "['11111110', '11111110']"
      ]
     },
     "execution_count": 282,
     "metadata": {},
     "output_type": "execute_result"
    }
   ],
   "source": [
    "intbinfmt(-258)"
   ]
  },
  {
   "cell_type": "code",
   "execution_count": 150,
   "id": "f7ed167d-125e-42b2-874e-00930dbab624",
   "metadata": {},
   "outputs": [
    {
     "data": {
      "text/plain": [
       "['fe', 'fe']"
      ]
     },
     "execution_count": 150,
     "metadata": {},
     "output_type": "execute_result"
    }
   ],
   "source": [
    "inthexfmt(-258)"
   ]
  },
  {
   "cell_type": "code",
   "execution_count": 151,
   "id": "292cd977-54b8-4df7-ae41-b20a2a89ff40",
   "metadata": {},
   "outputs": [
    {
     "data": {
      "text/plain": [
       "'0b111011'"
      ]
     },
     "execution_count": 151,
     "metadata": {},
     "output_type": "execute_result"
    }
   ],
   "source": [
    "bin(59)"
   ]
  },
  {
   "cell_type": "code",
   "execution_count": 152,
   "id": "f77384b9-df45-4497-a2b7-f40a17e73e30",
   "metadata": {},
   "outputs": [
    {
     "data": {
      "text/plain": [
       "'0x3b'"
      ]
     },
     "execution_count": 152,
     "metadata": {},
     "output_type": "execute_result"
    }
   ],
   "source": [
    "hex(59)"
   ]
  },
  {
   "cell_type": "code",
   "execution_count": 153,
   "id": "ef7c94c9-9009-4f18-bd1b-c59262100c78",
   "metadata": {},
   "outputs": [
    {
     "data": {
      "text/plain": [
       "'-0b100000010'"
      ]
     },
     "execution_count": 153,
     "metadata": {},
     "output_type": "execute_result"
    }
   ],
   "source": [
    "bin(-258)"
   ]
  },
  {
   "cell_type": "code",
   "execution_count": 154,
   "id": "76bd5e55-42b6-434e-924c-3eabe8679e3a",
   "metadata": {},
   "outputs": [
    {
     "data": {
      "text/plain": [
       "'-0x102'"
      ]
     },
     "execution_count": 154,
     "metadata": {},
     "output_type": "execute_result"
    }
   ],
   "source": [
    "hex(-258)"
   ]
  },
  {
   "cell_type": "markdown",
   "id": "ddce4611-f37e-4b96-8d8f-fddefb6dc3e7",
   "metadata": {},
   "source": [
    "## bit shift"
   ]
  },
  {
   "cell_type": "markdown",
   "id": "7c9324aa-1639-4959-b4cd-a325244adead",
   "metadata": {},
   "source": [
    "### left shift\n",
    "\n",
    "![left-shift](https://cdn.getmidnight.com/84f7b02a8128f5f5775611244c24b941/2021/02/ezgif.com-gif-maker--1-.gif)"
   ]
  },
  {
   "cell_type": "code",
   "execution_count": 156,
   "id": "8578ad3b-5cf5-4a99-ab01-cb83919e0697",
   "metadata": {},
   "outputs": [],
   "source": [
    "from IPython.display import display,HTML\n",
    "from prettytable import PrettyTable"
   ]
  },
  {
   "cell_type": "code",
   "execution_count": 181,
   "id": "bae98a84-d1d2-4df1-8a60-aac6ee8d5e24",
   "metadata": {
    "tags": []
   },
   "outputs": [],
   "source": [
    "table = PrettyTable()\n",
    "table.field_names = [\"移动bit位数 i\", \"1<<i\", \"二进制表示\", \"十六进制表示\"]"
   ]
  },
  {
   "cell_type": "code",
   "execution_count": 182,
   "id": "aeb8e286-a75b-4a26-bfa6-c61e4c442f73",
   "metadata": {
    "tags": []
   },
   "outputs": [],
   "source": [
    "table.add_rows(\n",
    "[(i, num:=1<<i, f\"{num:08b}\", f\"{num:02x}\") for i in range(8)]\n",
    ")"
   ]
  },
  {
   "cell_type": "code",
   "execution_count": 183,
   "id": "b9c2ba5f-37ea-4612-adf9-9d0b1e014c9e",
   "metadata": {},
   "outputs": [
    {
     "data": {
      "text/html": [
       "<table>\n",
       "    <thead>\n",
       "        <tr>\n",
       "            <th>移动bit位数 i</th>\n",
       "            <th>1&lt;&lt;i</th>\n",
       "            <th>二进制表示</th>\n",
       "            <th>十六进制表示</th>\n",
       "        </tr>\n",
       "    </thead>\n",
       "    <tbody>\n",
       "        <tr>\n",
       "            <td>0</td>\n",
       "            <td>1</td>\n",
       "            <td>00000001</td>\n",
       "            <td>01</td>\n",
       "        </tr>\n",
       "        <tr>\n",
       "            <td>1</td>\n",
       "            <td>2</td>\n",
       "            <td>00000010</td>\n",
       "            <td>02</td>\n",
       "        </tr>\n",
       "        <tr>\n",
       "            <td>2</td>\n",
       "            <td>4</td>\n",
       "            <td>00000100</td>\n",
       "            <td>04</td>\n",
       "        </tr>\n",
       "        <tr>\n",
       "            <td>3</td>\n",
       "            <td>8</td>\n",
       "            <td>00001000</td>\n",
       "            <td>08</td>\n",
       "        </tr>\n",
       "        <tr>\n",
       "            <td>4</td>\n",
       "            <td>16</td>\n",
       "            <td>00010000</td>\n",
       "            <td>10</td>\n",
       "        </tr>\n",
       "        <tr>\n",
       "            <td>5</td>\n",
       "            <td>32</td>\n",
       "            <td>00100000</td>\n",
       "            <td>20</td>\n",
       "        </tr>\n",
       "        <tr>\n",
       "            <td>6</td>\n",
       "            <td>64</td>\n",
       "            <td>01000000</td>\n",
       "            <td>40</td>\n",
       "        </tr>\n",
       "        <tr>\n",
       "            <td>7</td>\n",
       "            <td>128</td>\n",
       "            <td>10000000</td>\n",
       "            <td>80</td>\n",
       "        </tr>\n",
       "    </tbody>\n",
       "</table>"
      ],
      "text/plain": [
       "<IPython.core.display.HTML object>"
      ]
     },
     "execution_count": 183,
     "metadata": {},
     "output_type": "execute_result"
    }
   ],
   "source": [
    "HTML(table.get_formatted_string(\"html\"))"
   ]
  },
  {
   "cell_type": "code",
   "execution_count": 297,
   "id": "87d376c6-4122-472b-a71b-1472663a778d",
   "metadata": {},
   "outputs": [],
   "source": [
    "# def left_shift(n):\n",
    "#     return [(i, num:=1<<i, f\"{num:b}\", f\"{num:x}\") for i in range(n)]\n",
    "\n",
    "def left_shift_table(n, number=1):\n",
    "    table = PrettyTable()\n",
    "    table.field_names = [\"移动bit位数 i\", \"1<<i\", \"二进制表示\", \"十六进制表示\"]\n",
    "    # [(i, num:=1<<i, f\"{num:b}\", f\"{num:x}\") for i in range(n)]\n",
    "    # \"{num:0{field_size}b}\".format(num=9, field_size=9)\n",
    "    fbits = lambda x: \"{num:0{field_size}b}\".format(num=x, field_size=x.bit_length())\n",
    "    fhexs = lambda x: \"{num:0{field_size}x}\".format(num=x, field_size=x.bit_length()//4)\n",
    "    table.add_rows(\n",
    "    [(i, num:=number<<i, fbits(num), fhexs(num)) for i in range(n)]\n",
    "    )\n",
    "    display(HTML(table.get_formatted_string(\"html\")))"
   ]
  },
  {
   "cell_type": "code",
   "execution_count": 298,
   "id": "97ccc6af-de56-490f-8b96-8b825376c499",
   "metadata": {},
   "outputs": [
    {
     "data": {
      "text/html": [
       "<table>\n",
       "    <thead>\n",
       "        <tr>\n",
       "            <th>移动bit位数 i</th>\n",
       "            <th>1&lt;&lt;i</th>\n",
       "            <th>二进制表示</th>\n",
       "            <th>十六进制表示</th>\n",
       "        </tr>\n",
       "    </thead>\n",
       "    <tbody>\n",
       "        <tr>\n",
       "            <td>0</td>\n",
       "            <td>1</td>\n",
       "            <td>1</td>\n",
       "            <td>1</td>\n",
       "        </tr>\n",
       "        <tr>\n",
       "            <td>1</td>\n",
       "            <td>2</td>\n",
       "            <td>10</td>\n",
       "            <td>2</td>\n",
       "        </tr>\n",
       "        <tr>\n",
       "            <td>2</td>\n",
       "            <td>4</td>\n",
       "            <td>100</td>\n",
       "            <td>4</td>\n",
       "        </tr>\n",
       "        <tr>\n",
       "            <td>3</td>\n",
       "            <td>8</td>\n",
       "            <td>1000</td>\n",
       "            <td>8</td>\n",
       "        </tr>\n",
       "        <tr>\n",
       "            <td>4</td>\n",
       "            <td>16</td>\n",
       "            <td>10000</td>\n",
       "            <td>10</td>\n",
       "        </tr>\n",
       "        <tr>\n",
       "            <td>5</td>\n",
       "            <td>32</td>\n",
       "            <td>100000</td>\n",
       "            <td>20</td>\n",
       "        </tr>\n",
       "        <tr>\n",
       "            <td>6</td>\n",
       "            <td>64</td>\n",
       "            <td>1000000</td>\n",
       "            <td>40</td>\n",
       "        </tr>\n",
       "        <tr>\n",
       "            <td>7</td>\n",
       "            <td>128</td>\n",
       "            <td>10000000</td>\n",
       "            <td>80</td>\n",
       "        </tr>\n",
       "        <tr>\n",
       "            <td>8</td>\n",
       "            <td>256</td>\n",
       "            <td>100000000</td>\n",
       "            <td>100</td>\n",
       "        </tr>\n",
       "        <tr>\n",
       "            <td>9</td>\n",
       "            <td>512</td>\n",
       "            <td>1000000000</td>\n",
       "            <td>200</td>\n",
       "        </tr>\n",
       "        <tr>\n",
       "            <td>10</td>\n",
       "            <td>1024</td>\n",
       "            <td>10000000000</td>\n",
       "            <td>400</td>\n",
       "        </tr>\n",
       "        <tr>\n",
       "            <td>11</td>\n",
       "            <td>2048</td>\n",
       "            <td>100000000000</td>\n",
       "            <td>800</td>\n",
       "        </tr>\n",
       "        <tr>\n",
       "            <td>12</td>\n",
       "            <td>4096</td>\n",
       "            <td>1000000000000</td>\n",
       "            <td>1000</td>\n",
       "        </tr>\n",
       "        <tr>\n",
       "            <td>13</td>\n",
       "            <td>8192</td>\n",
       "            <td>10000000000000</td>\n",
       "            <td>2000</td>\n",
       "        </tr>\n",
       "        <tr>\n",
       "            <td>14</td>\n",
       "            <td>16384</td>\n",
       "            <td>100000000000000</td>\n",
       "            <td>4000</td>\n",
       "        </tr>\n",
       "        <tr>\n",
       "            <td>15</td>\n",
       "            <td>32768</td>\n",
       "            <td>1000000000000000</td>\n",
       "            <td>8000</td>\n",
       "        </tr>\n",
       "    </tbody>\n",
       "</table>"
      ],
      "text/plain": [
       "<IPython.core.display.HTML object>"
      ]
     },
     "metadata": {},
     "output_type": "display_data"
    }
   ],
   "source": [
    "left_shift_demo(16)"
   ]
  },
  {
   "cell_type": "markdown",
   "id": "c2a753f9-672e-494f-b474-2e913cfd36fa",
   "metadata": {},
   "source": [
    "### right shift\n",
    "\n",
    "右移又分为逻辑右移和算术右移. 主要区别在于最高符号位是否保留.  \n",
    "- 逻辑右移: 右移后最高位不保留符号位，用0填充.  \n",
    "- 算术右移: 右移后最高位保留符号位，用0填充.  \n",
    "\n",
    "下图是逻辑右移的示例:  \n",
    "![](https://cdn.getmidnight.com/84f7b02a8128f5f5775611244c24b941/2021/02/ezgif.com-gif-maker--2--1.gif)"
   ]
  },
  {
   "cell_type": "code",
   "execution_count": 303,
   "id": "f3d253e0-9f4f-4e5d-9ac0-393894bdcd87",
   "metadata": {},
   "outputs": [],
   "source": [
    "def right_shift_table(n, number=128):\n",
    "    table = PrettyTable()\n",
    "    table.field_names = [\"移动bit位数 i\", \">>i\", \"二进制表示\", \"十六进制表示\"]\n",
    "    # [(i, num:=1<<i, f\"{num:b}\", f\"{num:x}\") for i in range(n)]\n",
    "    # \"{num:0{field_size}b}\".format(num=9, field_size=9)\n",
    "    fbits = lambda x: \"{num:0{field_size}b}\".format(num=x, field_size=x.bit_length())\n",
    "    fhexs = lambda x: \"{num:0{field_size}x}\".format(num=x, field_size=x.bit_length()//4)\n",
    "    table.add_rows(\n",
    "    [(i, num:=number>>i, fbits(num), fhexs(num)) for i in range(n)]\n",
    "    )\n",
    "    display(HTML(table.get_formatted_string(\"html\")))"
   ]
  },
  {
   "cell_type": "code",
   "execution_count": 305,
   "id": "48f1c2d4-641f-455a-966b-45faf7257ac0",
   "metadata": {},
   "outputs": [
    {
     "data": {
      "text/html": [
       "<table>\n",
       "    <thead>\n",
       "        <tr>\n",
       "            <th>移动bit位数 i</th>\n",
       "            <th>&gt;&gt;i</th>\n",
       "            <th>二进制表示</th>\n",
       "            <th>十六进制表示</th>\n",
       "        </tr>\n",
       "    </thead>\n",
       "    <tbody>\n",
       "        <tr>\n",
       "            <td>0</td>\n",
       "            <td>128</td>\n",
       "            <td>10000000</td>\n",
       "            <td>80</td>\n",
       "        </tr>\n",
       "        <tr>\n",
       "            <td>1</td>\n",
       "            <td>64</td>\n",
       "            <td>1000000</td>\n",
       "            <td>40</td>\n",
       "        </tr>\n",
       "        <tr>\n",
       "            <td>2</td>\n",
       "            <td>32</td>\n",
       "            <td>100000</td>\n",
       "            <td>20</td>\n",
       "        </tr>\n",
       "        <tr>\n",
       "            <td>3</td>\n",
       "            <td>16</td>\n",
       "            <td>10000</td>\n",
       "            <td>10</td>\n",
       "        </tr>\n",
       "        <tr>\n",
       "            <td>4</td>\n",
       "            <td>8</td>\n",
       "            <td>1000</td>\n",
       "            <td>8</td>\n",
       "        </tr>\n",
       "        <tr>\n",
       "            <td>5</td>\n",
       "            <td>4</td>\n",
       "            <td>100</td>\n",
       "            <td>4</td>\n",
       "        </tr>\n",
       "        <tr>\n",
       "            <td>6</td>\n",
       "            <td>2</td>\n",
       "            <td>10</td>\n",
       "            <td>2</td>\n",
       "        </tr>\n",
       "        <tr>\n",
       "            <td>7</td>\n",
       "            <td>1</td>\n",
       "            <td>1</td>\n",
       "            <td>1</td>\n",
       "        </tr>\n",
       "        <tr>\n",
       "            <td>8</td>\n",
       "            <td>0</td>\n",
       "            <td>0</td>\n",
       "            <td>0</td>\n",
       "        </tr>\n",
       "        <tr>\n",
       "            <td>9</td>\n",
       "            <td>0</td>\n",
       "            <td>0</td>\n",
       "            <td>0</td>\n",
       "        </tr>\n",
       "        <tr>\n",
       "            <td>10</td>\n",
       "            <td>0</td>\n",
       "            <td>0</td>\n",
       "            <td>0</td>\n",
       "        </tr>\n",
       "        <tr>\n",
       "            <td>11</td>\n",
       "            <td>0</td>\n",
       "            <td>0</td>\n",
       "            <td>0</td>\n",
       "        </tr>\n",
       "        <tr>\n",
       "            <td>12</td>\n",
       "            <td>0</td>\n",
       "            <td>0</td>\n",
       "            <td>0</td>\n",
       "        </tr>\n",
       "        <tr>\n",
       "            <td>13</td>\n",
       "            <td>0</td>\n",
       "            <td>0</td>\n",
       "            <td>0</td>\n",
       "        </tr>\n",
       "        <tr>\n",
       "            <td>14</td>\n",
       "            <td>0</td>\n",
       "            <td>0</td>\n",
       "            <td>0</td>\n",
       "        </tr>\n",
       "        <tr>\n",
       "            <td>15</td>\n",
       "            <td>0</td>\n",
       "            <td>0</td>\n",
       "            <td>0</td>\n",
       "        </tr>\n",
       "    </tbody>\n",
       "</table>"
      ],
      "text/plain": [
       "<IPython.core.display.HTML object>"
      ]
     },
     "metadata": {},
     "output_type": "display_data"
    }
   ],
   "source": [
    "right_shift_table(16, 128)"
   ]
  },
  {
   "cell_type": "code",
   "execution_count": null,
   "id": "3136d10f-026b-4b6c-9862-c1abb1672719",
   "metadata": {},
   "outputs": [],
   "source": [
    "def bit_op_table(x, y):\n",
    "    table = PrettyTable()\n",
    "    table.field_names = [\"移动bit位数 i\", \">>i\", \"二进制表示\", \"十六进制表示\"]\n",
    "    # [(i, num:=1<<i, f\"{num:b}\", f\"{num:x}\") for i in range(n)]\n",
    "    # \"{num:0{field_size}b}\".format(num=9, field_size=9)\n",
    "    fbits = lambda x: \"{num:0{field_size}b}\".format(num=x, field_size=x.bit_length())\n",
    "    fhexs = lambda x: \"{num:0{field_size}x}\".format(num=x, field_size=x.bit_length()//4)\n",
    "    table.add_rows(\n",
    "    [(i, num:=number>>i, fbits(num), fhexs(num)) for i in range(n)]\n",
    "    )\n",
    "    display(HTML(table.get_formatted_string(\"html\")))"
   ]
  },
  {
   "cell_type": "markdown",
   "id": "3c04c950-9493-4f83-b8c5-2030a62e2478",
   "metadata": {
    "tags": []
   },
   "source": [
    "### bit and"
   ]
  },
  {
   "cell_type": "code",
   "execution_count": 349,
   "id": "8931643c-0e42-4dea-b6c1-97c55cb52031",
   "metadata": {},
   "outputs": [],
   "source": [
    "a = 11\n",
    "b = 6"
   ]
  },
  {
   "cell_type": "code",
   "execution_count": 362,
   "id": "daefdbba-7ede-4a4e-97f9-2eadc7c8f0b5",
   "metadata": {},
   "outputs": [
    {
     "data": {
      "text/plain": [
       "2"
      ]
     },
     "execution_count": 362,
     "metadata": {},
     "output_type": "execute_result"
    }
   ],
   "source": [
    "a & b"
   ]
  },
  {
   "cell_type": "code",
   "execution_count": 363,
   "id": "ba68ba4d-58b3-46f6-b609-7bd4ffe44066",
   "metadata": {},
   "outputs": [
    {
     "data": {
      "text/plain": [
       "'00001011'"
      ]
     },
     "execution_count": 363,
     "metadata": {},
     "output_type": "execute_result"
    }
   ],
   "source": [
    "intbinstr(11)"
   ]
  },
  {
   "cell_type": "code",
   "execution_count": 364,
   "id": "bbdb7a50-c811-4336-8f0a-10c2a99127a7",
   "metadata": {},
   "outputs": [
    {
     "data": {
      "text/plain": [
       "'00000110'"
      ]
     },
     "execution_count": 364,
     "metadata": {},
     "output_type": "execute_result"
    }
   ],
   "source": [
    "intbinstr(6)"
   ]
  },
  {
   "cell_type": "markdown",
   "id": "5ad7678d-9523-4b63-a5cb-242e8e19a1d7",
   "metadata": {
    "tags": []
   },
   "source": [
    "### bit or"
   ]
  },
  {
   "cell_type": "code",
   "execution_count": 355,
   "id": "78d3d17f-b3ff-4226-be1f-908a221e4ea5",
   "metadata": {},
   "outputs": [
    {
     "data": {
      "text/plain": [
       "15"
      ]
     },
     "execution_count": 355,
     "metadata": {},
     "output_type": "execute_result"
    }
   ],
   "source": [
    "a | b"
   ]
  },
  {
   "cell_type": "markdown",
   "id": "8ae702e1-b326-479c-a669-8cd6bc8c4291",
   "metadata": {
    "tags": []
   },
   "source": [
    "### bit not"
   ]
  },
  {
   "cell_type": "code",
   "execution_count": 356,
   "id": "fd516b10-dc9b-4a8a-9fa4-33b833546930",
   "metadata": {},
   "outputs": [
    {
     "data": {
      "text/plain": [
       "-12"
      ]
     },
     "execution_count": 356,
     "metadata": {},
     "output_type": "execute_result"
    }
   ],
   "source": [
    "~a"
   ]
  },
  {
   "cell_type": "code",
   "execution_count": 358,
   "id": "87c8f835-6fb5-4a6a-9496-47e6c0aaeb11",
   "metadata": {},
   "outputs": [
    {
     "data": {
      "text/plain": [
       "245"
      ]
     },
     "execution_count": 358,
     "metadata": {},
     "output_type": "execute_result"
    }
   ],
   "source": [
    "-a & 0xff"
   ]
  },
  {
   "cell_type": "code",
   "execution_count": 359,
   "id": "30c9c0db-0b5f-4e63-a8ff-bb95aa19e200",
   "metadata": {},
   "outputs": [
    {
     "data": {
      "text/plain": [
       "'00000000 11110100'"
      ]
     },
     "execution_count": 359,
     "metadata": {},
     "output_type": "execute_result"
    }
   ],
   "source": [
    "intbinstr(~a & 0xff)"
   ]
  },
  {
   "cell_type": "code",
   "execution_count": 360,
   "id": "268a1b61-50f0-4aec-84cc-65ee9d938e58",
   "metadata": {},
   "outputs": [
    {
     "data": {
      "text/plain": [
       "'11110100'"
      ]
     },
     "execution_count": 360,
     "metadata": {},
     "output_type": "execute_result"
    }
   ],
   "source": [
    "intbinstr(~a)"
   ]
  },
  {
   "cell_type": "code",
   "execution_count": 361,
   "id": "d2f4d177-83c8-4e74-b99a-dcf46e8fa30b",
   "metadata": {},
   "outputs": [
    {
     "data": {
      "text/plain": [
       "'00001011'"
      ]
     },
     "execution_count": 361,
     "metadata": {},
     "output_type": "execute_result"
    }
   ],
   "source": [
    "intbinstr(a)"
   ]
  },
  {
   "cell_type": "markdown",
   "id": "a477d01c-fd26-48b9-9cb2-0c5aa7595f94",
   "metadata": {
    "tags": []
   },
   "source": [
    "### bit xor"
   ]
  },
  {
   "cell_type": "code",
   "execution_count": 354,
   "id": "02162ae6-8ae1-4710-ade6-97d1e655e04c",
   "metadata": {},
   "outputs": [
    {
     "data": {
      "text/plain": [
       "13"
      ]
     },
     "execution_count": 354,
     "metadata": {},
     "output_type": "execute_result"
    }
   ],
   "source": [
    "a ^ b"
   ]
  },
  {
   "cell_type": "code",
   "execution_count": 352,
   "id": "6de552eb-1835-4e15-9f06-fdd14b0bd3a8",
   "metadata": {},
   "outputs": [
    {
     "data": {
      "text/plain": [
       "'00001011'"
      ]
     },
     "execution_count": 352,
     "metadata": {},
     "output_type": "execute_result"
    }
   ],
   "source": [
    "intbinstr(a)"
   ]
  },
  {
   "cell_type": "code",
   "execution_count": 353,
   "id": "fa266001-97f6-418e-806b-98e02e9ee8ca",
   "metadata": {},
   "outputs": [
    {
     "data": {
      "text/plain": [
       "'00000110'"
      ]
     },
     "execution_count": 353,
     "metadata": {},
     "output_type": "execute_result"
    }
   ],
   "source": [
    "intbinstr(b)"
   ]
  },
  {
   "cell_type": "code",
   "execution_count": 366,
   "id": "474d4bfa-df21-4eb5-8f3e-e2f36b2df39c",
   "metadata": {},
   "outputs": [
    {
     "data": {
      "text/plain": [
       "-1"
      ]
     },
     "execution_count": 366,
     "metadata": {},
     "output_type": "execute_result"
    }
   ],
   "source": [
    "~3 ^ 3"
   ]
  },
  {
   "cell_type": "code",
   "execution_count": 367,
   "id": "3f786722-97c1-4691-9d49-34b398ab2be6",
   "metadata": {},
   "outputs": [
    {
     "data": {
      "text/plain": [
       "'11111111'"
      ]
     },
     "execution_count": 367,
     "metadata": {},
     "output_type": "execute_result"
    }
   ],
   "source": [
    "intbinstr(-1)"
   ]
  }
 ],
 "metadata": {
  "kernelspec": {
   "display_name": "Python 3 (ipykernel)",
   "language": "python",
   "name": "python3"
  },
  "language_info": {
   "codemirror_mode": {
    "name": "ipython",
    "version": 3
   },
   "file_extension": ".py",
   "mimetype": "text/x-python",
   "name": "python",
   "nbconvert_exporter": "python",
   "pygments_lexer": "ipython3",
   "version": "3.9.12"
  }
 },
 "nbformat": 4,
 "nbformat_minor": 5
}
