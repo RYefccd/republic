{
 "cells": [
  {
   "cell_type": "markdown",
   "id": "707f6982-2691-47ff-b8c7-5f382b09eb3c",
   "metadata": {
    "tags": []
   },
   "source": [
    "# ipython\n",
    "\n",
    "## ipython display"
   ]
  },
  {
   "cell_type": "code",
   "execution_count": 1,
   "id": "4ea9380a-5a57-4df6-98c0-78977fac59d2",
   "metadata": {},
   "outputs": [
    {
     "data": {
      "text/html": [
       "<div>\n",
       "<style scoped>\n",
       "    .dataframe tbody tr th:only-of-type {\n",
       "        vertical-align: middle;\n",
       "    }\n",
       "\n",
       "    .dataframe tbody tr th {\n",
       "        vertical-align: top;\n",
       "    }\n",
       "\n",
       "    .dataframe thead th {\n",
       "        text-align: right;\n",
       "    }\n",
       "</style>\n",
       "<table border=\"1\" class=\"dataframe\">\n",
       "  <thead>\n",
       "    <tr style=\"text-align: right;\">\n",
       "      <th></th>\n",
       "      <th>Foo</th>\n",
       "      <th>Bar</th>\n",
       "    </tr>\n",
       "  </thead>\n",
       "  <tbody>\n",
       "    <tr>\n",
       "      <th>0</th>\n",
       "      <td>1</td>\n",
       "      <td>2</td>\n",
       "    </tr>\n",
       "    <tr>\n",
       "      <th>1</th>\n",
       "      <td>3</td>\n",
       "      <td>4</td>\n",
       "    </tr>\n",
       "  </tbody>\n",
       "</table>\n",
       "</div>"
      ],
      "text/plain": [
       "   Foo  Bar\n",
       "0    1    2\n",
       "1    3    4"
      ]
     },
     "execution_count": 1,
     "metadata": {},
     "output_type": "execute_result"
    }
   ],
   "source": [
    "import pandas as pd\n",
    "data = [[1, 2], [3, 4]]\n",
    "pd.DataFrame(data, columns=[\"Foo\", \"Bar\"])"
   ]
  },
  {
   "cell_type": "markdown",
   "id": "defea6c0-d987-4b09-b1c7-01b412bf1f41",
   "metadata": {},
   "source": [
    "https://pypi.org/project/prettytable/"
   ]
  },
  {
   "cell_type": "code",
   "execution_count": 2,
   "id": "518612d6-6fed-43d3-bf10-9711230f8b2a",
   "metadata": {},
   "outputs": [
    {
     "name": "stdout",
     "output_type": "stream",
     "text": [
      "Collecting prettytable\n",
      "  Downloading prettytable-3.10.2-py3-none-any.whl (28 kB)\n",
      "Requirement already satisfied: wcwidth in /opt/conda/lib/python3.9/site-packages (from prettytable) (0.2.5)\n",
      "Installing collected packages: prettytable\n",
      "Successfully installed prettytable-3.10.2\n"
     ]
    }
   ],
   "source": [
    "!pip install prettytable -i https://pypi.tuna.tsinghua.edu.cn/simple"
   ]
  },
  {
   "cell_type": "code",
   "execution_count": 3,
   "id": "ff1cd35f-c16b-4f0f-b3ce-5310c7096b1a",
   "metadata": {},
   "outputs": [
    {
     "name": "stdout",
     "output_type": "stream",
     "text": [
      "Found existing installation: prettytable 3.10.2\n",
      "Uninstalling prettytable-3.10.2:\n",
      "  Successfully uninstalled prettytable-3.10.2\n",
      "Note: you may need to restart the kernel to use updated packages.\n"
     ]
    }
   ],
   "source": [
    "pip uninstall prettytable -y"
   ]
  },
  {
   "cell_type": "code",
   "execution_count": 4,
   "id": "66a03365-8736-407c-855e-d3e92e567677",
   "metadata": {},
   "outputs": [
    {
     "name": "stdout",
     "output_type": "stream",
     "text": [
      "Looking in indexes: https://pypi.tuna.tsinghua.edu.cn/simple\n",
      "Collecting prettytable\n",
      "  Downloading https://pypi.tuna.tsinghua.edu.cn/packages/c5/16/ec5cc65437dce97d2814a7ba31842b0ee958d102f6e99e264c35f15c328f/prettytable-3.10.2-py3-none-any.whl (28 kB)\n",
      "Requirement already satisfied: wcwidth in /opt/conda/lib/python3.9/site-packages (from prettytable) (0.2.5)\n",
      "Installing collected packages: prettytable\n",
      "Successfully installed prettytable-3.10.2\n"
     ]
    }
   ],
   "source": [
    "!pip install -U prettytable -i https://pypi.tuna.tsinghua.edu.cn/simple"
   ]
  },
  {
   "cell_type": "code",
   "execution_count": 5,
   "id": "3d56b69a-4150-4930-a747-dd7c36225a74",
   "metadata": {},
   "outputs": [],
   "source": [
    "from prettytable import PrettyTable\n",
    "table = PrettyTable()"
   ]
  },
  {
   "cell_type": "code",
   "execution_count": 6,
   "id": "88f7e74c-1027-4679-8548-bef642c079b1",
   "metadata": {},
   "outputs": [],
   "source": [
    "table.field_names = [\"City name\", \"Area\", \"Population\", \"Annual Rainfall\"]\n",
    "table.add_rows(\n",
    "    [\n",
    "        [\"Adelaide\", 1295, 1158259, 600.5],\n",
    "        [\"Brisbane\", 5905, 1857594, 1146.4],\n",
    "        [\"Darwin\", 112, 120900, 1714.7],\n",
    "        [\"Hobart\", 1357, 205556, 619.5],\n",
    "        [\"Sydney\", 2058, 4336374, 1214.8],\n",
    "        [\"Melbourne\", 1566, 3806092, 646.9],\n",
    "        [\"Perth\", 5386, 1554769, 869.4],\n",
    "    ]\n",
    ")"
   ]
  },
  {
   "cell_type": "code",
   "execution_count": 7,
   "id": "08c5b7ca-90b5-4263-9c31-0998f2be0cf8",
   "metadata": {},
   "outputs": [
    {
     "data": {
      "text/plain": [
       "'+-----------+------+------------+-----------------+\\n| City name | Area | Population | Annual Rainfall |\\n+-----------+------+------------+-----------------+\\n|  Adelaide | 1295 |  1158259   |      600.5      |\\n|  Brisbane | 5905 |  1857594   |      1146.4     |\\n|   Darwin  | 112  |   120900   |      1714.7     |\\n|   Hobart  | 1357 |   205556   |      619.5      |\\n|   Sydney  | 2058 |  4336374   |      1214.8     |\\n| Melbourne | 1566 |  3806092   |      646.9      |\\n|   Perth   | 5386 |  1554769   |      869.4      |\\n+-----------+------+------------+-----------------+'"
      ]
     },
     "execution_count": 7,
     "metadata": {},
     "output_type": "execute_result"
    }
   ],
   "source": [
    "table.get_formatted_string()"
   ]
  },
  {
   "cell_type": "code",
   "execution_count": 8,
   "id": "23626546-2efc-4aa2-b7d1-9a877843b213",
   "metadata": {},
   "outputs": [
    {
     "data": {
      "text/plain": [
       "\u001b[0;31mSignature:\u001b[0m \u001b[0mtable\u001b[0m\u001b[0;34m.\u001b[0m\u001b[0mget_formatted_string\u001b[0m\u001b[0;34m(\u001b[0m\u001b[0mout_format\u001b[0m\u001b[0;34m:\u001b[0m \u001b[0;34m'str'\u001b[0m \u001b[0;34m=\u001b[0m \u001b[0;34m'text'\u001b[0m\u001b[0;34m,\u001b[0m \u001b[0;34m**\u001b[0m\u001b[0mkwargs\u001b[0m\u001b[0;34m)\u001b[0m \u001b[0;34m->\u001b[0m \u001b[0;34m'str'\u001b[0m\u001b[0;34m\u001b[0m\u001b[0;34m\u001b[0m\u001b[0m\n",
       "\u001b[0;31mDocstring:\u001b[0m\n",
       "Return string representation of specified format of table in current state.\n",
       "\n",
       "Arguments:\n",
       "out_format - resulting table format\n",
       "kwargs - passed through to function that performs formatting\n",
       "\u001b[0;31mFile:\u001b[0m      /opt/conda/lib/python3.9/site-packages/prettytable/prettytable.py\n",
       "\u001b[0;31mType:\u001b[0m      method\n"
      ]
     },
     "metadata": {},
     "output_type": "display_data"
    }
   ],
   "source": [
    "table.get_formatted_string?"
   ]
  },
  {
   "cell_type": "code",
   "execution_count": 9,
   "id": "d9ed4769-973c-4d8c-86a1-826708206473",
   "metadata": {},
   "outputs": [
    {
     "data": {
      "text/plain": [
       "'<table>\\n    <thead>\\n        <tr>\\n            <th>City name</th>\\n            <th>Area</th>\\n            <th>Population</th>\\n            <th>Annual Rainfall</th>\\n        </tr>\\n    </thead>\\n    <tbody>\\n        <tr>\\n            <td>Adelaide</td>\\n            <td>1295</td>\\n            <td>1158259</td>\\n            <td>600.5</td>\\n        </tr>\\n        <tr>\\n            <td>Brisbane</td>\\n            <td>5905</td>\\n            <td>1857594</td>\\n            <td>1146.4</td>\\n        </tr>\\n        <tr>\\n            <td>Darwin</td>\\n            <td>112</td>\\n            <td>120900</td>\\n            <td>1714.7</td>\\n        </tr>\\n        <tr>\\n            <td>Hobart</td>\\n            <td>1357</td>\\n            <td>205556</td>\\n            <td>619.5</td>\\n        </tr>\\n        <tr>\\n            <td>Sydney</td>\\n            <td>2058</td>\\n            <td>4336374</td>\\n            <td>1214.8</td>\\n        </tr>\\n        <tr>\\n            <td>Melbourne</td>\\n            <td>1566</td>\\n            <td>3806092</td>\\n            <td>646.9</td>\\n        </tr>\\n        <tr>\\n            <td>Perth</td>\\n            <td>5386</td>\\n            <td>1554769</td>\\n            <td>869.4</td>\\n        </tr>\\n    </tbody>\\n</table>'"
      ]
     },
     "execution_count": 9,
     "metadata": {},
     "output_type": "execute_result"
    }
   ],
   "source": [
    "# out_format=<text|html|json|csv|latex>\n",
    "table.get_formatted_string(\"html\")"
   ]
  },
  {
   "cell_type": "code",
   "execution_count": 10,
   "id": "ab0f6263-d40f-4710-9b41-a8f80a6f30ae",
   "metadata": {},
   "outputs": [
    {
     "data": {
      "text/plain": [
       "'+-----------+------+------------+-----------------+\\n| City name | Area | Population | Annual Rainfall |\\n+-----------+------+------------+-----------------+\\n|  Adelaide | 1295 |  1158259   |      600.5      |\\n|  Brisbane | 5905 |  1857594   |      1146.4     |\\n|   Darwin  | 112  |   120900   |      1714.7     |\\n|   Hobart  | 1357 |   205556   |      619.5      |\\n|   Sydney  | 2058 |  4336374   |      1214.8     |\\n| Melbourne | 1566 |  3806092   |      646.9      |\\n|   Perth   | 5386 |  1554769   |      869.4      |\\n+-----------+------+------------+-----------------+'"
      ]
     },
     "execution_count": 10,
     "metadata": {},
     "output_type": "execute_result"
    }
   ],
   "source": [
    "table.get_formatted_string(\"text\")"
   ]
  },
  {
   "cell_type": "code",
   "execution_count": 11,
   "id": "7abbbcab-8721-4a20-8986-da62afbf8248",
   "metadata": {},
   "outputs": [
    {
     "data": {
      "text/plain": [
       "'City name,Area,Population,Annual Rainfall\\r\\nAdelaide,1295,1158259,600.5\\r\\nBrisbane,5905,1857594,1146.4\\r\\nDarwin,112,120900,1714.7\\r\\nHobart,1357,205556,619.5\\r\\nSydney,2058,4336374,1214.8\\r\\nMelbourne,1566,3806092,646.9\\r\\nPerth,5386,1554769,869.4\\r\\n'"
      ]
     },
     "execution_count": 11,
     "metadata": {},
     "output_type": "execute_result"
    }
   ],
   "source": [
    "table.get_formatted_string(\"csv\")"
   ]
  },
  {
   "cell_type": "code",
   "execution_count": 12,
   "id": "f9f67bb3-715a-4f6e-bbcb-b08fa894344d",
   "metadata": {},
   "outputs": [
    {
     "data": {
      "text/plain": [
       "'\\\\begin{tabular}{cccc}\\r\\nCity name & Area & Population & Annual Rainfall \\\\\\\\\\r\\nAdelaide & 1295 & 1158259 & 600.5 \\\\\\\\\\r\\nBrisbane & 5905 & 1857594 & 1146.4 \\\\\\\\\\r\\nDarwin & 112 & 120900 & 1714.7 \\\\\\\\\\r\\nHobart & 1357 & 205556 & 619.5 \\\\\\\\\\r\\nSydney & 2058 & 4336374 & 1214.8 \\\\\\\\\\r\\nMelbourne & 1566 & 3806092 & 646.9 \\\\\\\\\\r\\nPerth & 5386 & 1554769 & 869.4 \\\\\\\\\\r\\n\\\\end{tabular}'"
      ]
     },
     "execution_count": 12,
     "metadata": {},
     "output_type": "execute_result"
    }
   ],
   "source": [
    "table.get_formatted_string(\"latex\")"
   ]
  },
  {
   "cell_type": "code",
   "execution_count": 13,
   "id": "eefe2e2d-46af-49e7-b835-ee5cd240bde3",
   "metadata": {},
   "outputs": [
    {
     "data": {
      "text/plain": [
       "'[\\n    [\\n        \"City name\",\\n        \"Area\",\\n        \"Population\",\\n        \"Annual Rainfall\"\\n    ],\\n    {\\n        \"Annual Rainfall\": 600.5,\\n        \"Area\": 1295,\\n        \"City name\": \"Adelaide\",\\n        \"Population\": 1158259\\n    },\\n    {\\n        \"Annual Rainfall\": 1146.4,\\n        \"Area\": 5905,\\n        \"City name\": \"Brisbane\",\\n        \"Population\": 1857594\\n    },\\n    {\\n        \"Annual Rainfall\": 1714.7,\\n        \"Area\": 112,\\n        \"City name\": \"Darwin\",\\n        \"Population\": 120900\\n    },\\n    {\\n        \"Annual Rainfall\": 619.5,\\n        \"Area\": 1357,\\n        \"City name\": \"Hobart\",\\n        \"Population\": 205556\\n    },\\n    {\\n        \"Annual Rainfall\": 1214.8,\\n        \"Area\": 2058,\\n        \"City name\": \"Sydney\",\\n        \"Population\": 4336374\\n    },\\n    {\\n        \"Annual Rainfall\": 646.9,\\n        \"Area\": 1566,\\n        \"City name\": \"Melbourne\",\\n        \"Population\": 3806092\\n    },\\n    {\\n        \"Annual Rainfall\": 869.4,\\n        \"Area\": 5386,\\n        \"City name\": \"Perth\",\\n        \"Population\": 1554769\\n    }\\n]'"
      ]
     },
     "execution_count": 13,
     "metadata": {},
     "output_type": "execute_result"
    }
   ],
   "source": [
    "table.get_formatted_string(\"json\")"
   ]
  },
  {
   "cell_type": "code",
   "execution_count": 14,
   "id": "92bf80ed-27ef-42a9-8fbd-524db039c0ba",
   "metadata": {},
   "outputs": [
    {
     "name": "stdout",
     "output_type": "stream",
     "text": [
      "[\n",
      "    [\n",
      "        \"City name\",\n",
      "        \"Area\",\n",
      "        \"Population\",\n",
      "        \"Annual Rainfall\"\n",
      "    ],\n",
      "    {\n",
      "        \"Annual Rainfall\": 600.5,\n",
      "        \"Area\": 1295,\n",
      "        \"City name\": \"Adelaide\",\n",
      "        \"Population\": 1158259\n",
      "    },\n",
      "    {\n",
      "        \"Annual Rainfall\": 1146.4,\n",
      "        \"Area\": 5905,\n",
      "        \"City name\": \"Brisbane\",\n",
      "        \"Population\": 1857594\n",
      "    },\n",
      "    {\n",
      "        \"Annual Rainfall\": 1714.7,\n",
      "        \"Area\": 112,\n",
      "        \"City name\": \"Darwin\",\n",
      "        \"Population\": 120900\n",
      "    },\n",
      "    {\n",
      "        \"Annual Rainfall\": 619.5,\n",
      "        \"Area\": 1357,\n",
      "        \"City name\": \"Hobart\",\n",
      "        \"Population\": 205556\n",
      "    },\n",
      "    {\n",
      "        \"Annual Rainfall\": 1214.8,\n",
      "        \"Area\": 2058,\n",
      "        \"City name\": \"Sydney\",\n",
      "        \"Population\": 4336374\n",
      "    },\n",
      "    {\n",
      "        \"Annual Rainfall\": 646.9,\n",
      "        \"Area\": 1566,\n",
      "        \"City name\": \"Melbourne\",\n",
      "        \"Population\": 3806092\n",
      "    },\n",
      "    {\n",
      "        \"Annual Rainfall\": 869.4,\n",
      "        \"Area\": 5386,\n",
      "        \"City name\": \"Perth\",\n",
      "        \"Population\": 1554769\n",
      "    }\n",
      "]\n"
     ]
    }
   ],
   "source": [
    "print(table.get_formatted_string(\"json\"))"
   ]
  },
  {
   "cell_type": "code",
   "execution_count": 16,
   "id": "891c8531-3214-4ed6-9afb-0605dacc1ad9",
   "metadata": {},
   "outputs": [],
   "source": [
    "from IPython.display import display,HTML"
   ]
  },
  {
   "cell_type": "code",
   "execution_count": 17,
   "id": "fb855258-2039-4d20-b927-86dc6493919a",
   "metadata": {},
   "outputs": [
    {
     "data": {
      "text/html": [
       "<table>\n",
       "    <thead>\n",
       "        <tr>\n",
       "            <th>City name</th>\n",
       "            <th>Area</th>\n",
       "            <th>Population</th>\n",
       "            <th>Annual Rainfall</th>\n",
       "        </tr>\n",
       "    </thead>\n",
       "    <tbody>\n",
       "        <tr>\n",
       "            <td>Adelaide</td>\n",
       "            <td>1295</td>\n",
       "            <td>1158259</td>\n",
       "            <td>600.5</td>\n",
       "        </tr>\n",
       "        <tr>\n",
       "            <td>Brisbane</td>\n",
       "            <td>5905</td>\n",
       "            <td>1857594</td>\n",
       "            <td>1146.4</td>\n",
       "        </tr>\n",
       "        <tr>\n",
       "            <td>Darwin</td>\n",
       "            <td>112</td>\n",
       "            <td>120900</td>\n",
       "            <td>1714.7</td>\n",
       "        </tr>\n",
       "        <tr>\n",
       "            <td>Hobart</td>\n",
       "            <td>1357</td>\n",
       "            <td>205556</td>\n",
       "            <td>619.5</td>\n",
       "        </tr>\n",
       "        <tr>\n",
       "            <td>Sydney</td>\n",
       "            <td>2058</td>\n",
       "            <td>4336374</td>\n",
       "            <td>1214.8</td>\n",
       "        </tr>\n",
       "        <tr>\n",
       "            <td>Melbourne</td>\n",
       "            <td>1566</td>\n",
       "            <td>3806092</td>\n",
       "            <td>646.9</td>\n",
       "        </tr>\n",
       "        <tr>\n",
       "            <td>Perth</td>\n",
       "            <td>5386</td>\n",
       "            <td>1554769</td>\n",
       "            <td>869.4</td>\n",
       "        </tr>\n",
       "    </tbody>\n",
       "</table>"
      ],
      "text/plain": [
       "<IPython.core.display.HTML object>"
      ]
     },
     "metadata": {},
     "output_type": "display_data"
    }
   ],
   "source": [
    "display(HTML(table.get_formatted_string(\"html\")))"
   ]
  },
  {
   "cell_type": "code",
   "execution_count": null,
   "id": "22718080-7c71-46d9-bc8c-1f8a61eb41ef",
   "metadata": {},
   "outputs": [],
   "source": []
  }
 ],
 "metadata": {
  "kernelspec": {
   "display_name": "Python 3 (ipykernel)",
   "language": "python",
   "name": "python3"
  },
  "language_info": {
   "codemirror_mode": {
    "name": "ipython",
    "version": 3
   },
   "file_extension": ".py",
   "mimetype": "text/x-python",
   "name": "python",
   "nbconvert_exporter": "python",
   "pygments_lexer": "ipython3",
   "version": "3.9.12"
  }
 },
 "nbformat": 4,
 "nbformat_minor": 5
}
